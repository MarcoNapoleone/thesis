{
 "cells": [
  {
   "cell_type": "code",
   "execution_count": 24,
   "id": "initial_id",
   "metadata": {
    "ExecuteTime": {
     "end_time": "2024-02-24T14:48:42.946971Z",
     "start_time": "2024-02-24T14:48:42.889475Z"
    }
   },
   "outputs": [],
   "source": [
    "import pandas as pd\n",
    "from matplotlib import pyplot as plt\n",
    "import seaborn as sns\n",
    "\n",
    "palette = sns.color_palette([\"#2176AB\", \"#F97662\", \"#FFBF00\", \"#50C878\", \"#B284BE\"])\n",
    "sns.set_palette(palette)\n",
    "\n",
    "df = pd.read_csv('../../data/archive/ST001937_AN003150.csv')"
   ]
  },
  {
   "cell_type": "markdown",
   "source": [
    "Data preprocessing and cleaning"
   ],
   "metadata": {},
   "id": "2f97bdd689770daf"
  },
  {
   "cell_type": "code",
   "outputs": [
    {
     "data": {
      "text/plain": "Phenotypes\n1    880\n0    280\ndtype: int64"
     },
     "execution_count": 25,
     "metadata": {},
     "output_type": "execute_result"
    }
   ],
   "source": [
    "df.drop(columns=['Sample ID','RAW_FILE_NAME'], inplace=True)\n",
    "\n",
    "#df healthy and cancer where 0 is healthy and 1 is cancer malignant or benign\n",
    "df_healthy_cancer = df.copy()\n",
    "df_healthy_cancer['Phenotypes'] = df_healthy_cancer['Phenotypes'].map({'Healthy Controls': 0, 'Benign SPNS': 1, 'Maligant SPNS': 1})\n",
    "df_healthy_cancer.value_counts('Phenotypes')"
   ],
   "metadata": {
    "collapsed": false,
    "ExecuteTime": {
     "end_time": "2024-02-24T14:48:42.951846Z",
     "start_time": "2024-02-24T14:48:42.947648Z"
    }
   },
   "id": "fad418f741fbce5",
   "execution_count": 25
  },
  {
   "cell_type": "code",
   "outputs": [
    {
     "data": {
      "text/plain": "Phenotypes\n1    723\n0    157\ndtype: int64"
     },
     "execution_count": 26,
     "metadata": {},
     "output_type": "execute_result"
    }
   ],
   "source": [
    "\n",
    "#df benign and malignant where 0 is benign and 1 is malignant\n",
    "df_benign_malignant = df.drop(df[df['Phenotypes'] == 'Healthy Controls'].index)\n",
    "df_benign_malignant['Phenotypes'] = df_benign_malignant['Phenotypes'].map({'Benign SPNS': 0, 'Maligant SPNS': 1})\n",
    "df_benign_malignant.value_counts('Phenotypes')"
   ],
   "metadata": {
    "ExecuteTime": {
     "end_time": "2024-02-24T14:48:42.968314Z",
     "start_time": "2024-02-24T14:48:42.955856Z"
    }
   },
   "id": "4eb62e3184c19481",
   "execution_count": 26
  },
  {
   "cell_type": "markdown",
   "id": "1345621ce74f0072",
   "metadata": {},
   "source": [
    "Standardizing the data"
   ]
  },
  {
   "cell_type": "code",
   "execution_count": 27,
   "id": "affc567791bc52d6",
   "metadata": {
    "ExecuteTime": {
     "end_time": "2024-02-24T14:48:43.374805Z",
     "start_time": "2024-02-24T14:48:42.969110Z"
    }
   },
   "outputs": [
    {
     "data": {
      "text/plain": "       1,3,5(10)-estratrien-3,6- beta-17-beta-triol  1,5-anhydroglucitol  \\\ncount                                  1.160000e+03          1160.000000   \nmean                                  -1.225074e-17             0.000000   \nstd                                    1.000431e+00             1.000431   \nmin                                   -1.942518e+01            -9.940976   \n25%                                   -5.704542e-02            -0.187383   \n50%                                   -4.631734e-02            -0.031350   \n75%                                   -6.019838e-03             0.134891   \nmax                                    1.310926e+01            24.667658   \n\n       17-alpha-20-alpha-dihydroxy-4-pregnen-3-one-1  \\\ncount                                   1.160000e+03   \nmean                                   -1.607909e-16   \nstd                                     1.000431e+00   \nmin                                    -1.236017e+00   \n25%                                    -5.046493e-01   \n50%                                    -1.984306e-01   \n75%                                     2.421417e-01   \nmax                                     1.339818e+01   \n\n       17-alpha-20-alpha-dihydroxy-4-pregnen-3-one-2  \\\ncount                                   1.160000e+03   \nmean                                   -4.900295e-17   \nstd                                     1.000431e+00   \nmin                                    -1.029234e+01   \n25%                                    -3.383285e-01   \n50%                                    -2.399466e-01   \n75%                                     2.934771e-02   \nmax                                     1.176364e+01   \n\n       17-alpha-20-alpha-dihydroxy-4-pregnen-3-one-3  \\\ncount                                   1.160000e+03   \nmean                                   -7.503576e-17   \nstd                                     1.000431e+00   \nmin                                    -8.241675e-01   \n25%                                    -7.294057e-01   \n50%                                    -1.796837e-01   \n75%                                     4.299368e-01   \nmax                                     1.230419e+01   \n\n       17-alpha-20-alpha-dihydroxy-4-pregnen-3-one-4  \\\ncount                                   1.160000e+03   \nmean                                   -9.188053e-18   \nstd                                     1.000431e+00   \nmin                                    -1.877206e+01   \n25%                                    -2.809717e-02   \n50%                                     7.292530e-03   \n75%                                     4.657662e-02   \nmax                                     2.076315e+01   \n\n       17-alpha-20-alpha-dihydroxy-4-pregnen-3-one-5  \\\ncount                                   1.160000e+03   \nmean                                   -1.225074e-17   \nstd                                     1.000431e+00   \nmin                                    -1.069124e+00   \n25%                                    -5.271820e-01   \n50%                                    -1.703977e-01   \n75%                                     2.657046e-01   \nmax                                     2.056656e+01   \n\n       17-alpha-20-alpha-dihydroxy-4-pregnen-3-one-6  1-hexadecanol  \\\ncount                                   1.160000e+03   1.160000e+03   \nmean                                    6.125368e-17   2.388894e-16   \nstd                                     1.000431e+00   1.000431e+00   \nmin                                    -1.053430e+00  -1.895002e+00   \n25%                                    -5.141986e-01  -3.879349e-01   \n50%                                    -1.943191e-01  -8.700994e-02   \n75%                                     2.554157e-01   1.912782e-01   \nmax                                     1.494297e+01   1.407417e+01   \n\n       1-hydroxyanthraquinone prod  ...    tyrosine-2        urea-1  \\\ncount                 1.160000e+03  ...  1.160000e+03  1.160000e+03   \nmean                  2.450147e-17  ...  1.225074e-17  1.684476e-16   \nstd                   1.000431e+00  ...  1.000431e+00  1.000431e+00   \nmin                  -1.189001e+00  ... -1.581639e+00 -1.614048e+00   \n25%                  -5.199062e-01  ... -4.687686e-01 -5.177106e-01   \n50%                  -2.484115e-01  ... -9.492164e-02 -1.062400e-01   \n75%                   2.528499e-01  ...  3.678364e-01  3.786152e-01   \nmax                   8.887802e+00  ...  1.721807e+01  1.500379e+01   \n\n             urea-2        urea-3        urea-4       uridine        valine  \\\ncount  1.160000e+03  1.160000e+03  1.160000e+03  1.160000e+03  1.160000e+03   \nmean  -1.500715e-16  1.531342e-16  1.531342e-18 -1.225074e-17  1.225074e-17   \nstd    1.000431e+00  1.000431e+00  1.000431e+00  1.000431e+00  1.000431e+00   \nmin   -1.355858e+00 -1.765960e+00 -3.189689e-01 -1.470885e+00 -6.725485e+00   \n25%   -6.275440e-01 -5.467868e-01 -2.960466e-01 -1.133873e-01 -2.420243e-01   \n50%   -1.183819e-01 -1.176760e-01 -2.768648e-01 -1.075314e-01 -1.902063e-01   \n75%    4.831423e-01  3.583828e-01 -2.222636e-01 -8.608978e-02 -5.532306e-02   \nmax    1.656874e+01  1.646400e+01  1.389422e+01  2.604879e+01  1.738537e+01   \n\n           xanthine    xanthosine   Phenotypes  \ncount  1.160000e+03  1.160000e+03  1160.000000  \nmean   1.225074e-17 -4.900295e-17     0.758621  \nstd    1.000431e+00  1.000431e+00     0.428104  \nmin   -3.204565e-01 -2.099787e+01     0.000000  \n25%   -2.384552e-01 -2.995882e-01     1.000000  \n50%   -1.568511e-01 -1.567816e-01     1.000000  \n75%   -1.482252e-02  1.799523e-01     1.000000  \nmax    2.441393e+01  1.188097e+01     1.000000  \n\n[8 rows x 546 columns]",
      "text/html": "<div>\n<style scoped>\n    .dataframe tbody tr th:only-of-type {\n        vertical-align: middle;\n    }\n\n    .dataframe tbody tr th {\n        vertical-align: top;\n    }\n\n    .dataframe thead th {\n        text-align: right;\n    }\n</style>\n<table border=\"1\" class=\"dataframe\">\n  <thead>\n    <tr style=\"text-align: right;\">\n      <th></th>\n      <th>1,3,5(10)-estratrien-3,6- beta-17-beta-triol</th>\n      <th>1,5-anhydroglucitol</th>\n      <th>17-alpha-20-alpha-dihydroxy-4-pregnen-3-one-1</th>\n      <th>17-alpha-20-alpha-dihydroxy-4-pregnen-3-one-2</th>\n      <th>17-alpha-20-alpha-dihydroxy-4-pregnen-3-one-3</th>\n      <th>17-alpha-20-alpha-dihydroxy-4-pregnen-3-one-4</th>\n      <th>17-alpha-20-alpha-dihydroxy-4-pregnen-3-one-5</th>\n      <th>17-alpha-20-alpha-dihydroxy-4-pregnen-3-one-6</th>\n      <th>1-hexadecanol</th>\n      <th>1-hydroxyanthraquinone prod</th>\n      <th>...</th>\n      <th>tyrosine-2</th>\n      <th>urea-1</th>\n      <th>urea-2</th>\n      <th>urea-3</th>\n      <th>urea-4</th>\n      <th>uridine</th>\n      <th>valine</th>\n      <th>xanthine</th>\n      <th>xanthosine</th>\n      <th>Phenotypes</th>\n    </tr>\n  </thead>\n  <tbody>\n    <tr>\n      <th>count</th>\n      <td>1.160000e+03</td>\n      <td>1160.000000</td>\n      <td>1.160000e+03</td>\n      <td>1.160000e+03</td>\n      <td>1.160000e+03</td>\n      <td>1.160000e+03</td>\n      <td>1.160000e+03</td>\n      <td>1.160000e+03</td>\n      <td>1.160000e+03</td>\n      <td>1.160000e+03</td>\n      <td>...</td>\n      <td>1.160000e+03</td>\n      <td>1.160000e+03</td>\n      <td>1.160000e+03</td>\n      <td>1.160000e+03</td>\n      <td>1.160000e+03</td>\n      <td>1.160000e+03</td>\n      <td>1.160000e+03</td>\n      <td>1.160000e+03</td>\n      <td>1.160000e+03</td>\n      <td>1160.000000</td>\n    </tr>\n    <tr>\n      <th>mean</th>\n      <td>-1.225074e-17</td>\n      <td>0.000000</td>\n      <td>-1.607909e-16</td>\n      <td>-4.900295e-17</td>\n      <td>-7.503576e-17</td>\n      <td>-9.188053e-18</td>\n      <td>-1.225074e-17</td>\n      <td>6.125368e-17</td>\n      <td>2.388894e-16</td>\n      <td>2.450147e-17</td>\n      <td>...</td>\n      <td>1.225074e-17</td>\n      <td>1.684476e-16</td>\n      <td>-1.500715e-16</td>\n      <td>1.531342e-16</td>\n      <td>1.531342e-18</td>\n      <td>-1.225074e-17</td>\n      <td>1.225074e-17</td>\n      <td>1.225074e-17</td>\n      <td>-4.900295e-17</td>\n      <td>0.758621</td>\n    </tr>\n    <tr>\n      <th>std</th>\n      <td>1.000431e+00</td>\n      <td>1.000431</td>\n      <td>1.000431e+00</td>\n      <td>1.000431e+00</td>\n      <td>1.000431e+00</td>\n      <td>1.000431e+00</td>\n      <td>1.000431e+00</td>\n      <td>1.000431e+00</td>\n      <td>1.000431e+00</td>\n      <td>1.000431e+00</td>\n      <td>...</td>\n      <td>1.000431e+00</td>\n      <td>1.000431e+00</td>\n      <td>1.000431e+00</td>\n      <td>1.000431e+00</td>\n      <td>1.000431e+00</td>\n      <td>1.000431e+00</td>\n      <td>1.000431e+00</td>\n      <td>1.000431e+00</td>\n      <td>1.000431e+00</td>\n      <td>0.428104</td>\n    </tr>\n    <tr>\n      <th>min</th>\n      <td>-1.942518e+01</td>\n      <td>-9.940976</td>\n      <td>-1.236017e+00</td>\n      <td>-1.029234e+01</td>\n      <td>-8.241675e-01</td>\n      <td>-1.877206e+01</td>\n      <td>-1.069124e+00</td>\n      <td>-1.053430e+00</td>\n      <td>-1.895002e+00</td>\n      <td>-1.189001e+00</td>\n      <td>...</td>\n      <td>-1.581639e+00</td>\n      <td>-1.614048e+00</td>\n      <td>-1.355858e+00</td>\n      <td>-1.765960e+00</td>\n      <td>-3.189689e-01</td>\n      <td>-1.470885e+00</td>\n      <td>-6.725485e+00</td>\n      <td>-3.204565e-01</td>\n      <td>-2.099787e+01</td>\n      <td>0.000000</td>\n    </tr>\n    <tr>\n      <th>25%</th>\n      <td>-5.704542e-02</td>\n      <td>-0.187383</td>\n      <td>-5.046493e-01</td>\n      <td>-3.383285e-01</td>\n      <td>-7.294057e-01</td>\n      <td>-2.809717e-02</td>\n      <td>-5.271820e-01</td>\n      <td>-5.141986e-01</td>\n      <td>-3.879349e-01</td>\n      <td>-5.199062e-01</td>\n      <td>...</td>\n      <td>-4.687686e-01</td>\n      <td>-5.177106e-01</td>\n      <td>-6.275440e-01</td>\n      <td>-5.467868e-01</td>\n      <td>-2.960466e-01</td>\n      <td>-1.133873e-01</td>\n      <td>-2.420243e-01</td>\n      <td>-2.384552e-01</td>\n      <td>-2.995882e-01</td>\n      <td>1.000000</td>\n    </tr>\n    <tr>\n      <th>50%</th>\n      <td>-4.631734e-02</td>\n      <td>-0.031350</td>\n      <td>-1.984306e-01</td>\n      <td>-2.399466e-01</td>\n      <td>-1.796837e-01</td>\n      <td>7.292530e-03</td>\n      <td>-1.703977e-01</td>\n      <td>-1.943191e-01</td>\n      <td>-8.700994e-02</td>\n      <td>-2.484115e-01</td>\n      <td>...</td>\n      <td>-9.492164e-02</td>\n      <td>-1.062400e-01</td>\n      <td>-1.183819e-01</td>\n      <td>-1.176760e-01</td>\n      <td>-2.768648e-01</td>\n      <td>-1.075314e-01</td>\n      <td>-1.902063e-01</td>\n      <td>-1.568511e-01</td>\n      <td>-1.567816e-01</td>\n      <td>1.000000</td>\n    </tr>\n    <tr>\n      <th>75%</th>\n      <td>-6.019838e-03</td>\n      <td>0.134891</td>\n      <td>2.421417e-01</td>\n      <td>2.934771e-02</td>\n      <td>4.299368e-01</td>\n      <td>4.657662e-02</td>\n      <td>2.657046e-01</td>\n      <td>2.554157e-01</td>\n      <td>1.912782e-01</td>\n      <td>2.528499e-01</td>\n      <td>...</td>\n      <td>3.678364e-01</td>\n      <td>3.786152e-01</td>\n      <td>4.831423e-01</td>\n      <td>3.583828e-01</td>\n      <td>-2.222636e-01</td>\n      <td>-8.608978e-02</td>\n      <td>-5.532306e-02</td>\n      <td>-1.482252e-02</td>\n      <td>1.799523e-01</td>\n      <td>1.000000</td>\n    </tr>\n    <tr>\n      <th>max</th>\n      <td>1.310926e+01</td>\n      <td>24.667658</td>\n      <td>1.339818e+01</td>\n      <td>1.176364e+01</td>\n      <td>1.230419e+01</td>\n      <td>2.076315e+01</td>\n      <td>2.056656e+01</td>\n      <td>1.494297e+01</td>\n      <td>1.407417e+01</td>\n      <td>8.887802e+00</td>\n      <td>...</td>\n      <td>1.721807e+01</td>\n      <td>1.500379e+01</td>\n      <td>1.656874e+01</td>\n      <td>1.646400e+01</td>\n      <td>1.389422e+01</td>\n      <td>2.604879e+01</td>\n      <td>1.738537e+01</td>\n      <td>2.441393e+01</td>\n      <td>1.188097e+01</td>\n      <td>1.000000</td>\n    </tr>\n  </tbody>\n</table>\n<p>8 rows × 546 columns</p>\n</div>"
     },
     "execution_count": 27,
     "metadata": {},
     "output_type": "execute_result"
    }
   ],
   "source": [
    "from sklearn import preprocessing\n",
    "\n",
    "#standardizing the data excluding the Diagnosis column\n",
    "standard_scaler = preprocessing.StandardScaler()\n",
    "\n",
    "hca_phenotypes = df_healthy_cancer['Phenotypes']\n",
    "bm_phenotypes = df_benign_malignant['Phenotypes']\n",
    "\n",
    "df_healthy_cancer_no_diagnosis = df_healthy_cancer.drop('Phenotypes', axis=1)\n",
    "df_benign_malignant_no_diagnosis = df_benign_malignant.drop('Phenotypes', axis=1)\n",
    "\n",
    "hca_df = pd.DataFrame(standard_scaler.fit_transform(df_healthy_cancer_no_diagnosis), columns=df_healthy_cancer_no_diagnosis.columns)\n",
    "bm_df = pd.DataFrame(standard_scaler.fit_transform(df_benign_malignant_no_diagnosis), columns=df_benign_malignant_no_diagnosis.columns)\n",
    "\n",
    "\n",
    "hca_df['Phenotypes'] = hca_phenotypes\n",
    "bm_df['Phenotypes'] = bm_phenotypes\n",
    "\n",
    "hca_df.describe()"
   ]
  },
  {
   "cell_type": "markdown",
   "id": "ce1b248384a17d61",
   "metadata": {},
   "source": [
    "Class balancing"
   ]
  },
  {
   "cell_type": "code",
   "execution_count": 28,
   "id": "2fbf8b657c535b",
   "metadata": {
    "ExecuteTime": {
     "end_time": "2024-02-24T14:48:44.845275Z",
     "start_time": "2024-02-24T14:48:43.375550Z"
    }
   },
   "outputs": [
    {
     "name": "stderr",
     "output_type": "stream",
     "text": [
      "/home/marco/anaconda3/lib/python3.11/site-packages/sklearn/cluster/_kmeans.py:870: FutureWarning: The default value of `n_init` will change from 10 to 'auto' in 1.4. Set the value of `n_init` explicitly to suppress the warning\n",
      "  warnings.warn(\n"
     ]
    }
   ],
   "source": [
    "from imblearn.over_sampling import SMOTE\n",
    "from imblearn.under_sampling import ClusterCentroids\n",
    "import pandas as pd\n",
    "\n",
    "# Separate input features and target\n",
    "y = hca_df['Phenotypes']\n",
    "X = hca_df.drop('Phenotypes', axis=1)\n",
    "\n",
    "# 1 = 880, 0 = 280 ->  1 = 500, 0 = 500\n",
    "\n",
    "# Setting up SMOTE for oversampling\n",
    "smote = SMOTE(sampling_strategy={0: 500}, random_state=42)\n",
    "X_res_over, y_res_over = smote.fit_resample(X, y)\n",
    "\n",
    "# Setting up ClusterCentroids for undersampling\n",
    "cc = ClusterCentroids(sampling_strategy={1: 500}, random_state=42)\n",
    "X_res_under, y_res_under = cc.fit_resample(X_res_over, y_res_over)\n",
    "\n",
    "# Concatenate our training data back together\n",
    "res_df = pd.concat([X_res_under, y_res_under], axis=1)\n",
    "\n",
    "# Check the new class counts\n",
    "res_df['Phenotypes'].value_counts()\n",
    "res_df.to_csv('../../data/ST001937_hca.csv', index=False)"
   ]
  },
  {
   "cell_type": "code",
   "outputs": [
    {
     "name": "stderr",
     "output_type": "stream",
     "text": [
      "/home/marco/anaconda3/lib/python3.11/site-packages/sklearn/cluster/_kmeans.py:870: FutureWarning: The default value of `n_init` will change from 10 to 'auto' in 1.4. Set the value of `n_init` explicitly to suppress the warning\n",
      "  warnings.warn(\n"
     ]
    }
   ],
   "source": [
    "y = bm_df['Phenotypes']\n",
    "X = bm_df.drop('Phenotypes', axis=1)\n",
    "\n",
    "# 1 = 723, 0 = 157 ->  1 = 300, 0 = 300\n",
    "\n",
    "# Setting up SMOTE for oversampling\n",
    "smote = SMOTE(sampling_strategy={0: 300}, random_state=42)\n",
    "X_res_over, y_res_over = smote.fit_resample(X, y)\n",
    "\n",
    "# Setting up ClusterCentroids for undersampling\n",
    "cc = ClusterCentroids(sampling_strategy={1: 300}, random_state=42)\n",
    "X_res_under, y_res_under = cc.fit_resample(X_res_over, y_res_over)\n",
    "\n",
    "# Concatenate our training data back together\n",
    "res_df = pd.concat([X_res_under, y_res_under], axis=1)\n",
    "\n",
    "# Check the new class counts\n",
    "res_df['Phenotypes'].value_counts()\n",
    "res_df.to_csv('../../data/ST001937_bm.csv', index=False)"
   ],
   "metadata": {
    "collapsed": false,
    "ExecuteTime": {
     "end_time": "2024-02-24T14:48:45.690028Z",
     "start_time": "2024-02-24T14:48:44.846077Z"
    }
   },
   "id": "e07aa7ab2f40cec",
   "execution_count": 29
  }
 ],
 "metadata": {
  "kernelspec": {
   "display_name": "Python 3 (ipykernel)",
   "language": "python",
   "name": "python3"
  },
  "language_info": {
   "codemirror_mode": {
    "name": "ipython",
    "version": 3
   },
   "file_extension": ".py",
   "mimetype": "text/x-python",
   "name": "python",
   "nbconvert_exporter": "python",
   "pygments_lexer": "ipython3",
   "version": "3.11.4"
  }
 },
 "nbformat": 4,
 "nbformat_minor": 5
}
