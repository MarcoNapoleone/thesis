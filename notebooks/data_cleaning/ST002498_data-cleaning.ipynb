{
 "cells": [
  {
   "cell_type": "code",
   "execution_count": 1,
   "id": "initial_id",
   "metadata": {
    "ExecuteTime": {
     "end_time": "2024-02-23T09:09:08.573892Z",
     "start_time": "2024-02-23T09:09:07.769004Z"
    }
   },
   "outputs": [
    {
     "data": {
      "text/plain": "        Diagnosis   PreBioPSA  PreviousPositiveBiopsy         Age  \\\ncount  580.000000  576.000000                   580.0  580.000000   \nmean     0.460345    6.813646                     0.0   64.656897   \nstd      0.498855    8.587811                     0.0    8.615839   \nmin      0.000000    0.260000                     0.0   33.000000   \n25%      0.000000    3.797500                     0.0   59.000000   \n50%      0.000000    5.085000                     0.0   65.000000   \n75%      1.000000    7.200000                     0.0   70.000000   \nmax      1.000000  144.400000                     0.0   85.000000   \n\n       EthnicityLatino   Ethnicity  Employment   Education  SmokingEver  \\\ncount       580.000000  580.000000  580.000000  580.000000   580.000000   \nmean          0.058621    3.624138    3.081034    4.912069     0.494828   \nstd           0.249375    8.210746    2.522846    1.401033     0.507261   \nmin           0.000000    0.000000    0.000000    0.000000     0.000000   \n25%           0.000000    1.000000    1.000000    4.000000     0.000000   \n50%           0.000000    1.000000    1.000000    5.000000     0.000000   \n75%           0.000000    1.000000    6.000000    6.000000     1.000000   \nmax           2.000000   32.000000   10.000000    6.000000     2.000000   \n\n       FamilyHistoryPrCa  ...     X-25948     X-25957     X-26008     X-26054  \\\ncount         580.000000  ...  580.000000  580.000000  580.000000  580.000000   \nmean            0.267241  ...   17.823704   21.024914   18.816201   17.085630   \nstd             0.454449  ...    0.632803    0.434979    1.078822    0.583163   \nmin             0.000000  ...   16.231127   19.810562   15.241360   15.705137   \n25%             0.000000  ...   17.467665   20.749175   18.188942   16.699573   \n50%             0.000000  ...   17.741580   21.015685   18.718996   17.029602   \n75%             1.000000  ...   18.093447   21.263365   19.330017   17.419523   \nmax             2.000000  ...   22.569396   23.766016   24.646175   19.886690   \n\n          X-26062     X-26097     X-26107     X-26109     X-26111     X-26119  \ncount  580.000000  580.000000  580.000000  580.000000  580.000000  580.000000  \nmean    18.073313   18.687156   19.967458   16.177219   19.919818   16.733838  \nstd      1.586642    0.399466    0.578993    0.962527    1.763196    0.647451  \nmin     15.876781   17.261185   18.148216   13.215355   15.415103   14.919162  \n25%     17.162485   18.444661   19.617056   15.482880   18.883770   16.344822  \n50%     17.472598   18.673609   19.987181   16.166960   20.071686   16.676137  \n75%     18.409770   18.906863   20.360499   16.892829   21.162857   17.037447  \nmax     25.833702   20.890860   21.441073   19.305017   26.487071   20.912917  \n\n[8 rows x 1221 columns]",
      "text/html": "<div>\n<style scoped>\n    .dataframe tbody tr th:only-of-type {\n        vertical-align: middle;\n    }\n\n    .dataframe tbody tr th {\n        vertical-align: top;\n    }\n\n    .dataframe thead th {\n        text-align: right;\n    }\n</style>\n<table border=\"1\" class=\"dataframe\">\n  <thead>\n    <tr style=\"text-align: right;\">\n      <th></th>\n      <th>Diagnosis</th>\n      <th>PreBioPSA</th>\n      <th>PreviousPositiveBiopsy</th>\n      <th>Age</th>\n      <th>EthnicityLatino</th>\n      <th>Ethnicity</th>\n      <th>Employment</th>\n      <th>Education</th>\n      <th>SmokingEver</th>\n      <th>FamilyHistoryPrCa</th>\n      <th>...</th>\n      <th>X-25948</th>\n      <th>X-25957</th>\n      <th>X-26008</th>\n      <th>X-26054</th>\n      <th>X-26062</th>\n      <th>X-26097</th>\n      <th>X-26107</th>\n      <th>X-26109</th>\n      <th>X-26111</th>\n      <th>X-26119</th>\n    </tr>\n  </thead>\n  <tbody>\n    <tr>\n      <th>count</th>\n      <td>580.000000</td>\n      <td>576.000000</td>\n      <td>580.0</td>\n      <td>580.000000</td>\n      <td>580.000000</td>\n      <td>580.000000</td>\n      <td>580.000000</td>\n      <td>580.000000</td>\n      <td>580.000000</td>\n      <td>580.000000</td>\n      <td>...</td>\n      <td>580.000000</td>\n      <td>580.000000</td>\n      <td>580.000000</td>\n      <td>580.000000</td>\n      <td>580.000000</td>\n      <td>580.000000</td>\n      <td>580.000000</td>\n      <td>580.000000</td>\n      <td>580.000000</td>\n      <td>580.000000</td>\n    </tr>\n    <tr>\n      <th>mean</th>\n      <td>0.460345</td>\n      <td>6.813646</td>\n      <td>0.0</td>\n      <td>64.656897</td>\n      <td>0.058621</td>\n      <td>3.624138</td>\n      <td>3.081034</td>\n      <td>4.912069</td>\n      <td>0.494828</td>\n      <td>0.267241</td>\n      <td>...</td>\n      <td>17.823704</td>\n      <td>21.024914</td>\n      <td>18.816201</td>\n      <td>17.085630</td>\n      <td>18.073313</td>\n      <td>18.687156</td>\n      <td>19.967458</td>\n      <td>16.177219</td>\n      <td>19.919818</td>\n      <td>16.733838</td>\n    </tr>\n    <tr>\n      <th>std</th>\n      <td>0.498855</td>\n      <td>8.587811</td>\n      <td>0.0</td>\n      <td>8.615839</td>\n      <td>0.249375</td>\n      <td>8.210746</td>\n      <td>2.522846</td>\n      <td>1.401033</td>\n      <td>0.507261</td>\n      <td>0.454449</td>\n      <td>...</td>\n      <td>0.632803</td>\n      <td>0.434979</td>\n      <td>1.078822</td>\n      <td>0.583163</td>\n      <td>1.586642</td>\n      <td>0.399466</td>\n      <td>0.578993</td>\n      <td>0.962527</td>\n      <td>1.763196</td>\n      <td>0.647451</td>\n    </tr>\n    <tr>\n      <th>min</th>\n      <td>0.000000</td>\n      <td>0.260000</td>\n      <td>0.0</td>\n      <td>33.000000</td>\n      <td>0.000000</td>\n      <td>0.000000</td>\n      <td>0.000000</td>\n      <td>0.000000</td>\n      <td>0.000000</td>\n      <td>0.000000</td>\n      <td>...</td>\n      <td>16.231127</td>\n      <td>19.810562</td>\n      <td>15.241360</td>\n      <td>15.705137</td>\n      <td>15.876781</td>\n      <td>17.261185</td>\n      <td>18.148216</td>\n      <td>13.215355</td>\n      <td>15.415103</td>\n      <td>14.919162</td>\n    </tr>\n    <tr>\n      <th>25%</th>\n      <td>0.000000</td>\n      <td>3.797500</td>\n      <td>0.0</td>\n      <td>59.000000</td>\n      <td>0.000000</td>\n      <td>1.000000</td>\n      <td>1.000000</td>\n      <td>4.000000</td>\n      <td>0.000000</td>\n      <td>0.000000</td>\n      <td>...</td>\n      <td>17.467665</td>\n      <td>20.749175</td>\n      <td>18.188942</td>\n      <td>16.699573</td>\n      <td>17.162485</td>\n      <td>18.444661</td>\n      <td>19.617056</td>\n      <td>15.482880</td>\n      <td>18.883770</td>\n      <td>16.344822</td>\n    </tr>\n    <tr>\n      <th>50%</th>\n      <td>0.000000</td>\n      <td>5.085000</td>\n      <td>0.0</td>\n      <td>65.000000</td>\n      <td>0.000000</td>\n      <td>1.000000</td>\n      <td>1.000000</td>\n      <td>5.000000</td>\n      <td>0.000000</td>\n      <td>0.000000</td>\n      <td>...</td>\n      <td>17.741580</td>\n      <td>21.015685</td>\n      <td>18.718996</td>\n      <td>17.029602</td>\n      <td>17.472598</td>\n      <td>18.673609</td>\n      <td>19.987181</td>\n      <td>16.166960</td>\n      <td>20.071686</td>\n      <td>16.676137</td>\n    </tr>\n    <tr>\n      <th>75%</th>\n      <td>1.000000</td>\n      <td>7.200000</td>\n      <td>0.0</td>\n      <td>70.000000</td>\n      <td>0.000000</td>\n      <td>1.000000</td>\n      <td>6.000000</td>\n      <td>6.000000</td>\n      <td>1.000000</td>\n      <td>1.000000</td>\n      <td>...</td>\n      <td>18.093447</td>\n      <td>21.263365</td>\n      <td>19.330017</td>\n      <td>17.419523</td>\n      <td>18.409770</td>\n      <td>18.906863</td>\n      <td>20.360499</td>\n      <td>16.892829</td>\n      <td>21.162857</td>\n      <td>17.037447</td>\n    </tr>\n    <tr>\n      <th>max</th>\n      <td>1.000000</td>\n      <td>144.400000</td>\n      <td>0.0</td>\n      <td>85.000000</td>\n      <td>2.000000</td>\n      <td>32.000000</td>\n      <td>10.000000</td>\n      <td>6.000000</td>\n      <td>2.000000</td>\n      <td>2.000000</td>\n      <td>...</td>\n      <td>22.569396</td>\n      <td>23.766016</td>\n      <td>24.646175</td>\n      <td>19.886690</td>\n      <td>25.833702</td>\n      <td>20.890860</td>\n      <td>21.441073</td>\n      <td>19.305017</td>\n      <td>26.487071</td>\n      <td>20.912917</td>\n    </tr>\n  </tbody>\n</table>\n<p>8 rows × 1221 columns</p>\n</div>"
     },
     "execution_count": 1,
     "metadata": {},
     "output_type": "execute_result"
    }
   ],
   "source": [
    "import pandas as pd\n",
    "from matplotlib import pyplot as plt\n",
    "import seaborn as sns\n",
    "\n",
    "output_directory = '/home/marco/DataspellProjects/thesis/output/visualization/'\n",
    "\n",
    "palette = sns.color_palette([\"#2176AB\", \"#F97662\", \"#FFBF00\", \"#50C878\", \"#B284BE\"])\n",
    "sns.set_palette(palette)\n",
    "\n",
    "data = pd.read_csv('../../data/ST002498.csv')\n",
    "data.describe()"
   ]
  },
  {
   "cell_type": "markdown",
   "id": "2f97bdd689770daf",
   "metadata": {},
   "source": [
    "Data preprocessing and cleaning"
   ]
  },
  {
   "cell_type": "code",
   "execution_count": 2,
   "id": "4eb62e3184c19481",
   "metadata": {
    "ExecuteTime": {
     "end_time": "2024-02-23T09:09:08.577825Z",
     "start_time": "2024-02-23T09:09:08.574337Z"
    }
   },
   "outputs": [],
   "source": [
    "df = data.iloc[:, 53:]\n",
    "\n",
    "#df.fillna(df.mean(numeric_only=True), inplace=True)\n",
    "# Diagnosis, PreBioPSA, Age, Height, Weight\n",
    "df[['Diagnosis', 'PreBioPSA', 'Age', 'Height', 'Weight']] = data[['Diagnosis', 'PreBioPSA', 'Age', 'Height', 'Weight']]\n"
   ]
  },
  {
   "cell_type": "markdown",
   "id": "9cd29bb98b20a10b",
   "metadata": {},
   "source": [
    "Removing the outliers"
   ]
  },
  {
   "cell_type": "code",
   "execution_count": 3,
   "id": "d8a04340445912f7",
   "metadata": {
    "ExecuteTime": {
     "end_time": "2024-02-23T09:09:08.597864Z",
     "start_time": "2024-02-23T09:09:08.578283Z"
    }
   },
   "outputs": [],
   "source": [
    "import numpy as np\n",
    "df_no_outliers = df.copy()"
   ]
  },
  {
   "cell_type": "markdown",
   "source": [
    "Scaling the data using min-max scaler"
   ],
   "metadata": {},
   "id": "9bab7e20440fba57"
  },
  {
   "cell_type": "code",
   "outputs": [],
   "source": [
    "from sklearn import preprocessing\n",
    "\n",
    "min_max_scaler = preprocessing.MinMaxScaler()\n",
    "unit_df = pd.DataFrame(min_max_scaler.fit_transform(df_no_outliers), columns=df_no_outliers.columns)"
   ],
   "metadata": {
    "ExecuteTime": {
     "end_time": "2024-02-23T09:09:08.638411Z",
     "start_time": "2024-02-23T09:09:08.598382Z"
    }
   },
   "id": "74426ddd66b4e5c9",
   "execution_count": 4
  },
  {
   "cell_type": "markdown",
   "id": "5f455bf9e7b358f5",
   "metadata": {},
   "source": [
    "Log transforming the data to reduce the skewness"
   ]
  },
  {
   "cell_type": "code",
   "execution_count": 5,
   "id": "efad95cdb2c9cf98",
   "metadata": {
    "ExecuteTime": {
     "end_time": "2024-02-23T09:09:09.472964Z",
     "start_time": "2024-02-23T09:09:08.638925Z"
    }
   },
   "outputs": [
    {
     "data": {
      "text/plain": "       S-1-pyrroline-5-carboxylate  spermidine  1-methylnicotinamide  \\\ncount                   580.000000  580.000000            580.000000   \nmean                      0.591215    0.257634              0.258169   \nstd                       0.146401    0.067246              0.083454   \nmin                       0.000000    0.000000              0.000000   \n25%                       0.499208    0.216710              0.212196   \n50%                       0.597451    0.256207              0.247992   \n75%                       0.691936    0.292645              0.292717   \nmax                       1.000000    0.693147              0.693147   \n\n       12,13-DiHOME  alpha-ketoglutarate  kynurenate  3-hydroxyisobutyrate  \\\ncount    580.000000           580.000000  580.000000            580.000000   \nmean       0.532785             0.539770    0.263703              0.413784   \nstd        0.177760             0.101658    0.067204              0.155483   \nmin        0.000000             0.000000    0.000000              0.000000   \n25%        0.408348             0.477599    0.223881              0.315928   \n50%        0.536727             0.531974    0.260210              0.403296   \n75%        0.652279             0.593789    0.299125              0.505107   \nmax        1.000000             1.000000    0.693147              1.000000   \n\n       3-hydroxy-3-methylglutarate  3-phosphoglycerate     cholate  ...  \\\ncount                   580.000000          580.000000  580.000000  ...   \nmean                      0.255491            0.359670    0.199863  ...   \nstd                       0.079263            0.086182    0.072318  ...   \nmin                       0.000000            0.000000    0.000000  ...   \n25%                       0.204314            0.309427    0.159991  ...   \n50%                       0.251474            0.356493    0.192756  ...   \n75%                       0.300920            0.403458    0.227585  ...   \nmax                       0.693147            0.693147    0.693147  ...   \n\n          X-26097     X-26107     X-26109     X-26111     X-26119   Diagnosis  \\\ncount  580.000000  580.000000  580.000000  580.000000  580.000000  580.000000   \nmean     0.392865    0.552481    0.486376    0.406858    0.261187    0.460345   \nstd      0.110056    0.175833    0.158059    0.159249    0.080655    0.498855   \nmin      0.000000    0.000000    0.000000    0.000000    0.000000    0.000000   \n25%      0.326056    0.446069    0.372356    0.313284    0.213382    0.000000   \n50%      0.389132    0.558471    0.484691    0.420574    0.257069    0.000000   \n75%      0.453395    0.671843    0.603888    0.519127    0.302631    1.000000   \nmax      1.000000    1.000000    1.000000    1.000000    0.693147    1.000000   \n\n        PreBioPSA         Age      Height      Weight  \ncount  576.000000  580.000000  576.000000  576.000000  \nmean     0.043207    0.608786    0.493421    0.497610  \nstd      0.047358    0.165689    0.155783    0.117272  \nmin      0.000000    0.000000    0.000000    0.000000  \n25%      0.024246    0.500000    0.368421    0.420849  \n50%      0.032926    0.615385    0.473684    0.478764  \n75%      0.047024    0.711538    0.578947    0.555985  \nmax      0.693147    1.000000    1.000000    1.000000  \n\n[8 rows x 1174 columns]",
      "text/html": "<div>\n<style scoped>\n    .dataframe tbody tr th:only-of-type {\n        vertical-align: middle;\n    }\n\n    .dataframe tbody tr th {\n        vertical-align: top;\n    }\n\n    .dataframe thead th {\n        text-align: right;\n    }\n</style>\n<table border=\"1\" class=\"dataframe\">\n  <thead>\n    <tr style=\"text-align: right;\">\n      <th></th>\n      <th>S-1-pyrroline-5-carboxylate</th>\n      <th>spermidine</th>\n      <th>1-methylnicotinamide</th>\n      <th>12,13-DiHOME</th>\n      <th>alpha-ketoglutarate</th>\n      <th>kynurenate</th>\n      <th>3-hydroxyisobutyrate</th>\n      <th>3-hydroxy-3-methylglutarate</th>\n      <th>3-phosphoglycerate</th>\n      <th>cholate</th>\n      <th>...</th>\n      <th>X-26097</th>\n      <th>X-26107</th>\n      <th>X-26109</th>\n      <th>X-26111</th>\n      <th>X-26119</th>\n      <th>Diagnosis</th>\n      <th>PreBioPSA</th>\n      <th>Age</th>\n      <th>Height</th>\n      <th>Weight</th>\n    </tr>\n  </thead>\n  <tbody>\n    <tr>\n      <th>count</th>\n      <td>580.000000</td>\n      <td>580.000000</td>\n      <td>580.000000</td>\n      <td>580.000000</td>\n      <td>580.000000</td>\n      <td>580.000000</td>\n      <td>580.000000</td>\n      <td>580.000000</td>\n      <td>580.000000</td>\n      <td>580.000000</td>\n      <td>...</td>\n      <td>580.000000</td>\n      <td>580.000000</td>\n      <td>580.000000</td>\n      <td>580.000000</td>\n      <td>580.000000</td>\n      <td>580.000000</td>\n      <td>576.000000</td>\n      <td>580.000000</td>\n      <td>576.000000</td>\n      <td>576.000000</td>\n    </tr>\n    <tr>\n      <th>mean</th>\n      <td>0.591215</td>\n      <td>0.257634</td>\n      <td>0.258169</td>\n      <td>0.532785</td>\n      <td>0.539770</td>\n      <td>0.263703</td>\n      <td>0.413784</td>\n      <td>0.255491</td>\n      <td>0.359670</td>\n      <td>0.199863</td>\n      <td>...</td>\n      <td>0.392865</td>\n      <td>0.552481</td>\n      <td>0.486376</td>\n      <td>0.406858</td>\n      <td>0.261187</td>\n      <td>0.460345</td>\n      <td>0.043207</td>\n      <td>0.608786</td>\n      <td>0.493421</td>\n      <td>0.497610</td>\n    </tr>\n    <tr>\n      <th>std</th>\n      <td>0.146401</td>\n      <td>0.067246</td>\n      <td>0.083454</td>\n      <td>0.177760</td>\n      <td>0.101658</td>\n      <td>0.067204</td>\n      <td>0.155483</td>\n      <td>0.079263</td>\n      <td>0.086182</td>\n      <td>0.072318</td>\n      <td>...</td>\n      <td>0.110056</td>\n      <td>0.175833</td>\n      <td>0.158059</td>\n      <td>0.159249</td>\n      <td>0.080655</td>\n      <td>0.498855</td>\n      <td>0.047358</td>\n      <td>0.165689</td>\n      <td>0.155783</td>\n      <td>0.117272</td>\n    </tr>\n    <tr>\n      <th>min</th>\n      <td>0.000000</td>\n      <td>0.000000</td>\n      <td>0.000000</td>\n      <td>0.000000</td>\n      <td>0.000000</td>\n      <td>0.000000</td>\n      <td>0.000000</td>\n      <td>0.000000</td>\n      <td>0.000000</td>\n      <td>0.000000</td>\n      <td>...</td>\n      <td>0.000000</td>\n      <td>0.000000</td>\n      <td>0.000000</td>\n      <td>0.000000</td>\n      <td>0.000000</td>\n      <td>0.000000</td>\n      <td>0.000000</td>\n      <td>0.000000</td>\n      <td>0.000000</td>\n      <td>0.000000</td>\n    </tr>\n    <tr>\n      <th>25%</th>\n      <td>0.499208</td>\n      <td>0.216710</td>\n      <td>0.212196</td>\n      <td>0.408348</td>\n      <td>0.477599</td>\n      <td>0.223881</td>\n      <td>0.315928</td>\n      <td>0.204314</td>\n      <td>0.309427</td>\n      <td>0.159991</td>\n      <td>...</td>\n      <td>0.326056</td>\n      <td>0.446069</td>\n      <td>0.372356</td>\n      <td>0.313284</td>\n      <td>0.213382</td>\n      <td>0.000000</td>\n      <td>0.024246</td>\n      <td>0.500000</td>\n      <td>0.368421</td>\n      <td>0.420849</td>\n    </tr>\n    <tr>\n      <th>50%</th>\n      <td>0.597451</td>\n      <td>0.256207</td>\n      <td>0.247992</td>\n      <td>0.536727</td>\n      <td>0.531974</td>\n      <td>0.260210</td>\n      <td>0.403296</td>\n      <td>0.251474</td>\n      <td>0.356493</td>\n      <td>0.192756</td>\n      <td>...</td>\n      <td>0.389132</td>\n      <td>0.558471</td>\n      <td>0.484691</td>\n      <td>0.420574</td>\n      <td>0.257069</td>\n      <td>0.000000</td>\n      <td>0.032926</td>\n      <td>0.615385</td>\n      <td>0.473684</td>\n      <td>0.478764</td>\n    </tr>\n    <tr>\n      <th>75%</th>\n      <td>0.691936</td>\n      <td>0.292645</td>\n      <td>0.292717</td>\n      <td>0.652279</td>\n      <td>0.593789</td>\n      <td>0.299125</td>\n      <td>0.505107</td>\n      <td>0.300920</td>\n      <td>0.403458</td>\n      <td>0.227585</td>\n      <td>...</td>\n      <td>0.453395</td>\n      <td>0.671843</td>\n      <td>0.603888</td>\n      <td>0.519127</td>\n      <td>0.302631</td>\n      <td>1.000000</td>\n      <td>0.047024</td>\n      <td>0.711538</td>\n      <td>0.578947</td>\n      <td>0.555985</td>\n    </tr>\n    <tr>\n      <th>max</th>\n      <td>1.000000</td>\n      <td>0.693147</td>\n      <td>0.693147</td>\n      <td>1.000000</td>\n      <td>1.000000</td>\n      <td>0.693147</td>\n      <td>1.000000</td>\n      <td>0.693147</td>\n      <td>0.693147</td>\n      <td>0.693147</td>\n      <td>...</td>\n      <td>1.000000</td>\n      <td>1.000000</td>\n      <td>1.000000</td>\n      <td>1.000000</td>\n      <td>0.693147</td>\n      <td>1.000000</td>\n      <td>0.693147</td>\n      <td>1.000000</td>\n      <td>1.000000</td>\n      <td>1.000000</td>\n    </tr>\n  </tbody>\n</table>\n<p>8 rows × 1174 columns</p>\n</div>"
     },
     "execution_count": 5,
     "metadata": {},
     "output_type": "execute_result"
    }
   ],
   "source": [
    "\n",
    "#calculating the skewness of the data\n",
    "skewness = unit_df.skew()\n",
    "\n",
    "#log transforming the data to reduce the skewness\n",
    "for column in unit_df.columns:\n",
    "    if skewness[column] > 0.75:\n",
    "        unit_df[column] = np.log1p(unit_df[column])\n",
    "      \n",
    "unit_df.describe()  "
   ]
  },
  {
   "cell_type": "markdown",
   "id": "1345621ce74f0072",
   "metadata": {},
   "source": [
    "Standardizing the data"
   ]
  },
  {
   "cell_type": "code",
   "execution_count": 6,
   "id": "affc567791bc52d6",
   "metadata": {
    "ExecuteTime": {
     "end_time": "2024-02-23T09:09:10.188871Z",
     "start_time": "2024-02-23T09:09:09.474114Z"
    }
   },
   "outputs": [
    {
     "data": {
      "text/plain": "       S-1-pyrroline-5-carboxylate    spermidine  1-methylnicotinamide  \\\ncount                 5.800000e+02  5.800000e+02          5.800000e+02   \nmean                  3.139251e-15 -2.741102e-15         -9.402441e-16   \nstd                   1.000863e+00  1.000863e+00          1.000863e+00   \nmin                  -4.041799e+00 -3.255716e+00         -2.548171e+00   \n25%                  -6.289964e-01 -6.019176e-01         -5.355772e-01   \n50%                   4.263186e-02 -5.318552e-02         -1.519412e-01   \n75%                   6.885760e-01  4.726452e-01          3.470881e-01   \nmax                   2.794634e+00  7.711106e+00          5.965699e+00   \n\n       12,13-DiHOME  alpha-ketoglutarate    kynurenate  3-hydroxyisobutyrate  \\\ncount  5.800000e+02         5.800000e+02  5.800000e+02          5.800000e+02   \nmean   2.756416e-17         2.878923e-15  1.297812e-15          1.767169e-15   \nstd    1.000863e+00         1.000863e+00  1.000863e+00          1.000863e+00   \nmin   -2.999808e+00        -5.314236e+00 -3.329012e+00         -2.663575e+00   \n25%   -7.006331e-01        -6.121009e-01 -5.880450e-01         -6.299143e-01   \n50%    2.219061e-02        -7.676113e-02 -8.250173e-02         -6.751395e-02   \n75%    6.728012e-01         5.318283e-01  4.798064e-01          5.878558e-01   \nmax    2.630616e+00         4.531127e+00  7.594571e+00          3.773537e+00   \n\n       3-hydroxy-3-methylglutarate  3-phosphoglycerate       cholate  ...  \\\ncount                 5.800000e+02        5.800000e+02  5.800000e+02  ...   \nmean                 -5.635339e-15        1.408835e-15 -1.546656e-15  ...   \nstd                   1.000863e+00        1.000863e+00  1.000863e+00  ...   \nmin                  -2.745237e+00       -3.469806e+00 -2.376248e+00  ...   \n25%                  -6.376619e-01       -5.985013e-01 -5.402955e-01  ...   \n50%                  -8.691214e-02       -7.856588e-02 -1.266964e-01  ...   \n75%                   5.191122e-01        4.652330e-01  3.280814e-01  ...   \nmax                   6.552206e+00        4.447887e+00  8.205560e+00  ...   \n\n            X-26097       X-26107       X-26109       X-26111       X-26119  \\\ncount  5.800000e+02  5.800000e+02  5.800000e+02  5.800000e+02  5.800000e+02   \nmean  -3.157627e-15 -9.494321e-16 -1.292453e-15  1.681414e-15  2.450147e-17   \nstd    1.000863e+00  1.000863e+00  1.000863e+00  1.000863e+00  1.000863e+00   \nmin   -3.572774e+00 -3.144791e+00 -3.079831e+00 -2.557063e+00 -2.805217e+00   \n25%   -6.075716e-01 -6.057134e-01 -7.219939e-01 -5.881036e-01 -6.013603e-01   \n50%   -3.394242e-02  3.409470e-02 -1.066767e-02  8.620693e-02 -8.919698e-02   \n75%    5.504752e-01  6.794225e-01  7.441119e-01  7.056010e-01  4.693342e-01   \nmax    5.521387e+00  2.547334e+00  3.252373e+00  3.727846e+00  6.460233e+00   \n\n          PreBioPSA           Age        Height        Weight   Diagnosis  \ncount  5.760000e+02  5.800000e+02  5.760000e+02  5.760000e+02  580.000000  \nmean   3.083953e-17  8.177367e-16 -1.541976e-18  1.079383e-17    0.460345  \nstd    1.000869e+00  1.000863e+00  1.000869e+00  1.000869e+00    0.498855  \nmin   -7.637968e-01 -3.677439e+00 -3.170115e+00 -4.246902e+00    0.000000  \n25%   -3.515177e-01 -6.571362e-01 -8.030957e-01 -6.551184e-01    0.000000  \n50%   -2.014656e-01  3.985678e-02 -1.268046e-01 -1.608362e-01    0.000000  \n75%    4.502777e-02  6.206842e-01  5.494866e-01  4.982067e-01    1.000000  \nmax    1.603505e+01  2.363167e+00  3.254651e+00  4.287703e+00    1.000000  \n\n[8 rows x 1174 columns]",
      "text/html": "<div>\n<style scoped>\n    .dataframe tbody tr th:only-of-type {\n        vertical-align: middle;\n    }\n\n    .dataframe tbody tr th {\n        vertical-align: top;\n    }\n\n    .dataframe thead th {\n        text-align: right;\n    }\n</style>\n<table border=\"1\" class=\"dataframe\">\n  <thead>\n    <tr style=\"text-align: right;\">\n      <th></th>\n      <th>S-1-pyrroline-5-carboxylate</th>\n      <th>spermidine</th>\n      <th>1-methylnicotinamide</th>\n      <th>12,13-DiHOME</th>\n      <th>alpha-ketoglutarate</th>\n      <th>kynurenate</th>\n      <th>3-hydroxyisobutyrate</th>\n      <th>3-hydroxy-3-methylglutarate</th>\n      <th>3-phosphoglycerate</th>\n      <th>cholate</th>\n      <th>...</th>\n      <th>X-26097</th>\n      <th>X-26107</th>\n      <th>X-26109</th>\n      <th>X-26111</th>\n      <th>X-26119</th>\n      <th>PreBioPSA</th>\n      <th>Age</th>\n      <th>Height</th>\n      <th>Weight</th>\n      <th>Diagnosis</th>\n    </tr>\n  </thead>\n  <tbody>\n    <tr>\n      <th>count</th>\n      <td>5.800000e+02</td>\n      <td>5.800000e+02</td>\n      <td>5.800000e+02</td>\n      <td>5.800000e+02</td>\n      <td>5.800000e+02</td>\n      <td>5.800000e+02</td>\n      <td>5.800000e+02</td>\n      <td>5.800000e+02</td>\n      <td>5.800000e+02</td>\n      <td>5.800000e+02</td>\n      <td>...</td>\n      <td>5.800000e+02</td>\n      <td>5.800000e+02</td>\n      <td>5.800000e+02</td>\n      <td>5.800000e+02</td>\n      <td>5.800000e+02</td>\n      <td>5.760000e+02</td>\n      <td>5.800000e+02</td>\n      <td>5.760000e+02</td>\n      <td>5.760000e+02</td>\n      <td>580.000000</td>\n    </tr>\n    <tr>\n      <th>mean</th>\n      <td>3.139251e-15</td>\n      <td>-2.741102e-15</td>\n      <td>-9.402441e-16</td>\n      <td>2.756416e-17</td>\n      <td>2.878923e-15</td>\n      <td>1.297812e-15</td>\n      <td>1.767169e-15</td>\n      <td>-5.635339e-15</td>\n      <td>1.408835e-15</td>\n      <td>-1.546656e-15</td>\n      <td>...</td>\n      <td>-3.157627e-15</td>\n      <td>-9.494321e-16</td>\n      <td>-1.292453e-15</td>\n      <td>1.681414e-15</td>\n      <td>2.450147e-17</td>\n      <td>3.083953e-17</td>\n      <td>8.177367e-16</td>\n      <td>-1.541976e-18</td>\n      <td>1.079383e-17</td>\n      <td>0.460345</td>\n    </tr>\n    <tr>\n      <th>std</th>\n      <td>1.000863e+00</td>\n      <td>1.000863e+00</td>\n      <td>1.000863e+00</td>\n      <td>1.000863e+00</td>\n      <td>1.000863e+00</td>\n      <td>1.000863e+00</td>\n      <td>1.000863e+00</td>\n      <td>1.000863e+00</td>\n      <td>1.000863e+00</td>\n      <td>1.000863e+00</td>\n      <td>...</td>\n      <td>1.000863e+00</td>\n      <td>1.000863e+00</td>\n      <td>1.000863e+00</td>\n      <td>1.000863e+00</td>\n      <td>1.000863e+00</td>\n      <td>1.000869e+00</td>\n      <td>1.000863e+00</td>\n      <td>1.000869e+00</td>\n      <td>1.000869e+00</td>\n      <td>0.498855</td>\n    </tr>\n    <tr>\n      <th>min</th>\n      <td>-4.041799e+00</td>\n      <td>-3.255716e+00</td>\n      <td>-2.548171e+00</td>\n      <td>-2.999808e+00</td>\n      <td>-5.314236e+00</td>\n      <td>-3.329012e+00</td>\n      <td>-2.663575e+00</td>\n      <td>-2.745237e+00</td>\n      <td>-3.469806e+00</td>\n      <td>-2.376248e+00</td>\n      <td>...</td>\n      <td>-3.572774e+00</td>\n      <td>-3.144791e+00</td>\n      <td>-3.079831e+00</td>\n      <td>-2.557063e+00</td>\n      <td>-2.805217e+00</td>\n      <td>-7.637968e-01</td>\n      <td>-3.677439e+00</td>\n      <td>-3.170115e+00</td>\n      <td>-4.246902e+00</td>\n      <td>0.000000</td>\n    </tr>\n    <tr>\n      <th>25%</th>\n      <td>-6.289964e-01</td>\n      <td>-6.019176e-01</td>\n      <td>-5.355772e-01</td>\n      <td>-7.006331e-01</td>\n      <td>-6.121009e-01</td>\n      <td>-5.880450e-01</td>\n      <td>-6.299143e-01</td>\n      <td>-6.376619e-01</td>\n      <td>-5.985013e-01</td>\n      <td>-5.402955e-01</td>\n      <td>...</td>\n      <td>-6.075716e-01</td>\n      <td>-6.057134e-01</td>\n      <td>-7.219939e-01</td>\n      <td>-5.881036e-01</td>\n      <td>-6.013603e-01</td>\n      <td>-3.515177e-01</td>\n      <td>-6.571362e-01</td>\n      <td>-8.030957e-01</td>\n      <td>-6.551184e-01</td>\n      <td>0.000000</td>\n    </tr>\n    <tr>\n      <th>50%</th>\n      <td>4.263186e-02</td>\n      <td>-5.318552e-02</td>\n      <td>-1.519412e-01</td>\n      <td>2.219061e-02</td>\n      <td>-7.676113e-02</td>\n      <td>-8.250173e-02</td>\n      <td>-6.751395e-02</td>\n      <td>-8.691214e-02</td>\n      <td>-7.856588e-02</td>\n      <td>-1.266964e-01</td>\n      <td>...</td>\n      <td>-3.394242e-02</td>\n      <td>3.409470e-02</td>\n      <td>-1.066767e-02</td>\n      <td>8.620693e-02</td>\n      <td>-8.919698e-02</td>\n      <td>-2.014656e-01</td>\n      <td>3.985678e-02</td>\n      <td>-1.268046e-01</td>\n      <td>-1.608362e-01</td>\n      <td>0.000000</td>\n    </tr>\n    <tr>\n      <th>75%</th>\n      <td>6.885760e-01</td>\n      <td>4.726452e-01</td>\n      <td>3.470881e-01</td>\n      <td>6.728012e-01</td>\n      <td>5.318283e-01</td>\n      <td>4.798064e-01</td>\n      <td>5.878558e-01</td>\n      <td>5.191122e-01</td>\n      <td>4.652330e-01</td>\n      <td>3.280814e-01</td>\n      <td>...</td>\n      <td>5.504752e-01</td>\n      <td>6.794225e-01</td>\n      <td>7.441119e-01</td>\n      <td>7.056010e-01</td>\n      <td>4.693342e-01</td>\n      <td>4.502777e-02</td>\n      <td>6.206842e-01</td>\n      <td>5.494866e-01</td>\n      <td>4.982067e-01</td>\n      <td>1.000000</td>\n    </tr>\n    <tr>\n      <th>max</th>\n      <td>2.794634e+00</td>\n      <td>7.711106e+00</td>\n      <td>5.965699e+00</td>\n      <td>2.630616e+00</td>\n      <td>4.531127e+00</td>\n      <td>7.594571e+00</td>\n      <td>3.773537e+00</td>\n      <td>6.552206e+00</td>\n      <td>4.447887e+00</td>\n      <td>8.205560e+00</td>\n      <td>...</td>\n      <td>5.521387e+00</td>\n      <td>2.547334e+00</td>\n      <td>3.252373e+00</td>\n      <td>3.727846e+00</td>\n      <td>6.460233e+00</td>\n      <td>1.603505e+01</td>\n      <td>2.363167e+00</td>\n      <td>3.254651e+00</td>\n      <td>4.287703e+00</td>\n      <td>1.000000</td>\n    </tr>\n  </tbody>\n</table>\n<p>8 rows × 1174 columns</p>\n</div>"
     },
     "execution_count": 6,
     "metadata": {},
     "output_type": "execute_result"
    }
   ],
   "source": [
    "\n",
    "#standardizing the data excluding the Diagnosis column\n",
    "standard_scaler = preprocessing.StandardScaler()\n",
    "df_no_outliers.drop('Diagnosis', axis=1, inplace=True)\n",
    "standard_df = pd.DataFrame(standard_scaler.fit_transform(df_no_outliers), columns=df_no_outliers.columns)\n",
    "standard_df['Diagnosis'] = df['Diagnosis']\n",
    "standard_df.describe()\n"
   ]
  },
  {
   "cell_type": "markdown",
   "id": "ce1b248384a17d61",
   "metadata": {},
   "source": [
    "Class balancing"
   ]
  },
  {
   "cell_type": "code",
   "execution_count": 7,
   "id": "2fbf8b657c535b",
   "metadata": {
    "ExecuteTime": {
     "end_time": "2024-02-23T09:09:10.962524Z",
     "start_time": "2024-02-23T09:09:10.189450Z"
    }
   },
   "outputs": [
    {
     "name": "stderr",
     "output_type": "stream",
     "text": [
      "/tmp/ipykernel_220582/1881448614.py:15: PerformanceWarning: DataFrame is highly fragmented.  This is usually the result of calling `frame.insert` many times, which has poor performance.  Consider joining all columns at once using pd.concat(axis=1) instead. To get a de-fragmented frame, use `newframe = frame.copy()`\n",
      "  balanced_unit_df['Diagnosis'] = y\n",
      "/tmp/ipykernel_220582/1881448614.py:18: PerformanceWarning: DataFrame is highly fragmented.  This is usually the result of calling `frame.insert` many times, which has poor performance.  Consider joining all columns at once using pd.concat(axis=1) instead. To get a de-fragmented frame, use `newframe = frame.copy()`\n",
      "  balanced_standard_df['Diagnosis'] = w\n"
     ]
    }
   ],
   "source": [
    "#Class balancing using SMOTE\n",
    "from imblearn.over_sampling import SMOTE\n",
    "from imblearn.under_sampling import RandomUnderSampler\n",
    "\n",
    "balanced_unit_df = unit_df.fillna(unit_df.mean(numeric_only=True))\n",
    "balanced_standard_df = standard_df.fillna(standard_df.mean(numeric_only=True))\n",
    "\n",
    "#oversampling the minority class using SMOTE\n",
    "oversample = SMOTE(sampling_strategy=\"auto\")\n",
    "X, y = oversample.fit_resample(balanced_unit_df.drop('Diagnosis', axis=1), balanced_unit_df['Diagnosis'])\n",
    "Z, w = oversample.fit_resample(balanced_standard_df.drop('Diagnosis', axis=1), balanced_standard_df['Diagnosis'])\n",
    "\n",
    "#recreating the dataframe\n",
    "balanced_unit_df = pd.DataFrame(X, columns=balanced_unit_df.drop('Diagnosis', axis=1).columns)\n",
    "balanced_unit_df['Diagnosis'] = y\n",
    "\n",
    "balanced_standard_df = pd.DataFrame(Z, columns=balanced_standard_df.drop('Diagnosis', axis=1).columns)\n",
    "balanced_standard_df['Diagnosis'] = w\n"
   ]
  },
  {
   "cell_type": "code",
   "outputs": [],
   "source": [
    "#exporting the data to csv\n",
    "\n",
    "balanced_unit_df.to_csv('../../data/ST002498_balanced_unit.csv', index=False)\n",
    "balanced_standard_df.to_csv('../../data/ST002498_balanced_standard.csv', index=False)\n"
   ],
   "metadata": {
    "collapsed": false,
    "ExecuteTime": {
     "end_time": "2024-02-23T09:09:11.827132Z",
     "start_time": "2024-02-23T09:09:10.963014Z"
    }
   },
   "id": "197929b75ba347f1",
   "execution_count": 8
  }
 ],
 "metadata": {
  "kernelspec": {
   "display_name": "Python 3 (ipykernel)",
   "language": "python",
   "name": "python3"
  },
  "language_info": {
   "codemirror_mode": {
    "name": "ipython",
    "version": 3
   },
   "file_extension": ".py",
   "mimetype": "text/x-python",
   "name": "python",
   "nbconvert_exporter": "python",
   "pygments_lexer": "ipython3",
   "version": "3.11.4"
  }
 },
 "nbformat": 4,
 "nbformat_minor": 5
}
