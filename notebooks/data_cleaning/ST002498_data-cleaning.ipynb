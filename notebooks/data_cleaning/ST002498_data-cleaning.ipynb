{
 "cells": [
  {
   "cell_type": "code",
   "execution_count": 23,
   "id": "initial_id",
   "metadata": {
    "ExecuteTime": {
     "end_time": "2024-01-26T10:49:50.501532209Z",
     "start_time": "2024-01-26T10:49:49.639242598Z"
    }
   },
   "outputs": [
    {
     "data": {
      "text/plain": "        Diagnosis   PreBioPSA  PreviousPositiveBiopsy         Age  \\\ncount  580.000000  576.000000                   580.0  580.000000   \nmean     0.460345    6.813646                     0.0   64.656897   \nstd      0.498855    8.587811                     0.0    8.615839   \nmin      0.000000    0.260000                     0.0   33.000000   \n25%      0.000000    3.797500                     0.0   59.000000   \n50%      0.000000    5.085000                     0.0   65.000000   \n75%      1.000000    7.200000                     0.0   70.000000   \nmax      1.000000  144.400000                     0.0   85.000000   \n\n       EthnicityLatino   Ethnicity  Employment   Education  SmokingEver  \\\ncount       580.000000  580.000000  580.000000  580.000000   580.000000   \nmean          0.058621    3.624138    3.081034    4.912069     0.494828   \nstd           0.249375    8.210746    2.522846    1.401033     0.507261   \nmin           0.000000    0.000000    0.000000    0.000000     0.000000   \n25%           0.000000    1.000000    1.000000    4.000000     0.000000   \n50%           0.000000    1.000000    1.000000    5.000000     0.000000   \n75%           0.000000    1.000000    6.000000    6.000000     1.000000   \nmax           2.000000   32.000000   10.000000    6.000000     2.000000   \n\n       FamilyHistoryPrCa  ...     X-25948     X-25957     X-26008     X-26054  \\\ncount         580.000000  ...  580.000000  580.000000  580.000000  580.000000   \nmean            0.267241  ...   17.823704   21.024914   18.816201   17.085630   \nstd             0.454449  ...    0.632803    0.434979    1.078822    0.583163   \nmin             0.000000  ...   16.231127   19.810562   15.241360   15.705137   \n25%             0.000000  ...   17.467665   20.749175   18.188942   16.699573   \n50%             0.000000  ...   17.741580   21.015685   18.718996   17.029602   \n75%             1.000000  ...   18.093447   21.263365   19.330017   17.419523   \nmax             2.000000  ...   22.569396   23.766016   24.646175   19.886690   \n\n          X-26062     X-26097     X-26107     X-26109     X-26111     X-26119  \ncount  580.000000  580.000000  580.000000  580.000000  580.000000  580.000000  \nmean    18.073313   18.687156   19.967458   16.177219   19.919818   16.733838  \nstd      1.586642    0.399466    0.578993    0.962527    1.763196    0.647451  \nmin     15.876781   17.261185   18.148216   13.215355   15.415103   14.919162  \n25%     17.162485   18.444661   19.617056   15.482880   18.883770   16.344822  \n50%     17.472598   18.673609   19.987181   16.166960   20.071686   16.676137  \n75%     18.409770   18.906863   20.360499   16.892829   21.162857   17.037447  \nmax     25.833702   20.890860   21.441073   19.305017   26.487071   20.912917  \n\n[8 rows x 1221 columns]",
      "text/html": "<div>\n<style scoped>\n    .dataframe tbody tr th:only-of-type {\n        vertical-align: middle;\n    }\n\n    .dataframe tbody tr th {\n        vertical-align: top;\n    }\n\n    .dataframe thead th {\n        text-align: right;\n    }\n</style>\n<table border=\"1\" class=\"dataframe\">\n  <thead>\n    <tr style=\"text-align: right;\">\n      <th></th>\n      <th>Diagnosis</th>\n      <th>PreBioPSA</th>\n      <th>PreviousPositiveBiopsy</th>\n      <th>Age</th>\n      <th>EthnicityLatino</th>\n      <th>Ethnicity</th>\n      <th>Employment</th>\n      <th>Education</th>\n      <th>SmokingEver</th>\n      <th>FamilyHistoryPrCa</th>\n      <th>...</th>\n      <th>X-25948</th>\n      <th>X-25957</th>\n      <th>X-26008</th>\n      <th>X-26054</th>\n      <th>X-26062</th>\n      <th>X-26097</th>\n      <th>X-26107</th>\n      <th>X-26109</th>\n      <th>X-26111</th>\n      <th>X-26119</th>\n    </tr>\n  </thead>\n  <tbody>\n    <tr>\n      <th>count</th>\n      <td>580.000000</td>\n      <td>576.000000</td>\n      <td>580.0</td>\n      <td>580.000000</td>\n      <td>580.000000</td>\n      <td>580.000000</td>\n      <td>580.000000</td>\n      <td>580.000000</td>\n      <td>580.000000</td>\n      <td>580.000000</td>\n      <td>...</td>\n      <td>580.000000</td>\n      <td>580.000000</td>\n      <td>580.000000</td>\n      <td>580.000000</td>\n      <td>580.000000</td>\n      <td>580.000000</td>\n      <td>580.000000</td>\n      <td>580.000000</td>\n      <td>580.000000</td>\n      <td>580.000000</td>\n    </tr>\n    <tr>\n      <th>mean</th>\n      <td>0.460345</td>\n      <td>6.813646</td>\n      <td>0.0</td>\n      <td>64.656897</td>\n      <td>0.058621</td>\n      <td>3.624138</td>\n      <td>3.081034</td>\n      <td>4.912069</td>\n      <td>0.494828</td>\n      <td>0.267241</td>\n      <td>...</td>\n      <td>17.823704</td>\n      <td>21.024914</td>\n      <td>18.816201</td>\n      <td>17.085630</td>\n      <td>18.073313</td>\n      <td>18.687156</td>\n      <td>19.967458</td>\n      <td>16.177219</td>\n      <td>19.919818</td>\n      <td>16.733838</td>\n    </tr>\n    <tr>\n      <th>std</th>\n      <td>0.498855</td>\n      <td>8.587811</td>\n      <td>0.0</td>\n      <td>8.615839</td>\n      <td>0.249375</td>\n      <td>8.210746</td>\n      <td>2.522846</td>\n      <td>1.401033</td>\n      <td>0.507261</td>\n      <td>0.454449</td>\n      <td>...</td>\n      <td>0.632803</td>\n      <td>0.434979</td>\n      <td>1.078822</td>\n      <td>0.583163</td>\n      <td>1.586642</td>\n      <td>0.399466</td>\n      <td>0.578993</td>\n      <td>0.962527</td>\n      <td>1.763196</td>\n      <td>0.647451</td>\n    </tr>\n    <tr>\n      <th>min</th>\n      <td>0.000000</td>\n      <td>0.260000</td>\n      <td>0.0</td>\n      <td>33.000000</td>\n      <td>0.000000</td>\n      <td>0.000000</td>\n      <td>0.000000</td>\n      <td>0.000000</td>\n      <td>0.000000</td>\n      <td>0.000000</td>\n      <td>...</td>\n      <td>16.231127</td>\n      <td>19.810562</td>\n      <td>15.241360</td>\n      <td>15.705137</td>\n      <td>15.876781</td>\n      <td>17.261185</td>\n      <td>18.148216</td>\n      <td>13.215355</td>\n      <td>15.415103</td>\n      <td>14.919162</td>\n    </tr>\n    <tr>\n      <th>25%</th>\n      <td>0.000000</td>\n      <td>3.797500</td>\n      <td>0.0</td>\n      <td>59.000000</td>\n      <td>0.000000</td>\n      <td>1.000000</td>\n      <td>1.000000</td>\n      <td>4.000000</td>\n      <td>0.000000</td>\n      <td>0.000000</td>\n      <td>...</td>\n      <td>17.467665</td>\n      <td>20.749175</td>\n      <td>18.188942</td>\n      <td>16.699573</td>\n      <td>17.162485</td>\n      <td>18.444661</td>\n      <td>19.617056</td>\n      <td>15.482880</td>\n      <td>18.883770</td>\n      <td>16.344822</td>\n    </tr>\n    <tr>\n      <th>50%</th>\n      <td>0.000000</td>\n      <td>5.085000</td>\n      <td>0.0</td>\n      <td>65.000000</td>\n      <td>0.000000</td>\n      <td>1.000000</td>\n      <td>1.000000</td>\n      <td>5.000000</td>\n      <td>0.000000</td>\n      <td>0.000000</td>\n      <td>...</td>\n      <td>17.741580</td>\n      <td>21.015685</td>\n      <td>18.718996</td>\n      <td>17.029602</td>\n      <td>17.472598</td>\n      <td>18.673609</td>\n      <td>19.987181</td>\n      <td>16.166960</td>\n      <td>20.071686</td>\n      <td>16.676137</td>\n    </tr>\n    <tr>\n      <th>75%</th>\n      <td>1.000000</td>\n      <td>7.200000</td>\n      <td>0.0</td>\n      <td>70.000000</td>\n      <td>0.000000</td>\n      <td>1.000000</td>\n      <td>6.000000</td>\n      <td>6.000000</td>\n      <td>1.000000</td>\n      <td>1.000000</td>\n      <td>...</td>\n      <td>18.093447</td>\n      <td>21.263365</td>\n      <td>19.330017</td>\n      <td>17.419523</td>\n      <td>18.409770</td>\n      <td>18.906863</td>\n      <td>20.360499</td>\n      <td>16.892829</td>\n      <td>21.162857</td>\n      <td>17.037447</td>\n    </tr>\n    <tr>\n      <th>max</th>\n      <td>1.000000</td>\n      <td>144.400000</td>\n      <td>0.0</td>\n      <td>85.000000</td>\n      <td>2.000000</td>\n      <td>32.000000</td>\n      <td>10.000000</td>\n      <td>6.000000</td>\n      <td>2.000000</td>\n      <td>2.000000</td>\n      <td>...</td>\n      <td>22.569396</td>\n      <td>23.766016</td>\n      <td>24.646175</td>\n      <td>19.886690</td>\n      <td>25.833702</td>\n      <td>20.890860</td>\n      <td>21.441073</td>\n      <td>19.305017</td>\n      <td>26.487071</td>\n      <td>20.912917</td>\n    </tr>\n  </tbody>\n</table>\n<p>8 rows × 1221 columns</p>\n</div>"
     },
     "execution_count": 23,
     "metadata": {},
     "output_type": "execute_result"
    }
   ],
   "source": [
    "import pandas as pd\n",
    "from matplotlib import pyplot as plt\n",
    "import seaborn as sns\n",
    "\n",
    "output_directory = '/home/marco/DataspellProjects/thesis/output/visualization/'\n",
    "\n",
    "palette = sns.color_palette([\"#2176AB\", \"#F97662\", \"#FFBF00\", \"#50C878\", \"#B284BE\"])\n",
    "sns.set_palette(palette)\n",
    "\n",
    "data = pd.read_csv('../../data/ST002498.csv')\n",
    "data.describe()"
   ]
  },
  {
   "cell_type": "markdown",
   "id": "2f97bdd689770daf",
   "metadata": {},
   "source": [
    "Data preprocessing and cleaning"
   ]
  },
  {
   "cell_type": "code",
   "execution_count": 24,
   "id": "4eb62e3184c19481",
   "metadata": {
    "ExecuteTime": {
     "end_time": "2024-01-26T10:49:50.501896580Z",
     "start_time": "2024-01-26T10:49:50.477249110Z"
    }
   },
   "outputs": [],
   "source": [
    "df = data.iloc[:, 53:]\n",
    "\n",
    "#df.fillna(df.mean(numeric_only=True), inplace=True)\n",
    "# Diagnosis, PreBioPSA, Age, Height, Weight\n",
    "df[['Diagnosis', 'PreBioPSA', 'Age', 'Height', 'Weight']] = data[['Diagnosis', 'PreBioPSA', 'Age', 'Height', 'Weight']]\n"
   ]
  },
  {
   "cell_type": "markdown",
   "id": "9cd29bb98b20a10b",
   "metadata": {},
   "source": [
    "Removing the outliers"
   ]
  },
  {
   "cell_type": "code",
   "execution_count": 25,
   "id": "d8a04340445912f7",
   "metadata": {
    "ExecuteTime": {
     "end_time": "2024-01-26T10:49:51.168131565Z",
     "start_time": "2024-01-26T10:49:50.477343221Z"
    }
   },
   "outputs": [
    {
     "data": {
      "text/plain": "       S-1-pyrroline-5-carboxylate  spermidine  1-methylnicotinamide  \\\ncount                   579.000000  573.000000            565.000000   \nmean                     21.960866   17.337363             21.417510   \nstd                       0.559152    0.602064              0.812934   \nmin                      20.304647   15.875439             18.591819   \n25%                      21.601388   16.936906             20.916653   \n50%                      21.982363   17.319198             21.346724   \n75%                      22.348177   17.699448             21.881868   \nmax                      23.539326   19.501774             24.626477   \n\n       12,13-DiHOME  alpha-ketoglutarate  kynurenate  3-hydroxyisobutyrate  \\\ncount    580.000000           572.000000  574.000000            576.000000   \nmean      17.422989            25.572525   19.043051             23.810031   \nstd        0.948048             0.354497    0.463555              0.625100   \nmin       14.581478            24.497401   17.503128             22.095755   \n25%       16.759328            25.340193   18.734069             23.413501   \n50%       17.444008            25.551069   19.019633             23.778557   \n75%       18.060287            25.787957   19.327643             24.197214   \nmax       19.914789            26.705131   20.532589             25.726723   \n\n       3-hydroxy-3-methylglutarate  3-phosphoglycerate     cholate  ...  \\\ncount                   571.000000          566.000000  569.000000  ...   \nmean                     22.480419           18.268052   18.852778  ...   \nstd                       0.531326            0.630856    0.772220  ...   \nmin                      20.765396           16.541024   16.588852  ...   \n25%                      22.107280           17.860183   18.398243  ...   \n50%                      22.455937           18.245002   18.798772  ...   \n75%                      22.826906           18.637143   19.204087  ...   \nmax                      24.255462           20.366235   21.867483  ...   \n\n          X-26097     X-26107     X-26109     X-26111     X-26119   Diagnosis  \\\ncount  573.000000  579.000000  577.000000  578.000000  575.000000  580.000000   \nmean    18.677283   19.970600   16.171797   19.897895   16.709304    0.460345   \nstd      0.359922    0.574523    0.940107    1.726221    0.589863    0.498855   \nmin     17.525109   18.340270   13.977715   15.415103   14.919162    0.000000   \n25%     18.444745   19.617787   15.483067   18.881310   16.342405    0.000000   \n50%     18.671609   19.987353   16.165825   20.067143   16.672187    0.000000   \n75%     18.892136   20.360604   16.880446   21.144337   17.032307    1.000000   \nmax     19.879772   21.441073   18.606804   25.140198   18.601600    1.000000   \n\n        PreBioPSA         Age      Height      Weight  \ncount  568.000000  579.000000  572.000000  570.000000  \nmean     6.054313   64.711572   69.374126  184.139298  \nstd      4.165314    8.521988    2.861801   28.186141  \nmin      0.260000   39.000000   61.000000  112.000000  \n25%      3.790000   59.000000   67.000000  165.000000  \n50%      5.000000   65.000000   69.000000  180.000000  \n75%      7.120000   70.000000   71.000000  200.000000  \nmax     30.500000   85.000000   78.000000  270.000000  \n\n[8 rows x 1174 columns]",
      "text/html": "<div>\n<style scoped>\n    .dataframe tbody tr th:only-of-type {\n        vertical-align: middle;\n    }\n\n    .dataframe tbody tr th {\n        vertical-align: top;\n    }\n\n    .dataframe thead th {\n        text-align: right;\n    }\n</style>\n<table border=\"1\" class=\"dataframe\">\n  <thead>\n    <tr style=\"text-align: right;\">\n      <th></th>\n      <th>S-1-pyrroline-5-carboxylate</th>\n      <th>spermidine</th>\n      <th>1-methylnicotinamide</th>\n      <th>12,13-DiHOME</th>\n      <th>alpha-ketoglutarate</th>\n      <th>kynurenate</th>\n      <th>3-hydroxyisobutyrate</th>\n      <th>3-hydroxy-3-methylglutarate</th>\n      <th>3-phosphoglycerate</th>\n      <th>cholate</th>\n      <th>...</th>\n      <th>X-26097</th>\n      <th>X-26107</th>\n      <th>X-26109</th>\n      <th>X-26111</th>\n      <th>X-26119</th>\n      <th>Diagnosis</th>\n      <th>PreBioPSA</th>\n      <th>Age</th>\n      <th>Height</th>\n      <th>Weight</th>\n    </tr>\n  </thead>\n  <tbody>\n    <tr>\n      <th>count</th>\n      <td>579.000000</td>\n      <td>573.000000</td>\n      <td>565.000000</td>\n      <td>580.000000</td>\n      <td>572.000000</td>\n      <td>574.000000</td>\n      <td>576.000000</td>\n      <td>571.000000</td>\n      <td>566.000000</td>\n      <td>569.000000</td>\n      <td>...</td>\n      <td>573.000000</td>\n      <td>579.000000</td>\n      <td>577.000000</td>\n      <td>578.000000</td>\n      <td>575.000000</td>\n      <td>580.000000</td>\n      <td>568.000000</td>\n      <td>579.000000</td>\n      <td>572.000000</td>\n      <td>570.000000</td>\n    </tr>\n    <tr>\n      <th>mean</th>\n      <td>21.960866</td>\n      <td>17.337363</td>\n      <td>21.417510</td>\n      <td>17.422989</td>\n      <td>25.572525</td>\n      <td>19.043051</td>\n      <td>23.810031</td>\n      <td>22.480419</td>\n      <td>18.268052</td>\n      <td>18.852778</td>\n      <td>...</td>\n      <td>18.677283</td>\n      <td>19.970600</td>\n      <td>16.171797</td>\n      <td>19.897895</td>\n      <td>16.709304</td>\n      <td>0.460345</td>\n      <td>6.054313</td>\n      <td>64.711572</td>\n      <td>69.374126</td>\n      <td>184.139298</td>\n    </tr>\n    <tr>\n      <th>std</th>\n      <td>0.559152</td>\n      <td>0.602064</td>\n      <td>0.812934</td>\n      <td>0.948048</td>\n      <td>0.354497</td>\n      <td>0.463555</td>\n      <td>0.625100</td>\n      <td>0.531326</td>\n      <td>0.630856</td>\n      <td>0.772220</td>\n      <td>...</td>\n      <td>0.359922</td>\n      <td>0.574523</td>\n      <td>0.940107</td>\n      <td>1.726221</td>\n      <td>0.589863</td>\n      <td>0.498855</td>\n      <td>4.165314</td>\n      <td>8.521988</td>\n      <td>2.861801</td>\n      <td>28.186141</td>\n    </tr>\n    <tr>\n      <th>min</th>\n      <td>20.304647</td>\n      <td>15.875439</td>\n      <td>18.591819</td>\n      <td>14.581478</td>\n      <td>24.497401</td>\n      <td>17.503128</td>\n      <td>22.095755</td>\n      <td>20.765396</td>\n      <td>16.541024</td>\n      <td>16.588852</td>\n      <td>...</td>\n      <td>17.525109</td>\n      <td>18.340270</td>\n      <td>13.977715</td>\n      <td>15.415103</td>\n      <td>14.919162</td>\n      <td>0.000000</td>\n      <td>0.260000</td>\n      <td>39.000000</td>\n      <td>61.000000</td>\n      <td>112.000000</td>\n    </tr>\n    <tr>\n      <th>25%</th>\n      <td>21.601388</td>\n      <td>16.936906</td>\n      <td>20.916653</td>\n      <td>16.759328</td>\n      <td>25.340193</td>\n      <td>18.734069</td>\n      <td>23.413501</td>\n      <td>22.107280</td>\n      <td>17.860183</td>\n      <td>18.398243</td>\n      <td>...</td>\n      <td>18.444745</td>\n      <td>19.617787</td>\n      <td>15.483067</td>\n      <td>18.881310</td>\n      <td>16.342405</td>\n      <td>0.000000</td>\n      <td>3.790000</td>\n      <td>59.000000</td>\n      <td>67.000000</td>\n      <td>165.000000</td>\n    </tr>\n    <tr>\n      <th>50%</th>\n      <td>21.982363</td>\n      <td>17.319198</td>\n      <td>21.346724</td>\n      <td>17.444008</td>\n      <td>25.551069</td>\n      <td>19.019633</td>\n      <td>23.778557</td>\n      <td>22.455937</td>\n      <td>18.245002</td>\n      <td>18.798772</td>\n      <td>...</td>\n      <td>18.671609</td>\n      <td>19.987353</td>\n      <td>16.165825</td>\n      <td>20.067143</td>\n      <td>16.672187</td>\n      <td>0.000000</td>\n      <td>5.000000</td>\n      <td>65.000000</td>\n      <td>69.000000</td>\n      <td>180.000000</td>\n    </tr>\n    <tr>\n      <th>75%</th>\n      <td>22.348177</td>\n      <td>17.699448</td>\n      <td>21.881868</td>\n      <td>18.060287</td>\n      <td>25.787957</td>\n      <td>19.327643</td>\n      <td>24.197214</td>\n      <td>22.826906</td>\n      <td>18.637143</td>\n      <td>19.204087</td>\n      <td>...</td>\n      <td>18.892136</td>\n      <td>20.360604</td>\n      <td>16.880446</td>\n      <td>21.144337</td>\n      <td>17.032307</td>\n      <td>1.000000</td>\n      <td>7.120000</td>\n      <td>70.000000</td>\n      <td>71.000000</td>\n      <td>200.000000</td>\n    </tr>\n    <tr>\n      <th>max</th>\n      <td>23.539326</td>\n      <td>19.501774</td>\n      <td>24.626477</td>\n      <td>19.914789</td>\n      <td>26.705131</td>\n      <td>20.532589</td>\n      <td>25.726723</td>\n      <td>24.255462</td>\n      <td>20.366235</td>\n      <td>21.867483</td>\n      <td>...</td>\n      <td>19.879772</td>\n      <td>21.441073</td>\n      <td>18.606804</td>\n      <td>25.140198</td>\n      <td>18.601600</td>\n      <td>1.000000</td>\n      <td>30.500000</td>\n      <td>85.000000</td>\n      <td>78.000000</td>\n      <td>270.000000</td>\n    </tr>\n  </tbody>\n</table>\n<p>8 rows × 1174 columns</p>\n</div>"
     },
     "execution_count": 25,
     "metadata": {},
     "output_type": "execute_result"
    }
   ],
   "source": [
    "import numpy as np\n",
    "\n",
    "#removing the outliers\n",
    "mean = df.mean()\n",
    "std = df.std()\n",
    "\n",
    "std_deviation_threshold = 3\n",
    "\n",
    "lower_limit = mean - std_deviation_threshold * std\n",
    "upper_limit = mean + std_deviation_threshold * std\n",
    "\n",
    "df_no_outliers = df[(df > lower_limit) & (df < upper_limit)]\n",
    "df_no_outliers['Diagnosis'] = df['Diagnosis']\n",
    "df_no_outliers.describe()"
   ]
  },
  {
   "cell_type": "markdown",
   "id": "9bab7e20440fba57",
   "metadata": {},
   "source": [
    "Normalizing the data using min-max normalization"
   ]
  },
  {
   "cell_type": "code",
   "execution_count": 26,
   "id": "74426ddd66b4e5c9",
   "metadata": {
    "ExecuteTime": {
     "end_time": "2024-01-26T10:49:51.178662979Z",
     "start_time": "2024-01-26T10:49:51.170680439Z"
    }
   },
   "outputs": [],
   "source": [
    "from sklearn import preprocessing\n",
    "\n",
    "min_max_scaler = preprocessing.MinMaxScaler()\n",
    "unit_df = pd.DataFrame(min_max_scaler.fit_transform(df_no_outliers), columns=df_no_outliers.columns)"
   ]
  },
  {
   "cell_type": "markdown",
   "id": "5f455bf9e7b358f5",
   "metadata": {},
   "source": [
    "Log transforming the data to reduce the skewness"
   ]
  },
  {
   "cell_type": "code",
   "execution_count": 27,
   "id": "efad95cdb2c9cf98",
   "metadata": {
    "ExecuteTime": {
     "end_time": "2024-01-26T10:49:51.992755160Z",
     "start_time": "2024-01-26T10:49:51.179273740Z"
    }
   },
   "outputs": [
    {
     "data": {
      "text/plain": "       S-1-pyrroline-5-carboxylate  spermidine  1-methylnicotinamide  \\\ncount                   579.000000  573.000000            565.000000   \nmean                      0.512020    0.403141              0.468244   \nstd                       0.172862    0.166026              0.134711   \nmin                       0.000000    0.000000              0.000000   \n25%                       0.400887    0.292711              0.385247   \n50%                       0.518665    0.398132              0.456514   \n75%                       0.631757    0.502990              0.545192   \nmax                       1.000000    1.000000              1.000000   \n\n       12,13-DiHOME  alpha-ketoglutarate  kynurenate  3-hydroxyisobutyrate  \\\ncount    580.000000           572.000000  574.000000            576.000000   \nmean       0.532785             0.486982    0.508316              0.472127   \nstd        0.177760             0.160571    0.153016              0.172158   \nmin        0.000000             0.000000    0.000000              0.000000   \n25%        0.408348             0.381746    0.406324              0.362919   \n50%        0.536727             0.477263    0.500586              0.463458   \n75%        0.652279             0.584563    0.602257              0.578760   \nmax        1.000000             1.000000    1.000000              1.000000   \n\n       3-hydroxy-3-methylglutarate  3-phosphoglycerate     cholate  ...  \\\ncount                   571.000000          566.000000  569.000000  ...   \nmean                      0.491401            0.451486    0.428885  ...   \nstd                       0.152240            0.164920    0.146292  ...   \nmin                       0.000000            0.000000    0.000000  ...   \n25%                       0.384487            0.344859    0.342776  ...   \n50%                       0.484386            0.445460    0.418654  ...   \n75%                       0.590679            0.547975    0.495438  ...   \nmax                       1.000000            1.000000    1.000000  ...   \n\n          X-26097     X-26107     X-26109     X-26111     X-26119   Diagnosis  \\\ncount  573.000000  579.000000  577.000000  578.000000  575.000000  580.000000   \nmean     0.489316    0.525777    0.473977    0.460951    0.486129    0.460345   \nstd      0.152855    0.185282    0.203087    0.177502    0.160183    0.498855   \nmin      0.000000    0.000000    0.000000    0.000000    0.000000    0.000000   \n25%      0.390559    0.411996    0.325194    0.356419    0.386495    0.000000   \n50%      0.486906    0.531180    0.472687    0.478354    0.476050    0.000000   \n75%      0.580562    0.651552    0.627063    0.589119    0.573844    1.000000   \nmax      1.000000    1.000000    1.000000    1.000000    1.000000    1.000000   \n\n        PreBioPSA         Age      Height      Weight  \ncount  568.000000  579.000000  572.000000  570.000000  \nmean     0.169534    0.558947    0.492596    0.456578  \nstd      0.104014    0.185261    0.168341    0.178393  \nmin      0.000000    0.000000    0.000000    0.000000  \n25%      0.110407    0.434783    0.352941    0.335443  \n50%      0.145611    0.565217    0.470588    0.430380  \n75%      0.204451    0.673913    0.588235    0.556962  \nmax      0.693147    1.000000    1.000000    1.000000  \n\n[8 rows x 1174 columns]",
      "text/html": "<div>\n<style scoped>\n    .dataframe tbody tr th:only-of-type {\n        vertical-align: middle;\n    }\n\n    .dataframe tbody tr th {\n        vertical-align: top;\n    }\n\n    .dataframe thead th {\n        text-align: right;\n    }\n</style>\n<table border=\"1\" class=\"dataframe\">\n  <thead>\n    <tr style=\"text-align: right;\">\n      <th></th>\n      <th>S-1-pyrroline-5-carboxylate</th>\n      <th>spermidine</th>\n      <th>1-methylnicotinamide</th>\n      <th>12,13-DiHOME</th>\n      <th>alpha-ketoglutarate</th>\n      <th>kynurenate</th>\n      <th>3-hydroxyisobutyrate</th>\n      <th>3-hydroxy-3-methylglutarate</th>\n      <th>3-phosphoglycerate</th>\n      <th>cholate</th>\n      <th>...</th>\n      <th>X-26097</th>\n      <th>X-26107</th>\n      <th>X-26109</th>\n      <th>X-26111</th>\n      <th>X-26119</th>\n      <th>Diagnosis</th>\n      <th>PreBioPSA</th>\n      <th>Age</th>\n      <th>Height</th>\n      <th>Weight</th>\n    </tr>\n  </thead>\n  <tbody>\n    <tr>\n      <th>count</th>\n      <td>579.000000</td>\n      <td>573.000000</td>\n      <td>565.000000</td>\n      <td>580.000000</td>\n      <td>572.000000</td>\n      <td>574.000000</td>\n      <td>576.000000</td>\n      <td>571.000000</td>\n      <td>566.000000</td>\n      <td>569.000000</td>\n      <td>...</td>\n      <td>573.000000</td>\n      <td>579.000000</td>\n      <td>577.000000</td>\n      <td>578.000000</td>\n      <td>575.000000</td>\n      <td>580.000000</td>\n      <td>568.000000</td>\n      <td>579.000000</td>\n      <td>572.000000</td>\n      <td>570.000000</td>\n    </tr>\n    <tr>\n      <th>mean</th>\n      <td>0.512020</td>\n      <td>0.403141</td>\n      <td>0.468244</td>\n      <td>0.532785</td>\n      <td>0.486982</td>\n      <td>0.508316</td>\n      <td>0.472127</td>\n      <td>0.491401</td>\n      <td>0.451486</td>\n      <td>0.428885</td>\n      <td>...</td>\n      <td>0.489316</td>\n      <td>0.525777</td>\n      <td>0.473977</td>\n      <td>0.460951</td>\n      <td>0.486129</td>\n      <td>0.460345</td>\n      <td>0.169534</td>\n      <td>0.558947</td>\n      <td>0.492596</td>\n      <td>0.456578</td>\n    </tr>\n    <tr>\n      <th>std</th>\n      <td>0.172862</td>\n      <td>0.166026</td>\n      <td>0.134711</td>\n      <td>0.177760</td>\n      <td>0.160571</td>\n      <td>0.153016</td>\n      <td>0.172158</td>\n      <td>0.152240</td>\n      <td>0.164920</td>\n      <td>0.146292</td>\n      <td>...</td>\n      <td>0.152855</td>\n      <td>0.185282</td>\n      <td>0.203087</td>\n      <td>0.177502</td>\n      <td>0.160183</td>\n      <td>0.498855</td>\n      <td>0.104014</td>\n      <td>0.185261</td>\n      <td>0.168341</td>\n      <td>0.178393</td>\n    </tr>\n    <tr>\n      <th>min</th>\n      <td>0.000000</td>\n      <td>0.000000</td>\n      <td>0.000000</td>\n      <td>0.000000</td>\n      <td>0.000000</td>\n      <td>0.000000</td>\n      <td>0.000000</td>\n      <td>0.000000</td>\n      <td>0.000000</td>\n      <td>0.000000</td>\n      <td>...</td>\n      <td>0.000000</td>\n      <td>0.000000</td>\n      <td>0.000000</td>\n      <td>0.000000</td>\n      <td>0.000000</td>\n      <td>0.000000</td>\n      <td>0.000000</td>\n      <td>0.000000</td>\n      <td>0.000000</td>\n      <td>0.000000</td>\n    </tr>\n    <tr>\n      <th>25%</th>\n      <td>0.400887</td>\n      <td>0.292711</td>\n      <td>0.385247</td>\n      <td>0.408348</td>\n      <td>0.381746</td>\n      <td>0.406324</td>\n      <td>0.362919</td>\n      <td>0.384487</td>\n      <td>0.344859</td>\n      <td>0.342776</td>\n      <td>...</td>\n      <td>0.390559</td>\n      <td>0.411996</td>\n      <td>0.325194</td>\n      <td>0.356419</td>\n      <td>0.386495</td>\n      <td>0.000000</td>\n      <td>0.110407</td>\n      <td>0.434783</td>\n      <td>0.352941</td>\n      <td>0.335443</td>\n    </tr>\n    <tr>\n      <th>50%</th>\n      <td>0.518665</td>\n      <td>0.398132</td>\n      <td>0.456514</td>\n      <td>0.536727</td>\n      <td>0.477263</td>\n      <td>0.500586</td>\n      <td>0.463458</td>\n      <td>0.484386</td>\n      <td>0.445460</td>\n      <td>0.418654</td>\n      <td>...</td>\n      <td>0.486906</td>\n      <td>0.531180</td>\n      <td>0.472687</td>\n      <td>0.478354</td>\n      <td>0.476050</td>\n      <td>0.000000</td>\n      <td>0.145611</td>\n      <td>0.565217</td>\n      <td>0.470588</td>\n      <td>0.430380</td>\n    </tr>\n    <tr>\n      <th>75%</th>\n      <td>0.631757</td>\n      <td>0.502990</td>\n      <td>0.545192</td>\n      <td>0.652279</td>\n      <td>0.584563</td>\n      <td>0.602257</td>\n      <td>0.578760</td>\n      <td>0.590679</td>\n      <td>0.547975</td>\n      <td>0.495438</td>\n      <td>...</td>\n      <td>0.580562</td>\n      <td>0.651552</td>\n      <td>0.627063</td>\n      <td>0.589119</td>\n      <td>0.573844</td>\n      <td>1.000000</td>\n      <td>0.204451</td>\n      <td>0.673913</td>\n      <td>0.588235</td>\n      <td>0.556962</td>\n    </tr>\n    <tr>\n      <th>max</th>\n      <td>1.000000</td>\n      <td>1.000000</td>\n      <td>1.000000</td>\n      <td>1.000000</td>\n      <td>1.000000</td>\n      <td>1.000000</td>\n      <td>1.000000</td>\n      <td>1.000000</td>\n      <td>1.000000</td>\n      <td>1.000000</td>\n      <td>...</td>\n      <td>1.000000</td>\n      <td>1.000000</td>\n      <td>1.000000</td>\n      <td>1.000000</td>\n      <td>1.000000</td>\n      <td>1.000000</td>\n      <td>0.693147</td>\n      <td>1.000000</td>\n      <td>1.000000</td>\n      <td>1.000000</td>\n    </tr>\n  </tbody>\n</table>\n<p>8 rows × 1174 columns</p>\n</div>"
     },
     "execution_count": 27,
     "metadata": {},
     "output_type": "execute_result"
    }
   ],
   "source": [
    "\n",
    "#calculating the skewness of the data\n",
    "skewness = unit_df.skew()\n",
    "\n",
    "#log transforming the data to reduce the skewness\n",
    "for column in unit_df.columns:\n",
    "    if skewness[column] > 0.75:\n",
    "        unit_df[column] = np.log1p(unit_df[column])\n",
    "      \n",
    "unit_df.describe()  "
   ]
  },
  {
   "cell_type": "markdown",
   "id": "1345621ce74f0072",
   "metadata": {},
   "source": [
    "Standardizing the data"
   ]
  },
  {
   "cell_type": "code",
   "execution_count": 28,
   "id": "affc567791bc52d6",
   "metadata": {
    "ExecuteTime": {
     "end_time": "2024-01-26T10:49:52.705044553Z",
     "start_time": "2024-01-26T10:49:51.997165244Z"
    }
   },
   "outputs": [
    {
     "data": {
      "text/plain": "       S-1-pyrroline-5-carboxylate    spermidine  1-methylnicotinamide  \\\ncount                 5.790000e+02  5.730000e+02          5.650000e+02   \nmean                  3.209101e-15 -1.929812e-16         -2.394152e-15   \nstd                   1.000865e+00  1.000874e+00          1.000886e+00   \nmin                  -2.964579e+00 -2.430308e+00         -3.478997e+00   \n25%                  -6.434554e-01 -6.657211e-01         -6.166567e-01   \n50%                   3.847882e-02 -3.019785e-02         -8.715230e-02   \n75%                   6.932733e-01  6.019306e-01          5.717183e-01   \nmax                   2.825393e+00  3.598124e+00          3.950886e+00   \n\n       12,13-DiHOME  alpha-ketoglutarate    kynurenate  3-hydroxyisobutyrate  \\\ncount  5.800000e+02         5.720000e+02  5.740000e+02          5.760000e+02   \nmean   2.756416e-17        -2.347772e-15  4.963896e-15          4.393091e-15   \nstd    1.000863e+00         1.000875e+00  1.000872e+00          1.000869e+00   \nmin   -2.999808e+00        -3.035467e+00 -3.324883e+00         -2.744784e+00   \n25%   -7.006331e-01        -6.559560e-01 -6.671291e-01         -6.348975e-01   \n50%    2.219061e-02        -6.057815e-02 -5.056119e-02         -5.039457e-02   \n75%    6.728012e-01         6.082438e-01  6.144697e-01          6.199308e-01   \nmax    2.630616e+00         3.197760e+00  3.216096e+00          3.068878e+00   \n\n       3-hydroxy-3-methylglutarate  3-phosphoglycerate       cholate  ...  \\\ncount                 5.710000e+02        5.660000e+02  5.690000e+02  ...   \nmean                  1.331490e-15       -2.168662e-15 -5.744282e-16  ...   \nstd                   1.000877e+00        1.000885e+00  1.000880e+00  ...   \nmin                  -3.230645e+00       -2.740018e+00 -2.934289e+00  ...   \n25%                  -7.028946e-01       -6.471058e-01 -5.891258e-01  ...   \n50%                  -4.611777e-02       -3.656965e-02 -6.999733e-02  ...   \n75%                   6.526895e-01        5.855807e-01  4.553350e-01  ...   \nmax                   3.343708e+00        3.328875e+00  3.907381e+00  ...   \n\n            X-26097       X-26107       X-26109       X-26111       X-26119  \\\ncount  5.730000e+02  5.790000e+02  5.770000e+02  5.780000e+02  5.750000e+02   \nmean   8.556274e-16 -5.307595e-15  2.860027e-15  2.006853e-15 -4.042370e-15   \nstd    1.000874e+00  1.000865e+00  1.000868e+00  1.000866e+00  1.000871e+00   \nmin   -3.203974e+00 -2.840164e+00 -2.335889e+00 -2.599131e+00 -3.037485e+00   \n25%   -6.466444e-01 -6.146273e-01 -7.332439e-01 -5.894182e-01 -6.225483e-01   \n50%   -1.577775e-02  2.918602e-02 -6.358066e-03  9.813003e-02 -6.297828e-02   \n75%    5.974650e-01  6.794186e-01  7.544499e-01  7.226890e-01  5.480672e-01   \nmax    3.343892e+00  2.561682e+00  2.592385e+00  3.039497e+00  3.210821e+00   \n\n          PreBioPSA           Age        Height        Weight   Diagnosis  \ncount  5.680000e+02  5.790000e+02  5.720000e+02  5.700000e+02  580.000000  \nmean  -2.236083e-16  7.915372e-16 -2.194049e-15  7.292412e-16    0.460345  \nstd    1.000881e+00  1.000865e+00  1.000875e+00  1.000878e+00    0.498855  \nmin   -1.392313e+00 -3.019695e+00 -2.928734e+00 -2.561637e+00    0.000000  \n25%   -5.440908e-01 -6.707954e-01 -8.303175e-01 -6.796287e-01    0.000000  \n50%   -2.533405e-01  3.387446e-02 -1.308453e-01 -1.469848e-01    0.000000  \n75%    2.560733e-01  6.210993e-01  5.686269e-01  5.632070e-01    1.000000  \nmax    5.874043e+00  2.382774e+00  3.016780e+00  3.048878e+00    1.000000  \n\n[8 rows x 1174 columns]",
      "text/html": "<div>\n<style scoped>\n    .dataframe tbody tr th:only-of-type {\n        vertical-align: middle;\n    }\n\n    .dataframe tbody tr th {\n        vertical-align: top;\n    }\n\n    .dataframe thead th {\n        text-align: right;\n    }\n</style>\n<table border=\"1\" class=\"dataframe\">\n  <thead>\n    <tr style=\"text-align: right;\">\n      <th></th>\n      <th>S-1-pyrroline-5-carboxylate</th>\n      <th>spermidine</th>\n      <th>1-methylnicotinamide</th>\n      <th>12,13-DiHOME</th>\n      <th>alpha-ketoglutarate</th>\n      <th>kynurenate</th>\n      <th>3-hydroxyisobutyrate</th>\n      <th>3-hydroxy-3-methylglutarate</th>\n      <th>3-phosphoglycerate</th>\n      <th>cholate</th>\n      <th>...</th>\n      <th>X-26097</th>\n      <th>X-26107</th>\n      <th>X-26109</th>\n      <th>X-26111</th>\n      <th>X-26119</th>\n      <th>PreBioPSA</th>\n      <th>Age</th>\n      <th>Height</th>\n      <th>Weight</th>\n      <th>Diagnosis</th>\n    </tr>\n  </thead>\n  <tbody>\n    <tr>\n      <th>count</th>\n      <td>5.790000e+02</td>\n      <td>5.730000e+02</td>\n      <td>5.650000e+02</td>\n      <td>5.800000e+02</td>\n      <td>5.720000e+02</td>\n      <td>5.740000e+02</td>\n      <td>5.760000e+02</td>\n      <td>5.710000e+02</td>\n      <td>5.660000e+02</td>\n      <td>5.690000e+02</td>\n      <td>...</td>\n      <td>5.730000e+02</td>\n      <td>5.790000e+02</td>\n      <td>5.770000e+02</td>\n      <td>5.780000e+02</td>\n      <td>5.750000e+02</td>\n      <td>5.680000e+02</td>\n      <td>5.790000e+02</td>\n      <td>5.720000e+02</td>\n      <td>5.700000e+02</td>\n      <td>580.000000</td>\n    </tr>\n    <tr>\n      <th>mean</th>\n      <td>3.209101e-15</td>\n      <td>-1.929812e-16</td>\n      <td>-2.394152e-15</td>\n      <td>2.756416e-17</td>\n      <td>-2.347772e-15</td>\n      <td>4.963896e-15</td>\n      <td>4.393091e-15</td>\n      <td>1.331490e-15</td>\n      <td>-2.168662e-15</td>\n      <td>-5.744282e-16</td>\n      <td>...</td>\n      <td>8.556274e-16</td>\n      <td>-5.307595e-15</td>\n      <td>2.860027e-15</td>\n      <td>2.006853e-15</td>\n      <td>-4.042370e-15</td>\n      <td>-2.236083e-16</td>\n      <td>7.915372e-16</td>\n      <td>-2.194049e-15</td>\n      <td>7.292412e-16</td>\n      <td>0.460345</td>\n    </tr>\n    <tr>\n      <th>std</th>\n      <td>1.000865e+00</td>\n      <td>1.000874e+00</td>\n      <td>1.000886e+00</td>\n      <td>1.000863e+00</td>\n      <td>1.000875e+00</td>\n      <td>1.000872e+00</td>\n      <td>1.000869e+00</td>\n      <td>1.000877e+00</td>\n      <td>1.000885e+00</td>\n      <td>1.000880e+00</td>\n      <td>...</td>\n      <td>1.000874e+00</td>\n      <td>1.000865e+00</td>\n      <td>1.000868e+00</td>\n      <td>1.000866e+00</td>\n      <td>1.000871e+00</td>\n      <td>1.000881e+00</td>\n      <td>1.000865e+00</td>\n      <td>1.000875e+00</td>\n      <td>1.000878e+00</td>\n      <td>0.498855</td>\n    </tr>\n    <tr>\n      <th>min</th>\n      <td>-2.964579e+00</td>\n      <td>-2.430308e+00</td>\n      <td>-3.478997e+00</td>\n      <td>-2.999808e+00</td>\n      <td>-3.035467e+00</td>\n      <td>-3.324883e+00</td>\n      <td>-2.744784e+00</td>\n      <td>-3.230645e+00</td>\n      <td>-2.740018e+00</td>\n      <td>-2.934289e+00</td>\n      <td>...</td>\n      <td>-3.203974e+00</td>\n      <td>-2.840164e+00</td>\n      <td>-2.335889e+00</td>\n      <td>-2.599131e+00</td>\n      <td>-3.037485e+00</td>\n      <td>-1.392313e+00</td>\n      <td>-3.019695e+00</td>\n      <td>-2.928734e+00</td>\n      <td>-2.561637e+00</td>\n      <td>0.000000</td>\n    </tr>\n    <tr>\n      <th>25%</th>\n      <td>-6.434554e-01</td>\n      <td>-6.657211e-01</td>\n      <td>-6.166567e-01</td>\n      <td>-7.006331e-01</td>\n      <td>-6.559560e-01</td>\n      <td>-6.671291e-01</td>\n      <td>-6.348975e-01</td>\n      <td>-7.028946e-01</td>\n      <td>-6.471058e-01</td>\n      <td>-5.891258e-01</td>\n      <td>...</td>\n      <td>-6.466444e-01</td>\n      <td>-6.146273e-01</td>\n      <td>-7.332439e-01</td>\n      <td>-5.894182e-01</td>\n      <td>-6.225483e-01</td>\n      <td>-5.440908e-01</td>\n      <td>-6.707954e-01</td>\n      <td>-8.303175e-01</td>\n      <td>-6.796287e-01</td>\n      <td>0.000000</td>\n    </tr>\n    <tr>\n      <th>50%</th>\n      <td>3.847882e-02</td>\n      <td>-3.019785e-02</td>\n      <td>-8.715230e-02</td>\n      <td>2.219061e-02</td>\n      <td>-6.057815e-02</td>\n      <td>-5.056119e-02</td>\n      <td>-5.039457e-02</td>\n      <td>-4.611777e-02</td>\n      <td>-3.656965e-02</td>\n      <td>-6.999733e-02</td>\n      <td>...</td>\n      <td>-1.577775e-02</td>\n      <td>2.918602e-02</td>\n      <td>-6.358066e-03</td>\n      <td>9.813003e-02</td>\n      <td>-6.297828e-02</td>\n      <td>-2.533405e-01</td>\n      <td>3.387446e-02</td>\n      <td>-1.308453e-01</td>\n      <td>-1.469848e-01</td>\n      <td>0.000000</td>\n    </tr>\n    <tr>\n      <th>75%</th>\n      <td>6.932733e-01</td>\n      <td>6.019306e-01</td>\n      <td>5.717183e-01</td>\n      <td>6.728012e-01</td>\n      <td>6.082438e-01</td>\n      <td>6.144697e-01</td>\n      <td>6.199308e-01</td>\n      <td>6.526895e-01</td>\n      <td>5.855807e-01</td>\n      <td>4.553350e-01</td>\n      <td>...</td>\n      <td>5.974650e-01</td>\n      <td>6.794186e-01</td>\n      <td>7.544499e-01</td>\n      <td>7.226890e-01</td>\n      <td>5.480672e-01</td>\n      <td>2.560733e-01</td>\n      <td>6.210993e-01</td>\n      <td>5.686269e-01</td>\n      <td>5.632070e-01</td>\n      <td>1.000000</td>\n    </tr>\n    <tr>\n      <th>max</th>\n      <td>2.825393e+00</td>\n      <td>3.598124e+00</td>\n      <td>3.950886e+00</td>\n      <td>2.630616e+00</td>\n      <td>3.197760e+00</td>\n      <td>3.216096e+00</td>\n      <td>3.068878e+00</td>\n      <td>3.343708e+00</td>\n      <td>3.328875e+00</td>\n      <td>3.907381e+00</td>\n      <td>...</td>\n      <td>3.343892e+00</td>\n      <td>2.561682e+00</td>\n      <td>2.592385e+00</td>\n      <td>3.039497e+00</td>\n      <td>3.210821e+00</td>\n      <td>5.874043e+00</td>\n      <td>2.382774e+00</td>\n      <td>3.016780e+00</td>\n      <td>3.048878e+00</td>\n      <td>1.000000</td>\n    </tr>\n  </tbody>\n</table>\n<p>8 rows × 1174 columns</p>\n</div>"
     },
     "execution_count": 28,
     "metadata": {},
     "output_type": "execute_result"
    }
   ],
   "source": [
    "\n",
    "#standardizing the data excluding the Diagnosis column\n",
    "standard_scaler = preprocessing.StandardScaler()\n",
    "df_no_outliers.drop('Diagnosis', axis=1, inplace=True)\n",
    "standard_df = pd.DataFrame(standard_scaler.fit_transform(df_no_outliers), columns=df_no_outliers.columns)\n",
    "standard_df['Diagnosis'] = df['Diagnosis']\n",
    "standard_df.describe()\n"
   ]
  },
  {
   "cell_type": "markdown",
   "id": "ce1b248384a17d61",
   "metadata": {},
   "source": [
    "Class balancing"
   ]
  },
  {
   "cell_type": "code",
   "execution_count": 29,
   "id": "2fbf8b657c535b",
   "metadata": {
    "ExecuteTime": {
     "end_time": "2024-01-26T10:49:53.377190329Z",
     "start_time": "2024-01-26T10:49:52.706160368Z"
    }
   },
   "outputs": [
    {
     "name": "stderr",
     "output_type": "stream",
     "text": [
      "/tmp/ipykernel_58342/1881448614.py:15: PerformanceWarning: DataFrame is highly fragmented.  This is usually the result of calling `frame.insert` many times, which has poor performance.  Consider joining all columns at once using pd.concat(axis=1) instead. To get a de-fragmented frame, use `newframe = frame.copy()`\n",
      "  balanced_unit_df['Diagnosis'] = y\n",
      "/tmp/ipykernel_58342/1881448614.py:18: PerformanceWarning: DataFrame is highly fragmented.  This is usually the result of calling `frame.insert` many times, which has poor performance.  Consider joining all columns at once using pd.concat(axis=1) instead. To get a de-fragmented frame, use `newframe = frame.copy()`\n",
      "  balanced_standard_df['Diagnosis'] = w\n"
     ]
    }
   ],
   "source": [
    "#Class balancing using SMOTE\n",
    "from imblearn.over_sampling import SMOTE\n",
    "from imblearn.under_sampling import RandomUnderSampler\n",
    "\n",
    "balanced_unit_df = unit_df.fillna(unit_df.mean(numeric_only=True))\n",
    "balanced_standard_df = standard_df.fillna(standard_df.mean(numeric_only=True))\n",
    "\n",
    "#oversampling the minority class using SMOTE\n",
    "oversample = SMOTE(sampling_strategy=\"auto\")\n",
    "X, y = oversample.fit_resample(balanced_unit_df.drop('Diagnosis', axis=1), balanced_unit_df['Diagnosis'])\n",
    "Z, w = oversample.fit_resample(balanced_standard_df.drop('Diagnosis', axis=1), balanced_standard_df['Diagnosis'])\n",
    "\n",
    "#recreating the dataframe\n",
    "balanced_unit_df = pd.DataFrame(X, columns=balanced_unit_df.drop('Diagnosis', axis=1).columns)\n",
    "balanced_unit_df['Diagnosis'] = y\n",
    "\n",
    "balanced_standard_df = pd.DataFrame(Z, columns=balanced_standard_df.drop('Diagnosis', axis=1).columns)\n",
    "balanced_standard_df['Diagnosis'] = w\n"
   ]
  },
  {
   "cell_type": "code",
   "outputs": [],
   "source": [
    "#exporting the data to csv\n",
    "\n",
    "balanced_unit_df.to_csv('../../data/ST002498_balance_unit.csv', index=False)\n",
    "balanced_standard_df.to_csv('../../data/ST002498_balanced_standard.csv', index=False)\n"
   ],
   "metadata": {
    "collapsed": false,
    "ExecuteTime": {
     "end_time": "2024-01-26T10:50:21.778874671Z",
     "start_time": "2024-01-26T10:50:20.846159617Z"
    }
   },
   "id": "197929b75ba347f1",
   "execution_count": 31
  }
 ],
 "metadata": {
  "kernelspec": {
   "display_name": "Python 3 (ipykernel)",
   "language": "python",
   "name": "python3"
  },
  "language_info": {
   "codemirror_mode": {
    "name": "ipython",
    "version": 3
   },
   "file_extension": ".py",
   "mimetype": "text/x-python",
   "name": "python",
   "nbconvert_exporter": "python",
   "pygments_lexer": "ipython3",
   "version": "3.11.4"
  }
 },
 "nbformat": 4,
 "nbformat_minor": 5
}
