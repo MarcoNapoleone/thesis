{
 "cells": [
  {
   "cell_type": "code",
   "execution_count": 151,
   "id": "initial_id",
   "metadata": {
    "ExecuteTime": {
     "end_time": "2024-02-23T10:19:33.602813Z",
     "start_time": "2024-02-23T10:19:33.582177Z"
    }
   },
   "outputs": [],
   "source": [
    "import pandas as pd\n",
    "from matplotlib import pyplot as plt\n",
    "import seaborn as sns\n",
    "\n",
    "output_directory = '/home/marco/DataspellProjects/thesis/output/visualization/'\n",
    "\n",
    "palette = sns.color_palette([\"#2176AB\", \"#F97662\", \"#FFBF00\", \"#50C878\", \"#B284BE\"])\n",
    "sns.set_palette(palette)\n",
    "\n",
    "data = pd.read_csv('../../data/ST002498_AN004654.csv')"
   ]
  },
  {
   "cell_type": "markdown",
   "id": "2f97bdd689770daf",
   "metadata": {},
   "source": [
    "Data preprocessing and cleaning"
   ]
  },
  {
   "cell_type": "code",
   "execution_count": 152,
   "id": "4eb62e3184c19481",
   "metadata": {
    "ExecuteTime": {
     "end_time": "2024-02-23T10:19:33.830019Z",
     "start_time": "2024-02-23T10:19:33.616752Z"
    }
   },
   "outputs": [
    {
     "data": {
      "text/plain": "        Diagnosis         Age      Height      Weight  \\\ncount  580.000000  580.000000  576.000000  576.000000   \nmean     0.460345   64.656897   69.375000  184.880903   \nstd      0.498855    8.615839    2.959877   30.373415   \nmin      0.000000   33.000000   60.000000   56.000000   \n25%      0.000000   59.000000   67.000000  165.000000   \n50%      0.000000   65.000000   69.000000  180.000000   \n75%      1.000000   70.000000   71.000000  200.000000   \nmax      1.000000   85.000000   79.000000  315.000000   \n\n       S-1-pyrroline-5-carboxylate    spermidine  1-methylnicotinamide  \\\ncount                 5.800000e+02  5.680000e+02          5.800000e+02   \nmean                  4.383292e+06  2.105162e+05          6.991586e+06   \nstd                   1.743890e+06  3.844777e+05          3.048302e+07   \nmin                   9.013222e+05  3.438749e+04          3.193241e+05   \n25%                   3.146307e+06  1.248927e+05          1.985982e+06   \n50%                   4.119512e+06  1.658105e+05          2.738064e+06   \n75%                   5.301167e+06  2.109975e+05          4.024268e+06   \nmax                   1.203098e+07  8.060037e+06          4.271766e+08   \n\n       3-phosphoglycerate  5,6-dihydrothymine  hypoxanthine  ...  \\\ncount        5.790000e+02        5.790000e+02  5.800000e+02  ...   \nmean         3.812403e+05        2.225900e+06  8.298182e+06  ...   \nstd          2.947368e+05        5.011354e+05  5.513231e+06  ...   \nmin          5.727494e+04        5.875304e+05  2.889284e+05  ...   \n25%          2.409787e+05        1.892882e+06  4.424133e+06  ...   \n50%          3.146040e+05        2.193780e+06  6.882586e+06  ...   \n75%          4.151665e+05        2.506647e+06  1.100739e+07  ...   \nmax          2.878343e+06        4.105726e+06  3.725259e+07  ...   \n\n            X-25790       X-25810       X-25828       X-25855       X-25948  \\\ncount  5.800000e+02  5.800000e+02  5.800000e+02  5.710000e+02  5.760000e+02   \nmean   4.449906e+06  7.932991e+06  3.239607e+06  3.969567e+05  2.904524e+05   \nstd    1.022200e+07  1.959303e+07  7.199317e+05  5.437979e+05  5.391328e+05   \nmin    9.973223e+04  9.236914e+05  8.698778e+05  1.332029e+05  7.198365e+04   \n25%    2.343096e+06  2.434568e+06  2.751395e+06  2.721214e+05  1.762873e+05   \n50%    3.295280e+06  3.629346e+06  3.308020e+06  3.371310e+05  2.186175e+05   \n75%    4.483314e+06  6.840499e+06  3.741641e+06  4.016300e+05  2.798152e+05   \nmax    1.982947e+08  3.984311e+08  6.716725e+06  9.114612e+06  9.386813e+06   \n\n            X-25951    X-25952       X-25957       X-26008       X-26097  \ncount  1.000000e+01        1.0  5.390000e+02  3.460000e+02  5.790000e+02  \nmean   2.387924e+06  9318836.0  2.276696e+06  9.139105e+05  4.427631e+05  \nstd    2.928182e+06        NaN  1.095406e+06  2.123511e+06  1.740182e+05  \nmin    8.549442e+04  9318836.0  4.961555e+05  3.710000e+04  6.030652e+04  \n25%    4.483718e+05  9318836.0  1.766566e+06  2.930999e+05  3.610639e+05  \n50%    1.725588e+06  9318836.0  2.173977e+06  4.921600e+05  4.162960e+05  \n75%    3.002805e+06  9318836.0  2.549987e+06  7.991556e+05  4.921691e+05  \nmax    9.989038e+06  9318836.0  1.630300e+07  2.626698e+07  2.191476e+06  \n\n[8 rows x 353 columns]",
      "text/html": "<div>\n<style scoped>\n    .dataframe tbody tr th:only-of-type {\n        vertical-align: middle;\n    }\n\n    .dataframe tbody tr th {\n        vertical-align: top;\n    }\n\n    .dataframe thead th {\n        text-align: right;\n    }\n</style>\n<table border=\"1\" class=\"dataframe\">\n  <thead>\n    <tr style=\"text-align: right;\">\n      <th></th>\n      <th>Diagnosis</th>\n      <th>Age</th>\n      <th>Height</th>\n      <th>Weight</th>\n      <th>S-1-pyrroline-5-carboxylate</th>\n      <th>spermidine</th>\n      <th>1-methylnicotinamide</th>\n      <th>3-phosphoglycerate</th>\n      <th>5,6-dihydrothymine</th>\n      <th>hypoxanthine</th>\n      <th>...</th>\n      <th>X-25790</th>\n      <th>X-25810</th>\n      <th>X-25828</th>\n      <th>X-25855</th>\n      <th>X-25948</th>\n      <th>X-25951</th>\n      <th>X-25952</th>\n      <th>X-25957</th>\n      <th>X-26008</th>\n      <th>X-26097</th>\n    </tr>\n  </thead>\n  <tbody>\n    <tr>\n      <th>count</th>\n      <td>580.000000</td>\n      <td>580.000000</td>\n      <td>576.000000</td>\n      <td>576.000000</td>\n      <td>5.800000e+02</td>\n      <td>5.680000e+02</td>\n      <td>5.800000e+02</td>\n      <td>5.790000e+02</td>\n      <td>5.790000e+02</td>\n      <td>5.800000e+02</td>\n      <td>...</td>\n      <td>5.800000e+02</td>\n      <td>5.800000e+02</td>\n      <td>5.800000e+02</td>\n      <td>5.710000e+02</td>\n      <td>5.760000e+02</td>\n      <td>1.000000e+01</td>\n      <td>1.0</td>\n      <td>5.390000e+02</td>\n      <td>3.460000e+02</td>\n      <td>5.790000e+02</td>\n    </tr>\n    <tr>\n      <th>mean</th>\n      <td>0.460345</td>\n      <td>64.656897</td>\n      <td>69.375000</td>\n      <td>184.880903</td>\n      <td>4.383292e+06</td>\n      <td>2.105162e+05</td>\n      <td>6.991586e+06</td>\n      <td>3.812403e+05</td>\n      <td>2.225900e+06</td>\n      <td>8.298182e+06</td>\n      <td>...</td>\n      <td>4.449906e+06</td>\n      <td>7.932991e+06</td>\n      <td>3.239607e+06</td>\n      <td>3.969567e+05</td>\n      <td>2.904524e+05</td>\n      <td>2.387924e+06</td>\n      <td>9318836.0</td>\n      <td>2.276696e+06</td>\n      <td>9.139105e+05</td>\n      <td>4.427631e+05</td>\n    </tr>\n    <tr>\n      <th>std</th>\n      <td>0.498855</td>\n      <td>8.615839</td>\n      <td>2.959877</td>\n      <td>30.373415</td>\n      <td>1.743890e+06</td>\n      <td>3.844777e+05</td>\n      <td>3.048302e+07</td>\n      <td>2.947368e+05</td>\n      <td>5.011354e+05</td>\n      <td>5.513231e+06</td>\n      <td>...</td>\n      <td>1.022200e+07</td>\n      <td>1.959303e+07</td>\n      <td>7.199317e+05</td>\n      <td>5.437979e+05</td>\n      <td>5.391328e+05</td>\n      <td>2.928182e+06</td>\n      <td>NaN</td>\n      <td>1.095406e+06</td>\n      <td>2.123511e+06</td>\n      <td>1.740182e+05</td>\n    </tr>\n    <tr>\n      <th>min</th>\n      <td>0.000000</td>\n      <td>33.000000</td>\n      <td>60.000000</td>\n      <td>56.000000</td>\n      <td>9.013222e+05</td>\n      <td>3.438749e+04</td>\n      <td>3.193241e+05</td>\n      <td>5.727494e+04</td>\n      <td>5.875304e+05</td>\n      <td>2.889284e+05</td>\n      <td>...</td>\n      <td>9.973223e+04</td>\n      <td>9.236914e+05</td>\n      <td>8.698778e+05</td>\n      <td>1.332029e+05</td>\n      <td>7.198365e+04</td>\n      <td>8.549442e+04</td>\n      <td>9318836.0</td>\n      <td>4.961555e+05</td>\n      <td>3.710000e+04</td>\n      <td>6.030652e+04</td>\n    </tr>\n    <tr>\n      <th>25%</th>\n      <td>0.000000</td>\n      <td>59.000000</td>\n      <td>67.000000</td>\n      <td>165.000000</td>\n      <td>3.146307e+06</td>\n      <td>1.248927e+05</td>\n      <td>1.985982e+06</td>\n      <td>2.409787e+05</td>\n      <td>1.892882e+06</td>\n      <td>4.424133e+06</td>\n      <td>...</td>\n      <td>2.343096e+06</td>\n      <td>2.434568e+06</td>\n      <td>2.751395e+06</td>\n      <td>2.721214e+05</td>\n      <td>1.762873e+05</td>\n      <td>4.483718e+05</td>\n      <td>9318836.0</td>\n      <td>1.766566e+06</td>\n      <td>2.930999e+05</td>\n      <td>3.610639e+05</td>\n    </tr>\n    <tr>\n      <th>50%</th>\n      <td>0.000000</td>\n      <td>65.000000</td>\n      <td>69.000000</td>\n      <td>180.000000</td>\n      <td>4.119512e+06</td>\n      <td>1.658105e+05</td>\n      <td>2.738064e+06</td>\n      <td>3.146040e+05</td>\n      <td>2.193780e+06</td>\n      <td>6.882586e+06</td>\n      <td>...</td>\n      <td>3.295280e+06</td>\n      <td>3.629346e+06</td>\n      <td>3.308020e+06</td>\n      <td>3.371310e+05</td>\n      <td>2.186175e+05</td>\n      <td>1.725588e+06</td>\n      <td>9318836.0</td>\n      <td>2.173977e+06</td>\n      <td>4.921600e+05</td>\n      <td>4.162960e+05</td>\n    </tr>\n    <tr>\n      <th>75%</th>\n      <td>1.000000</td>\n      <td>70.000000</td>\n      <td>71.000000</td>\n      <td>200.000000</td>\n      <td>5.301167e+06</td>\n      <td>2.109975e+05</td>\n      <td>4.024268e+06</td>\n      <td>4.151665e+05</td>\n      <td>2.506647e+06</td>\n      <td>1.100739e+07</td>\n      <td>...</td>\n      <td>4.483314e+06</td>\n      <td>6.840499e+06</td>\n      <td>3.741641e+06</td>\n      <td>4.016300e+05</td>\n      <td>2.798152e+05</td>\n      <td>3.002805e+06</td>\n      <td>9318836.0</td>\n      <td>2.549987e+06</td>\n      <td>7.991556e+05</td>\n      <td>4.921691e+05</td>\n    </tr>\n    <tr>\n      <th>max</th>\n      <td>1.000000</td>\n      <td>85.000000</td>\n      <td>79.000000</td>\n      <td>315.000000</td>\n      <td>1.203098e+07</td>\n      <td>8.060037e+06</td>\n      <td>4.271766e+08</td>\n      <td>2.878343e+06</td>\n      <td>4.105726e+06</td>\n      <td>3.725259e+07</td>\n      <td>...</td>\n      <td>1.982947e+08</td>\n      <td>3.984311e+08</td>\n      <td>6.716725e+06</td>\n      <td>9.114612e+06</td>\n      <td>9.386813e+06</td>\n      <td>9.989038e+06</td>\n      <td>9318836.0</td>\n      <td>1.630300e+07</td>\n      <td>2.626698e+07</td>\n      <td>2.191476e+06</td>\n    </tr>\n  </tbody>\n</table>\n<p>8 rows × 353 columns</p>\n</div>"
     },
     "execution_count": 152,
     "metadata": {},
     "output_type": "execute_result"
    }
   ],
   "source": [
    "\n",
    "df = pd.DataFrame()\n",
    "df[['Diagnosis', 'PreBioPSA', 'Age', 'Height', 'Weight']] = data[['Diagnosis', 'PreBioPSA', 'Age', 'Height', 'Weight']]\n",
    "\n",
    "#adding metabolites data.loc[:,\"S-1-pyrroline-5-carboxylate\": ]\n",
    "df = pd.concat([df, data.loc[:,\"S-1-pyrroline-5-carboxylate\":]], axis=1)\n",
    "df.drop(columns=['PreBioPSA'], inplace=True)\n",
    "\n",
    "df.describe()"
   ]
  },
  {
   "cell_type": "markdown",
   "source": [
    "Dropping variables with too many missing values"
   ],
   "metadata": {
    "collapsed": false
   },
   "id": "9a1ae1b756b73dc7"
  },
  {
   "cell_type": "code",
   "outputs": [
    {
     "name": "stdout",
     "output_type": "stream",
     "text": [
      "(580, 279) (580, 279)\n"
     ]
    }
   ],
   "source": [
    "#Dropping variables with too many missing values\n",
    "# Specifica il numero massimo di valori mancanti consentiti\n",
    "# aumentare il trheshold per escludere le colonne con meno valori mancanti\n",
    "max_missing_values = len(df) * 0.7\n",
    "\n",
    "# Elimina le colonne con più di 'max_missing_values' valori mancanti\n",
    "df_cleaned = df.dropna(axis=1, thresh=max_missing_values)\n",
    "\n",
    "df_fillmean = df_cleaned.fillna(df_cleaned.mean())\n",
    "df_fillzero = df_cleaned.fillna(0)\n",
    "\n",
    "print(df_fillmean.shape, df_fillzero.shape)"
   ],
   "metadata": {
    "collapsed": false,
    "ExecuteTime": {
     "end_time": "2024-02-23T10:19:33.869426Z",
     "start_time": "2024-02-23T10:19:33.830882Z"
    }
   },
   "id": "80a13bae0ed6153d",
   "execution_count": 153
  },
  {
   "cell_type": "markdown",
   "id": "1345621ce74f0072",
   "metadata": {},
   "source": [
    "Standardizing the data"
   ]
  },
  {
   "cell_type": "code",
   "execution_count": 154,
   "id": "affc567791bc52d6",
   "metadata": {
    "ExecuteTime": {
     "end_time": "2024-02-23T10:19:33.883468Z",
     "start_time": "2024-02-23T10:19:33.869913Z"
    }
   },
   "outputs": [],
   "source": [
    "from sklearn import preprocessing\n",
    "\n",
    "#standardizing the data excluding the Diagnosis column\n",
    "standard_scaler = preprocessing.StandardScaler()\n",
    "\n",
    "fillmean_diagnosis = df_fillmean['Diagnosis']\n",
    "fillzero_diagnosis = df_fillzero['Diagnosis']\n",
    "\n",
    "df_fillmean_no_diagnosis = df_fillmean.drop('Diagnosis', axis=1)\n",
    "df_fillzero_no_diagnosis = df_fillzero.drop('Diagnosis', axis=1)\n",
    "\n",
    "m_standard_df = pd.DataFrame(standard_scaler.fit_transform(df_fillmean_no_diagnosis), columns=df_fillmean_no_diagnosis.columns)\n",
    "z_standard_df = pd.DataFrame(standard_scaler.fit_transform(df_fillzero_no_diagnosis), columns=df_fillzero_no_diagnosis.columns)\n",
    "\n",
    "m_standard_df['Diagnosis'] = fillmean_diagnosis\n",
    "z_standard_df['Diagnosis'] = fillzero_diagnosis\n"
   ]
  },
  {
   "cell_type": "markdown",
   "id": "ce1b248384a17d61",
   "metadata": {},
   "source": [
    "Class balancing"
   ]
  },
  {
   "cell_type": "code",
   "execution_count": 155,
   "id": "2fbf8b657c535b",
   "metadata": {
    "ExecuteTime": {
     "end_time": "2024-02-23T10:19:34.083610Z",
     "start_time": "2024-02-23T10:19:33.884176Z"
    }
   },
   "outputs": [
    {
     "name": "stderr",
     "output_type": "stream",
     "text": [
      "/tmp/ipykernel_224743/452563326.py:11: PerformanceWarning: DataFrame is highly fragmented.  This is usually the result of calling `frame.insert` many times, which has poor performance.  Consider joining all columns at once using pd.concat(axis=1) instead. To get a de-fragmented frame, use `newframe = frame.copy()`\n",
      "  m_df['Diagnosis'] = y\n",
      "/tmp/ipykernel_224743/452563326.py:14: PerformanceWarning: DataFrame is highly fragmented.  This is usually the result of calling `frame.insert` many times, which has poor performance.  Consider joining all columns at once using pd.concat(axis=1) instead. To get a de-fragmented frame, use `newframe = frame.copy()`\n",
      "  z_df['Diagnosis'] = w\n"
     ]
    },
    {
     "data": {
      "text/plain": "              Age      Height      Weight  S-1-pyrroline-5-carboxylate  \\\ncount  626.000000  626.000000  626.000000                   626.000000   \nmean     0.007281    0.013231    0.014401                    -0.019019   \nstd      0.991087    0.978590    0.996168                     0.980483   \nmin     -3.677439   -3.181103   -4.261623                    -1.998392   \n25%     -0.657136   -0.466562   -0.657389                    -0.708337   \n50%      0.039857    0.000000   -0.095261                    -0.180468   \n75%      0.630010    0.551391    0.499934                     0.498798   \nmax      2.363167    3.265933    4.302566                     4.389207   \n\n       spermidine  1-methylnicotinamide  3-phosphoglycerate  \\\ncount  626.000000            626.000000          626.000000   \nmean    -0.006967              0.007775           -0.015831   \nstd      0.964537              1.047648            0.969952   \nmin     -0.463320             -0.219073           -1.101068   \n25%     -0.223789             -0.164701           -0.477189   \n50%     -0.115668             -0.139832           -0.226358   \n75%      0.000000             -0.097602            0.090974   \nmax     20.648785             13.796128            8.486959   \n\n       5,6-dihydrothymine  hypoxanthine  quinolinate  ...     X-25519  \\\ncount          626.000000    626.000000   626.000000  ...  626.000000   \nmean             0.022726     -0.007768    -0.009850  ...   -0.006760   \nstd              0.988012      0.986441     0.968697  ...    0.972453   \nmin             -3.274967     -1.453987    -0.868538  ...   -1.018346   \n25%             -0.638625     -0.685839    -0.363965  ...   -0.471387   \n50%             -0.024896     -0.259011    -0.200716  ...   -0.218714   \n75%              0.572165      0.473678     0.083504  ...    0.131996   \nmax              3.757618      5.256337    15.695124  ...   10.548879   \n\n          X-25520     X-25790     X-25810     X-25828     X-25855     X-25948  \\\ncount  626.000000  626.000000  626.000000  626.000000  626.000000  626.000000   \nmean    -0.008887   -0.007250   -0.012317    0.011702   -0.005203   -0.008883   \nstd      0.969794    0.964667    0.965131    0.985250    0.965049    0.964785   \nmin     -0.791425   -0.425937   -0.358053   -3.294444   -0.489258   -0.406981   \n25%     -0.460507   -0.205193   -0.280778   -0.646137   -0.227877   -0.213015   \n50%     -0.275840   -0.116589   -0.218488    0.100297   -0.109241   -0.137063   \n75%      0.092306    0.003415   -0.057701    0.698217    0.004223   -0.019494   \nmax     13.821000   18.979855   19.947659    4.833957   16.171069   16.945407   \n\n          X-25957     X-26097  Diagnosis  \ncount  626.000000  626.000000   626.0000  \nmean    -0.011663   -0.018642     0.5000  \nstd      0.969907    0.971448     0.5004  \nmin     -1.687716   -2.201596     0.0000  \n25%     -0.450417   -0.469225     0.0000  \n50%     -0.067200   -0.156216     0.5000  \n75%      0.201395    0.254564     1.0000  \nmax     13.295077   10.066393     1.0000  \n\n[8 rows x 279 columns]",
      "text/html": "<div>\n<style scoped>\n    .dataframe tbody tr th:only-of-type {\n        vertical-align: middle;\n    }\n\n    .dataframe tbody tr th {\n        vertical-align: top;\n    }\n\n    .dataframe thead th {\n        text-align: right;\n    }\n</style>\n<table border=\"1\" class=\"dataframe\">\n  <thead>\n    <tr style=\"text-align: right;\">\n      <th></th>\n      <th>Age</th>\n      <th>Height</th>\n      <th>Weight</th>\n      <th>S-1-pyrroline-5-carboxylate</th>\n      <th>spermidine</th>\n      <th>1-methylnicotinamide</th>\n      <th>3-phosphoglycerate</th>\n      <th>5,6-dihydrothymine</th>\n      <th>hypoxanthine</th>\n      <th>quinolinate</th>\n      <th>...</th>\n      <th>X-25519</th>\n      <th>X-25520</th>\n      <th>X-25790</th>\n      <th>X-25810</th>\n      <th>X-25828</th>\n      <th>X-25855</th>\n      <th>X-25948</th>\n      <th>X-25957</th>\n      <th>X-26097</th>\n      <th>Diagnosis</th>\n    </tr>\n  </thead>\n  <tbody>\n    <tr>\n      <th>count</th>\n      <td>626.000000</td>\n      <td>626.000000</td>\n      <td>626.000000</td>\n      <td>626.000000</td>\n      <td>626.000000</td>\n      <td>626.000000</td>\n      <td>626.000000</td>\n      <td>626.000000</td>\n      <td>626.000000</td>\n      <td>626.000000</td>\n      <td>...</td>\n      <td>626.000000</td>\n      <td>626.000000</td>\n      <td>626.000000</td>\n      <td>626.000000</td>\n      <td>626.000000</td>\n      <td>626.000000</td>\n      <td>626.000000</td>\n      <td>626.000000</td>\n      <td>626.000000</td>\n      <td>626.0000</td>\n    </tr>\n    <tr>\n      <th>mean</th>\n      <td>0.007281</td>\n      <td>0.013231</td>\n      <td>0.014401</td>\n      <td>-0.019019</td>\n      <td>-0.006967</td>\n      <td>0.007775</td>\n      <td>-0.015831</td>\n      <td>0.022726</td>\n      <td>-0.007768</td>\n      <td>-0.009850</td>\n      <td>...</td>\n      <td>-0.006760</td>\n      <td>-0.008887</td>\n      <td>-0.007250</td>\n      <td>-0.012317</td>\n      <td>0.011702</td>\n      <td>-0.005203</td>\n      <td>-0.008883</td>\n      <td>-0.011663</td>\n      <td>-0.018642</td>\n      <td>0.5000</td>\n    </tr>\n    <tr>\n      <th>std</th>\n      <td>0.991087</td>\n      <td>0.978590</td>\n      <td>0.996168</td>\n      <td>0.980483</td>\n      <td>0.964537</td>\n      <td>1.047648</td>\n      <td>0.969952</td>\n      <td>0.988012</td>\n      <td>0.986441</td>\n      <td>0.968697</td>\n      <td>...</td>\n      <td>0.972453</td>\n      <td>0.969794</td>\n      <td>0.964667</td>\n      <td>0.965131</td>\n      <td>0.985250</td>\n      <td>0.965049</td>\n      <td>0.964785</td>\n      <td>0.969907</td>\n      <td>0.971448</td>\n      <td>0.5004</td>\n    </tr>\n    <tr>\n      <th>min</th>\n      <td>-3.677439</td>\n      <td>-3.181103</td>\n      <td>-4.261623</td>\n      <td>-1.998392</td>\n      <td>-0.463320</td>\n      <td>-0.219073</td>\n      <td>-1.101068</td>\n      <td>-3.274967</td>\n      <td>-1.453987</td>\n      <td>-0.868538</td>\n      <td>...</td>\n      <td>-1.018346</td>\n      <td>-0.791425</td>\n      <td>-0.425937</td>\n      <td>-0.358053</td>\n      <td>-3.294444</td>\n      <td>-0.489258</td>\n      <td>-0.406981</td>\n      <td>-1.687716</td>\n      <td>-2.201596</td>\n      <td>0.0000</td>\n    </tr>\n    <tr>\n      <th>25%</th>\n      <td>-0.657136</td>\n      <td>-0.466562</td>\n      <td>-0.657389</td>\n      <td>-0.708337</td>\n      <td>-0.223789</td>\n      <td>-0.164701</td>\n      <td>-0.477189</td>\n      <td>-0.638625</td>\n      <td>-0.685839</td>\n      <td>-0.363965</td>\n      <td>...</td>\n      <td>-0.471387</td>\n      <td>-0.460507</td>\n      <td>-0.205193</td>\n      <td>-0.280778</td>\n      <td>-0.646137</td>\n      <td>-0.227877</td>\n      <td>-0.213015</td>\n      <td>-0.450417</td>\n      <td>-0.469225</td>\n      <td>0.0000</td>\n    </tr>\n    <tr>\n      <th>50%</th>\n      <td>0.039857</td>\n      <td>0.000000</td>\n      <td>-0.095261</td>\n      <td>-0.180468</td>\n      <td>-0.115668</td>\n      <td>-0.139832</td>\n      <td>-0.226358</td>\n      <td>-0.024896</td>\n      <td>-0.259011</td>\n      <td>-0.200716</td>\n      <td>...</td>\n      <td>-0.218714</td>\n      <td>-0.275840</td>\n      <td>-0.116589</td>\n      <td>-0.218488</td>\n      <td>0.100297</td>\n      <td>-0.109241</td>\n      <td>-0.137063</td>\n      <td>-0.067200</td>\n      <td>-0.156216</td>\n      <td>0.5000</td>\n    </tr>\n    <tr>\n      <th>75%</th>\n      <td>0.630010</td>\n      <td>0.551391</td>\n      <td>0.499934</td>\n      <td>0.498798</td>\n      <td>0.000000</td>\n      <td>-0.097602</td>\n      <td>0.090974</td>\n      <td>0.572165</td>\n      <td>0.473678</td>\n      <td>0.083504</td>\n      <td>...</td>\n      <td>0.131996</td>\n      <td>0.092306</td>\n      <td>0.003415</td>\n      <td>-0.057701</td>\n      <td>0.698217</td>\n      <td>0.004223</td>\n      <td>-0.019494</td>\n      <td>0.201395</td>\n      <td>0.254564</td>\n      <td>1.0000</td>\n    </tr>\n    <tr>\n      <th>max</th>\n      <td>2.363167</td>\n      <td>3.265933</td>\n      <td>4.302566</td>\n      <td>4.389207</td>\n      <td>20.648785</td>\n      <td>13.796128</td>\n      <td>8.486959</td>\n      <td>3.757618</td>\n      <td>5.256337</td>\n      <td>15.695124</td>\n      <td>...</td>\n      <td>10.548879</td>\n      <td>13.821000</td>\n      <td>18.979855</td>\n      <td>19.947659</td>\n      <td>4.833957</td>\n      <td>16.171069</td>\n      <td>16.945407</td>\n      <td>13.295077</td>\n      <td>10.066393</td>\n      <td>1.0000</td>\n    </tr>\n  </tbody>\n</table>\n<p>8 rows × 279 columns</p>\n</div>"
     },
     "execution_count": 155,
     "metadata": {},
     "output_type": "execute_result"
    }
   ],
   "source": [
    "#Class balancing using SMOTE\n",
    "from imblearn.over_sampling import SMOTE\n",
    "\n",
    "#oversampling the minority class using SMOTE\n",
    "oversample = SMOTE(sampling_strategy=\"auto\")\n",
    "X, y = oversample.fit_resample(m_standard_df.drop('Diagnosis', axis=1), m_standard_df['Diagnosis'])\n",
    "Z, w = oversample.fit_resample(z_standard_df.drop('Diagnosis', axis=1), z_standard_df['Diagnosis'])\n",
    "\n",
    "\n",
    "m_df = pd.DataFrame(X, columns=m_standard_df.drop('Diagnosis', axis=1).columns)\n",
    "m_df['Diagnosis'] = y\n",
    "\n",
    "z_df = pd.DataFrame(Z, columns=z_standard_df.drop('Diagnosis', axis=1).columns)\n",
    "z_df['Diagnosis'] = w\n",
    "\n",
    "m_df.describe()"
   ]
  },
  {
   "cell_type": "code",
   "outputs": [],
   "source": [
    "#exporting the data to csv\n",
    "\n",
    "m_df.to_csv('../../data/ST002498_m.csv', index=False)\n",
    "z_df.to_csv('../../data/ST002498_z.csv', index=False)"
   ],
   "metadata": {
    "collapsed": false,
    "ExecuteTime": {
     "end_time": "2024-02-23T10:19:34.297908Z",
     "start_time": "2024-02-23T10:19:34.084196Z"
    }
   },
   "id": "197929b75ba347f1",
   "execution_count": 156
  }
 ],
 "metadata": {
  "kernelspec": {
   "display_name": "Python 3 (ipykernel)",
   "language": "python",
   "name": "python3"
  },
  "language_info": {
   "codemirror_mode": {
    "name": "ipython",
    "version": 3
   },
   "file_extension": ".py",
   "mimetype": "text/x-python",
   "name": "python",
   "nbconvert_exporter": "python",
   "pygments_lexer": "ipython3",
   "version": "3.11.4"
  }
 },
 "nbformat": 4,
 "nbformat_minor": 5
}
