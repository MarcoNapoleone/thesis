{
 "cells": [
  {
   "cell_type": "code",
   "outputs": [],
   "source": [
    "import pandas as pd\n",
    "from matplotlib import pyplot as plt\n",
    "import seaborn as sns\n",
    "\n",
    "df = pd.read_csv('../../data/ST001937_AN003150.csv')"
   ],
   "metadata": {
    "collapsed": false,
    "ExecuteTime": {
     "end_time": "2024-01-02T20:49:46.900175409Z",
     "start_time": "2024-01-02T20:49:46.823611967Z"
    }
   },
   "id": "ad405ec61cc6abe2",
   "execution_count": 12
  },
  {
   "cell_type": "code",
   "outputs": [
    {
     "name": "stdout",
     "output_type": "stream",
     "text": [
      "Phenotypes\n",
      "Benign SPNS         157\n",
      "Healthy Controls    280\n",
      "Maligant SPNS       723\n",
      "dtype: int64\n"
     ]
    }
   ],
   "source": [
    "df = df.drop(['Sample ID', 'RAW_FILE_NAME'], axis=1)\n",
    "class_counts = df.groupby('Phenotypes').size()\n",
    "print(class_counts)\n",
    "df['Phenotypes'] = df['Phenotypes'].apply(lambda x: 0 if x == 'Healthy Controls' else 1 if x == 'Maligant SPNS' else 2)"
   ],
   "metadata": {
    "collapsed": false,
    "ExecuteTime": {
     "end_time": "2024-01-02T20:49:46.900793531Z",
     "start_time": "2024-01-02T20:49:46.900384106Z"
    }
   },
   "id": "7dceed3d1f870071",
   "execution_count": 13
  },
  {
   "cell_type": "code",
   "outputs": [
    {
     "name": "stdout",
     "output_type": "stream",
     "text": [
      "0.21551724137931033\n",
      "              precision    recall  f1-score   support\n",
      "\n",
      "           0       0.22      1.00      0.35        50\n",
      "           1       0.00      0.00      0.00       151\n",
      "           2       0.00      0.00      0.00        31\n",
      "\n",
      "    accuracy                           0.22       232\n",
      "   macro avg       0.07      0.33      0.12       232\n",
      "weighted avg       0.05      0.22      0.08       232\n",
      "\n",
      "[[ 50   0   0]\n",
      " [151   0   0]\n",
      " [ 31   0   0]]\n"
     ]
    },
    {
     "name": "stderr",
     "output_type": "stream",
     "text": [
      "/home/marco/anaconda3/lib/python3.11/site-packages/sklearn/metrics/_classification.py:1469: UndefinedMetricWarning: Precision and F-score are ill-defined and being set to 0.0 in labels with no predicted samples. Use `zero_division` parameter to control this behavior.\n",
      "  _warn_prf(average, modifier, msg_start, len(result))\n",
      "/home/marco/anaconda3/lib/python3.11/site-packages/sklearn/metrics/_classification.py:1469: UndefinedMetricWarning: Precision and F-score are ill-defined and being set to 0.0 in labels with no predicted samples. Use `zero_division` parameter to control this behavior.\n",
      "  _warn_prf(average, modifier, msg_start, len(result))\n",
      "/home/marco/anaconda3/lib/python3.11/site-packages/sklearn/metrics/_classification.py:1469: UndefinedMetricWarning: Precision and F-score are ill-defined and being set to 0.0 in labels with no predicted samples. Use `zero_division` parameter to control this behavior.\n",
      "  _warn_prf(average, modifier, msg_start, len(result))\n"
     ]
    }
   ],
   "source": [
    "#performing orthogonal pls-da on the data set\n",
    "from sklearn.cross_decomposition import PLSRegression\n",
    "from sklearn.model_selection import train_test_split\n",
    "from sklearn.metrics import confusion_matrix\n",
    "from sklearn.metrics import accuracy_score\n",
    "from sklearn.metrics import classification_report\n",
    "from sklearn.preprocessing import StandardScaler\n",
    "from sklearn.pipeline import Pipeline\n",
    "\n",
    "X = df.drop('Phenotypes', axis=1)\n",
    "y = df['Phenotypes']\n",
    "\n",
    "X_train, X_test, y_train, y_test = train_test_split(X, y, test_size=0.2, random_state=42)\n",
    "pls = PLSRegression(n_components=2)\n",
    "pls.fit(X_train, y_train)\n",
    "y_pred = pls.predict(X_test)\n",
    "y_pred = y_pred.argmax(axis=1)\n",
    "print(accuracy_score(y_test, y_pred))\n",
    "print(classification_report(y_test, y_pred))\n",
    "print(confusion_matrix(y_test, y_pred))\n"
   ],
   "metadata": {
    "collapsed": false,
    "ExecuteTime": {
     "end_time": "2024-01-02T20:49:46.977717310Z",
     "start_time": "2024-01-02T20:49:46.945715141Z"
    }
   },
   "id": "c5b409102239001b",
   "execution_count": 14
  },
  {
   "cell_type": "markdown",
   "source": [
    "Confusion matrix"
   ],
   "metadata": {
    "collapsed": false
   },
   "id": "d86499b3c1941de3"
  },
  {
   "cell_type": "code",
   "outputs": [],
   "source": [
    "\n",
    "    "
   ],
   "metadata": {
    "collapsed": false,
    "ExecuteTime": {
     "end_time": "2024-01-02T20:49:46.977805671Z",
     "start_time": "2024-01-02T20:49:46.945783778Z"
    }
   },
   "id": "ae66a722545c7190",
   "execution_count": 14
  }
 ],
 "metadata": {
  "kernelspec": {
   "display_name": "Python 3 (ipykernel)",
   "language": "python",
   "name": "python3"
  },
  "language_info": {
   "codemirror_mode": {
    "name": "ipython",
    "version": 3
   },
   "file_extension": ".py",
   "mimetype": "text/x-python",
   "name": "python",
   "nbconvert_exporter": "python",
   "pygments_lexer": "ipython3",
   "version": "3.11.4"
  }
 },
 "nbformat": 4,
 "nbformat_minor": 5
}
