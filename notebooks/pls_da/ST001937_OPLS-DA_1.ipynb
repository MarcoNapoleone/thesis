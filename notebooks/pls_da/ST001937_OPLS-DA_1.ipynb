{
 "cells": [
  {
   "cell_type": "code",
   "outputs": [],
   "source": [
    "import pandas as pd\n",
    "import numpy as np\n",
    "from sklearn.model_selection import train_test_split\n",
    "from pyopls import OPLS\n",
    "from sklearn.cross_decomposition import PLSRegression\n",
    "from sklearn.metrics import r2_score, accuracy_score\n",
    "from sklearn.metrics import mean_absolute_error\n",
    "\n",
    "df = pd.read_csv('../../data/ST001937_AN003150.csv')"
   ],
   "metadata": {
    "collapsed": false,
    "ExecuteTime": {
     "end_time": "2024-01-02T19:58:20.969272569Z",
     "start_time": "2024-01-02T19:58:20.915899519Z"
    }
   },
   "id": "ad405ec61cc6abe2",
   "execution_count": 32
  },
  {
   "cell_type": "code",
   "outputs": [],
   "source": [
    "df = df.drop(['Sample ID', 'RAW_FILE_NAME'], axis=1)\n",
    "\n",
    "# Remove helthy controls\n",
    "df = df[df.Phenotypes != 'Healthy Controls']\n",
    "y = df.Phenotypes.apply(lambda x: -1 if x == 'Benign SPNS' else 1 )\n",
    "X = df.drop('Phenotypes', axis=1)"
   ],
   "metadata": {
    "collapsed": false,
    "ExecuteTime": {
     "end_time": "2024-01-02T19:58:21.025074960Z",
     "start_time": "2024-01-02T19:58:21.013699645Z"
    }
   },
   "id": "8e37e17d9dcab76f",
   "execution_count": 33
  },
  {
   "cell_type": "code",
   "outputs": [
    {
     "name": "stdout",
     "output_type": "stream",
     "text": [
      "Training Set Metrics:\n",
      "Q^2: 0.3664636712606131\n",
      "DQ^2: 0.3957351279233814\n",
      "Accuracy: 0.8806818181818182\n",
      "MAE: 0.45590173511358467\n",
      "\n",
      "Testing Set Metrics:\n",
      "Q^2: -5.936241401909724\n",
      "DQ^2: -0.2405767421131657\n",
      "Accuracy: 0.7613636363636364\n",
      "MAE: 0.8567967390789721\n"
     ]
    }
   ],
   "source": [
    "# Split data into training and testing sets\n",
    "X_train, X_test, y_train, y_test = train_test_split(X, y, test_size=0.2, random_state=42)\n",
    "\n",
    "# Orthogonal Partial Least Squares (OPLS) Transformation\n",
    "opls = OPLS(5)\n",
    "Z_train = opls.fit_transform(X_train, y_train)\n",
    "\n",
    "# Partial Least Squares (PLS) Regression\n",
    "pls = PLSRegression(1)\n",
    "\n",
    "# Fit the PLS model on the training set\n",
    "pls.fit(Z_train, y_train)\n",
    "\n",
    "# Predictions on the training set\n",
    "processed_y_pred_train = pls.predict(Z_train)\n",
    "\n",
    "# Predictions on the testing set\n",
    "Z_test = opls.transform(X_test)\n",
    "processed_y_pred_test = pls.predict(Z_test)\n",
    "\n",
    "# Evaluation Metrics on Training Set\n",
    "processed_q_squared_train = r2_score(y_train, processed_y_pred_train)\n",
    "processed_dq_squared_train = r2_score(y_train, np.clip(processed_y_pred_train, -1, 1))\n",
    "processed_accuracy_train = accuracy_score(y_train, np.sign(processed_y_pred_train))\n",
    "# Evalueting MAE\n",
    "processed_mae_train = mean_absolute_error(y_train, processed_y_pred_train)\n",
    "\n",
    "# Evaluation Metrics on Testing Set\n",
    "processed_q_squared_test = r2_score(y_test, processed_y_pred_test)\n",
    "processed_dq_squared_test = r2_score(y_test, np.clip(processed_y_pred_test, -1, 1))\n",
    "processed_accuracy_test = accuracy_score(y_test, np.sign(processed_y_pred_test))\n",
    "# Evalueting MAE\n",
    "processed_mae_test = mean_absolute_error(y_test, processed_y_pred_test)\n",
    "\n",
    "# Print or plot the metrics to analyze overfitting\n",
    "print(\"Training Set Metrics:\")\n",
    "print(f\"Q^2: {processed_q_squared_train}\")\n",
    "print(f\"DQ^2: {processed_dq_squared_train}\")\n",
    "print(f\"Accuracy: {processed_accuracy_train}\")\n",
    "print(f\"MAE: {processed_mae_train}\")\n",
    "\n",
    "print(\"\\nTesting Set Metrics:\")\n",
    "print(f\"Q^2: {processed_q_squared_test}\")\n",
    "print(f\"DQ^2: {processed_dq_squared_test}\")\n",
    "print(f\"Accuracy: {processed_accuracy_test}\")\n",
    "print(f\"MAE: {processed_mae_test}\")\n"
   ],
   "metadata": {
    "collapsed": false,
    "ExecuteTime": {
     "end_time": "2024-01-02T19:58:21.025277522Z",
     "start_time": "2024-01-02T19:58:21.013779604Z"
    }
   },
   "id": "c5b409102239001b",
   "execution_count": 34
  }
 ],
 "metadata": {
  "kernelspec": {
   "display_name": "Python 3 (ipykernel)",
   "language": "python",
   "name": "python3"
  },
  "language_info": {
   "codemirror_mode": {
    "name": "ipython",
    "version": 3
   },
   "file_extension": ".py",
   "mimetype": "text/x-python",
   "name": "python",
   "nbconvert_exporter": "python",
   "pygments_lexer": "ipython3",
   "version": "3.11.4"
  }
 },
 "nbformat": 4,
 "nbformat_minor": 5
}
