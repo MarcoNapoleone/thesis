{
 "cells": [
  {
   "cell_type": "code",
   "outputs": [],
   "source": [
    "import pandas as pd\n",
    "from matplotlib import pyplot as plt\n",
    "import seaborn as sns\n",
    "\n",
    "output_directory = '/home/marco/DataspellProjects/thesis/output/svm_rbf/'\n",
    "\n",
    "palette = sns.color_palette([\"#2176AB\", \"#F97662\", \"#FFBF00\", \"#50C878\", \"#B284BE\"])\n",
    "sns.set(style=\"whitegrid\", font_scale=1.5)\n",
    "sns.set_palette(palette)\n",
    "\n",
    "df = pd.read_csv('../../../data/ST002498_z.csv')"
   ],
   "metadata": {
    "collapsed": false,
    "ExecuteTime": {
     "end_time": "2024-02-23T16:08:37.885718Z",
     "start_time": "2024-02-23T16:08:37.863827Z"
    }
   },
   "id": "b1c42042d3eea47e",
   "execution_count": 10
  },
  {
   "cell_type": "code",
   "outputs": [],
   "source": [
    "#import random forest model\n",
    "from sklearn.model_selection import StratifiedKFold\n",
    "from sklearn.metrics import roc_auc_score\n",
    "import numpy as np\n",
    "\n",
    "X = df.drop(columns=['Diagnosis'])\n",
    "y = df['Diagnosis']\n",
    "\n",
    "#"
   ],
   "metadata": {
    "collapsed": false,
    "ExecuteTime": {
     "end_time": "2024-02-23T16:08:37.898896Z",
     "start_time": "2024-02-23T16:08:37.886358Z"
    }
   },
   "id": "76075498223bf50b",
   "execution_count": 11
  },
  {
   "cell_type": "code",
   "outputs": [
    {
     "name": "stdout",
     "output_type": "stream",
     "text": [
      "100%|██████████| 1000/1000 [01:28<00:00, 11.24trial/s, best loss: -0.6122727272727273]\n",
      "Miglior score AUC: 0.6013068181818182\n"
     ]
    }
   ],
   "source": [
    "from sklearn.model_selection import train_test_split\n",
    "from sklearn.svm import SVC\n",
    "from sklearn.metrics import roc_auc_score\n",
    "from hyperopt import STATUS_OK, Trials, fmin, hp, tpe, space_eval\n",
    "import numpy as np\n",
    "\n",
    "X_train, X_test, y_train, y_test = train_test_split(X, y, test_size=0.3, random_state=0)\n",
    "\n",
    "space = {\n",
    "    'C': hp.loguniform('C', np.log(0.001), np.log(1000)), \n",
    "    'kernel': hp.choice('kernel', ['linear', 'rbf', 'poly']),  \n",
    "    'degree': hp.quniform('degree', 2, 5, 1),  \n",
    "    'gamma': hp.loguniform('gamma', np.log(0.0001), np.log(10)),\n",
    "    'probability': True \n",
    "}\n",
    "\n",
    "def objective(space):\n",
    "    clf = SVC(C=space['C'], kernel=space['kernel'], degree=int(space['degree']), gamma=space['gamma'], probability=True)\n",
    "\n",
    "    clf.fit(X_train, y_train)\n",
    "    pred = clf.predict_proba(X_test)[:, 1]\n",
    "    auc = roc_auc_score(y_test, pred)\n",
    "    return {'loss': -auc, 'status': STATUS_OK}\n",
    "\n",
    "trials = Trials()\n",
    "\n",
    "best_hyperparams = fmin(fn=objective,\n",
    "                        space=space,\n",
    "                        algo=tpe.suggest,\n",
    "                        max_evals=1000,\n",
    "                        trials=trials)\n",
    "\n",
    "best_params = space_eval(space, best_hyperparams)\n",
    "\n",
    "best_clf = SVC(C=best_params['C'], kernel=best_params['kernel'], degree=int(best_params['degree']), gamma=best_params['gamma'], probability=True)\n",
    "\n",
    "best_clf.fit(X_train, y_train)\n",
    "\n",
    "pred = best_clf.predict_proba(X_test)[:, 1]\n",
    "\n",
    "best_auc = roc_auc_score(y_test, pred)\n",
    "\n",
    "# Stampa del miglior score AUC ottenuto\n",
    "print(\"Miglior score AUC:\", best_auc)\n"
   ],
   "metadata": {
    "collapsed": false,
    "ExecuteTime": {
     "end_time": "2024-02-23T16:10:06.978543Z",
     "start_time": "2024-02-23T16:08:37.899453Z"
    }
   },
   "id": "110313978cdae015",
   "execution_count": 12
  }
 ],
 "metadata": {
  "kernelspec": {
   "display_name": "Python 3",
   "language": "python",
   "name": "python3"
  },
  "language_info": {
   "codemirror_mode": {
    "name": "ipython",
    "version": 2
   },
   "file_extension": ".py",
   "mimetype": "text/x-python",
   "name": "python",
   "nbconvert_exporter": "python",
   "pygments_lexer": "ipython2",
   "version": "2.7.6"
  }
 },
 "nbformat": 4,
 "nbformat_minor": 5
}
