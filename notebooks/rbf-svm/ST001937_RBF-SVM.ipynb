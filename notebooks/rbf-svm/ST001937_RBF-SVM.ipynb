{
 "cells": [
  {
   "cell_type": "code",
   "execution_count": 1,
   "id": "initial_id",
   "metadata": {
    "collapsed": true,
    "ExecuteTime": {
     "end_time": "2024-01-27T11:56:21.032138619Z",
     "start_time": "2024-01-27T11:56:20.988077138Z"
    }
   },
   "outputs": [],
   "source": [
    "import pandas as pd\n",
    "from matplotlib import pyplot as plt\n",
    "\n",
    "df = pd.read_csv('../../data/ST001937_AN003150.csv')"
   ]
  },
  {
   "cell_type": "markdown",
   "source": [
    "Dropping not needed columns and renaming the Phenotypes column to labels"
   ],
   "metadata": {
    "collapsed": false
   },
   "id": "66e3293702b4f5a8"
  },
  {
   "cell_type": "code",
   "execution_count": 2,
   "outputs": [],
   "source": [
    "df = df.drop(['Sample ID', 'RAW_FILE_NAME'], axis=1)\n",
    "df['Phenotypes'] = df['Phenotypes'].apply(lambda x: 0 if x == 'Healthy Controls' else 1 if x == 'Maligant SPNS' else 2)"
   ],
   "metadata": {
    "collapsed": false,
    "ExecuteTime": {
     "end_time": "2024-01-27T11:56:21.032321145Z",
     "start_time": "2024-01-27T11:56:21.032045333Z"
    }
   },
   "id": "96e87067b4068094"
  },
  {
   "cell_type": "markdown",
   "source": [
    "Filling missing values with the mean"
   ],
   "metadata": {
    "collapsed": false
   },
   "id": "fbe2602ae9e83fa2"
  },
  {
   "cell_type": "code",
   "execution_count": 3,
   "outputs": [],
   "source": [
    "df.fillna(df.mean(), inplace=True)"
   ],
   "metadata": {
    "collapsed": false,
    "ExecuteTime": {
     "end_time": "2024-01-27T11:56:21.080497254Z",
     "start_time": "2024-01-27T11:56:21.032134864Z"
    }
   },
   "id": "86a3055402f7a0de"
  },
  {
   "cell_type": "markdown",
   "source": [
    "Performing SVM RBF classification and plotting the results"
   ],
   "metadata": {
    "collapsed": false
   },
   "id": "d733e11a92391b6a"
  },
  {
   "cell_type": "code",
   "execution_count": 7,
   "outputs": [
    {
     "ename": "AxisError",
     "evalue": "axis 1 is out of bounds for array of dimension 1",
     "output_type": "error",
     "traceback": [
      "\u001B[0;31m---------------------------------------------------------------------------\u001B[0m",
      "\u001B[0;31mAxisError\u001B[0m                                 Traceback (most recent call last)",
      "Cell \u001B[0;32mIn[7], line 37\u001B[0m\n\u001B[1;32m     34\u001B[0m y_pred \u001B[38;5;241m=\u001B[39m svm_classifier\u001B[38;5;241m.\u001B[39mpredict(X_test)\n\u001B[1;32m     36\u001B[0m \u001B[38;5;66;03m# Evaluating the model\u001B[39;00m\n\u001B[0;32m---> 37\u001B[0m auc \u001B[38;5;241m=\u001B[39m roc_auc_score(y_test, y_pred, multi_class\u001B[38;5;241m=\u001B[39m\u001B[38;5;124m'\u001B[39m\u001B[38;5;124movo\u001B[39m\u001B[38;5;124m'\u001B[39m)\n\u001B[1;32m     38\u001B[0m conf_matrix \u001B[38;5;241m=\u001B[39m confusion_matrix(y_test, y_pred)\n\u001B[1;32m     40\u001B[0m \u001B[38;5;66;03m# Aggiunta delle metriche alle liste\u001B[39;00m\n",
      "File \u001B[0;32m~/anaconda3/lib/python3.11/site-packages/sklearn/metrics/_ranking.py:566\u001B[0m, in \u001B[0;36mroc_auc_score\u001B[0;34m(y_true, y_score, average, sample_weight, max_fpr, multi_class, labels)\u001B[0m\n\u001B[1;32m    564\u001B[0m     \u001B[38;5;28;01mif\u001B[39;00m multi_class \u001B[38;5;241m==\u001B[39m \u001B[38;5;124m\"\u001B[39m\u001B[38;5;124mraise\u001B[39m\u001B[38;5;124m\"\u001B[39m:\n\u001B[1;32m    565\u001B[0m         \u001B[38;5;28;01mraise\u001B[39;00m \u001B[38;5;167;01mValueError\u001B[39;00m(\u001B[38;5;124m\"\u001B[39m\u001B[38;5;124mmulti_class must be in (\u001B[39m\u001B[38;5;124m'\u001B[39m\u001B[38;5;124movo\u001B[39m\u001B[38;5;124m'\u001B[39m\u001B[38;5;124m, \u001B[39m\u001B[38;5;124m'\u001B[39m\u001B[38;5;124movr\u001B[39m\u001B[38;5;124m'\u001B[39m\u001B[38;5;124m)\u001B[39m\u001B[38;5;124m\"\u001B[39m)\n\u001B[0;32m--> 566\u001B[0m     \u001B[38;5;28;01mreturn\u001B[39;00m _multiclass_roc_auc_score(\n\u001B[1;32m    567\u001B[0m         y_true, y_score, labels, multi_class, average, sample_weight\n\u001B[1;32m    568\u001B[0m     )\n\u001B[1;32m    569\u001B[0m \u001B[38;5;28;01melif\u001B[39;00m y_type \u001B[38;5;241m==\u001B[39m \u001B[38;5;124m\"\u001B[39m\u001B[38;5;124mbinary\u001B[39m\u001B[38;5;124m\"\u001B[39m:\n\u001B[1;32m    570\u001B[0m     labels \u001B[38;5;241m=\u001B[39m np\u001B[38;5;241m.\u001B[39munique(y_true)\n",
      "File \u001B[0;32m~/anaconda3/lib/python3.11/site-packages/sklearn/metrics/_ranking.py:638\u001B[0m, in \u001B[0;36m_multiclass_roc_auc_score\u001B[0;34m(y_true, y_score, labels, multi_class, average, sample_weight)\u001B[0m\n\u001B[1;32m    592\u001B[0m \u001B[38;5;250m\u001B[39m\u001B[38;5;124;03m\"\"\"Multiclass roc auc score.\u001B[39;00m\n\u001B[1;32m    593\u001B[0m \n\u001B[1;32m    594\u001B[0m \u001B[38;5;124;03mParameters\u001B[39;00m\n\u001B[0;32m   (...)\u001B[0m\n\u001B[1;32m    635\u001B[0m \n\u001B[1;32m    636\u001B[0m \u001B[38;5;124;03m\"\"\"\u001B[39;00m\n\u001B[1;32m    637\u001B[0m \u001B[38;5;66;03m# validation of the input y_score\u001B[39;00m\n\u001B[0;32m--> 638\u001B[0m \u001B[38;5;28;01mif\u001B[39;00m \u001B[38;5;129;01mnot\u001B[39;00m np\u001B[38;5;241m.\u001B[39mallclose(\u001B[38;5;241m1\u001B[39m, y_score\u001B[38;5;241m.\u001B[39msum(axis\u001B[38;5;241m=\u001B[39m\u001B[38;5;241m1\u001B[39m)):\n\u001B[1;32m    639\u001B[0m     \u001B[38;5;28;01mraise\u001B[39;00m \u001B[38;5;167;01mValueError\u001B[39;00m(\n\u001B[1;32m    640\u001B[0m         \u001B[38;5;124m\"\u001B[39m\u001B[38;5;124mTarget scores need to be probabilities for multiclass \u001B[39m\u001B[38;5;124m\"\u001B[39m\n\u001B[1;32m    641\u001B[0m         \u001B[38;5;124m\"\u001B[39m\u001B[38;5;124mroc_auc, i.e. they should sum up to 1.0 over classes\u001B[39m\u001B[38;5;124m\"\u001B[39m\n\u001B[1;32m    642\u001B[0m     )\n\u001B[1;32m    644\u001B[0m \u001B[38;5;66;03m# validation for multiclass parameter specifications\u001B[39;00m\n",
      "File \u001B[0;32m~/anaconda3/lib/python3.11/site-packages/numpy/core/_methods.py:49\u001B[0m, in \u001B[0;36m_sum\u001B[0;34m(a, axis, dtype, out, keepdims, initial, where)\u001B[0m\n\u001B[1;32m     47\u001B[0m \u001B[38;5;28;01mdef\u001B[39;00m \u001B[38;5;21m_sum\u001B[39m(a, axis\u001B[38;5;241m=\u001B[39m\u001B[38;5;28;01mNone\u001B[39;00m, dtype\u001B[38;5;241m=\u001B[39m\u001B[38;5;28;01mNone\u001B[39;00m, out\u001B[38;5;241m=\u001B[39m\u001B[38;5;28;01mNone\u001B[39;00m, keepdims\u001B[38;5;241m=\u001B[39m\u001B[38;5;28;01mFalse\u001B[39;00m,\n\u001B[1;32m     48\u001B[0m          initial\u001B[38;5;241m=\u001B[39m_NoValue, where\u001B[38;5;241m=\u001B[39m\u001B[38;5;28;01mTrue\u001B[39;00m):\n\u001B[0;32m---> 49\u001B[0m     \u001B[38;5;28;01mreturn\u001B[39;00m umr_sum(a, axis, dtype, out, keepdims, initial, where)\n",
      "\u001B[0;31mAxisError\u001B[0m: axis 1 is out of bounds for array of dimension 1"
     ]
    }
   ],
   "source": [
    "from sklearn.svm import SVC\n",
    "from sklearn.model_selection import train_test_split\n",
    "from sklearn.preprocessing import StandardScaler\n",
    "from sklearn.metrics import accuracy_score, confusion_matrix, roc_auc_score\n",
    "import numpy as np\n",
    "import seaborn as sns\n",
    "\n",
    "# Splitting the data into features (X) and labels (y)\n",
    "X = df.drop('Phenotypes', axis=1)\n",
    "y = df['Phenotypes']\n",
    "\n",
    "# Splitting the data into training and testing sets\n",
    "X_train, X_test, y_train, y_test = train_test_split(X, y, test_size=0.2, random_state=42)\n",
    "\n",
    "# Standardizing the features\n",
    "scaler = StandardScaler()\n",
    "X_train = scaler.fit_transform(X_train)\n",
    "X_test = scaler.transform(X_test)\n",
    "\n",
    "# Lista di valori gamma da testare da 0.001 a 1 con passo di 0.001\n",
    "gamma_values = np.arange(0.0001, 0.011, 0.00001)\n",
    "\n",
    "# Liste per memorizzare gli auc e confusion matrices corrispondenti\n",
    "auc = []\n",
    "conf_matrices = []\n",
    "\n",
    "# Iterazione su diversi valori di gamma\n",
    "for gamma in gamma_values:\n",
    "    # Performing SVM RBF classification\n",
    "    svm_classifier = SVC(kernel='rbf', C=13.2, gamma=gamma, random_state=42)\n",
    "    svm_classifier.fit(X_train, y_train)\n",
    "\n",
    "    # Predicting the labels for the test set\n",
    "    y_pred = svm_classifier.predict(X_test)\n",
    "\n",
    "    # Evaluating the model\n",
    "    auc = roc_auc_score(y_test, y_pred, multi_class='ovr')\n",
    "    conf_matrix = confusion_matrix(y_test, y_pred)\n",
    "\n",
    "    # Aggiunta delle metriche alle liste\n",
    "    auc.append(auc)\n",
    "    conf_matrices.append(conf_matrix)"
   ],
   "metadata": {
    "collapsed": false,
    "ExecuteTime": {
     "end_time": "2024-01-27T11:57:27.136006523Z",
     "start_time": "2024-01-27T11:57:27.027866094Z"
    }
   },
   "id": "e1ae077729081c5f"
  },
  {
   "cell_type": "code",
   "execution_count": null,
   "outputs": [],
   "source": [
    "from scipy.interpolate import make_interp_spline\n",
    "\n",
    "# Plotting the accuracy results\n",
    "plt.figure(figsize=(10, 6))\n",
    "\n",
    "\n",
    "plt.plot(gamma_values, auc)\n",
    "\n",
    "plt.title('Accuracy vs. Gamma for SVM RBF')\n",
    "plt.xlabel('Gamma')\n",
    "plt.ylabel('Accuracy')\n",
    "# Flagging the best accuracy value with a vertical line and a dot on the curve and the corresponding gamma value and accuracy\n",
    "plt.axvline(gamma_values[np.argmax(auc)], color='r', linestyle='--')\n",
    "plt.plot(gamma_values[np.argmax(auc)], np.max(auc), 'ro')\n",
    "plt.show()"
   ],
   "metadata": {
    "collapsed": false,
    "ExecuteTime": {
     "end_time": "2024-01-27T11:56:21.496705225Z",
     "start_time": "2024-01-27T11:56:21.496098919Z"
    }
   },
   "id": "d4baad54fce15ad2"
  },
  {
   "cell_type": "markdown",
   "source": [
    "Visualizzazione delle confusion matrices per il best gamma"
   ],
   "metadata": {
    "collapsed": false
   },
   "id": "30d718554ce8480"
  },
  {
   "cell_type": "code",
   "execution_count": null,
   "outputs": [],
   "source": [
    "best_gamma = gamma_values[np.argmax(auc)]\n",
    "best_conf_matrix = conf_matrices[np.argmax(auc)]\n",
    "plt.figure(figsize=(10, 6))\n",
    "sns.heatmap(conf_matrix, annot=True, fmt=\"g\", cmap=\"Blues\", xticklabels=['Healthy', 'Malignant', 'Benign'], yticklabels=['Healthy', 'Malignant', 'Benign'])\n",
    "plt.title('Confusion Matrix for SVM RBF (Gamma = {})'.format(best_gamma))\n",
    "plt.xlabel('Predicted Label')\n",
    "plt.ylabel('True Label')\n",
    "plt.show()\n",
    "\n",
    "print('Accuracy: {}'.format(np.max(auc)))"
   ],
   "metadata": {
    "collapsed": false,
    "ExecuteTime": {
     "start_time": "2024-01-27T11:56:21.496969168Z"
    }
   },
   "id": "fb92ae795a507f07"
  }
 ],
 "metadata": {
  "kernelspec": {
   "display_name": "Python 3",
   "language": "python",
   "name": "python3"
  },
  "language_info": {
   "codemirror_mode": {
    "name": "ipython",
    "version": 2
   },
   "file_extension": ".py",
   "mimetype": "text/x-python",
   "name": "python",
   "nbconvert_exporter": "python",
   "pygments_lexer": "ipython2",
   "version": "2.7.6"
  }
 },
 "nbformat": 4,
 "nbformat_minor": 5
}
