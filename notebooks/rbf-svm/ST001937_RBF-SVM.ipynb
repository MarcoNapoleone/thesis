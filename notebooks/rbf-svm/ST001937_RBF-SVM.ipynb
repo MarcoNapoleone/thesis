{
 "cells": [
  {
   "cell_type": "code",
   "execution_count": 1,
   "id": "initial_id",
   "metadata": {
    "collapsed": true,
    "ExecuteTime": {
     "end_time": "2024-02-24T14:54:04.045451Z",
     "start_time": "2024-02-24T14:54:03.665893Z"
    }
   },
   "outputs": [
    {
     "data": {
      "text/plain": "       1,3,5(10)-estratrien-3,6- beta-17-beta-triol  1,5-anhydroglucitol  \\\ncount                                    600.000000           600.000000   \nmean                                       0.060028             0.081831   \nstd                                        1.149557             1.157614   \nmin                                      -10.056505            -7.753742   \n25%                                       -0.231721            -0.132294   \n50%                                       -0.191786             0.010058   \n75%                                       -0.079706             0.151365   \nmax                                       10.238873            21.620913   \n\n       17-alpha-20-alpha-dihydroxy-4-pregnen-3-one-1  \\\ncount                                     600.000000   \nmean                                        0.121458   \nstd                                         1.158775   \nmin                                        -1.103028   \n25%                                        -0.417097   \n50%                                        -0.160029   \n75%                                         0.273505   \nmax                                        12.565668   \n\n       17-alpha-20-alpha-dihydroxy-4-pregnen-3-one-2  \\\ncount                                     600.000000   \nmean                                        0.069002   \nstd                                         1.177830   \nmin                                        -2.246114   \n25%                                        -0.395316   \n50%                                        -0.288463   \n75%                                         0.039505   \nmax                                        12.303188   \n\n       17-alpha-20-alpha-dihydroxy-4-pregnen-3-one-3  \\\ncount                                     600.000000   \nmean                                        0.153339   \nstd                                         1.145922   \nmin                                        -0.763127   \n25%                                        -0.624346   \n50%                                        -0.094491   \n75%                                         0.463881   \nmax                                        11.517330   \n\n       17-alpha-20-alpha-dihydroxy-4-pregnen-3-one-4  \\\ncount                                     600.000000   \nmean                                       -0.028114   \nstd                                         1.348227   \nmin                                       -16.350768   \n25%                                        -0.018728   \n50%                                         0.009537   \n75%                                         0.044281   \nmax                                        18.100453   \n\n       17-alpha-20-alpha-dihydroxy-4-pregnen-3-one-5  \\\ncount                                     600.000000   \nmean                                        0.146952   \nstd                                         1.291587   \nmin                                        -0.914859   \n25%                                        -0.455456   \n50%                                        -0.084182   \n75%                                         0.381119   \nmax                                        19.023871   \n\n       17-alpha-20-alpha-dihydroxy-4-pregnen-3-one-6  1-hexadecanol  \\\ncount                                     600.000000     600.000000   \nmean                                        0.141551       0.185913   \nstd                                         1.301322       1.262072   \nmin                                        -1.005143      -1.729810   \n25%                                        -0.427082      -0.343499   \n50%                                        -0.116827      -0.006010   \n75%                                         0.308743       0.305460   \nmax                                        14.488387      13.043171   \n\n       1-hydroxyanthraquinone prod  ...  tyrosine-2      urea-1      urea-2  \\\ncount                   600.000000  ...  600.000000  600.000000  600.000000   \nmean                      0.117030  ...    0.183951    0.187359    0.124397   \nstd                       1.132816  ...    1.277060    1.208034    1.178328   \nmin                      -1.077471  ...   -1.465182   -1.484441   -1.278308   \n25%                      -0.449774  ...   -0.439113   -0.414939   -0.494908   \n50%                      -0.214784  ...    0.054435    0.005286   -0.066947   \n75%                       0.256809  ...    0.539822    0.569464    0.515155   \nmax                       8.233442  ...   15.882220   13.595483   15.495354   \n\n           urea-3      urea-4     uridine      valine    xanthine  xanthosine  \\\ncount  600.000000  600.000000  600.000000  600.000000  600.000000  600.000000   \nmean     0.203862    0.048426    0.036753    0.098137    0.052093    0.053100   \nstd      1.225597    1.107458    1.237427    1.376308    1.179492    1.101968   \nmin     -1.639386   -0.333746   -1.310151   -6.831118   -0.307711   -0.696013   \n25%     -0.420323   -0.309578   -0.103505   -0.237340   -0.219645   -0.570936   \n50%      0.023258   -0.287017   -0.097975   -0.178884   -0.138027   -0.318293   \n75%      0.525831   -0.198019   -0.074318   -0.036841   -0.002379    0.264024   \nmax     15.010304   15.049450   23.156958   17.689525   21.882814   10.082669   \n\n       Phenotypes  \ncount  600.000000  \nmean     0.500000  \nstd      0.500417  \nmin      0.000000  \n25%      0.000000  \n50%      0.500000  \n75%      1.000000  \nmax      1.000000  \n\n[8 rows x 546 columns]",
      "text/html": "<div>\n<style scoped>\n    .dataframe tbody tr th:only-of-type {\n        vertical-align: middle;\n    }\n\n    .dataframe tbody tr th {\n        vertical-align: top;\n    }\n\n    .dataframe thead th {\n        text-align: right;\n    }\n</style>\n<table border=\"1\" class=\"dataframe\">\n  <thead>\n    <tr style=\"text-align: right;\">\n      <th></th>\n      <th>1,3,5(10)-estratrien-3,6- beta-17-beta-triol</th>\n      <th>1,5-anhydroglucitol</th>\n      <th>17-alpha-20-alpha-dihydroxy-4-pregnen-3-one-1</th>\n      <th>17-alpha-20-alpha-dihydroxy-4-pregnen-3-one-2</th>\n      <th>17-alpha-20-alpha-dihydroxy-4-pregnen-3-one-3</th>\n      <th>17-alpha-20-alpha-dihydroxy-4-pregnen-3-one-4</th>\n      <th>17-alpha-20-alpha-dihydroxy-4-pregnen-3-one-5</th>\n      <th>17-alpha-20-alpha-dihydroxy-4-pregnen-3-one-6</th>\n      <th>1-hexadecanol</th>\n      <th>1-hydroxyanthraquinone prod</th>\n      <th>...</th>\n      <th>tyrosine-2</th>\n      <th>urea-1</th>\n      <th>urea-2</th>\n      <th>urea-3</th>\n      <th>urea-4</th>\n      <th>uridine</th>\n      <th>valine</th>\n      <th>xanthine</th>\n      <th>xanthosine</th>\n      <th>Phenotypes</th>\n    </tr>\n  </thead>\n  <tbody>\n    <tr>\n      <th>count</th>\n      <td>600.000000</td>\n      <td>600.000000</td>\n      <td>600.000000</td>\n      <td>600.000000</td>\n      <td>600.000000</td>\n      <td>600.000000</td>\n      <td>600.000000</td>\n      <td>600.000000</td>\n      <td>600.000000</td>\n      <td>600.000000</td>\n      <td>...</td>\n      <td>600.000000</td>\n      <td>600.000000</td>\n      <td>600.000000</td>\n      <td>600.000000</td>\n      <td>600.000000</td>\n      <td>600.000000</td>\n      <td>600.000000</td>\n      <td>600.000000</td>\n      <td>600.000000</td>\n      <td>600.000000</td>\n    </tr>\n    <tr>\n      <th>mean</th>\n      <td>0.060028</td>\n      <td>0.081831</td>\n      <td>0.121458</td>\n      <td>0.069002</td>\n      <td>0.153339</td>\n      <td>-0.028114</td>\n      <td>0.146952</td>\n      <td>0.141551</td>\n      <td>0.185913</td>\n      <td>0.117030</td>\n      <td>...</td>\n      <td>0.183951</td>\n      <td>0.187359</td>\n      <td>0.124397</td>\n      <td>0.203862</td>\n      <td>0.048426</td>\n      <td>0.036753</td>\n      <td>0.098137</td>\n      <td>0.052093</td>\n      <td>0.053100</td>\n      <td>0.500000</td>\n    </tr>\n    <tr>\n      <th>std</th>\n      <td>1.149557</td>\n      <td>1.157614</td>\n      <td>1.158775</td>\n      <td>1.177830</td>\n      <td>1.145922</td>\n      <td>1.348227</td>\n      <td>1.291587</td>\n      <td>1.301322</td>\n      <td>1.262072</td>\n      <td>1.132816</td>\n      <td>...</td>\n      <td>1.277060</td>\n      <td>1.208034</td>\n      <td>1.178328</td>\n      <td>1.225597</td>\n      <td>1.107458</td>\n      <td>1.237427</td>\n      <td>1.376308</td>\n      <td>1.179492</td>\n      <td>1.101968</td>\n      <td>0.500417</td>\n    </tr>\n    <tr>\n      <th>min</th>\n      <td>-10.056505</td>\n      <td>-7.753742</td>\n      <td>-1.103028</td>\n      <td>-2.246114</td>\n      <td>-0.763127</td>\n      <td>-16.350768</td>\n      <td>-0.914859</td>\n      <td>-1.005143</td>\n      <td>-1.729810</td>\n      <td>-1.077471</td>\n      <td>...</td>\n      <td>-1.465182</td>\n      <td>-1.484441</td>\n      <td>-1.278308</td>\n      <td>-1.639386</td>\n      <td>-0.333746</td>\n      <td>-1.310151</td>\n      <td>-6.831118</td>\n      <td>-0.307711</td>\n      <td>-0.696013</td>\n      <td>0.000000</td>\n    </tr>\n    <tr>\n      <th>25%</th>\n      <td>-0.231721</td>\n      <td>-0.132294</td>\n      <td>-0.417097</td>\n      <td>-0.395316</td>\n      <td>-0.624346</td>\n      <td>-0.018728</td>\n      <td>-0.455456</td>\n      <td>-0.427082</td>\n      <td>-0.343499</td>\n      <td>-0.449774</td>\n      <td>...</td>\n      <td>-0.439113</td>\n      <td>-0.414939</td>\n      <td>-0.494908</td>\n      <td>-0.420323</td>\n      <td>-0.309578</td>\n      <td>-0.103505</td>\n      <td>-0.237340</td>\n      <td>-0.219645</td>\n      <td>-0.570936</td>\n      <td>0.000000</td>\n    </tr>\n    <tr>\n      <th>50%</th>\n      <td>-0.191786</td>\n      <td>0.010058</td>\n      <td>-0.160029</td>\n      <td>-0.288463</td>\n      <td>-0.094491</td>\n      <td>0.009537</td>\n      <td>-0.084182</td>\n      <td>-0.116827</td>\n      <td>-0.006010</td>\n      <td>-0.214784</td>\n      <td>...</td>\n      <td>0.054435</td>\n      <td>0.005286</td>\n      <td>-0.066947</td>\n      <td>0.023258</td>\n      <td>-0.287017</td>\n      <td>-0.097975</td>\n      <td>-0.178884</td>\n      <td>-0.138027</td>\n      <td>-0.318293</td>\n      <td>0.500000</td>\n    </tr>\n    <tr>\n      <th>75%</th>\n      <td>-0.079706</td>\n      <td>0.151365</td>\n      <td>0.273505</td>\n      <td>0.039505</td>\n      <td>0.463881</td>\n      <td>0.044281</td>\n      <td>0.381119</td>\n      <td>0.308743</td>\n      <td>0.305460</td>\n      <td>0.256809</td>\n      <td>...</td>\n      <td>0.539822</td>\n      <td>0.569464</td>\n      <td>0.515155</td>\n      <td>0.525831</td>\n      <td>-0.198019</td>\n      <td>-0.074318</td>\n      <td>-0.036841</td>\n      <td>-0.002379</td>\n      <td>0.264024</td>\n      <td>1.000000</td>\n    </tr>\n    <tr>\n      <th>max</th>\n      <td>10.238873</td>\n      <td>21.620913</td>\n      <td>12.565668</td>\n      <td>12.303188</td>\n      <td>11.517330</td>\n      <td>18.100453</td>\n      <td>19.023871</td>\n      <td>14.488387</td>\n      <td>13.043171</td>\n      <td>8.233442</td>\n      <td>...</td>\n      <td>15.882220</td>\n      <td>13.595483</td>\n      <td>15.495354</td>\n      <td>15.010304</td>\n      <td>15.049450</td>\n      <td>23.156958</td>\n      <td>17.689525</td>\n      <td>21.882814</td>\n      <td>10.082669</td>\n      <td>1.000000</td>\n    </tr>\n  </tbody>\n</table>\n<p>8 rows × 546 columns</p>\n</div>"
     },
     "execution_count": 1,
     "metadata": {},
     "output_type": "execute_result"
    }
   ],
   "source": [
    "import pandas as pd\n",
    "import seaborn as sns\n",
    "from matplotlib import pyplot as plt\n",
    "\n",
    "\n",
    "output_directory = '/home/marco/DataspellProjects/thesis/output/pls/'\n",
    "\n",
    "palette = sns.color_palette([\"#2176AB\", \"#F97662\", \"#FFBF00\", \"#50C878\", \"#B284BE\"])\n",
    "sns.set(style=\"whitegrid\", font_scale=1.5)\n",
    "sns.set_palette(palette)\n",
    "\n",
    "df = pd.read_csv('../../data/ST001937_bm.csv')\n",
    "df.describe()"
   ]
  },
  {
   "cell_type": "markdown",
   "source": [
    "Performing SVM RBF classification and plotting the results"
   ],
   "metadata": {
    "collapsed": false
   },
   "id": "d733e11a92391b6a"
  },
  {
   "cell_type": "code",
   "execution_count": 2,
   "outputs": [],
   "source": [
    "\n",
    "from sklearn.cross_decomposition import PLSRegression\n",
    "from sklearn.metrics import roc_auc_score\n",
    "import numpy as np\n",
    "\n",
    "X = df.drop('Phenotypes', axis=1)\n",
    "y = df['Phenotypes']"
   ],
   "metadata": {
    "collapsed": false,
    "ExecuteTime": {
     "end_time": "2024-02-24T14:54:04.071415Z",
     "start_time": "2024-02-24T14:54:04.045922Z"
    }
   },
   "id": "eb1e9be984270fe"
  },
  {
   "cell_type": "code",
   "outputs": [
    {
     "name": "stdout",
     "output_type": "stream",
     "text": [
      "Accuracy: 0.7649999999999999\n",
      "AUC: 0.5\n"
     ]
    }
   ],
   "source": [
    "\n",
    "from sklearn.model_selection import StratifiedKFold\n",
    "from sklearn.svm import SVC\n",
    "\n",
    "cv = StratifiedKFold(n_splits=100, shuffle=True, random_state=42)\n",
    "svm = SVC()\n",
    "\n",
    "scores = dict()\n",
    "scores['accuracy'] = []\n",
    "scores['auc'] = []\n",
    "\n",
    "for train_index, test_index in cv.split(X, y):\n",
    "    X_train, X_test = X.iloc[train_index], X.iloc[test_index]\n",
    "    y_train, y_test = y[train_index], y[test_index]\n",
    "\n",
    "    svm.fit(X_train, y_train)\n",
    "    y_pred = svm.predict(X_test)\n",
    "\n",
    "    scores['accuracy'].append(svm.score(X_test, y_test))\n",
    "    scores['auc']=roc_auc_score(y_test, y_pred)\n",
    "\n",
    "print(f'Accuracy: {np.mean(scores[\"accuracy\"])}')\n",
    "print(f'AUC: {np.mean(scores[\"auc\"])}')"
   ],
   "metadata": {
    "collapsed": false,
    "ExecuteTime": {
     "end_time": "2024-02-24T14:54:06.969169Z",
     "start_time": "2024-02-24T14:54:04.071976Z"
    }
   },
   "id": "e1ae077729081c5f",
   "execution_count": 3
  }
 ],
 "metadata": {
  "kernelspec": {
   "display_name": "Python 3",
   "language": "python",
   "name": "python3"
  },
  "language_info": {
   "codemirror_mode": {
    "name": "ipython",
    "version": 2
   },
   "file_extension": ".py",
   "mimetype": "text/x-python",
   "name": "python",
   "nbconvert_exporter": "python",
   "pygments_lexer": "ipython2",
   "version": "2.7.6"
  }
 },
 "nbformat": 4,
 "nbformat_minor": 5
}
