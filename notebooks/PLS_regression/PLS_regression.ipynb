{
 "cells": [
  {
   "cell_type": "code",
   "execution_count": 1,
   "id": "initial_id",
   "metadata": {
    "collapsed": true,
    "ExecuteTime": {
     "end_time": "2023-10-19T10:11:03.489398Z",
     "start_time": "2023-10-19T10:10:59.670157200Z"
    }
   },
   "outputs": [],
   "source": [
    "import xmlrpc.client\n",
    "\n",
    "import numpy as np\n",
    "import pandas as pd\n",
    "from skimage.metrics import mean_squared_error\n",
    "from sklearn.cross_decomposition import PLSRegression\n",
    "from sklearn.feature_selection import SelectKBest\n",
    "from sklearn.feature_selection import chi2\n",
    "from sklearn.metrics import f1_score\n",
    "from sklearn.model_selection import train_test_split\n",
    "from sklearn.preprocessing import OneHotEncoder\n",
    "import matplotlib.pyplot as plt\n"
   ]
  },
  {
   "cell_type": "code",
   "execution_count": 2,
   "outputs": [],
   "source": [
    "df = pd.read_csv('../../data/ST001237_AN002055.csv')"
   ],
   "metadata": {
    "collapsed": false,
    "ExecuteTime": {
     "end_time": "2023-10-19T10:11:03.775321700Z",
     "start_time": "2023-10-19T10:11:03.485829800Z"
    }
   },
   "id": "4416ff303edb5f5b"
  },
  {
   "cell_type": "raw",
   "source": [
    "Dropping not needed variables, eg. Trial, raw file name"
   ],
   "metadata": {
    "collapsed": false
   },
   "id": "9a9083b53c47658"
  },
  {
   "cell_type": "code",
   "execution_count": 3,
   "outputs": [],
   "source": [
    "df.drop(['Sample ID', 'Trial', 'raw file name', 'OS_Censor (1 means the time is a censoring time and 0 means a failure time in OS)'], axis=1, inplace=True)"
   ],
   "metadata": {
    "collapsed": false,
    "ExecuteTime": {
     "end_time": "2023-10-19T10:11:03.890399200Z",
     "start_time": "2023-10-19T10:11:03.798863100Z"
    }
   },
   "id": "b9412c3f2e25b04e"
  },
  {
   "cell_type": "markdown",
   "source": [
    "Data cleaning and preprocessing"
   ],
   "metadata": {
    "collapsed": false
   },
   "id": "9d7818f8ac0098d4"
  },
  {
   "cell_type": "code",
   "execution_count": 4,
   "outputs": [
    {
     "data": {
      "text/plain": "        time_point  CRF_MSKCC_Risk_Group    Treatment  \\\ncount  1221.000000           1221.000000  1221.000000   \nmean     18.437346              1.169533     0.333333   \nstd      24.349007              0.713974     0.471598   \nmin       0.000000              0.000000     0.000000   \n25%       0.000000              1.000000     0.000000   \n50%       0.000000              1.000000     0.000000   \n75%      56.000000              2.000000     1.000000   \nmax      56.000000              2.000000     1.000000   \n\n       prior_antiangiogenic_regimens      os_time       Region          Age  \\\ncount                    1221.000000  1221.000000  1221.000000  1221.000000   \nmean                        0.226044    25.097461     1.203112    61.226044   \nstd                         0.418440    15.295274     0.814635    10.469378   \nmin                         0.000000     0.000000     0.000000    23.000000   \n25%                         0.000000    12.000000     0.000000    55.000000   \n50%                         0.000000    23.000000     1.000000    62.000000   \n75%                         0.000000    40.000000     2.000000    69.000000   \nmax                         1.000000    53.000000     2.000000    88.000000   \n\n               Sex         Race  Kynurenine_μM  ...  C36:2 PS plasmalogen  \\\ncount  1221.000000  1221.000000    1221.000000  ...           1221.000000   \nmean      0.747748     0.143325       6.582139  ...              5.791247   \nstd       0.434483     0.350548       1.499580  ...              0.249380   \nmin       0.000000     0.000000       3.373000  ...              5.272000   \n25%       0.000000     0.000000       5.581000  ...              5.650000   \n50%       1.000000     0.000000       6.337000  ...              5.755000   \n75%       1.000000     0.000000       7.257000  ...              5.869000   \nmax       1.000000     1.000000      15.001000  ...              7.061000   \n\n       C16:0 ceramide (d18:1)  C24:1 ceramide (d18:1)     C14:0 SM  \\\ncount             1221.000000             1221.000000  1221.000000   \nmean                 5.734799                6.380391     6.449352   \nstd                  0.173388                0.162301     0.162414   \nmin                  5.139000                5.853000     5.943000   \n25%                  5.618000                6.269000     6.344000   \n50%                  5.731000                6.379000     6.451000   \n75%                  5.854000                6.493000     6.558000   \nmax                  6.439000                7.088000     6.989000   \n\n          C16:1 SM     C16:0 SM     C18:1 SM     C18:2 SM     C18:0 SM  \\\ncount  1221.000000  1221.000000  1221.000000  1221.000000  1221.000000   \nmean      6.616477     7.470586     6.444245     4.787712     6.788397   \nstd       0.128217     0.104635     0.156408     0.310861     0.134258   \nmin       6.180000     7.113000     5.915000     2.684000     6.310000   \n25%       6.538000     7.403000     6.344000     4.627000     6.702000   \n50%       6.614000     7.473000     6.447000     4.811000     6.792000   \n75%       6.696000     7.539000     6.545000     4.990000     6.880000   \nmax       7.047000     7.818000     6.976000     5.861000     7.244000   \n\n          C20:0 SM  \ncount  1221.000000  \nmean      6.751793  \nstd       0.122432  \nmin       6.263000  \n25%       6.678000  \n50%       6.754000  \n75%       6.832000  \nmax       7.255000  \n\n[8 rows x 214 columns]",
      "text/html": "<div>\n<style scoped>\n    .dataframe tbody tr th:only-of-type {\n        vertical-align: middle;\n    }\n\n    .dataframe tbody tr th {\n        vertical-align: top;\n    }\n\n    .dataframe thead th {\n        text-align: right;\n    }\n</style>\n<table border=\"1\" class=\"dataframe\">\n  <thead>\n    <tr style=\"text-align: right;\">\n      <th></th>\n      <th>time_point</th>\n      <th>CRF_MSKCC_Risk_Group</th>\n      <th>Treatment</th>\n      <th>prior_antiangiogenic_regimens</th>\n      <th>os_time</th>\n      <th>Region</th>\n      <th>Age</th>\n      <th>Sex</th>\n      <th>Race</th>\n      <th>Kynurenine_μM</th>\n      <th>...</th>\n      <th>C36:2 PS plasmalogen</th>\n      <th>C16:0 ceramide (d18:1)</th>\n      <th>C24:1 ceramide (d18:1)</th>\n      <th>C14:0 SM</th>\n      <th>C16:1 SM</th>\n      <th>C16:0 SM</th>\n      <th>C18:1 SM</th>\n      <th>C18:2 SM</th>\n      <th>C18:0 SM</th>\n      <th>C20:0 SM</th>\n    </tr>\n  </thead>\n  <tbody>\n    <tr>\n      <th>count</th>\n      <td>1221.000000</td>\n      <td>1221.000000</td>\n      <td>1221.000000</td>\n      <td>1221.000000</td>\n      <td>1221.000000</td>\n      <td>1221.000000</td>\n      <td>1221.000000</td>\n      <td>1221.000000</td>\n      <td>1221.000000</td>\n      <td>1221.000000</td>\n      <td>...</td>\n      <td>1221.000000</td>\n      <td>1221.000000</td>\n      <td>1221.000000</td>\n      <td>1221.000000</td>\n      <td>1221.000000</td>\n      <td>1221.000000</td>\n      <td>1221.000000</td>\n      <td>1221.000000</td>\n      <td>1221.000000</td>\n      <td>1221.000000</td>\n    </tr>\n    <tr>\n      <th>mean</th>\n      <td>18.437346</td>\n      <td>1.169533</td>\n      <td>0.333333</td>\n      <td>0.226044</td>\n      <td>25.097461</td>\n      <td>1.203112</td>\n      <td>61.226044</td>\n      <td>0.747748</td>\n      <td>0.143325</td>\n      <td>6.582139</td>\n      <td>...</td>\n      <td>5.791247</td>\n      <td>5.734799</td>\n      <td>6.380391</td>\n      <td>6.449352</td>\n      <td>6.616477</td>\n      <td>7.470586</td>\n      <td>6.444245</td>\n      <td>4.787712</td>\n      <td>6.788397</td>\n      <td>6.751793</td>\n    </tr>\n    <tr>\n      <th>std</th>\n      <td>24.349007</td>\n      <td>0.713974</td>\n      <td>0.471598</td>\n      <td>0.418440</td>\n      <td>15.295274</td>\n      <td>0.814635</td>\n      <td>10.469378</td>\n      <td>0.434483</td>\n      <td>0.350548</td>\n      <td>1.499580</td>\n      <td>...</td>\n      <td>0.249380</td>\n      <td>0.173388</td>\n      <td>0.162301</td>\n      <td>0.162414</td>\n      <td>0.128217</td>\n      <td>0.104635</td>\n      <td>0.156408</td>\n      <td>0.310861</td>\n      <td>0.134258</td>\n      <td>0.122432</td>\n    </tr>\n    <tr>\n      <th>min</th>\n      <td>0.000000</td>\n      <td>0.000000</td>\n      <td>0.000000</td>\n      <td>0.000000</td>\n      <td>0.000000</td>\n      <td>0.000000</td>\n      <td>23.000000</td>\n      <td>0.000000</td>\n      <td>0.000000</td>\n      <td>3.373000</td>\n      <td>...</td>\n      <td>5.272000</td>\n      <td>5.139000</td>\n      <td>5.853000</td>\n      <td>5.943000</td>\n      <td>6.180000</td>\n      <td>7.113000</td>\n      <td>5.915000</td>\n      <td>2.684000</td>\n      <td>6.310000</td>\n      <td>6.263000</td>\n    </tr>\n    <tr>\n      <th>25%</th>\n      <td>0.000000</td>\n      <td>1.000000</td>\n      <td>0.000000</td>\n      <td>0.000000</td>\n      <td>12.000000</td>\n      <td>0.000000</td>\n      <td>55.000000</td>\n      <td>0.000000</td>\n      <td>0.000000</td>\n      <td>5.581000</td>\n      <td>...</td>\n      <td>5.650000</td>\n      <td>5.618000</td>\n      <td>6.269000</td>\n      <td>6.344000</td>\n      <td>6.538000</td>\n      <td>7.403000</td>\n      <td>6.344000</td>\n      <td>4.627000</td>\n      <td>6.702000</td>\n      <td>6.678000</td>\n    </tr>\n    <tr>\n      <th>50%</th>\n      <td>0.000000</td>\n      <td>1.000000</td>\n      <td>0.000000</td>\n      <td>0.000000</td>\n      <td>23.000000</td>\n      <td>1.000000</td>\n      <td>62.000000</td>\n      <td>1.000000</td>\n      <td>0.000000</td>\n      <td>6.337000</td>\n      <td>...</td>\n      <td>5.755000</td>\n      <td>5.731000</td>\n      <td>6.379000</td>\n      <td>6.451000</td>\n      <td>6.614000</td>\n      <td>7.473000</td>\n      <td>6.447000</td>\n      <td>4.811000</td>\n      <td>6.792000</td>\n      <td>6.754000</td>\n    </tr>\n    <tr>\n      <th>75%</th>\n      <td>56.000000</td>\n      <td>2.000000</td>\n      <td>1.000000</td>\n      <td>0.000000</td>\n      <td>40.000000</td>\n      <td>2.000000</td>\n      <td>69.000000</td>\n      <td>1.000000</td>\n      <td>0.000000</td>\n      <td>7.257000</td>\n      <td>...</td>\n      <td>5.869000</td>\n      <td>5.854000</td>\n      <td>6.493000</td>\n      <td>6.558000</td>\n      <td>6.696000</td>\n      <td>7.539000</td>\n      <td>6.545000</td>\n      <td>4.990000</td>\n      <td>6.880000</td>\n      <td>6.832000</td>\n    </tr>\n    <tr>\n      <th>max</th>\n      <td>56.000000</td>\n      <td>2.000000</td>\n      <td>1.000000</td>\n      <td>1.000000</td>\n      <td>53.000000</td>\n      <td>2.000000</td>\n      <td>88.000000</td>\n      <td>1.000000</td>\n      <td>1.000000</td>\n      <td>15.001000</td>\n      <td>...</td>\n      <td>7.061000</td>\n      <td>6.439000</td>\n      <td>7.088000</td>\n      <td>6.989000</td>\n      <td>7.047000</td>\n      <td>7.818000</td>\n      <td>6.976000</td>\n      <td>5.861000</td>\n      <td>7.244000</td>\n      <td>7.255000</td>\n    </tr>\n  </tbody>\n</table>\n<p>8 rows × 214 columns</p>\n</div>"
     },
     "execution_count": 4,
     "metadata": {},
     "output_type": "execute_result"
    }
   ],
   "source": [
    "\n",
    "# rename columns to be more readable\n",
    "df.rename(columns={'Time point': 'time_point',\n",
    "                   'OS (Overall Survival, months)': 'os_time',\n",
    "                   'Prior antiangiogenic regimens (≥2)': 'prior_antiangiogenic_regimens',\n",
    "                   'Derived_Age_at_Consent': 'Age'\n",
    "                   },\n",
    "          inplace=True)\n",
    "\n",
    "# Time point in days instead of weeks and baseline as 0 d\n",
    "df['time_point'] = df['time_point'].apply(lambda x: 0 if x == 'baseline' else int(str(x).replace('week ', '')) * 7)\n",
    "df['CRF_MSKCC_Risk_Group'] = df['CRF_MSKCC_Risk_Group'].apply(\n",
    "    lambda x: 0 if x == 'POOR' else 1 if x == 'INTERMEDIATE' else 2)\n",
    "df['Sex'] = df['Sex'].apply(lambda x: 0 if x == 'F' else 1)\n",
    "df['Treatment'] = df['Treatment'].apply(lambda x: 0 if x == 'NIVOLUMAB' else 1)\n",
    "df['Region'] = df['Region'].apply(lambda x: df['Region'].unique().tolist().index(x))\n",
    "df['Race'] = df['Race'].apply(lambda x: 0 if x == 'WHITE' else 1)\n",
    "df['prior_antiangiogenic_regimens'] = df['prior_antiangiogenic_regimens'].apply(lambda x: 0 if x == 'False' else int(x))\n",
    "df['os_time'] = df['os_time'].astype(int)\n",
    "\n",
    "#replace metabolites na values with mean\n",
    "df.fillna(df.mean(), inplace=True)\n"
   ],
   "metadata": {
    "collapsed": false,
    "ExecuteTime": {
     "end_time": "2023-10-19T10:11:05.290455800Z",
     "start_time": "2023-10-19T10:11:03.913401500Z"
    }
   },
   "id": "d441dbed0918191d"
  },
  {
   "cell_type": "markdown",
   "source": [
    "Addestra un modello PLS"
   ],
   "metadata": {
    "collapsed": false
   },
   "id": "ee5515eec2e7e7"
  },
  {
   "cell_type": "code",
   "execution_count": 62,
   "outputs": [],
   "source": [
    "X = df.drop(['CRF_MSKCC_Risk_Group'], axis=1)\n",
    "y = df['CRF_MSKCC_Risk_Group'].values.reshape(-1, 1)\n"
   ],
   "metadata": {
    "collapsed": false,
    "ExecuteTime": {
     "end_time": "2023-10-13T12:07:51.378599600Z",
     "start_time": "2023-10-13T12:07:51.378599600Z"
    }
   },
   "id": "4a6a68c0b87773af"
  },
  {
   "cell_type": "code",
   "execution_count": 63,
   "outputs": [
    {
     "name": "stdout",
     "output_type": "stream",
     "text": [
      "Errore quadratico medio: 0.39451908581549255\n"
     ]
    }
   ],
   "source": [
    "# Suddividi i dati in set di addestramento e test\n",
    "X_train, X_test, y_train, y_test = train_test_split(X, y, test_size=0.2, random_state=0)\n",
    "\n",
    "# Crea un modello PLS con un numero di componenti specificato\n",
    "num_componenti = 2\n",
    "modello_pls = PLSRegression(n_components=num_componenti)\n",
    "\n",
    "# Addestra il modello PLS\n",
    "modello_pls.fit(X_train, y_train)\n",
    "\n",
    "# Effettua previsioni sul set di test\n",
    "previsioni = modello_pls.predict(X_test)\n",
    "\n",
    "# Calcola l'errore quadratico medio (MSE)\n",
    "mse = mean_squared_error(y_test, previsioni)\n",
    "print(f\"Errore quadratico medio: {mse}\")\n"
   ],
   "metadata": {
    "collapsed": false,
    "ExecuteTime": {
     "end_time": "2023-10-13T12:07:51.611562900Z",
     "start_time": "2023-10-13T12:07:51.387139100Z"
    }
   },
   "id": "28edd2bff40d179b"
  }
 ],
 "metadata": {
  "kernelspec": {
   "display_name": "Python 3",
   "language": "python",
   "name": "python3"
  },
  "language_info": {
   "codemirror_mode": {
    "name": "ipython",
    "version": 2
   },
   "file_extension": ".py",
   "mimetype": "text/x-python",
   "name": "python",
   "nbconvert_exporter": "python",
   "pygments_lexer": "ipython2",
   "version": "2.7.6"
  }
 },
 "nbformat": 4,
 "nbformat_minor": 5
}
