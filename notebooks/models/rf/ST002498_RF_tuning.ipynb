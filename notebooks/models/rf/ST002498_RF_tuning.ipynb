{
 "cells": [
  {
   "cell_type": "code",
   "outputs": [
    {
     "data": {
      "text/plain": "              Age      Height      Weight  S-1-pyrroline-5-carboxylate  \\\ncount  626.000000  626.000000  626.000000                   626.000000   \nmean     0.007425    0.010053    0.000285                     0.011043   \nstd      0.992131    0.967925    0.986467                     1.008773   \nmin     -3.677439  -10.675699   -5.417313                    -1.998392   \n25%     -0.657136   -0.205737   -0.578473                    -0.708038   \n50%      0.039857    0.016030   -0.106391                    -0.151390   \n75%      0.620684    0.325935    0.483711                     0.558186   \nmax      2.363167    1.565556    3.876800                     4.389207   \n\n       spermidine  1-methylnicotinamide  3-phosphoglycerate  \\\ncount  626.000000            626.000000          626.000000   \nmean    -0.008243             -0.007791           -0.010447   \nstd      0.964372              0.964043            0.970150   \nmin     -0.540645             -0.219073           -1.291631   \n25%     -0.215238             -0.163752           -0.462960   \n50%     -0.109196             -0.139170           -0.226522   \n75%      0.004333             -0.097251            0.110589   \nmax     20.596352             13.796128            8.476954   \n\n       5,6-dihydrothymine  hypoxanthine  quinolinate  ...     X-25519  \\\ncount          626.000000    626.000000   626.000000  ...  626.000000   \nmean             0.017833     -0.018459    -0.003517  ...   -0.006615   \nstd              0.981421      0.980179     0.969777  ...    0.976524   \nmin             -4.367928     -1.453987    -0.868538  ...   -1.220973   \n25%             -0.615635     -0.686302    -0.361391  ...   -0.470149   \n50%             -0.037622     -0.268016    -0.198360  ...   -0.224252   \n75%              0.570203      0.446424     0.090995  ...    0.127872   \nmax              3.702734      5.256337    15.695124  ...   10.537399   \n\n          X-25520     X-25790     X-25810     X-25828     X-25855     X-25948  \\\ncount  626.000000  626.000000  626.000000  626.000000  626.000000  626.000000   \nmean    -0.004873   -0.007584    0.000437    0.015021   -0.006455   -0.008275   \nstd      0.971150    0.964506    0.969813    0.984631    0.964650    0.964612   \nmin     -0.857353   -0.425937   -0.358053   -3.294444   -0.721937   -0.536808   \n25%     -0.456672   -0.203076   -0.279605   -0.642269   -0.220701   -0.207818   \n50%     -0.268090   -0.114908   -0.215108    0.100297   -0.104594   -0.133198   \n75%      0.120560   -0.001271   -0.030181    0.698217    0.011532   -0.019935   \nmax     13.784214   18.979855   19.947659    4.833957   16.115889   16.932171   \n\n          X-25957     X-26097  Diagnosis  \ncount  626.000000  626.000000   626.0000  \nmean    -0.013349   -0.003308     0.5000  \nstd      0.974690    0.971573     0.5004  \nmin     -1.754904   -2.530248     0.0000  \n25%     -0.359027   -0.459041     0.0000  \n50%     -0.022854   -0.143522     0.5000  \n75%      0.309724    0.286015     1.0000  \nmax     11.767541   10.014955     1.0000  \n\n[8 rows x 279 columns]",
      "text/html": "<div>\n<style scoped>\n    .dataframe tbody tr th:only-of-type {\n        vertical-align: middle;\n    }\n\n    .dataframe tbody tr th {\n        vertical-align: top;\n    }\n\n    .dataframe thead th {\n        text-align: right;\n    }\n</style>\n<table border=\"1\" class=\"dataframe\">\n  <thead>\n    <tr style=\"text-align: right;\">\n      <th></th>\n      <th>Age</th>\n      <th>Height</th>\n      <th>Weight</th>\n      <th>S-1-pyrroline-5-carboxylate</th>\n      <th>spermidine</th>\n      <th>1-methylnicotinamide</th>\n      <th>3-phosphoglycerate</th>\n      <th>5,6-dihydrothymine</th>\n      <th>hypoxanthine</th>\n      <th>quinolinate</th>\n      <th>...</th>\n      <th>X-25519</th>\n      <th>X-25520</th>\n      <th>X-25790</th>\n      <th>X-25810</th>\n      <th>X-25828</th>\n      <th>X-25855</th>\n      <th>X-25948</th>\n      <th>X-25957</th>\n      <th>X-26097</th>\n      <th>Diagnosis</th>\n    </tr>\n  </thead>\n  <tbody>\n    <tr>\n      <th>count</th>\n      <td>626.000000</td>\n      <td>626.000000</td>\n      <td>626.000000</td>\n      <td>626.000000</td>\n      <td>626.000000</td>\n      <td>626.000000</td>\n      <td>626.000000</td>\n      <td>626.000000</td>\n      <td>626.000000</td>\n      <td>626.000000</td>\n      <td>...</td>\n      <td>626.000000</td>\n      <td>626.000000</td>\n      <td>626.000000</td>\n      <td>626.000000</td>\n      <td>626.000000</td>\n      <td>626.000000</td>\n      <td>626.000000</td>\n      <td>626.000000</td>\n      <td>626.000000</td>\n      <td>626.0000</td>\n    </tr>\n    <tr>\n      <th>mean</th>\n      <td>0.007425</td>\n      <td>0.010053</td>\n      <td>0.000285</td>\n      <td>0.011043</td>\n      <td>-0.008243</td>\n      <td>-0.007791</td>\n      <td>-0.010447</td>\n      <td>0.017833</td>\n      <td>-0.018459</td>\n      <td>-0.003517</td>\n      <td>...</td>\n      <td>-0.006615</td>\n      <td>-0.004873</td>\n      <td>-0.007584</td>\n      <td>0.000437</td>\n      <td>0.015021</td>\n      <td>-0.006455</td>\n      <td>-0.008275</td>\n      <td>-0.013349</td>\n      <td>-0.003308</td>\n      <td>0.5000</td>\n    </tr>\n    <tr>\n      <th>std</th>\n      <td>0.992131</td>\n      <td>0.967925</td>\n      <td>0.986467</td>\n      <td>1.008773</td>\n      <td>0.964372</td>\n      <td>0.964043</td>\n      <td>0.970150</td>\n      <td>0.981421</td>\n      <td>0.980179</td>\n      <td>0.969777</td>\n      <td>...</td>\n      <td>0.976524</td>\n      <td>0.971150</td>\n      <td>0.964506</td>\n      <td>0.969813</td>\n      <td>0.984631</td>\n      <td>0.964650</td>\n      <td>0.964612</td>\n      <td>0.974690</td>\n      <td>0.971573</td>\n      <td>0.5004</td>\n    </tr>\n    <tr>\n      <th>min</th>\n      <td>-3.677439</td>\n      <td>-10.675699</td>\n      <td>-5.417313</td>\n      <td>-1.998392</td>\n      <td>-0.540645</td>\n      <td>-0.219073</td>\n      <td>-1.291631</td>\n      <td>-4.367928</td>\n      <td>-1.453987</td>\n      <td>-0.868538</td>\n      <td>...</td>\n      <td>-1.220973</td>\n      <td>-0.857353</td>\n      <td>-0.425937</td>\n      <td>-0.358053</td>\n      <td>-3.294444</td>\n      <td>-0.721937</td>\n      <td>-0.536808</td>\n      <td>-1.754904</td>\n      <td>-2.530248</td>\n      <td>0.0000</td>\n    </tr>\n    <tr>\n      <th>25%</th>\n      <td>-0.657136</td>\n      <td>-0.205737</td>\n      <td>-0.578473</td>\n      <td>-0.708038</td>\n      <td>-0.215238</td>\n      <td>-0.163752</td>\n      <td>-0.462960</td>\n      <td>-0.615635</td>\n      <td>-0.686302</td>\n      <td>-0.361391</td>\n      <td>...</td>\n      <td>-0.470149</td>\n      <td>-0.456672</td>\n      <td>-0.203076</td>\n      <td>-0.279605</td>\n      <td>-0.642269</td>\n      <td>-0.220701</td>\n      <td>-0.207818</td>\n      <td>-0.359027</td>\n      <td>-0.459041</td>\n      <td>0.0000</td>\n    </tr>\n    <tr>\n      <th>50%</th>\n      <td>0.039857</td>\n      <td>0.016030</td>\n      <td>-0.106391</td>\n      <td>-0.151390</td>\n      <td>-0.109196</td>\n      <td>-0.139170</td>\n      <td>-0.226522</td>\n      <td>-0.037622</td>\n      <td>-0.268016</td>\n      <td>-0.198360</td>\n      <td>...</td>\n      <td>-0.224252</td>\n      <td>-0.268090</td>\n      <td>-0.114908</td>\n      <td>-0.215108</td>\n      <td>0.100297</td>\n      <td>-0.104594</td>\n      <td>-0.133198</td>\n      <td>-0.022854</td>\n      <td>-0.143522</td>\n      <td>0.5000</td>\n    </tr>\n    <tr>\n      <th>75%</th>\n      <td>0.620684</td>\n      <td>0.325935</td>\n      <td>0.483711</td>\n      <td>0.558186</td>\n      <td>0.004333</td>\n      <td>-0.097251</td>\n      <td>0.110589</td>\n      <td>0.570203</td>\n      <td>0.446424</td>\n      <td>0.090995</td>\n      <td>...</td>\n      <td>0.127872</td>\n      <td>0.120560</td>\n      <td>-0.001271</td>\n      <td>-0.030181</td>\n      <td>0.698217</td>\n      <td>0.011532</td>\n      <td>-0.019935</td>\n      <td>0.309724</td>\n      <td>0.286015</td>\n      <td>1.0000</td>\n    </tr>\n    <tr>\n      <th>max</th>\n      <td>2.363167</td>\n      <td>1.565556</td>\n      <td>3.876800</td>\n      <td>4.389207</td>\n      <td>20.596352</td>\n      <td>13.796128</td>\n      <td>8.476954</td>\n      <td>3.702734</td>\n      <td>5.256337</td>\n      <td>15.695124</td>\n      <td>...</td>\n      <td>10.537399</td>\n      <td>13.784214</td>\n      <td>18.979855</td>\n      <td>19.947659</td>\n      <td>4.833957</td>\n      <td>16.115889</td>\n      <td>16.932171</td>\n      <td>11.767541</td>\n      <td>10.014955</td>\n      <td>1.0000</td>\n    </tr>\n  </tbody>\n</table>\n<p>8 rows × 279 columns</p>\n</div>"
     },
     "execution_count": 43,
     "metadata": {},
     "output_type": "execute_result"
    }
   ],
   "source": [
    "import pandas as pd\n",
    "from matplotlib import pyplot as plt\n",
    "import seaborn as sns\n",
    "\n",
    "output_directory = '/home/marco/DataspellProjects/thesis/output/rf/'\n",
    "\n",
    "palette = sns.color_palette([\"#2176AB\", \"#F97662\", \"#FFBF00\", \"#50C878\", \"#B284BE\"])\n",
    "sns.set(style=\"whitegrid\", font_scale=1.5)\n",
    "sns.set_palette(palette)\n",
    "\n",
    "df = pd.read_csv('../../../data/ST002498_z.csv')\n",
    "df.describe()"
   ],
   "metadata": {
    "collapsed": false,
    "ExecuteTime": {
     "end_time": "2024-02-25T13:30:06.269025Z",
     "start_time": "2024-02-25T13:30:06.074553Z"
    }
   },
   "id": "c3086fb8ec31ffe3",
   "execution_count": 43
  },
  {
   "cell_type": "code",
   "outputs": [],
   "source": [
    "#import random forest model\n",
    "from sklearn.ensemble import RandomForestClassifier\n",
    "import numpy as np\n",
    "\n",
    "X = df.drop(columns=['Diagnosis'])\n",
    "y = df['Diagnosis']"
   ],
   "metadata": {
    "collapsed": false,
    "ExecuteTime": {
     "end_time": "2024-02-25T13:30:06.271939Z",
     "start_time": "2024-02-25T13:30:06.269696Z"
    }
   },
   "id": "2c566bef3bf2d640",
   "execution_count": 44
  },
  {
   "cell_type": "code",
   "outputs": [
    {
     "name": "stdout",
     "output_type": "stream",
     "text": [
      "Fitting 3 folds for each of 110 candidates, totalling 330 fits\n",
      "Miglior set di parametri trovato:\n",
      "{'criterion': 'gini', 'max_depth': None, 'max_leaf_nodes': None, 'min_samples_leaf': 0.01, 'min_samples_split': 2, 'n_estimators': 300}\n",
      "Punteggio di accuratezza migliore sul set di validazione:\n",
      "0.5894828855355171\n"
     ]
    }
   ],
   "source": [
    "from sklearn.ensemble import AdaBoostClassifier\n",
    "from sklearn.model_selection import GridSearchCV\n",
    "from sklearn.datasets import load_iris\n",
    "\n",
    "# Definisci il classificatore AdaBoost\n",
    "rf = RandomForestClassifier(random_state=42, n_jobs=-1)\n",
    "\n",
    "# Number of trees in random forest\n",
    "# Parameter Dictionary\n",
    "depth = [None]\n",
    "n_estimators = [int(x) for x in np.linspace(start = 200, stop = 500, num = 10)]\n",
    "leaf_asfraction = [0.01, 0.05, 0.1, 0.15, 0.2, 0.25, 0.3, 0.35, 0.4, 0.45, 0.5]\n",
    "# Create the random grid\n",
    "param_grid = {'n_estimators': n_estimators,\n",
    "              'max_depth': depth,\n",
    "              'min_samples_leaf': leaf_asfraction,\n",
    "              'criterion': ['gini'],\n",
    "              'min_samples_split': [2],\n",
    "              'max_leaf_nodes': [None],\n",
    "              }\n",
    "\n",
    "# Inizializza la Grid Search\n",
    "grid_search = GridSearchCV(rf, param_grid, cv=3, scoring='accuracy', n_jobs=-1, verbose=1)\n",
    "\n",
    "# Esegui la ricerca della griglia\n",
    "grid_search.fit(X, y)\n",
    "\n",
    "# Stampa i risultati\n",
    "print(\"Miglior set di parametri trovato:\")\n",
    "print(grid_search.best_params_)\n",
    "print(\"Punteggio di accuratezza migliore sul set di validazione:\")\n",
    "print(grid_search.best_score_)\n"
   ],
   "metadata": {
    "collapsed": false,
    "ExecuteTime": {
     "end_time": "2024-02-25T13:30:22.049298Z",
     "start_time": "2024-02-25T13:30:06.272352Z"
    }
   },
   "id": "8521232050345c4",
   "execution_count": 45
  },
  {
   "cell_type": "code",
   "outputs": [
    {
     "ename": "ValueError",
     "evalue": "zero-size array to reduction operation fmin which has no identity",
     "output_type": "error",
     "traceback": [
      "\u001B[0;31m---------------------------------------------------------------------------\u001B[0m",
      "\u001B[0;31mValueError\u001B[0m                                Traceback (most recent call last)",
      "Cell \u001B[0;32mIn[46], line 11\u001B[0m\n\u001B[1;32m      8\u001B[0m results \u001B[38;5;241m=\u001B[39m results\u001B[38;5;241m.\u001B[39msort_index(ascending\u001B[38;5;241m=\u001B[39m\u001B[38;5;28;01mFalse\u001B[39;00m)\n\u001B[1;32m     10\u001B[0m plt\u001B[38;5;241m.\u001B[39mfigure(figsize\u001B[38;5;241m=\u001B[39m(\u001B[38;5;241m10\u001B[39m, \u001B[38;5;241m8\u001B[39m))\n\u001B[0;32m---> 11\u001B[0m sns\u001B[38;5;241m.\u001B[39mheatmap(results, annot\u001B[38;5;241m=\u001B[39m\u001B[38;5;28;01mFalse\u001B[39;00m, fmt\u001B[38;5;241m=\u001B[39m\u001B[38;5;124m\"\u001B[39m\u001B[38;5;124m.3f\u001B[39m\u001B[38;5;124m\"\u001B[39m, linewidths\u001B[38;5;241m=\u001B[39m\u001B[38;5;241m.5\u001B[39m, cmap\u001B[38;5;241m=\u001B[39m\u001B[38;5;124m'\u001B[39m\u001B[38;5;124mviridis\u001B[39m\u001B[38;5;124m'\u001B[39m)\n\u001B[1;32m     12\u001B[0m plt\u001B[38;5;241m.\u001B[39mtitle(\u001B[38;5;124m'\u001B[39m\u001B[38;5;124mGrid Search Mean Test Scores\u001B[39m\u001B[38;5;124m'\u001B[39m)\n\u001B[1;32m     13\u001B[0m plt\u001B[38;5;241m.\u001B[39mshow()\n",
      "File \u001B[0;32m~/anaconda3/lib/python3.11/site-packages/seaborn/matrix.py:446\u001B[0m, in \u001B[0;36mheatmap\u001B[0;34m(data, vmin, vmax, cmap, center, robust, annot, fmt, annot_kws, linewidths, linecolor, cbar, cbar_kws, cbar_ax, square, xticklabels, yticklabels, mask, ax, **kwargs)\u001B[0m\n\u001B[1;32m    365\u001B[0m \u001B[38;5;250m\u001B[39m\u001B[38;5;124;03m\"\"\"Plot rectangular data as a color-encoded matrix.\u001B[39;00m\n\u001B[1;32m    366\u001B[0m \n\u001B[1;32m    367\u001B[0m \u001B[38;5;124;03mThis is an Axes-level function and will draw the heatmap into the\u001B[39;00m\n\u001B[0;32m   (...)\u001B[0m\n\u001B[1;32m    443\u001B[0m \n\u001B[1;32m    444\u001B[0m \u001B[38;5;124;03m\"\"\"\u001B[39;00m\n\u001B[1;32m    445\u001B[0m \u001B[38;5;66;03m# Initialize the plotter object\u001B[39;00m\n\u001B[0;32m--> 446\u001B[0m plotter \u001B[38;5;241m=\u001B[39m _HeatMapper(data, vmin, vmax, cmap, center, robust, annot, fmt,\n\u001B[1;32m    447\u001B[0m                       annot_kws, cbar, cbar_kws, xticklabels,\n\u001B[1;32m    448\u001B[0m                       yticklabels, mask)\n\u001B[1;32m    450\u001B[0m \u001B[38;5;66;03m# Add the pcolormesh kwargs here\u001B[39;00m\n\u001B[1;32m    451\u001B[0m kwargs[\u001B[38;5;124m\"\u001B[39m\u001B[38;5;124mlinewidths\u001B[39m\u001B[38;5;124m\"\u001B[39m] \u001B[38;5;241m=\u001B[39m linewidths\n",
      "File \u001B[0;32m~/anaconda3/lib/python3.11/site-packages/seaborn/matrix.py:163\u001B[0m, in \u001B[0;36m_HeatMapper.__init__\u001B[0;34m(self, data, vmin, vmax, cmap, center, robust, annot, fmt, annot_kws, cbar, cbar_kws, xticklabels, yticklabels, mask)\u001B[0m\n\u001B[1;32m    160\u001B[0m \u001B[38;5;28mself\u001B[39m\u001B[38;5;241m.\u001B[39mylabel \u001B[38;5;241m=\u001B[39m ylabel \u001B[38;5;28;01mif\u001B[39;00m ylabel \u001B[38;5;129;01mis\u001B[39;00m \u001B[38;5;129;01mnot\u001B[39;00m \u001B[38;5;28;01mNone\u001B[39;00m \u001B[38;5;28;01melse\u001B[39;00m \u001B[38;5;124m\"\u001B[39m\u001B[38;5;124m\"\u001B[39m\n\u001B[1;32m    162\u001B[0m \u001B[38;5;66;03m# Determine good default values for the colormapping\u001B[39;00m\n\u001B[0;32m--> 163\u001B[0m \u001B[38;5;28mself\u001B[39m\u001B[38;5;241m.\u001B[39m_determine_cmap_params(plot_data, vmin, vmax,\n\u001B[1;32m    164\u001B[0m                             cmap, center, robust)\n\u001B[1;32m    166\u001B[0m \u001B[38;5;66;03m# Sort out the annotations\u001B[39;00m\n\u001B[1;32m    167\u001B[0m \u001B[38;5;28;01mif\u001B[39;00m annot \u001B[38;5;129;01mis\u001B[39;00m \u001B[38;5;28;01mNone\u001B[39;00m \u001B[38;5;129;01mor\u001B[39;00m annot \u001B[38;5;129;01mis\u001B[39;00m \u001B[38;5;28;01mFalse\u001B[39;00m:\n",
      "File \u001B[0;32m~/anaconda3/lib/python3.11/site-packages/seaborn/matrix.py:202\u001B[0m, in \u001B[0;36m_HeatMapper._determine_cmap_params\u001B[0;34m(self, plot_data, vmin, vmax, cmap, center, robust)\u001B[0m\n\u001B[1;32m    200\u001B[0m         vmin \u001B[38;5;241m=\u001B[39m np\u001B[38;5;241m.\u001B[39mnanpercentile(calc_data, \u001B[38;5;241m2\u001B[39m)\n\u001B[1;32m    201\u001B[0m     \u001B[38;5;28;01melse\u001B[39;00m:\n\u001B[0;32m--> 202\u001B[0m         vmin \u001B[38;5;241m=\u001B[39m np\u001B[38;5;241m.\u001B[39mnanmin(calc_data)\n\u001B[1;32m    203\u001B[0m \u001B[38;5;28;01mif\u001B[39;00m vmax \u001B[38;5;129;01mis\u001B[39;00m \u001B[38;5;28;01mNone\u001B[39;00m:\n\u001B[1;32m    204\u001B[0m     \u001B[38;5;28;01mif\u001B[39;00m robust:\n",
      "File \u001B[0;32m<__array_function__ internals>:180\u001B[0m, in \u001B[0;36mnanmin\u001B[0;34m(*args, **kwargs)\u001B[0m\n",
      "File \u001B[0;32m~/anaconda3/lib/python3.11/site-packages/numpy/lib/nanfunctions.py:343\u001B[0m, in \u001B[0;36mnanmin\u001B[0;34m(a, axis, out, keepdims, initial, where)\u001B[0m\n\u001B[1;32m    338\u001B[0m     kwargs[\u001B[38;5;124m'\u001B[39m\u001B[38;5;124mwhere\u001B[39m\u001B[38;5;124m'\u001B[39m] \u001B[38;5;241m=\u001B[39m where\n\u001B[1;32m    340\u001B[0m \u001B[38;5;28;01mif\u001B[39;00m \u001B[38;5;28mtype\u001B[39m(a) \u001B[38;5;129;01mis\u001B[39;00m np\u001B[38;5;241m.\u001B[39mndarray \u001B[38;5;129;01mand\u001B[39;00m a\u001B[38;5;241m.\u001B[39mdtype \u001B[38;5;241m!=\u001B[39m np\u001B[38;5;241m.\u001B[39mobject_:\n\u001B[1;32m    341\u001B[0m     \u001B[38;5;66;03m# Fast, but not safe for subclasses of ndarray, or object arrays,\u001B[39;00m\n\u001B[1;32m    342\u001B[0m     \u001B[38;5;66;03m# which do not implement isnan (gh-9009), or fmin correctly (gh-8975)\u001B[39;00m\n\u001B[0;32m--> 343\u001B[0m     res \u001B[38;5;241m=\u001B[39m np\u001B[38;5;241m.\u001B[39mfmin\u001B[38;5;241m.\u001B[39mreduce(a, axis\u001B[38;5;241m=\u001B[39maxis, out\u001B[38;5;241m=\u001B[39mout, \u001B[38;5;241m*\u001B[39m\u001B[38;5;241m*\u001B[39mkwargs)\n\u001B[1;32m    344\u001B[0m     \u001B[38;5;28;01mif\u001B[39;00m np\u001B[38;5;241m.\u001B[39misnan(res)\u001B[38;5;241m.\u001B[39many():\n\u001B[1;32m    345\u001B[0m         warnings\u001B[38;5;241m.\u001B[39mwarn(\u001B[38;5;124m\"\u001B[39m\u001B[38;5;124mAll-NaN slice encountered\u001B[39m\u001B[38;5;124m\"\u001B[39m, \u001B[38;5;167;01mRuntimeWarning\u001B[39;00m,\n\u001B[1;32m    346\u001B[0m                       stacklevel\u001B[38;5;241m=\u001B[39m\u001B[38;5;241m3\u001B[39m)\n",
      "\u001B[0;31mValueError\u001B[0m: zero-size array to reduction operation fmin which has no identity"
     ]
    },
    {
     "data": {
      "text/plain": "<Figure size 1000x800 with 0 Axes>"
     },
     "metadata": {},
     "output_type": "display_data"
    }
   ],
   "source": [
    "#visualize the results of the grid search in a heatmap\n",
    "\n",
    "results = pd.DataFrame(grid_search.cv_results_)\n",
    "results = results.sort_values(by='mean_test_score', ascending=False)\n",
    "results = results.reset_index(drop=True)\n",
    "results = results[['param_n_estimators', 'param_max_depth', 'param_min_samples_leaf', 'mean_test_score']]\n",
    "results = results.pivot_table(index='param_max_depth', columns='param_n_estimators', values='mean_test_score')\n",
    "results = results.sort_index(ascending=False)\n",
    "\n",
    "plt.figure(figsize=(10, 8))\n",
    "sns.heatmap(results, annot=False, fmt=\".3f\", linewidths=.5, cmap='viridis')\n",
    "plt.title('Grid Search Mean Test Scores')\n",
    "plt.show()"
   ],
   "metadata": {
    "collapsed": false,
    "ExecuteTime": {
     "end_time": "2024-02-25T13:30:22.266994Z",
     "start_time": "2024-02-25T13:30:22.050096Z"
    }
   },
   "id": "c63d7433d0341185",
   "execution_count": 46
  },
  {
   "cell_type": "code",
   "outputs": [],
   "source": [],
   "metadata": {
    "collapsed": false
   },
   "id": "401f4bf9bf3b1eb6",
   "execution_count": null
  }
 ],
 "metadata": {
  "kernelspec": {
   "display_name": "Python 3",
   "language": "python",
   "name": "python3"
  },
  "language_info": {
   "codemirror_mode": {
    "name": "ipython",
    "version": 2
   },
   "file_extension": ".py",
   "mimetype": "text/x-python",
   "name": "python",
   "nbconvert_exporter": "python",
   "pygments_lexer": "ipython2",
   "version": "2.7.6"
  }
 },
 "nbformat": 4,
 "nbformat_minor": 5
}
