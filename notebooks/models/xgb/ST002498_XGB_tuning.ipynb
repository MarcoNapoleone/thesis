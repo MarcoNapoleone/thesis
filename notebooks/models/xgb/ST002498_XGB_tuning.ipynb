{
 "cells": [
  {
   "cell_type": "code",
   "execution_count": 10,
   "id": "initial_id",
   "metadata": {
    "collapsed": true,
    "ExecuteTime": {
     "end_time": "2024-02-23T17:05:25.128799Z",
     "start_time": "2024-02-23T17:05:25.104997Z"
    }
   },
   "outputs": [],
   "source": [
    "import numpy as np\n",
    "import pandas as pd\n",
    "from matplotlib import pyplot as plt\n",
    "import seaborn as sns\n",
    "\n",
    "output_directory = '/home/marco/DataspellProjects/thesis/output/pls/'\n",
    "\n",
    "palette = sns.color_palette([\"#2176AB\", \"#F97662\", \"#FFBF00\", \"#50C878\", \"#B284BE\"])\n",
    "sns.set(style=\"whitegrid\", font_scale=1.5)\n",
    "sns.set_palette(palette)\n",
    "\n",
    "df = pd.read_csv('../../../data/ST002498_z.csv')"
   ]
  },
  {
   "cell_type": "markdown",
   "source": [
    "Performing extreme gradient boost model"
   ],
   "metadata": {
    "collapsed": false
   },
   "id": "d733e11a92391b6a"
  },
  {
   "cell_type": "code",
   "execution_count": 11,
   "outputs": [],
   "source": [
    "\n",
    "# Split the data into features (X) and target variable (y)\n",
    "X = df.drop(columns=['Diagnosis'])\n",
    "y = df['Diagnosis']"
   ],
   "metadata": {
    "collapsed": false,
    "ExecuteTime": {
     "end_time": "2024-02-23T17:05:25.131880Z",
     "start_time": "2024-02-23T17:05:25.129688Z"
    }
   },
   "id": "654248aff5fba2f2"
  },
  {
   "cell_type": "code",
   "outputs": [
    {
     "name": "stdout",
     "output_type": "stream",
     "text": [
      "100%|██████████| 1000/1000 [01:21<00:00, 12.20trial/s, best loss: -0.6818181818181818]\n",
      "Miglior score AUC: 0.5\n",
      "Miglior modello: XGBClassifier(base_score=None, booster=None, callbacks=None,\n",
      "              colsample_bylevel=None, colsample_bynode=None,\n",
      "              colsample_bytree=None, early_stopping_rounds=None,\n",
      "              enable_categorical=False, eval_metric=None, feature_types=None,\n",
      "              gamma=16.237646658034798, gpu_id=None, grow_policy=None,\n",
      "              importance_type=None, interaction_constraints=None,\n",
      "              learning_rate=None, max_bin=None, max_cat_threshold=None,\n",
      "              max_cat_to_onehot=None, max_delta_step=None, max_depth=3,\n",
      "              max_leaves=None, min_child_weight=None, missing=nan,\n",
      "              monotone_constraints=None, n_estimators=200, n_jobs=None,\n",
      "              num_parallel_tree=None, predictor=None, random_state=None, ...)\n",
      "Migliori parametri: {'gamma': 16.237646658034798, 'learning_rate': 0.2054963925732792, 'max_depth': 3.0, 'n_estimators': 200.0, 'seed': 0, 'subsample': 0.604128545787837}\n"
     ]
    }
   ],
   "source": [
    "from sklearn.model_selection import train_test_split\n",
    "import xgboost as xgb\n",
    "from sklearn.metrics import roc_auc_score\n",
    "from hyperopt import STATUS_OK, Trials, fmin, hp, tpe, space_eval\n",
    "import numpy as np\n",
    "\n",
    "X_train, X_test, y_train, y_test = train_test_split(X, y, test_size=0.3, random_state=0)\n",
    "\n",
    "space = {\n",
    "    'max_depth': hp.quniform(\"max_depth\", 3, 30, 1),  # Aumentato il range di max_depth\n",
    "    'gamma': hp.uniform('gamma', 0, 20),  # Aumentato il range di gamma\n",
    "    'n_estimators': hp.quniform('n_estimators', 100, 1000, 50),  # Aumentato il range di n_estimators\n",
    "    'learning_rate': hp.loguniform('learning_rate', np.log(0.01), np.log(0.3)),  # Aggiunto learning_rate\n",
    "    'subsample': hp.uniform('subsample', 0.5, 1.0),  # Aggiunto subsample\n",
    "    'seed': 0\n",
    "}\n",
    "\n",
    "def objective(space):\n",
    "    clf = xgb.XGBClassifier(\n",
    "        n_estimators=int(space['n_estimators']),\n",
    "        max_depth=int(space['max_depth']),\n",
    "        gamma=space['gamma'],\n",
    "        learning_rate=space['learning_rate'],\n",
    "        subsample=space['subsample'],\n",
    "        eval_metric=\"auc\",\n",
    "        callbacks=[xgb.callback.EarlyStopping(rounds=10, metric_name='auc', save_best=True)]\n",
    "    )\n",
    "\n",
    "    clf.fit(X_train, y_train,\n",
    "            eval_set=[(X_train, y_train), (X_test, y_test)],\n",
    "            verbose=False)\n",
    "\n",
    "    pred = clf.predict_proba(X_test)[:, 1]\n",
    "    auc = roc_auc_score(y_test, pred)\n",
    "    return {'loss': -auc, 'status': STATUS_OK}\n",
    "\n",
    "\n",
    "trials = Trials()\n",
    "\n",
    "best_hyperparams = fmin(fn=objective,\n",
    "                        space=space,\n",
    "                        algo=tpe.suggest,\n",
    "                        max_evals=1000,\n",
    "                        trials=trials)\n",
    "\n",
    "best_params = space_eval(space, best_hyperparams)\n",
    "\n",
    "best_clf = xgb.XGBClassifier(\n",
    "    n_estimators=int(best_params['n_estimators']),\n",
    "    max_depth=int(best_params['max_depth']),\n",
    "    gamma=best_params['gamma'],\n",
    "    seed=0\n",
    ")\n",
    "\n",
    "best_clf.fit(X_train, y_train)\n",
    "\n",
    "pred = best_clf.predict_proba(X_test)[:, 1]\n",
    "best_auc = roc_auc_score(y_test, pred)\n",
    "print(\"Miglior score AUC:\", best_auc)\n",
    "print(\"Miglior modello:\", best_clf)\n",
    "print(\"Migliori parametri:\", best_params)\n",
    "\n"
   ],
   "metadata": {
    "collapsed": false,
    "ExecuteTime": {
     "end_time": "2024-02-23T17:09:46.966563Z",
     "start_time": "2024-02-23T17:08:24.743887Z"
    }
   },
   "id": "8a2fc9aae4d4bcd8",
   "execution_count": 13
  }
 ],
 "metadata": {
  "kernelspec": {
   "display_name": "Python 3",
   "language": "python",
   "name": "python3"
  },
  "language_info": {
   "codemirror_mode": {
    "name": "ipython",
    "version": 2
   },
   "file_extension": ".py",
   "mimetype": "text/x-python",
   "name": "python",
   "nbconvert_exporter": "python",
   "pygments_lexer": "ipython2",
   "version": "2.7.6"
  }
 },
 "nbformat": 4,
 "nbformat_minor": 5
}
