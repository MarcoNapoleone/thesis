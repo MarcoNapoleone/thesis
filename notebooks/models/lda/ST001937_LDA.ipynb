{
 "cells": [
  {
   "cell_type": "code",
   "execution_count": 25,
   "id": "initial_id",
   "metadata": {
    "collapsed": true,
    "ExecuteTime": {
     "end_time": "2024-02-27T15:03:29.824934Z",
     "start_time": "2024-02-27T15:03:29.786387Z"
    }
   },
   "outputs": [],
   "source": [
    "import pandas as pd\n",
    "from matplotlib import pyplot as plt\n",
    "import seaborn as sns\n",
    "\n",
    "output_directory = '/home/marco/DataspellProjects/thesis/output/lda/ST001937/'\n",
    "\n",
    "df = pd.read_csv('../../../data/ST001937_bm.csv')\n",
    "\n",
    "palette = sns.color_palette([\"#2176AB\", \"#F97662\", \"#FFBF00\", \"#50C878\", \"#B284BE\"])\n",
    "sns.set(style=\"whitegrid\", font_scale=1.5)\n",
    "sns.set_palette(palette)"
   ]
  },
  {
   "cell_type": "code",
   "outputs": [],
   "source": [
    "#importing lda \n",
    "from sklearn.discriminant_analysis import LinearDiscriminantAnalysis\n",
    "from sklearn.metrics import roc_auc_score\n",
    "import numpy as np\n",
    "\n",
    "X = df.drop('Phenotypes', axis=1)\n",
    "y = df['Phenotypes']"
   ],
   "metadata": {
    "collapsed": false,
    "ExecuteTime": {
     "end_time": "2024-02-27T15:03:29.827968Z",
     "start_time": "2024-02-27T15:03:29.825509Z"
    }
   },
   "id": "88b206da36e11350",
   "execution_count": 26
  },
  {
   "cell_type": "code",
   "outputs": [],
   "source": [
    "from sklearn.metrics import accuracy_score, roc_curve\n",
    "from sklearn.model_selection import StratifiedKFold\n",
    "\n",
    "cv = StratifiedKFold(n_splits=10, shuffle=True, random_state=42)\n",
    "score = {'accuracy': [], 'roc_auc': [], 'fpr': [], 'tpr': []}\n",
    "\n",
    "\n",
    "for train_index, test_index in cv.split(X, y):\n",
    "    X_train, X_test = X.iloc[train_index], X.iloc[test_index]\n",
    "    y_train, y_test = y[train_index], y[test_index]\n",
    "\n",
    "    lda = LinearDiscriminantAnalysis(solver='lsqr', shrinkage='auto')\n",
    "    lda.fit(X_train, y_train)\n",
    "    y_pred = lda.predict(X_test)\n",
    "    y_prob = lda.predict_proba(X_test)[:, 1]\n",
    "    fpr, tpr, _ = roc_curve(y_test, y_prob, drop_intermediate=False)\n",
    "    \n",
    "    score['accuracy'].append(accuracy_score(y_test, y_pred))\n",
    "    score['roc_auc'].append(roc_auc_score(y_test, y_prob))\n",
    "    score['fpr'].append(fpr.tolist())\n",
    "    score['tpr'].append(tpr.tolist())"
   ],
   "metadata": {
    "collapsed": false,
    "ExecuteTime": {
     "end_time": "2024-02-27T15:03:30.400058Z",
     "start_time": "2024-02-27T15:03:29.828468Z"
    }
   },
   "id": "8e6e723c52d42441",
   "execution_count": 27
  },
  {
   "cell_type": "code",
   "outputs": [
    {
     "name": "stderr",
     "output_type": "stream",
     "text": [
      "/tmp/ipykernel_1257451/3798410941.py:3: FutureWarning: The frame.append method is deprecated and will be removed from pandas in a future version. Use pandas.concat instead.\n",
      "  scores_df = scores_df.append({\n"
     ]
    }
   ],
   "source": [
    "scores_df = pd.read_csv('../../../output/scores.csv')\n",
    "\n",
    "scores_df = scores_df.append({\n",
    "    'Model': 'LDA',\n",
    "    'Dataset': 'ST001937',\n",
    "    'auc': score['roc_auc'],\n",
    "    'accuracy': score['accuracy'],\n",
    "    'fpr': score['fpr'],\n",
    "    'tpr': score['tpr']\n",
    "}, ignore_index=True)\n",
    "scores_df.to_csv('../../../output/scores.csv', index=False)"
   ],
   "metadata": {
    "collapsed": false,
    "ExecuteTime": {
     "end_time": "2024-02-27T15:03:30.405071Z",
     "start_time": "2024-02-27T15:03:30.400681Z"
    }
   },
   "id": "a8af96922242e6fc",
   "execution_count": 28
  },
  {
   "cell_type": "code",
   "outputs": [],
   "source": [],
   "metadata": {
    "collapsed": false,
    "ExecuteTime": {
     "end_time": "2024-02-27T15:03:30.406620Z",
     "start_time": "2024-02-27T15:03:30.405469Z"
    }
   },
   "id": "35faf91489b6dc59",
   "execution_count": 28
  }
 ],
 "metadata": {
  "kernelspec": {
   "display_name": "Python 3",
   "language": "python",
   "name": "python3"
  },
  "language_info": {
   "codemirror_mode": {
    "name": "ipython",
    "version": 2
   },
   "file_extension": ".py",
   "mimetype": "text/x-python",
   "name": "python",
   "nbconvert_exporter": "python",
   "pygments_lexer": "ipython2",
   "version": "2.7.6"
  }
 },
 "nbformat": 4,
 "nbformat_minor": 5
}
