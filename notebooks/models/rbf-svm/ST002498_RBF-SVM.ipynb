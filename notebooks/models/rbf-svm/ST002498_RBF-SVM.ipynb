{
 "cells": [
  {
   "cell_type": "code",
   "outputs": [
    {
     "data": {
      "text/plain": "              Age      Height      Weight  S-1-pyrroline-5-carboxylate  \\\ncount  626.000000  626.000000  626.000000                   626.000000   \nmean     0.007425    0.010053    0.000285                     0.011043   \nstd      0.992131    0.967925    0.986467                     1.008773   \nmin     -3.677439  -10.675699   -5.417313                    -1.998392   \n25%     -0.657136   -0.205737   -0.578473                    -0.708038   \n50%      0.039857    0.016030   -0.106391                    -0.151390   \n75%      0.620684    0.325935    0.483711                     0.558186   \nmax      2.363167    1.565556    3.876800                     4.389207   \n\n       spermidine  1-methylnicotinamide  3-phosphoglycerate  \\\ncount  626.000000            626.000000          626.000000   \nmean    -0.008243             -0.007791           -0.010447   \nstd      0.964372              0.964043            0.970150   \nmin     -0.540645             -0.219073           -1.291631   \n25%     -0.215238             -0.163752           -0.462960   \n50%     -0.109196             -0.139170           -0.226522   \n75%      0.004333             -0.097251            0.110589   \nmax     20.596352             13.796128            8.476954   \n\n       5,6-dihydrothymine  hypoxanthine  quinolinate  ...     X-25519  \\\ncount          626.000000    626.000000   626.000000  ...  626.000000   \nmean             0.017833     -0.018459    -0.003517  ...   -0.006615   \nstd              0.981421      0.980179     0.969777  ...    0.976524   \nmin             -4.367928     -1.453987    -0.868538  ...   -1.220973   \n25%             -0.615635     -0.686302    -0.361391  ...   -0.470149   \n50%             -0.037622     -0.268016    -0.198360  ...   -0.224252   \n75%              0.570203      0.446424     0.090995  ...    0.127872   \nmax              3.702734      5.256337    15.695124  ...   10.537399   \n\n          X-25520     X-25790     X-25810     X-25828     X-25855     X-25948  \\\ncount  626.000000  626.000000  626.000000  626.000000  626.000000  626.000000   \nmean    -0.004873   -0.007584    0.000437    0.015021   -0.006455   -0.008275   \nstd      0.971150    0.964506    0.969813    0.984631    0.964650    0.964612   \nmin     -0.857353   -0.425937   -0.358053   -3.294444   -0.721937   -0.536808   \n25%     -0.456672   -0.203076   -0.279605   -0.642269   -0.220701   -0.207818   \n50%     -0.268090   -0.114908   -0.215108    0.100297   -0.104594   -0.133198   \n75%      0.120560   -0.001271   -0.030181    0.698217    0.011532   -0.019935   \nmax     13.784214   18.979855   19.947659    4.833957   16.115889   16.932171   \n\n          X-25957     X-26097  Diagnosis  \ncount  626.000000  626.000000   626.0000  \nmean    -0.013349   -0.003308     0.5000  \nstd      0.974690    0.971573     0.5004  \nmin     -1.754904   -2.530248     0.0000  \n25%     -0.359027   -0.459041     0.0000  \n50%     -0.022854   -0.143522     0.5000  \n75%      0.309724    0.286015     1.0000  \nmax     11.767541   10.014955     1.0000  \n\n[8 rows x 279 columns]",
      "text/html": "<div>\n<style scoped>\n    .dataframe tbody tr th:only-of-type {\n        vertical-align: middle;\n    }\n\n    .dataframe tbody tr th {\n        vertical-align: top;\n    }\n\n    .dataframe thead th {\n        text-align: right;\n    }\n</style>\n<table border=\"1\" class=\"dataframe\">\n  <thead>\n    <tr style=\"text-align: right;\">\n      <th></th>\n      <th>Age</th>\n      <th>Height</th>\n      <th>Weight</th>\n      <th>S-1-pyrroline-5-carboxylate</th>\n      <th>spermidine</th>\n      <th>1-methylnicotinamide</th>\n      <th>3-phosphoglycerate</th>\n      <th>5,6-dihydrothymine</th>\n      <th>hypoxanthine</th>\n      <th>quinolinate</th>\n      <th>...</th>\n      <th>X-25519</th>\n      <th>X-25520</th>\n      <th>X-25790</th>\n      <th>X-25810</th>\n      <th>X-25828</th>\n      <th>X-25855</th>\n      <th>X-25948</th>\n      <th>X-25957</th>\n      <th>X-26097</th>\n      <th>Diagnosis</th>\n    </tr>\n  </thead>\n  <tbody>\n    <tr>\n      <th>count</th>\n      <td>626.000000</td>\n      <td>626.000000</td>\n      <td>626.000000</td>\n      <td>626.000000</td>\n      <td>626.000000</td>\n      <td>626.000000</td>\n      <td>626.000000</td>\n      <td>626.000000</td>\n      <td>626.000000</td>\n      <td>626.000000</td>\n      <td>...</td>\n      <td>626.000000</td>\n      <td>626.000000</td>\n      <td>626.000000</td>\n      <td>626.000000</td>\n      <td>626.000000</td>\n      <td>626.000000</td>\n      <td>626.000000</td>\n      <td>626.000000</td>\n      <td>626.000000</td>\n      <td>626.0000</td>\n    </tr>\n    <tr>\n      <th>mean</th>\n      <td>0.007425</td>\n      <td>0.010053</td>\n      <td>0.000285</td>\n      <td>0.011043</td>\n      <td>-0.008243</td>\n      <td>-0.007791</td>\n      <td>-0.010447</td>\n      <td>0.017833</td>\n      <td>-0.018459</td>\n      <td>-0.003517</td>\n      <td>...</td>\n      <td>-0.006615</td>\n      <td>-0.004873</td>\n      <td>-0.007584</td>\n      <td>0.000437</td>\n      <td>0.015021</td>\n      <td>-0.006455</td>\n      <td>-0.008275</td>\n      <td>-0.013349</td>\n      <td>-0.003308</td>\n      <td>0.5000</td>\n    </tr>\n    <tr>\n      <th>std</th>\n      <td>0.992131</td>\n      <td>0.967925</td>\n      <td>0.986467</td>\n      <td>1.008773</td>\n      <td>0.964372</td>\n      <td>0.964043</td>\n      <td>0.970150</td>\n      <td>0.981421</td>\n      <td>0.980179</td>\n      <td>0.969777</td>\n      <td>...</td>\n      <td>0.976524</td>\n      <td>0.971150</td>\n      <td>0.964506</td>\n      <td>0.969813</td>\n      <td>0.984631</td>\n      <td>0.964650</td>\n      <td>0.964612</td>\n      <td>0.974690</td>\n      <td>0.971573</td>\n      <td>0.5004</td>\n    </tr>\n    <tr>\n      <th>min</th>\n      <td>-3.677439</td>\n      <td>-10.675699</td>\n      <td>-5.417313</td>\n      <td>-1.998392</td>\n      <td>-0.540645</td>\n      <td>-0.219073</td>\n      <td>-1.291631</td>\n      <td>-4.367928</td>\n      <td>-1.453987</td>\n      <td>-0.868538</td>\n      <td>...</td>\n      <td>-1.220973</td>\n      <td>-0.857353</td>\n      <td>-0.425937</td>\n      <td>-0.358053</td>\n      <td>-3.294444</td>\n      <td>-0.721937</td>\n      <td>-0.536808</td>\n      <td>-1.754904</td>\n      <td>-2.530248</td>\n      <td>0.0000</td>\n    </tr>\n    <tr>\n      <th>25%</th>\n      <td>-0.657136</td>\n      <td>-0.205737</td>\n      <td>-0.578473</td>\n      <td>-0.708038</td>\n      <td>-0.215238</td>\n      <td>-0.163752</td>\n      <td>-0.462960</td>\n      <td>-0.615635</td>\n      <td>-0.686302</td>\n      <td>-0.361391</td>\n      <td>...</td>\n      <td>-0.470149</td>\n      <td>-0.456672</td>\n      <td>-0.203076</td>\n      <td>-0.279605</td>\n      <td>-0.642269</td>\n      <td>-0.220701</td>\n      <td>-0.207818</td>\n      <td>-0.359027</td>\n      <td>-0.459041</td>\n      <td>0.0000</td>\n    </tr>\n    <tr>\n      <th>50%</th>\n      <td>0.039857</td>\n      <td>0.016030</td>\n      <td>-0.106391</td>\n      <td>-0.151390</td>\n      <td>-0.109196</td>\n      <td>-0.139170</td>\n      <td>-0.226522</td>\n      <td>-0.037622</td>\n      <td>-0.268016</td>\n      <td>-0.198360</td>\n      <td>...</td>\n      <td>-0.224252</td>\n      <td>-0.268090</td>\n      <td>-0.114908</td>\n      <td>-0.215108</td>\n      <td>0.100297</td>\n      <td>-0.104594</td>\n      <td>-0.133198</td>\n      <td>-0.022854</td>\n      <td>-0.143522</td>\n      <td>0.5000</td>\n    </tr>\n    <tr>\n      <th>75%</th>\n      <td>0.620684</td>\n      <td>0.325935</td>\n      <td>0.483711</td>\n      <td>0.558186</td>\n      <td>0.004333</td>\n      <td>-0.097251</td>\n      <td>0.110589</td>\n      <td>0.570203</td>\n      <td>0.446424</td>\n      <td>0.090995</td>\n      <td>...</td>\n      <td>0.127872</td>\n      <td>0.120560</td>\n      <td>-0.001271</td>\n      <td>-0.030181</td>\n      <td>0.698217</td>\n      <td>0.011532</td>\n      <td>-0.019935</td>\n      <td>0.309724</td>\n      <td>0.286015</td>\n      <td>1.0000</td>\n    </tr>\n    <tr>\n      <th>max</th>\n      <td>2.363167</td>\n      <td>1.565556</td>\n      <td>3.876800</td>\n      <td>4.389207</td>\n      <td>20.596352</td>\n      <td>13.796128</td>\n      <td>8.476954</td>\n      <td>3.702734</td>\n      <td>5.256337</td>\n      <td>15.695124</td>\n      <td>...</td>\n      <td>10.537399</td>\n      <td>13.784214</td>\n      <td>18.979855</td>\n      <td>19.947659</td>\n      <td>4.833957</td>\n      <td>16.115889</td>\n      <td>16.932171</td>\n      <td>11.767541</td>\n      <td>10.014955</td>\n      <td>1.0000</td>\n    </tr>\n  </tbody>\n</table>\n<p>8 rows × 279 columns</p>\n</div>"
     },
     "execution_count": 5,
     "metadata": {},
     "output_type": "execute_result"
    }
   ],
   "source": [
    "import pandas as pd\n",
    "import seaborn as sns\n",
    "from matplotlib import pyplot as plt\n",
    "\n",
    "\n",
    "output_directory = '/home/marco/DataspellProjects/thesis/output/pls/'\n",
    "\n",
    "palette = sns.color_palette([\"#2176AB\", \"#F97662\", \"#FFBF00\", \"#50C878\", \"#B284BE\"])\n",
    "sns.set(style=\"whitegrid\", font_scale=1.5)\n",
    "sns.set_palette(palette)\n",
    "\n",
    "df = pd.read_csv('../../../data/ST002498_z.csv')\n",
    "df.describe()"
   ],
   "metadata": {
    "collapsed": false,
    "ExecuteTime": {
     "end_time": "2024-02-27T15:13:05.568632Z",
     "start_time": "2024-02-27T15:13:05.330536Z"
    }
   },
   "id": "26a161ad7ada61bb",
   "execution_count": 5
  },
  {
   "cell_type": "code",
   "outputs": [],
   "source": [
    "\n",
    "from sklearn.cross_decomposition import PLSRegression\n",
    "from sklearn.metrics import roc_auc_score\n",
    "import numpy as np\n",
    "\n",
    "X = df.drop(columns=['Diagnosis'])\n",
    "y = df['Diagnosis']"
   ],
   "metadata": {
    "collapsed": false,
    "ExecuteTime": {
     "end_time": "2024-02-27T15:13:05.571314Z",
     "start_time": "2024-02-27T15:13:05.569204Z"
    }
   },
   "id": "19121d4c4ec38cb4",
   "execution_count": 6
  },
  {
   "cell_type": "code",
   "outputs": [],
   "source": [
    "from sklearn.model_selection import StratifiedKFold\n",
    "from sklearn.svm import SVC\n",
    "from sklearn.metrics import roc_curve, auc, accuracy_score\n",
    "\n",
    "cv = StratifiedKFold(n_splits=10, shuffle=True, random_state=42)\n",
    "svm = SVC(kernel='rbf', C=1.4, gamma=0.0428, probability=True)\n",
    "\n",
    "score = {'accuracy': [], 'roc_auc': [], 'fpr': [], 'tpr': []}\n",
    "\n",
    "for train_index, test_index in cv.split(X, y):\n",
    "    X_train, X_test = X.iloc[train_index], X.iloc[test_index]\n",
    "    y_train, y_test = y[train_index], y[test_index]\n",
    "\n",
    "    svm.fit(X_train, y_train)\n",
    "    y_pred = svm.predict(X_test)\n",
    "    y_prob = svm.predict_proba(X_test)[:, 1]\n",
    "    fpr, tpr, _ = roc_curve(y_test, y_prob, drop_intermediate=False)\n",
    "\n",
    "    score['accuracy'].append(accuracy_score(y_test, y_pred))\n",
    "    score['roc_auc'].append(roc_auc_score(y_test, y_prob))\n",
    "    score['fpr'].append(fpr.tolist())\n",
    "    score['tpr'].append(tpr.tolist())\n"
   ],
   "metadata": {
    "collapsed": false,
    "ExecuteTime": {
     "end_time": "2024-02-27T15:13:06.617669Z",
     "start_time": "2024-02-27T15:13:05.571727Z"
    }
   },
   "id": "4144e96ebf939bdb",
   "execution_count": 7
  },
  {
   "cell_type": "code",
   "outputs": [
    {
     "name": "stderr",
     "output_type": "stream",
     "text": [
      "/tmp/ipykernel_1262828/1738556335.py:3: FutureWarning: The frame.append method is deprecated and will be removed from pandas in a future version. Use pandas.concat instead.\n",
      "  scores_df = scores_df.append({\n"
     ]
    }
   ],
   "source": [
    "scores_df = pd.read_csv('../../../output/scores.csv')\n",
    "\n",
    "scores_df = scores_df.append({\n",
    "    'Model': 'SVM-rbf',\n",
    "    'Dataset': 'ST002498',\n",
    "    'auc': score['roc_auc'],\n",
    "    'accuracy': score['accuracy'],\n",
    "    'fpr': score['fpr'],\n",
    "    'tpr': score['tpr']\n",
    "}, ignore_index=True)\n",
    "scores_df.to_csv('../../../output/scores.csv', index=False)"
   ],
   "metadata": {
    "collapsed": false,
    "ExecuteTime": {
     "end_time": "2024-02-27T15:13:06.625080Z",
     "start_time": "2024-02-27T15:13:06.618441Z"
    }
   },
   "id": "a9a89bfc2f563e37",
   "execution_count": 8
  }
 ],
 "metadata": {
  "kernelspec": {
   "display_name": "Python 3",
   "language": "python",
   "name": "python3"
  },
  "language_info": {
   "codemirror_mode": {
    "name": "ipython",
    "version": 2
   },
   "file_extension": ".py",
   "mimetype": "text/x-python",
   "name": "python",
   "nbconvert_exporter": "python",
   "pygments_lexer": "ipython2",
   "version": "2.7.6"
  }
 },
 "nbformat": 4,
 "nbformat_minor": 5
}
