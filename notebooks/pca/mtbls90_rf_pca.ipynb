{
 "cells": [
  {
   "cell_type": "markdown",
   "metadata": {},
   "source": [
    "### 1. Import Packages"
   ]
  },
  {
   "cell_type": "code",
   "execution_count": 1,
   "metadata": {},
   "outputs": [
    {
     "name": "stdout",
     "output_type": "stream",
     "text": [
      "All packages successfully loaded\n"
     ]
    }
   ],
   "source": [
    "import numpy as np\n",
    "import pandas as pd\n",
    "import seaborn as sns\n",
    "import matplotlib.pyplot as plt\n",
    "from sklearn.preprocessing import StandardScaler\n",
    "from sklearn.decomposition import PCA\n",
    "from sklearn.model_selection import train_test_split\n",
    "from sklearn.metrics import mean_absolute_error\n",
    "\n",
    "print('All packages successfully loaded')"
   ]
  },
  {
   "cell_type": "markdown",
   "metadata": {},
   "source": [
    "### 2. Load Data & Peak Sheet"
   ]
  },
  {
   "cell_type": "code",
   "execution_count": 2,
   "metadata": {},
   "outputs": [
    {
     "name": "stderr",
     "output_type": "stream",
     "text": [
      "/Users/nova/Programming/anaconda3/envs/thesis/lib/python3.11/site-packages/openpyxl/worksheet/_reader.py:329: UserWarning: Unknown extension is not supported and will be removed\n",
      "  warn(msg)\n"
     ]
    },
    {
     "data": {
      "text/html": [
       "<div>\n",
       "<style scoped>\n",
       "    .dataframe tbody tr th:only-of-type {\n",
       "        vertical-align: middle;\n",
       "    }\n",
       "\n",
       "    .dataframe tbody tr th {\n",
       "        vertical-align: top;\n",
       "    }\n",
       "\n",
       "    .dataframe thead th {\n",
       "        text-align: right;\n",
       "    }\n",
       "</style>\n",
       "<table border=\"1\" class=\"dataframe\">\n",
       "  <thead>\n",
       "    <tr style=\"text-align: right;\">\n",
       "      <th></th>\n",
       "      <th>SampleID</th>\n",
       "      <th>Class</th>\n",
       "      <th>Sex</th>\n",
       "      <th>M1</th>\n",
       "      <th>M2</th>\n",
       "      <th>M3</th>\n",
       "      <th>M4</th>\n",
       "      <th>M5</th>\n",
       "      <th>M6</th>\n",
       "      <th>M7</th>\n",
       "      <th>...</th>\n",
       "      <th>M180</th>\n",
       "      <th>M181</th>\n",
       "      <th>M182</th>\n",
       "      <th>M183</th>\n",
       "      <th>M184</th>\n",
       "      <th>M185</th>\n",
       "      <th>M186</th>\n",
       "      <th>M187</th>\n",
       "      <th>M188</th>\n",
       "      <th>M189</th>\n",
       "    </tr>\n",
       "    <tr>\n",
       "      <th>Idx</th>\n",
       "      <th></th>\n",
       "      <th></th>\n",
       "      <th></th>\n",
       "      <th></th>\n",
       "      <th></th>\n",
       "      <th></th>\n",
       "      <th></th>\n",
       "      <th></th>\n",
       "      <th></th>\n",
       "      <th></th>\n",
       "      <th></th>\n",
       "      <th></th>\n",
       "      <th></th>\n",
       "      <th></th>\n",
       "      <th></th>\n",
       "      <th></th>\n",
       "      <th></th>\n",
       "      <th></th>\n",
       "      <th></th>\n",
       "      <th></th>\n",
       "      <th></th>\n",
       "    </tr>\n",
       "  </thead>\n",
       "  <tbody>\n",
       "    <tr>\n",
       "      <th>1</th>\n",
       "      <td>subject_1524</td>\n",
       "      <td>0</td>\n",
       "      <td>Female</td>\n",
       "      <td>14.98474</td>\n",
       "      <td>14.49947</td>\n",
       "      <td>12.097435</td>\n",
       "      <td>12.043818</td>\n",
       "      <td>11.436392</td>\n",
       "      <td>16.07217</td>\n",
       "      <td>17.01090</td>\n",
       "      <td>...</td>\n",
       "      <td>20.70097</td>\n",
       "      <td>20.19814</td>\n",
       "      <td>21.28179</td>\n",
       "      <td>21.09176</td>\n",
       "      <td>16.46404</td>\n",
       "      <td>12.269896</td>\n",
       "      <td>17.29323</td>\n",
       "      <td>19.81546</td>\n",
       "      <td>19.35259</td>\n",
       "      <td>12.71608</td>\n",
       "    </tr>\n",
       "    <tr>\n",
       "      <th>2</th>\n",
       "      <td>subject_1525</td>\n",
       "      <td>1</td>\n",
       "      <td>Male</td>\n",
       "      <td>15.17667</td>\n",
       "      <td>14.50172</td>\n",
       "      <td>12.363773</td>\n",
       "      <td>12.240458</td>\n",
       "      <td>11.577436</td>\n",
       "      <td>14.93265</td>\n",
       "      <td>16.90847</td>\n",
       "      <td>...</td>\n",
       "      <td>21.68605</td>\n",
       "      <td>20.51608</td>\n",
       "      <td>21.25777</td>\n",
       "      <td>20.53935</td>\n",
       "      <td>16.33413</td>\n",
       "      <td>12.031267</td>\n",
       "      <td>18.08144</td>\n",
       "      <td>19.96693</td>\n",
       "      <td>19.50694</td>\n",
       "      <td>13.20891</td>\n",
       "    </tr>\n",
       "    <tr>\n",
       "      <th>3</th>\n",
       "      <td>subject_1527</td>\n",
       "      <td>1</td>\n",
       "      <td>Male</td>\n",
       "      <td>15.35934</td>\n",
       "      <td>14.41941</td>\n",
       "      <td>12.510494</td>\n",
       "      <td>11.234959</td>\n",
       "      <td>11.199970</td>\n",
       "      <td>15.22600</td>\n",
       "      <td>17.17192</td>\n",
       "      <td>...</td>\n",
       "      <td>20.46320</td>\n",
       "      <td>20.34297</td>\n",
       "      <td>21.34793</td>\n",
       "      <td>20.81883</td>\n",
       "      <td>16.44281</td>\n",
       "      <td>12.679043</td>\n",
       "      <td>17.24765</td>\n",
       "      <td>20.01505</td>\n",
       "      <td>20.34058</td>\n",
       "      <td>12.98210</td>\n",
       "    </tr>\n",
       "    <tr>\n",
       "      <th>4</th>\n",
       "      <td>subject_1528</td>\n",
       "      <td>1</td>\n",
       "      <td>Male</td>\n",
       "      <td>15.12638</td>\n",
       "      <td>14.75630</td>\n",
       "      <td>13.001426</td>\n",
       "      <td>12.640496</td>\n",
       "      <td>11.244146</td>\n",
       "      <td>14.78994</td>\n",
       "      <td>16.47827</td>\n",
       "      <td>...</td>\n",
       "      <td>21.36879</td>\n",
       "      <td>20.93957</td>\n",
       "      <td>21.09719</td>\n",
       "      <td>20.82021</td>\n",
       "      <td>16.27483</td>\n",
       "      <td>12.323163</td>\n",
       "      <td>17.72392</td>\n",
       "      <td>19.57522</td>\n",
       "      <td>19.18157</td>\n",
       "      <td>12.41039</td>\n",
       "    </tr>\n",
       "    <tr>\n",
       "      <th>5</th>\n",
       "      <td>subject_1529</td>\n",
       "      <td>1</td>\n",
       "      <td>Male</td>\n",
       "      <td>15.20272</td>\n",
       "      <td>14.48083</td>\n",
       "      <td>12.392280</td>\n",
       "      <td>10.779516</td>\n",
       "      <td>10.968423</td>\n",
       "      <td>15.75598</td>\n",
       "      <td>17.20552</td>\n",
       "      <td>...</td>\n",
       "      <td>20.80482</td>\n",
       "      <td>19.82493</td>\n",
       "      <td>20.84250</td>\n",
       "      <td>20.31349</td>\n",
       "      <td>16.33279</td>\n",
       "      <td>12.352881</td>\n",
       "      <td>17.59348</td>\n",
       "      <td>19.88594</td>\n",
       "      <td>18.66284</td>\n",
       "      <td>12.37479</td>\n",
       "    </tr>\n",
       "  </tbody>\n",
       "</table>\n",
       "<p>5 rows × 192 columns</p>\n",
       "</div>"
      ],
      "text/plain": [
       "         SampleID  Class     Sex        M1        M2         M3         M4  \\\n",
       "Idx                                                                          \n",
       "1    subject_1524      0  Female  14.98474  14.49947  12.097435  12.043818   \n",
       "2    subject_1525      1    Male  15.17667  14.50172  12.363773  12.240458   \n",
       "3    subject_1527      1    Male  15.35934  14.41941  12.510494  11.234959   \n",
       "4    subject_1528      1    Male  15.12638  14.75630  13.001426  12.640496   \n",
       "5    subject_1529      1    Male  15.20272  14.48083  12.392280  10.779516   \n",
       "\n",
       "            M5        M6        M7  ...      M180      M181      M182  \\\n",
       "Idx                                 ...                                 \n",
       "1    11.436392  16.07217  17.01090  ...  20.70097  20.19814  21.28179   \n",
       "2    11.577436  14.93265  16.90847  ...  21.68605  20.51608  21.25777   \n",
       "3    11.199970  15.22600  17.17192  ...  20.46320  20.34297  21.34793   \n",
       "4    11.244146  14.78994  16.47827  ...  21.36879  20.93957  21.09719   \n",
       "5    10.968423  15.75598  17.20552  ...  20.80482  19.82493  20.84250   \n",
       "\n",
       "         M183      M184       M185      M186      M187      M188      M189  \n",
       "Idx                                                                         \n",
       "1    21.09176  16.46404  12.269896  17.29323  19.81546  19.35259  12.71608  \n",
       "2    20.53935  16.33413  12.031267  18.08144  19.96693  19.50694  13.20891  \n",
       "3    20.81883  16.44281  12.679043  17.24765  20.01505  20.34058  12.98210  \n",
       "4    20.82021  16.27483  12.323163  17.72392  19.57522  19.18157  12.41039  \n",
       "5    20.31349  16.33279  12.352881  17.59348  19.88594  18.66284  12.37479  \n",
       "\n",
       "[5 rows x 192 columns]"
      ]
     },
     "execution_count": 2,
     "metadata": {},
     "output_type": "execute_result"
    }
   ],
   "source": [
    "df = pd.read_excel(\"/Users/nova/Desktop/Thesis/Metabolomics ML/data/MTBLS90.xlsx\", index_col=\"Idx\")\n",
    "df.head()"
   ]
  },
  {
   "cell_type": "markdown",
   "metadata": {},
   "source": [
    "### 3. Extract X & Y"
   ]
  },
  {
   "cell_type": "code",
   "execution_count": 3,
   "metadata": {},
   "outputs": [],
   "source": [
    "X = df.drop(columns=['SampleID', 'Sex', 'Class'])\n",
    "y = df.Class"
   ]
  },
  {
   "cell_type": "markdown",
   "metadata": {},
   "source": [
    "### 3.1 Data scaling"
   ]
  },
  {
   "cell_type": "markdown",
   "metadata": {},
   "source": [
    "Dato che la Principal Component Analysis (PCA) è sensibile alla scala dei dati, è spesso consigliabile standardizzare i dati in modo che abbiano media pari a 0 e deviazione standard unitaria."
   ]
  },
  {
   "cell_type": "code",
   "execution_count": null,
   "metadata": {},
   "outputs": [],
   "source": [
    "scaler = StandardScaler()\n",
    "X_scaled = scaler.fit_transform(X)"
   ]
  },
  {
   "cell_type": "markdown",
   "metadata": {},
   "source": [
    "### 3.2 Principal Component Analysis (PCA)"
   ]
  },
  {
   "cell_type": "code",
   "execution_count": null,
   "metadata": {},
   "outputs": [],
   "source": [
    "n_components = 2\n",
    "pca = PCA(n_components=n_components)\n",
    "X_pca = pca.fit_transform(X_scaled)\n",
    "\n",
    "\n",
    "print(\"Componenti principali:\")\n",
    "print(pca.components_)\n",
    "\n",
    "print(\"\\nVarianza spiegata:\")\n",
    "print(pca.explained_variance_ratio_)\n"
   ]
  },
  {
   "cell_type": "markdown",
   "metadata": {},
   "source": [
    "### 5. Build Model"
   ]
  },
  {
   "cell_type": "code",
   "execution_count": 4,
   "metadata": {},
   "outputs": [
    {
     "name": "stdout",
     "output_type": "stream",
     "text": [
      "Mean Absolute Error:  0.22164948453608246\n"
     ]
    }
   ],
   "source": [
    "model = RandomForestClassifier(random_state=42)\n",
    "\n",
    "X_train, X_test, y_train, y_test = train_test_split(X, y, test_size=0.2, random_state=42)\n",
    "\n",
    "model.fit(X_train, y_train)\n",
    "y_pred = model.predict(X_test)\n",
    "mae = mean_absolute_error(y_test, y_pred)\n",
    "print('Mean Absolute Error: ', mae)"
   ]
  },
  {
   "cell_type": "markdown",
   "metadata": {},
   "source": [
    "### 6. PCA (Principal Component Analysis)"
   ]
  },
  {
   "cell_type": "code",
   "execution_count": 5,
   "metadata": {},
   "outputs": [
    {
     "name": "stdout",
     "output_type": "stream",
     "text": [
      "Number of original features: 189\n",
      "Number of reduced features: 100\n",
      "------------------------------------\n",
      "Mean Absolute Error:  0.36597938144329895\n"
     ]
    }
   ],
   "source": [
    "pca = PCA(n_components=0.98)\n",
    "X_reduced = pca.fit_transform(X)\n",
    "print(\"Number of original features: \" + str(X.shape[1]))\n",
    "print(\"Number of reduced features: \" + str(X_reduced.shape[1]))\n",
    "\n",
    "print(\"------------------------------------\")\n",
    "X_train, X_test, y_train, y_test = train_test_split(X_reduced, y, test_size=0.2, random_state=84)\n",
    "\n",
    "model.fit(X_train, y_train)\n",
    "y_pred = model.predict(X_test)\n",
    "mae = mean_absolute_error(y_test, y_pred)\n",
    "print('Mean Absolute Error: ', mae)\n"
   ]
  },
  {
   "cell_type": "markdown",
   "metadata": {},
   "source": [
    "### 6.1 Plotting Attempt"
   ]
  },
  {
   "cell_type": "code",
   "execution_count": 6,
   "metadata": {},
   "outputs": [
    {
     "name": "stdout",
     "output_type": "stream",
     "text": [
      "Number of original features: 189\n",
      "Number of reduced features: 2\n",
      "------------------------------------\n",
      "Mean Absolute Error:  0.4381443298969072\n"
     ]
    },
    {
     "data": {
      "image/png": "[encoded data removed]",
      "text/plain": [
       "<Figure size 640x480 with 1 Axes>"
      ]
     },
     "metadata": {},
     "output_type": "display_data"
    }
   ],
   "source": [
    "pca_2D = PCA(n_components = 2)\n",
    "X_reduced_2D = pca_2D.fit_transform(X)\n",
    "print(\"Number of original features: \" + str(X.shape[1]))\n",
    "print(\"Number of reduced features: \" + str(X_reduced_2D.shape[1]))\n",
    "\n",
    "print(\"------------------------------------\")\n",
    "X_train, X_test, y_train, y_test = train_test_split(X_reduced_2D, y, test_size=0.2, random_state=126)\n",
    "\n",
    "model.fit(X_train, y_train)\n",
    "y_pred = model.predict(X_test)\n",
    "mae = mean_absolute_error(y_test, y_pred)\n",
    "print('Mean Absolute Error: ', mae)\n",
    "\n",
    "# Crea un DataFrame dai dati di test e dalle previsioni\n",
    "result_df = pd.DataFrame({'Dimension 1': X_test[:, 0], 'Dimension 2': X_test[:, 1], 'Predicted': y_pred})\n",
    "\n",
    "# Plottaiamo i dati utilizzando Seaborn\n",
    "sns.scatterplot(data=result_df, x='Dimension 1', y='Dimension 2', hue='Predicted')\n",
    "\n",
    "plt.show()\n"
   ]
  },
  {
   "cell_type": "markdown",
   "metadata": {},
   "source": [
    "Risultato: con sole due features la correlazione è praticamente inutile"
   ]
  },
  {
   "cell_type": "markdown",
   "metadata": {},
   "source": []
  }
 ],
 "metadata": {
  "kernelspec": {
   "display_name": "thesis",
   "language": "python",
   "name": "python3"
  },
  "language_info": {
   "codemirror_mode": {
    "name": "ipython",
    "version": 3
   },
   "file_extension": ".py",
   "mimetype": "text/x-python",
   "name": "python",
   "nbconvert_exporter": "python",
   "pygments_lexer": "ipython3",
   "version": "3.11.4"
  },
  "orig_nbformat": 4
 },
 "nbformat": 4,
 "nbformat_minor": 2
}
