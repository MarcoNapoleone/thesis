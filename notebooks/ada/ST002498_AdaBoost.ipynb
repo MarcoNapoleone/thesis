{
 "cells": [
  {
   "cell_type": "code",
   "execution_count": 1,
   "id": "initial_id",
   "metadata": {
    "collapsed": true,
    "ExecuteTime": {
     "end_time": "2024-02-23T14:55:42.167776Z",
     "start_time": "2024-02-23T14:55:40.565283Z"
    }
   },
   "outputs": [
    {
     "data": {
      "text/plain": "       S-1-pyrroline-5-carboxylate  spermidine  1-methylnicotinamide  \\\ncount                   626.000000  626.000000            626.000000   \nmean                     -0.017844   -0.005078             -0.008013   \nstd                       0.996408    0.991778              0.986758   \nmin                      -4.041799   -3.255716             -2.548171   \n25%                      -0.636237   -0.598517             -0.536370   \n50%                       0.027925   -0.062825             -0.163320   \n75%                       0.672733    0.471313              0.316495   \nmax                       2.794634    7.711106              5.965699   \n\n       12,13-DiHOME  alpha-ketoglutarate  kynurenate  3-hydroxyisobutyrate  \\\ncount    626.000000           626.000000  626.000000            626.000000   \nmean      -0.008074            -0.003669    0.016317             -0.010400   \nstd        0.979354             0.984344    1.046319              0.987026   \nmin       -2.999808            -5.314236   -3.329012             -2.663575   \n25%       -0.657741            -0.609027   -0.576812             -0.625455   \n50%        0.008484            -0.083529   -0.084736             -0.082022   \n75%        0.643539             0.522466    0.478467              0.543592   \nmax        2.630616             4.531127    7.594571              3.773537   \n\n       3-hydroxy-3-methylglutarate  3-phosphoglycerate     cholate  ...  \\\ncount                   626.000000          626.000000  626.000000  ...   \nmean                      0.015305           -0.002147   -0.002342  ...   \nstd                       1.022076            0.995180    0.993070  ...   \nmin                      -2.745237           -3.469806   -2.376248  ...   \n25%                      -0.629082           -0.596156   -0.535904  ...   \n50%                      -0.082400           -0.074630   -0.122856  ...   \n75%                       0.503495            0.457335    0.320347  ...   \nmax                       6.552206            4.447887    8.205560  ...   \n\n          X-26097     X-26107     X-26109     X-26111     X-26119   PreBioPSA  \\\ncount  626.000000  626.000000  626.000000  626.000000  626.000000  626.000000   \nmean     0.010528    0.003907    0.001970   -0.017804    0.016452    0.007749   \nstd      1.002013    0.985153    0.988214    0.991545    0.997418    0.972572   \nmin     -3.572774   -3.144791   -3.079831   -2.557063   -2.805217   -0.763797   \n25%     -0.605525   -0.598299   -0.698377   -0.632785   -0.588370   -0.340446   \n50%     -0.033942    0.010187   -0.039619    0.060240   -0.076285   -0.189811   \n75%      0.573080    0.679786    0.729124    0.680964    0.474007    0.064549   \nmax      5.521387    2.547334    3.252373    3.727846    6.460233   16.035046   \n\n              Age        Height      Weight  Diagnosis  \ncount  626.000000  6.260000e+02  626.000000   626.0000  \nmean    -0.000634  8.083838e-03    0.011469     0.5000  \nstd      0.988564  9.824481e-01    0.984669     0.5004  \nmin     -3.677439 -3.170115e+00   -4.246902     0.0000  \n25%     -0.657136 -6.422960e-01   -0.655118     0.0000  \n50%      0.039857 -1.541976e-18   -0.079774     0.5000  \n75%      0.620684  5.494866e-01    0.498207     1.0000  \nmax      2.363167  3.254651e+00    4.287703     1.0000  \n\n[8 rows x 1174 columns]",
      "text/html": "<div>\n<style scoped>\n    .dataframe tbody tr th:only-of-type {\n        vertical-align: middle;\n    }\n\n    .dataframe tbody tr th {\n        vertical-align: top;\n    }\n\n    .dataframe thead th {\n        text-align: right;\n    }\n</style>\n<table border=\"1\" class=\"dataframe\">\n  <thead>\n    <tr style=\"text-align: right;\">\n      <th></th>\n      <th>S-1-pyrroline-5-carboxylate</th>\n      <th>spermidine</th>\n      <th>1-methylnicotinamide</th>\n      <th>12,13-DiHOME</th>\n      <th>alpha-ketoglutarate</th>\n      <th>kynurenate</th>\n      <th>3-hydroxyisobutyrate</th>\n      <th>3-hydroxy-3-methylglutarate</th>\n      <th>3-phosphoglycerate</th>\n      <th>cholate</th>\n      <th>...</th>\n      <th>X-26097</th>\n      <th>X-26107</th>\n      <th>X-26109</th>\n      <th>X-26111</th>\n      <th>X-26119</th>\n      <th>PreBioPSA</th>\n      <th>Age</th>\n      <th>Height</th>\n      <th>Weight</th>\n      <th>Diagnosis</th>\n    </tr>\n  </thead>\n  <tbody>\n    <tr>\n      <th>count</th>\n      <td>626.000000</td>\n      <td>626.000000</td>\n      <td>626.000000</td>\n      <td>626.000000</td>\n      <td>626.000000</td>\n      <td>626.000000</td>\n      <td>626.000000</td>\n      <td>626.000000</td>\n      <td>626.000000</td>\n      <td>626.000000</td>\n      <td>...</td>\n      <td>626.000000</td>\n      <td>626.000000</td>\n      <td>626.000000</td>\n      <td>626.000000</td>\n      <td>626.000000</td>\n      <td>626.000000</td>\n      <td>626.000000</td>\n      <td>6.260000e+02</td>\n      <td>626.000000</td>\n      <td>626.0000</td>\n    </tr>\n    <tr>\n      <th>mean</th>\n      <td>-0.017844</td>\n      <td>-0.005078</td>\n      <td>-0.008013</td>\n      <td>-0.008074</td>\n      <td>-0.003669</td>\n      <td>0.016317</td>\n      <td>-0.010400</td>\n      <td>0.015305</td>\n      <td>-0.002147</td>\n      <td>-0.002342</td>\n      <td>...</td>\n      <td>0.010528</td>\n      <td>0.003907</td>\n      <td>0.001970</td>\n      <td>-0.017804</td>\n      <td>0.016452</td>\n      <td>0.007749</td>\n      <td>-0.000634</td>\n      <td>8.083838e-03</td>\n      <td>0.011469</td>\n      <td>0.5000</td>\n    </tr>\n    <tr>\n      <th>std</th>\n      <td>0.996408</td>\n      <td>0.991778</td>\n      <td>0.986758</td>\n      <td>0.979354</td>\n      <td>0.984344</td>\n      <td>1.046319</td>\n      <td>0.987026</td>\n      <td>1.022076</td>\n      <td>0.995180</td>\n      <td>0.993070</td>\n      <td>...</td>\n      <td>1.002013</td>\n      <td>0.985153</td>\n      <td>0.988214</td>\n      <td>0.991545</td>\n      <td>0.997418</td>\n      <td>0.972572</td>\n      <td>0.988564</td>\n      <td>9.824481e-01</td>\n      <td>0.984669</td>\n      <td>0.5004</td>\n    </tr>\n    <tr>\n      <th>min</th>\n      <td>-4.041799</td>\n      <td>-3.255716</td>\n      <td>-2.548171</td>\n      <td>-2.999808</td>\n      <td>-5.314236</td>\n      <td>-3.329012</td>\n      <td>-2.663575</td>\n      <td>-2.745237</td>\n      <td>-3.469806</td>\n      <td>-2.376248</td>\n      <td>...</td>\n      <td>-3.572774</td>\n      <td>-3.144791</td>\n      <td>-3.079831</td>\n      <td>-2.557063</td>\n      <td>-2.805217</td>\n      <td>-0.763797</td>\n      <td>-3.677439</td>\n      <td>-3.170115e+00</td>\n      <td>-4.246902</td>\n      <td>0.0000</td>\n    </tr>\n    <tr>\n      <th>25%</th>\n      <td>-0.636237</td>\n      <td>-0.598517</td>\n      <td>-0.536370</td>\n      <td>-0.657741</td>\n      <td>-0.609027</td>\n      <td>-0.576812</td>\n      <td>-0.625455</td>\n      <td>-0.629082</td>\n      <td>-0.596156</td>\n      <td>-0.535904</td>\n      <td>...</td>\n      <td>-0.605525</td>\n      <td>-0.598299</td>\n      <td>-0.698377</td>\n      <td>-0.632785</td>\n      <td>-0.588370</td>\n      <td>-0.340446</td>\n      <td>-0.657136</td>\n      <td>-6.422960e-01</td>\n      <td>-0.655118</td>\n      <td>0.0000</td>\n    </tr>\n    <tr>\n      <th>50%</th>\n      <td>0.027925</td>\n      <td>-0.062825</td>\n      <td>-0.163320</td>\n      <td>0.008484</td>\n      <td>-0.083529</td>\n      <td>-0.084736</td>\n      <td>-0.082022</td>\n      <td>-0.082400</td>\n      <td>-0.074630</td>\n      <td>-0.122856</td>\n      <td>...</td>\n      <td>-0.033942</td>\n      <td>0.010187</td>\n      <td>-0.039619</td>\n      <td>0.060240</td>\n      <td>-0.076285</td>\n      <td>-0.189811</td>\n      <td>0.039857</td>\n      <td>-1.541976e-18</td>\n      <td>-0.079774</td>\n      <td>0.5000</td>\n    </tr>\n    <tr>\n      <th>75%</th>\n      <td>0.672733</td>\n      <td>0.471313</td>\n      <td>0.316495</td>\n      <td>0.643539</td>\n      <td>0.522466</td>\n      <td>0.478467</td>\n      <td>0.543592</td>\n      <td>0.503495</td>\n      <td>0.457335</td>\n      <td>0.320347</td>\n      <td>...</td>\n      <td>0.573080</td>\n      <td>0.679786</td>\n      <td>0.729124</td>\n      <td>0.680964</td>\n      <td>0.474007</td>\n      <td>0.064549</td>\n      <td>0.620684</td>\n      <td>5.494866e-01</td>\n      <td>0.498207</td>\n      <td>1.0000</td>\n    </tr>\n    <tr>\n      <th>max</th>\n      <td>2.794634</td>\n      <td>7.711106</td>\n      <td>5.965699</td>\n      <td>2.630616</td>\n      <td>4.531127</td>\n      <td>7.594571</td>\n      <td>3.773537</td>\n      <td>6.552206</td>\n      <td>4.447887</td>\n      <td>8.205560</td>\n      <td>...</td>\n      <td>5.521387</td>\n      <td>2.547334</td>\n      <td>3.252373</td>\n      <td>3.727846</td>\n      <td>6.460233</td>\n      <td>16.035046</td>\n      <td>2.363167</td>\n      <td>3.254651e+00</td>\n      <td>4.287703</td>\n      <td>1.0000</td>\n    </tr>\n  </tbody>\n</table>\n<p>8 rows × 1174 columns</p>\n</div>"
     },
     "execution_count": 1,
     "metadata": {},
     "output_type": "execute_result"
    }
   ],
   "source": [
    "import pandas as pd\n",
    "from matplotlib import pyplot as plt\n",
    "import seaborn as sns\n",
    "\n",
    "output_directory = '/home/marco/DataspellProjects/thesis/output/svm_lin/'\n",
    "\n",
    "palette = sns.color_palette([\"#2176AB\", \"#F97662\", \"#FFBF00\", \"#50C878\", \"#B284BE\"])\n",
    "sns.set(style=\"whitegrid\", font_scale=1.5)\n",
    "sns.set_palette(palette)\n",
    "\n",
    "df = pd.read_csv('../../data/ST002498_balanced_standard.csv')\n",
    "df.describe()"
   ]
  },
  {
   "cell_type": "code",
   "outputs": [],
   "source": [
    "from sklearn.metrics import roc_auc_score\n",
    "import numpy as np\n",
    "\n",
    "X = df.drop(columns=['Diagnosis', 'PreBioPSA'])\n",
    "y = df['Diagnosis']"
   ],
   "metadata": {
    "collapsed": false,
    "ExecuteTime": {
     "end_time": "2024-02-23T14:55:42.243094Z",
     "start_time": "2024-02-23T14:55:42.168397Z"
    }
   },
   "id": "3ed9eb06e5c3cd97",
   "execution_count": 2
  },
  {
   "cell_type": "code",
   "outputs": [
    {
     "name": "stdout",
     "output_type": "stream",
     "text": [
      "Fitting 10 folds for each of 1 candidates, totalling 10 fits\n",
      "Miglior set di parametri trovato:\n",
      "{}\n",
      "Punteggio di accuratezza migliore sul set di validazione:\n",
      "0.5703533026113672\n"
     ]
    }
   ],
   "source": [
    "from sklearn.ensemble import AdaBoostClassifier\n",
    "from sklearn.model_selection import GridSearchCV\n",
    "from sklearn.datasets import load_iris\n",
    "\n",
    "# Definisci il classificatore AdaBoost\n",
    "adaboost = AdaBoostClassifier(random_state=42)\n",
    "\n",
    "# Definisci la griglia dei parametri da esplorare\n",
    "param_grid = {\n",
    "}\n",
    "\n",
    "# Inizializza la Grid Search\n",
    "grid_search = GridSearchCV(adaboost, param_grid, cv=10, scoring='accuracy', n_jobs=-1, verbose=1)\n",
    "\n",
    "# Esegui la ricerca della griglia\n",
    "grid_search.fit(X, y)\n",
    "\n",
    "# Stampa i risultati\n",
    "print(\"Miglior set di parametri trovato:\")\n",
    "print(grid_search.best_params_)\n",
    "print(\"Punteggio di accuratezza migliore sul set di validazione:\")\n",
    "print(grid_search.best_score_)\n"
   ],
   "metadata": {
    "collapsed": false,
    "ExecuteTime": {
     "end_time": "2024-02-23T14:55:52.875645Z",
     "start_time": "2024-02-23T14:55:42.243994Z"
    }
   },
   "id": "c5b39eff3dcf203e",
   "execution_count": 3
  },
  {
   "cell_type": "code",
   "outputs": [
    {
     "name": "stdout",
     "output_type": "stream",
     "text": [
      "Mean: 0.586021505376344\n"
     ]
    }
   ],
   "source": [
    "from sklearn.cross_decomposition import PLSRegression\n",
    "from sklearn.linear_model import LogisticRegression\n",
    "from sklearn.tree import DecisionTreeClassifier\n",
    "from sklearn.metrics import accuracy_score\n",
    "from sklearn.ensemble import AdaBoostClassifier\n",
    "from sklearn.model_selection import train_test_split, GridSearchCV, StratifiedKFold\n",
    "\n",
    "\n",
    "cv = StratifiedKFold(n_splits=10, shuffle=True, random_state=42)\n",
    "\n",
    "score = []\n",
    "\n",
    "for train_index, test_index in cv.split(X, y):\n",
    "    X_train, X_test = X.iloc[train_index], X.iloc[test_index]\n",
    "    y_train, y_test = y[train_index], y[test_index]\n",
    "\n",
    "    model = AdaBoostClassifier()\n",
    "    model.fit(X_train, y_train)\n",
    "    y_pred = model.predict(X_test)\n",
    "    score.append(accuracy_score(y_test, y_pred))\n",
    "\n",
    "# Stampa i risultati\n",
    "print('Mean:', np.mean(score))\n"
   ],
   "metadata": {
    "collapsed": false,
    "ExecuteTime": {
     "end_time": "2024-02-23T14:56:24.126493Z",
     "start_time": "2024-02-23T14:55:52.885742Z"
    }
   },
   "id": "727bf629459be7e7",
   "execution_count": 4
  }
 ],
 "metadata": {
  "kernelspec": {
   "display_name": "Python 3",
   "language": "python",
   "name": "python3"
  },
  "language_info": {
   "codemirror_mode": {
    "name": "ipython",
    "version": 2
   },
   "file_extension": ".py",
   "mimetype": "text/x-python",
   "name": "python",
   "nbconvert_exporter": "python",
   "pygments_lexer": "ipython2",
   "version": "2.7.6"
  }
 },
 "nbformat": 4,
 "nbformat_minor": 5
}
