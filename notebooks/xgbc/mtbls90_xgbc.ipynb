{
 "cells": [
  {
   "cell_type": "markdown",
   "metadata": {},
   "source": [
    "### 1. Import Packages"
   ]
  },
  {
   "cell_type": "code",
   "execution_count": 17,
   "metadata": {},
   "outputs": [
    {
     "name": "stdout",
     "output_type": "stream",
     "text": [
      "All packages successfully loaded\n"
     ]
    }
   ],
   "source": [
    "import numpy as np\n",
    "import pandas as pd\n",
    "import seaborn as sns\n",
    "import matplotlib.pyplot as plt\n",
    "import xgboost as xgb\n",
    "from sklearn.metrics import accuracy_score\n",
    "from sklearn.model_selection import train_test_split, GridSearchCV\n",
    "\n",
    "print('All packages successfully loaded')"
   ]
  },
  {
   "cell_type": "markdown",
   "metadata": {},
   "source": [
    "### 2. Load Data & Peak Sheet"
   ]
  },
  {
   "cell_type": "code",
   "execution_count": 18,
   "metadata": {},
   "outputs": [
    {
     "name": "stderr",
     "output_type": "stream",
     "text": [
      "/Users/nova/Programming/anaconda3/envs/thesis/lib/python3.11/site-packages/openpyxl/worksheet/_reader.py:329: UserWarning: Unknown extension is not supported and will be removed\n",
      "  warn(msg)\n"
     ]
    },
    {
     "data": {
      "text/html": [
       "<div>\n",
       "<style scoped>\n",
       "    .dataframe tbody tr th:only-of-type {\n",
       "        vertical-align: middle;\n",
       "    }\n",
       "\n",
       "    .dataframe tbody tr th {\n",
       "        vertical-align: top;\n",
       "    }\n",
       "\n",
       "    .dataframe thead th {\n",
       "        text-align: right;\n",
       "    }\n",
       "</style>\n",
       "<table border=\"1\" class=\"dataframe\">\n",
       "  <thead>\n",
       "    <tr style=\"text-align: right;\">\n",
       "      <th></th>\n",
       "      <th>SampleID</th>\n",
       "      <th>Class</th>\n",
       "      <th>Sex</th>\n",
       "      <th>M1</th>\n",
       "      <th>M2</th>\n",
       "      <th>M3</th>\n",
       "      <th>M4</th>\n",
       "      <th>M5</th>\n",
       "      <th>M6</th>\n",
       "      <th>M7</th>\n",
       "      <th>...</th>\n",
       "      <th>M180</th>\n",
       "      <th>M181</th>\n",
       "      <th>M182</th>\n",
       "      <th>M183</th>\n",
       "      <th>M184</th>\n",
       "      <th>M185</th>\n",
       "      <th>M186</th>\n",
       "      <th>M187</th>\n",
       "      <th>M188</th>\n",
       "      <th>M189</th>\n",
       "    </tr>\n",
       "    <tr>\n",
       "      <th>Idx</th>\n",
       "      <th></th>\n",
       "      <th></th>\n",
       "      <th></th>\n",
       "      <th></th>\n",
       "      <th></th>\n",
       "      <th></th>\n",
       "      <th></th>\n",
       "      <th></th>\n",
       "      <th></th>\n",
       "      <th></th>\n",
       "      <th></th>\n",
       "      <th></th>\n",
       "      <th></th>\n",
       "      <th></th>\n",
       "      <th></th>\n",
       "      <th></th>\n",
       "      <th></th>\n",
       "      <th></th>\n",
       "      <th></th>\n",
       "      <th></th>\n",
       "      <th></th>\n",
       "    </tr>\n",
       "  </thead>\n",
       "  <tbody>\n",
       "    <tr>\n",
       "      <th>1</th>\n",
       "      <td>subject_1524</td>\n",
       "      <td>0</td>\n",
       "      <td>Female</td>\n",
       "      <td>14.98474</td>\n",
       "      <td>14.49947</td>\n",
       "      <td>12.097435</td>\n",
       "      <td>12.043818</td>\n",
       "      <td>11.436392</td>\n",
       "      <td>16.07217</td>\n",
       "      <td>17.01090</td>\n",
       "      <td>...</td>\n",
       "      <td>20.70097</td>\n",
       "      <td>20.19814</td>\n",
       "      <td>21.28179</td>\n",
       "      <td>21.09176</td>\n",
       "      <td>16.46404</td>\n",
       "      <td>12.269896</td>\n",
       "      <td>17.29323</td>\n",
       "      <td>19.81546</td>\n",
       "      <td>19.35259</td>\n",
       "      <td>12.71608</td>\n",
       "    </tr>\n",
       "    <tr>\n",
       "      <th>2</th>\n",
       "      <td>subject_1525</td>\n",
       "      <td>1</td>\n",
       "      <td>Male</td>\n",
       "      <td>15.17667</td>\n",
       "      <td>14.50172</td>\n",
       "      <td>12.363773</td>\n",
       "      <td>12.240458</td>\n",
       "      <td>11.577436</td>\n",
       "      <td>14.93265</td>\n",
       "      <td>16.90847</td>\n",
       "      <td>...</td>\n",
       "      <td>21.68605</td>\n",
       "      <td>20.51608</td>\n",
       "      <td>21.25777</td>\n",
       "      <td>20.53935</td>\n",
       "      <td>16.33413</td>\n",
       "      <td>12.031267</td>\n",
       "      <td>18.08144</td>\n",
       "      <td>19.96693</td>\n",
       "      <td>19.50694</td>\n",
       "      <td>13.20891</td>\n",
       "    </tr>\n",
       "    <tr>\n",
       "      <th>3</th>\n",
       "      <td>subject_1527</td>\n",
       "      <td>1</td>\n",
       "      <td>Male</td>\n",
       "      <td>15.35934</td>\n",
       "      <td>14.41941</td>\n",
       "      <td>12.510494</td>\n",
       "      <td>11.234959</td>\n",
       "      <td>11.199970</td>\n",
       "      <td>15.22600</td>\n",
       "      <td>17.17192</td>\n",
       "      <td>...</td>\n",
       "      <td>20.46320</td>\n",
       "      <td>20.34297</td>\n",
       "      <td>21.34793</td>\n",
       "      <td>20.81883</td>\n",
       "      <td>16.44281</td>\n",
       "      <td>12.679043</td>\n",
       "      <td>17.24765</td>\n",
       "      <td>20.01505</td>\n",
       "      <td>20.34058</td>\n",
       "      <td>12.98210</td>\n",
       "    </tr>\n",
       "    <tr>\n",
       "      <th>4</th>\n",
       "      <td>subject_1528</td>\n",
       "      <td>1</td>\n",
       "      <td>Male</td>\n",
       "      <td>15.12638</td>\n",
       "      <td>14.75630</td>\n",
       "      <td>13.001426</td>\n",
       "      <td>12.640496</td>\n",
       "      <td>11.244146</td>\n",
       "      <td>14.78994</td>\n",
       "      <td>16.47827</td>\n",
       "      <td>...</td>\n",
       "      <td>21.36879</td>\n",
       "      <td>20.93957</td>\n",
       "      <td>21.09719</td>\n",
       "      <td>20.82021</td>\n",
       "      <td>16.27483</td>\n",
       "      <td>12.323163</td>\n",
       "      <td>17.72392</td>\n",
       "      <td>19.57522</td>\n",
       "      <td>19.18157</td>\n",
       "      <td>12.41039</td>\n",
       "    </tr>\n",
       "    <tr>\n",
       "      <th>5</th>\n",
       "      <td>subject_1529</td>\n",
       "      <td>1</td>\n",
       "      <td>Male</td>\n",
       "      <td>15.20272</td>\n",
       "      <td>14.48083</td>\n",
       "      <td>12.392280</td>\n",
       "      <td>10.779516</td>\n",
       "      <td>10.968423</td>\n",
       "      <td>15.75598</td>\n",
       "      <td>17.20552</td>\n",
       "      <td>...</td>\n",
       "      <td>20.80482</td>\n",
       "      <td>19.82493</td>\n",
       "      <td>20.84250</td>\n",
       "      <td>20.31349</td>\n",
       "      <td>16.33279</td>\n",
       "      <td>12.352881</td>\n",
       "      <td>17.59348</td>\n",
       "      <td>19.88594</td>\n",
       "      <td>18.66284</td>\n",
       "      <td>12.37479</td>\n",
       "    </tr>\n",
       "  </tbody>\n",
       "</table>\n",
       "<p>5 rows × 192 columns</p>\n",
       "</div>"
      ],
      "text/plain": [
       "         SampleID  Class     Sex        M1        M2         M3         M4  \\\n",
       "Idx                                                                          \n",
       "1    subject_1524      0  Female  14.98474  14.49947  12.097435  12.043818   \n",
       "2    subject_1525      1    Male  15.17667  14.50172  12.363773  12.240458   \n",
       "3    subject_1527      1    Male  15.35934  14.41941  12.510494  11.234959   \n",
       "4    subject_1528      1    Male  15.12638  14.75630  13.001426  12.640496   \n",
       "5    subject_1529      1    Male  15.20272  14.48083  12.392280  10.779516   \n",
       "\n",
       "            M5        M6        M7  ...      M180      M181      M182  \\\n",
       "Idx                                 ...                                 \n",
       "1    11.436392  16.07217  17.01090  ...  20.70097  20.19814  21.28179   \n",
       "2    11.577436  14.93265  16.90847  ...  21.68605  20.51608  21.25777   \n",
       "3    11.199970  15.22600  17.17192  ...  20.46320  20.34297  21.34793   \n",
       "4    11.244146  14.78994  16.47827  ...  21.36879  20.93957  21.09719   \n",
       "5    10.968423  15.75598  17.20552  ...  20.80482  19.82493  20.84250   \n",
       "\n",
       "         M183      M184       M185      M186      M187      M188      M189  \n",
       "Idx                                                                         \n",
       "1    21.09176  16.46404  12.269896  17.29323  19.81546  19.35259  12.71608  \n",
       "2    20.53935  16.33413  12.031267  18.08144  19.96693  19.50694  13.20891  \n",
       "3    20.81883  16.44281  12.679043  17.24765  20.01505  20.34058  12.98210  \n",
       "4    20.82021  16.27483  12.323163  17.72392  19.57522  19.18157  12.41039  \n",
       "5    20.31349  16.33279  12.352881  17.59348  19.88594  18.66284  12.37479  \n",
       "\n",
       "[5 rows x 192 columns]"
      ]
     },
     "execution_count": 18,
     "metadata": {},
     "output_type": "execute_result"
    }
   ],
   "source": [
    "df = pd.read_excel(\"/Users/nova/Desktop/Thesis/Metabolomics ML/data/MTBLS90.xlsx\", index_col=\"Idx\")\n",
    "df.head()"
   ]
  },
  {
   "cell_type": "markdown",
   "metadata": {},
   "source": [
    "### 3. Extract X & Y"
   ]
  },
  {
   "cell_type": "code",
   "execution_count": 19,
   "metadata": {},
   "outputs": [],
   "source": [
    "X = df.drop(columns=['SampleID', 'Sex', 'Class'])\n",
    "y = df.Class\n",
    "X_train, X_test, y_train, y_test = train_test_split(X, y, test_size=0.2, random_state=42)"
   ]
  },
  {
   "cell_type": "markdown",
   "metadata": {},
   "source": [
    "### 3.1 Data Cleaning"
   ]
  },
  {
   "cell_type": "code",
   "execution_count": 20,
   "metadata": {},
   "outputs": [
    {
     "name": "stdout",
     "output_type": "stream",
     "text": [
      "Percentuale di dati mancanti: 0.0%\n",
      "Dimensioni del dataframe originale: (774, 189)\n",
      "----------------------------------------------\n",
      "Percentuale di dati mancanti: 0.0%\n",
      "Dimensioni del nuovo dataframe: (774, 189)\n"
     ]
    }
   ],
   "source": [
    "# Calcolo il numero di valori mancanti per ogni colonna\n",
    "missing_values = X_train.isnull().sum()\n",
    "# Sommo i valori della serie ottenuta\n",
    "number_missing = missing_values.sum()\n",
    "# Calcolo il numero totale di celle\n",
    "total_cells = np.product(X_train.shape)\n",
    "# Calcolo la percentuale di valori mancanti\n",
    "percent_missing = (number_missing/total_cells) * 100\n",
    "print(\"Percentuale di dati mancanti: {:.1f}%\".format(percent_missing))\n",
    "print(\"Dimensioni del dataframe originale: \" + str(X_train.shape))\n",
    "\n",
    "# Droppo le righe con valori mancanti\n",
    "X_train.dropna(axis=0, inplace=True)\n",
    "y_train.dropna(axis=0, inplace=True)\n",
    "print(\"----------------------------------------------\")\n",
    "\n",
    "# Effettuo le stesse operazioni dopo aver droppato le righe con valori mancanti\n",
    "missing_values = X_train.isnull().sum()\n",
    "number_missing = missing_values.sum()\n",
    "total_cells = np.product(X_train.shape)\n",
    "percent_missing = (number_missing/total_cells) * 100\n",
    "print(\"Percentuale di dati mancanti: {:.1f}%\".format(percent_missing))\n",
    "print(\"Dimensioni del nuovo dataframe: \" + str(X_train.shape))"
   ]
  },
  {
   "cell_type": "markdown",
   "metadata": {},
   "source": [
    "In sintesi non ci sono dati valori all'interno del dataset, perciò l'ultima cella è pressoché inutile."
   ]
  },
  {
   "cell_type": "markdown",
   "metadata": {},
   "source": [
    "### 4. Hyperparameters Optimisation"
   ]
  },
  {
   "cell_type": "code",
   "execution_count": 21,
   "metadata": {},
   "outputs": [
    {
     "ename": "KeyboardInterrupt",
     "evalue": "",
     "output_type": "error",
     "traceback": [
      "\u001b[0;31m---------------------------------------------------------------------------\u001b[0m",
      "\u001b[0;31mKeyboardInterrupt\u001b[0m                         Traceback (most recent call last)",
      "\u001b[1;32m/Users/nova/Desktop/Thesis/Metabolomics ML/notebooks/xgbc/mtbls90_xgbc.ipynb Cell 11\u001b[0m line \u001b[0;36m4\n\u001b[1;32m     <a href='vscode-notebook-cell:/Users/nova/Desktop/Thesis/Metabolomics%20ML/notebooks/xgbc/mtbls90_xgbc.ipynb#X16sZmlsZQ%3D%3D?line=38'>39</a>\u001b[0m grid_search \u001b[39m=\u001b[39m GridSearchCV(estimator\u001b[39m=\u001b[39mmodel, param_grid\u001b[39m=\u001b[39mparam_grid, scoring\u001b[39m=\u001b[39m\u001b[39m'\u001b[39m\u001b[39maccuracy\u001b[39m\u001b[39m'\u001b[39m, cv\u001b[39m=\u001b[39m\u001b[39m5\u001b[39m, n_jobs\u001b[39m=\u001b[39m\u001b[39m-\u001b[39m\u001b[39m1\u001b[39m)\n\u001b[1;32m     <a href='vscode-notebook-cell:/Users/nova/Desktop/Thesis/Metabolomics%20ML/notebooks/xgbc/mtbls90_xgbc.ipynb#X16sZmlsZQ%3D%3D?line=40'>41</a>\u001b[0m \u001b[39m# Eseguiamo la Grid Search sui dati di addestramento\u001b[39;00m\n\u001b[0;32m---> <a href='vscode-notebook-cell:/Users/nova/Desktop/Thesis/Metabolomics%20ML/notebooks/xgbc/mtbls90_xgbc.ipynb#X16sZmlsZQ%3D%3D?line=41'>42</a>\u001b[0m grid_search\u001b[39m.\u001b[39;49mfit(X_train, y_train)\n\u001b[1;32m     <a href='vscode-notebook-cell:/Users/nova/Desktop/Thesis/Metabolomics%20ML/notebooks/xgbc/mtbls90_xgbc.ipynb#X16sZmlsZQ%3D%3D?line=43'>44</a>\u001b[0m \u001b[39m# Visualizziamo i migliori iperparametri trovati\u001b[39;00m\n\u001b[1;32m     <a href='vscode-notebook-cell:/Users/nova/Desktop/Thesis/Metabolomics%20ML/notebooks/xgbc/mtbls90_xgbc.ipynb#X16sZmlsZQ%3D%3D?line=44'>45</a>\u001b[0m best_params \u001b[39m=\u001b[39m grid_search\u001b[39m.\u001b[39mbest_params_\n",
      "File \u001b[0;32m~/Programming/anaconda3/envs/thesis/lib/python3.11/site-packages/sklearn/base.py:1151\u001b[0m, in \u001b[0;36m_fit_context.<locals>.decorator.<locals>.wrapper\u001b[0;34m(estimator, *args, **kwargs)\u001b[0m\n\u001b[1;32m   1144\u001b[0m     estimator\u001b[39m.\u001b[39m_validate_params()\n\u001b[1;32m   1146\u001b[0m \u001b[39mwith\u001b[39;00m config_context(\n\u001b[1;32m   1147\u001b[0m     skip_parameter_validation\u001b[39m=\u001b[39m(\n\u001b[1;32m   1148\u001b[0m         prefer_skip_nested_validation \u001b[39mor\u001b[39;00m global_skip_validation\n\u001b[1;32m   1149\u001b[0m     )\n\u001b[1;32m   1150\u001b[0m ):\n\u001b[0;32m-> 1151\u001b[0m     \u001b[39mreturn\u001b[39;00m fit_method(estimator, \u001b[39m*\u001b[39;49margs, \u001b[39m*\u001b[39;49m\u001b[39m*\u001b[39;49mkwargs)\n",
      "File \u001b[0;32m~/Programming/anaconda3/envs/thesis/lib/python3.11/site-packages/sklearn/model_selection/_search.py:898\u001b[0m, in \u001b[0;36mBaseSearchCV.fit\u001b[0;34m(self, X, y, groups, **fit_params)\u001b[0m\n\u001b[1;32m    892\u001b[0m     results \u001b[39m=\u001b[39m \u001b[39mself\u001b[39m\u001b[39m.\u001b[39m_format_results(\n\u001b[1;32m    893\u001b[0m         all_candidate_params, n_splits, all_out, all_more_results\n\u001b[1;32m    894\u001b[0m     )\n\u001b[1;32m    896\u001b[0m     \u001b[39mreturn\u001b[39;00m results\n\u001b[0;32m--> 898\u001b[0m \u001b[39mself\u001b[39;49m\u001b[39m.\u001b[39;49m_run_search(evaluate_candidates)\n\u001b[1;32m    900\u001b[0m \u001b[39m# multimetric is determined here because in the case of a callable\u001b[39;00m\n\u001b[1;32m    901\u001b[0m \u001b[39m# self.scoring the return type is only known after calling\u001b[39;00m\n\u001b[1;32m    902\u001b[0m first_test_score \u001b[39m=\u001b[39m all_out[\u001b[39m0\u001b[39m][\u001b[39m\"\u001b[39m\u001b[39mtest_scores\u001b[39m\u001b[39m\"\u001b[39m]\n",
      "File \u001b[0;32m~/Programming/anaconda3/envs/thesis/lib/python3.11/site-packages/sklearn/model_selection/_search.py:1419\u001b[0m, in \u001b[0;36mGridSearchCV._run_search\u001b[0;34m(self, evaluate_candidates)\u001b[0m\n\u001b[1;32m   1417\u001b[0m \u001b[39mdef\u001b[39;00m \u001b[39m_run_search\u001b[39m(\u001b[39mself\u001b[39m, evaluate_candidates):\n\u001b[1;32m   1418\u001b[0m \u001b[39m    \u001b[39m\u001b[39m\"\"\"Search all candidates in param_grid\"\"\"\u001b[39;00m\n\u001b[0;32m-> 1419\u001b[0m     evaluate_candidates(ParameterGrid(\u001b[39mself\u001b[39;49m\u001b[39m.\u001b[39;49mparam_grid))\n",
      "File \u001b[0;32m~/Programming/anaconda3/envs/thesis/lib/python3.11/site-packages/sklearn/model_selection/_search.py:845\u001b[0m, in \u001b[0;36mBaseSearchCV.fit.<locals>.evaluate_candidates\u001b[0;34m(candidate_params, cv, more_results)\u001b[0m\n\u001b[1;32m    837\u001b[0m \u001b[39mif\u001b[39;00m \u001b[39mself\u001b[39m\u001b[39m.\u001b[39mverbose \u001b[39m>\u001b[39m \u001b[39m0\u001b[39m:\n\u001b[1;32m    838\u001b[0m     \u001b[39mprint\u001b[39m(\n\u001b[1;32m    839\u001b[0m         \u001b[39m\"\u001b[39m\u001b[39mFitting \u001b[39m\u001b[39m{0}\u001b[39;00m\u001b[39m folds for each of \u001b[39m\u001b[39m{1}\u001b[39;00m\u001b[39m candidates,\u001b[39m\u001b[39m\"\u001b[39m\n\u001b[1;32m    840\u001b[0m         \u001b[39m\"\u001b[39m\u001b[39m totalling \u001b[39m\u001b[39m{2}\u001b[39;00m\u001b[39m fits\u001b[39m\u001b[39m\"\u001b[39m\u001b[39m.\u001b[39mformat(\n\u001b[1;32m    841\u001b[0m             n_splits, n_candidates, n_candidates \u001b[39m*\u001b[39m n_splits\n\u001b[1;32m    842\u001b[0m         )\n\u001b[1;32m    843\u001b[0m     )\n\u001b[0;32m--> 845\u001b[0m out \u001b[39m=\u001b[39m parallel(\n\u001b[1;32m    846\u001b[0m     delayed(_fit_and_score)(\n\u001b[1;32m    847\u001b[0m         clone(base_estimator),\n\u001b[1;32m    848\u001b[0m         X,\n\u001b[1;32m    849\u001b[0m         y,\n\u001b[1;32m    850\u001b[0m         train\u001b[39m=\u001b[39;49mtrain,\n\u001b[1;32m    851\u001b[0m         test\u001b[39m=\u001b[39;49mtest,\n\u001b[1;32m    852\u001b[0m         parameters\u001b[39m=\u001b[39;49mparameters,\n\u001b[1;32m    853\u001b[0m         split_progress\u001b[39m=\u001b[39;49m(split_idx, n_splits),\n\u001b[1;32m    854\u001b[0m         candidate_progress\u001b[39m=\u001b[39;49m(cand_idx, n_candidates),\n\u001b[1;32m    855\u001b[0m         \u001b[39m*\u001b[39;49m\u001b[39m*\u001b[39;49mfit_and_score_kwargs,\n\u001b[1;32m    856\u001b[0m     )\n\u001b[1;32m    857\u001b[0m     \u001b[39mfor\u001b[39;49;00m (cand_idx, parameters), (split_idx, (train, test)) \u001b[39min\u001b[39;49;00m product(\n\u001b[1;32m    858\u001b[0m         \u001b[39menumerate\u001b[39;49m(candidate_params), \u001b[39menumerate\u001b[39;49m(cv\u001b[39m.\u001b[39;49msplit(X, y, groups))\n\u001b[1;32m    859\u001b[0m     )\n\u001b[1;32m    860\u001b[0m )\n\u001b[1;32m    862\u001b[0m \u001b[39mif\u001b[39;00m \u001b[39mlen\u001b[39m(out) \u001b[39m<\u001b[39m \u001b[39m1\u001b[39m:\n\u001b[1;32m    863\u001b[0m     \u001b[39mraise\u001b[39;00m \u001b[39mValueError\u001b[39;00m(\n\u001b[1;32m    864\u001b[0m         \u001b[39m\"\u001b[39m\u001b[39mNo fits were performed. \u001b[39m\u001b[39m\"\u001b[39m\n\u001b[1;32m    865\u001b[0m         \u001b[39m\"\u001b[39m\u001b[39mWas the CV iterator empty? \u001b[39m\u001b[39m\"\u001b[39m\n\u001b[1;32m    866\u001b[0m         \u001b[39m\"\u001b[39m\u001b[39mWere there no candidates?\u001b[39m\u001b[39m\"\u001b[39m\n\u001b[1;32m    867\u001b[0m     )\n",
      "File \u001b[0;32m~/Programming/anaconda3/envs/thesis/lib/python3.11/site-packages/sklearn/utils/parallel.py:65\u001b[0m, in \u001b[0;36mParallel.__call__\u001b[0;34m(self, iterable)\u001b[0m\n\u001b[1;32m     60\u001b[0m config \u001b[39m=\u001b[39m get_config()\n\u001b[1;32m     61\u001b[0m iterable_with_config \u001b[39m=\u001b[39m (\n\u001b[1;32m     62\u001b[0m     (_with_config(delayed_func, config), args, kwargs)\n\u001b[1;32m     63\u001b[0m     \u001b[39mfor\u001b[39;00m delayed_func, args, kwargs \u001b[39min\u001b[39;00m iterable\n\u001b[1;32m     64\u001b[0m )\n\u001b[0;32m---> 65\u001b[0m \u001b[39mreturn\u001b[39;00m \u001b[39msuper\u001b[39;49m()\u001b[39m.\u001b[39;49m\u001b[39m__call__\u001b[39;49m(iterable_with_config)\n",
      "File \u001b[0;32m~/Programming/anaconda3/envs/thesis/lib/python3.11/site-packages/joblib/parallel.py:1944\u001b[0m, in \u001b[0;36mParallel.__call__\u001b[0;34m(self, iterable)\u001b[0m\n\u001b[1;32m   1938\u001b[0m \u001b[39m# The first item from the output is blank, but it makes the interpreter\u001b[39;00m\n\u001b[1;32m   1939\u001b[0m \u001b[39m# progress until it enters the Try/Except block of the generator and\u001b[39;00m\n\u001b[1;32m   1940\u001b[0m \u001b[39m# reach the first `yield` statement. This starts the aynchronous\u001b[39;00m\n\u001b[1;32m   1941\u001b[0m \u001b[39m# dispatch of the tasks to the workers.\u001b[39;00m\n\u001b[1;32m   1942\u001b[0m \u001b[39mnext\u001b[39m(output)\n\u001b[0;32m-> 1944\u001b[0m \u001b[39mreturn\u001b[39;00m output \u001b[39mif\u001b[39;00m \u001b[39mself\u001b[39m\u001b[39m.\u001b[39mreturn_generator \u001b[39melse\u001b[39;00m \u001b[39mlist\u001b[39;49m(output)\n",
      "File \u001b[0;32m~/Programming/anaconda3/envs/thesis/lib/python3.11/site-packages/joblib/parallel.py:1587\u001b[0m, in \u001b[0;36mParallel._get_outputs\u001b[0;34m(self, iterator, pre_dispatch)\u001b[0m\n\u001b[1;32m   1584\u001b[0m     \u001b[39myield\u001b[39;00m\n\u001b[1;32m   1586\u001b[0m     \u001b[39mwith\u001b[39;00m \u001b[39mself\u001b[39m\u001b[39m.\u001b[39m_backend\u001b[39m.\u001b[39mretrieval_context():\n\u001b[0;32m-> 1587\u001b[0m         \u001b[39myield from\u001b[39;00m \u001b[39mself\u001b[39m\u001b[39m.\u001b[39m_retrieve()\n\u001b[1;32m   1589\u001b[0m \u001b[39mexcept\u001b[39;00m \u001b[39mGeneratorExit\u001b[39;00m:\n\u001b[1;32m   1590\u001b[0m     \u001b[39m# The generator has been garbage collected before being fully\u001b[39;00m\n\u001b[1;32m   1591\u001b[0m     \u001b[39m# consumed. This aborts the remaining tasks if possible and warn\u001b[39;00m\n\u001b[1;32m   1592\u001b[0m     \u001b[39m# the user if necessary.\u001b[39;00m\n\u001b[1;32m   1593\u001b[0m     \u001b[39mself\u001b[39m\u001b[39m.\u001b[39m_exception \u001b[39m=\u001b[39m \u001b[39mTrue\u001b[39;00m\n",
      "File \u001b[0;32m~/Programming/anaconda3/envs/thesis/lib/python3.11/site-packages/joblib/parallel.py:1699\u001b[0m, in \u001b[0;36mParallel._retrieve\u001b[0;34m(self)\u001b[0m\n\u001b[1;32m   1694\u001b[0m \u001b[39m# If the next job is not ready for retrieval yet, we just wait for\u001b[39;00m\n\u001b[1;32m   1695\u001b[0m \u001b[39m# async callbacks to progress.\u001b[39;00m\n\u001b[1;32m   1696\u001b[0m \u001b[39mif\u001b[39;00m ((\u001b[39mlen\u001b[39m(\u001b[39mself\u001b[39m\u001b[39m.\u001b[39m_jobs) \u001b[39m==\u001b[39m \u001b[39m0\u001b[39m) \u001b[39mor\u001b[39;00m\n\u001b[1;32m   1697\u001b[0m     (\u001b[39mself\u001b[39m\u001b[39m.\u001b[39m_jobs[\u001b[39m0\u001b[39m]\u001b[39m.\u001b[39mget_status(\n\u001b[1;32m   1698\u001b[0m         timeout\u001b[39m=\u001b[39m\u001b[39mself\u001b[39m\u001b[39m.\u001b[39mtimeout) \u001b[39m==\u001b[39m TASK_PENDING)):\n\u001b[0;32m-> 1699\u001b[0m     time\u001b[39m.\u001b[39msleep(\u001b[39m0.01\u001b[39m)\n\u001b[1;32m   1700\u001b[0m     \u001b[39mcontinue\u001b[39;00m\n\u001b[1;32m   1702\u001b[0m \u001b[39m# We need to be careful: the job list can be filling up as\u001b[39;00m\n\u001b[1;32m   1703\u001b[0m \u001b[39m# we empty it and Python list are not thread-safe by\u001b[39;00m\n\u001b[1;32m   1704\u001b[0m \u001b[39m# default hence the use of the lock\u001b[39;00m\n",
      "\u001b[0;31mKeyboardInterrupt\u001b[0m: "
     ]
    }
   ],
   "source": [
    "# Qui di seguito effetuiamo il tuning degli iperparametri del modello\n",
    "\n",
    "# Creiamo il modelo XGBClassifier\n",
    "model = xgb.XGBClassifier()\n",
    "\n",
    "# GRID SEARCH\n",
    "\n",
    "# Definiamo la griglia con i parametri da testare\n",
    "\n",
    "\"\"\"\" IPERPARAMETRI ORIGINALI (il mio computer non è riuscito a reggere la complessità)\n",
    "param_grid = {\n",
    "    'n_estimators': [100, 200, 300],\n",
    "    'learning_rate': [0.01, 0.1, 0.2],\n",
    "    'max_depth': [3, 4, 5],\n",
    "    'min_child_weight': [1, 2, 3],\n",
    "    'gamma': [0, 0.1, 0.2],\n",
    "    'subsample': [0.8, 0.9, 1.0],\n",
    "    'colsample_bytree': [0.8, 0.9, 1.0],\n",
    "    'colsample_bylevel': [0.8, 0.9, 1.0],\n",
    "    'scale_pos_weight': [1, 2, 3]\n",
    "}\n",
    "\"\"\"\n",
    "\n",
    "# IPERPARAMETRI RIDOTTI\n",
    "param_grid = {\n",
    "    'n_estimators': [100, 200],\n",
    "    'learning_rate': [0.01, 0.1],\n",
    "    'max_depth': [3, 4],\n",
    "    'min_child_weight': [1, 2],\n",
    "    'gamma': [0, 0.1],\n",
    "    'subsample': [0.8, 0.9],\n",
    "    'colsample_bytree': [0.8, 0.9],\n",
    "    'colsample_bylevel': [0.8, 0.9],\n",
    "    'scale_pos_weight': [1, 2]\n",
    "}\n",
    "\n",
    "\n",
    "# Creiamo il modello GridSearchCV\n",
    "grid_search = GridSearchCV(estimator=model, param_grid=param_grid, scoring='accuracy', cv=5, n_jobs=-1)\n",
    "\n",
    "# Eseguiamo la Grid Search sui dati di addestramento\n",
    "grid_search.fit(X_train, y_train)\n",
    "\n",
    "# Visualizziamo i migliori iperparametri trovati\n",
    "best_params = grid_search.best_params_\n",
    "print(\"Migliori iperparametri:\", best_params)\n",
    "\n",
    "# Addestriamo il modello con i migliori iperparametri\n",
    "best_model = grid_search.best_estimator_\n",
    "best_model.fit(X_train, y_train)\n",
    "\n",
    "# Valutiamo il modello sui dati di test\n",
    "y_pred = best_model.predict(X_test)\n",
    "accuracy = accuracy_score(y_test, y_pred)\n",
    "print(f'Accuratezza del modello: {accuracy * 100:.2f}%')\n"
   ]
  },
  {
   "cell_type": "markdown",
   "metadata": {},
   "source": [
    "Dopo 6 minuti, siamo riusciti a ottenere questi risultati: \n",
    "Migliori iperparametri: {'colsample_bylevel': 0.9, 'colsample_bytree': 0.9, 'gamma': 0.1, 'learning_rate': 0.1, 'max_depth': 4, 'min_child_weight': 2, 'n_estimators': 200, 'scale_pos_weight': 1, 'subsample': 0.8}\n",
    "Accuratezza del modello: 78.35%"
   ]
  },
  {
   "cell_type": "markdown",
   "metadata": {},
   "source": [
    "### 5. Build Model & Evaluate"
   ]
  },
  {
   "cell_type": "code",
   "execution_count": null,
   "metadata": {},
   "outputs": [
    {
     "name": "stdout",
     "output_type": "stream",
     "text": [
      "Accuratezza del modello: 78.87%\n"
     ]
    }
   ],
   "source": [
    "# Definiamo il modello XGBoost con gli iperparametri ottimizzati\n",
    "best_model = xgb.XGBClassifier(\n",
    "    n_estimators=200,\n",
    "    learning_rate=0.1,\n",
    "    max_depth=4,\n",
    "    min_child_weight=2,\n",
    "    gamma=0.1,\n",
    "    subsample=0.8,\n",
    "    colsample_bytree=0.9,\n",
    "    colsample_bylevel=0.9,\n",
    "    scale_pos_weight=1\n",
    ")\n",
    "\n",
    "# Addestriamo il modello sul set di addestramento completo\n",
    "best_model.fit(X_train, y_train)\n",
    "\n",
    "# Valutiamo il modello su X_test\n",
    "predictions = best_model.predict(X_test)\n",
    "\n",
    "# Calcoliamo i punteggi del modello\n",
    "accuracy = accuracy_score(y_test, predictions)\n",
    "print(f'Accuratezza del modello: {accuracy * 100:.2f}%')"
   ]
  }
 ],
 "metadata": {
  "kernelspec": {
   "display_name": "thesis",
   "language": "python",
   "name": "python3"
  },
  "language_info": {
   "codemirror_mode": {
    "name": "ipython",
    "version": 3
   },
   "file_extension": ".py",
   "mimetype": "text/x-python",
   "name": "python",
   "nbconvert_exporter": "python",
   "pygments_lexer": "ipython3",
   "version": "3.11.4"
  },
  "orig_nbformat": 4
 },
 "nbformat": 4,
 "nbformat_minor": 2
}
