{
 "cells": [
  {
   "cell_type": "markdown",
   "metadata": {},
   "source": [
    "### 1. Import Packages"
   ]
  },
  {
   "cell_type": "code",
   "execution_count": 1,
   "metadata": {
    "ExecuteTime": {
     "end_time": "2023-09-21T07:20:19.910594300Z",
     "start_time": "2023-09-21T07:20:19.632057100Z"
    }
   },
   "outputs": [
    {
     "ename": "ModuleNotFoundError",
     "evalue": "No module named 'xgboost'",
     "output_type": "error",
     "traceback": [
      "\u001B[1;31m---------------------------------------------------------------------------\u001B[0m",
      "\u001B[1;31mModuleNotFoundError\u001B[0m                       Traceback (most recent call last)",
      "Cell \u001B[1;32mIn[1], line 5\u001B[0m\n\u001B[0;32m      3\u001B[0m \u001B[38;5;28;01mimport\u001B[39;00m \u001B[38;5;21;01mseaborn\u001B[39;00m \u001B[38;5;28;01mas\u001B[39;00m \u001B[38;5;21;01msns\u001B[39;00m\n\u001B[0;32m      4\u001B[0m \u001B[38;5;28;01mimport\u001B[39;00m \u001B[38;5;21;01mmatplotlib\u001B[39;00m\u001B[38;5;21;01m.\u001B[39;00m\u001B[38;5;21;01mpyplot\u001B[39;00m \u001B[38;5;28;01mas\u001B[39;00m \u001B[38;5;21;01mplt\u001B[39;00m\n\u001B[1;32m----> 5\u001B[0m \u001B[38;5;28;01mimport\u001B[39;00m \u001B[38;5;21;01mxgboost\u001B[39;00m \u001B[38;5;28;01mas\u001B[39;00m \u001B[38;5;21;01mxgb\u001B[39;00m\n\u001B[0;32m      6\u001B[0m \u001B[38;5;28;01mfrom\u001B[39;00m \u001B[38;5;21;01msklearn\u001B[39;00m\u001B[38;5;21;01m.\u001B[39;00m\u001B[38;5;21;01mensemble\u001B[39;00m \u001B[38;5;28;01mimport\u001B[39;00m GradientBoostingClassifier\n\u001B[0;32m      7\u001B[0m \u001B[38;5;28;01mfrom\u001B[39;00m \u001B[38;5;21;01msklearn\u001B[39;00m\u001B[38;5;21;01m.\u001B[39;00m\u001B[38;5;21;01mmodel_selection\u001B[39;00m \u001B[38;5;28;01mimport\u001B[39;00m cross_val_score\n",
      "\u001B[1;31mModuleNotFoundError\u001B[0m: No module named 'xgboost'"
     ]
    }
   ],
   "source": [
    "import numpy as np\n",
    "import pandas as pd\n",
    "import seaborn as sns\n",
    "import matplotlib.pyplot as plt\n",
    "import xgboost as xgb\n",
    "from sklearn.ensemble import GradientBoostingClassifier\n",
    "from sklearn.model_selection import cross_val_score\n",
    "from sklearn.model_selection import train_test_split\n",
    "from sklearn.metrics import mean_squared_error\n",
    "\n",
    "print('All packages successfully loaded')"
   ]
  },
  {
   "cell_type": "markdown",
   "metadata": {},
   "source": [
    "### 2. Load Data & Peak Sheet"
   ]
  },
  {
   "cell_type": "code",
   "execution_count": null,
   "metadata": {
    "ExecuteTime": {
     "end_time": "2023-09-21T07:20:19.916096300Z",
     "start_time": "2023-09-21T07:20:19.912595200Z"
    }
   },
   "outputs": [],
   "source": [
    "df = pd.read_excel(\"/Users/nova/Desktop/Thesis/Metabolomics ML/data/MTBLS90.xlsx\", index_col=\"Idx\")\n",
    "df.head()\n",
    "\n",
    "X = df.drop(columns=['SampleID', 'Sex', 'Class'], axis = 'columns')\n",
    "X.head()\n"
   ]
  },
  {
   "cell_type": "markdown",
   "metadata": {},
   "source": [
    "### 3. Extract X & Y"
   ]
  },
  {
   "cell_type": "code",
   "execution_count": null,
   "metadata": {
    "ExecuteTime": {
     "start_time": "2023-09-21T07:20:19.913594300Z"
    }
   },
   "outputs": [],
   "source": [
    "y = df.Class\n",
    "X_train, X_test, y_train, y_test = train_test_split(X, y, test_size=0.2, random_state=42)\n",
    "X_train.head()\n",
    "\n",
    "\n",
    "# DA FARE: K FOLD CROSS VALIDATION\n"
   ]
  },
  {
   "cell_type": "markdown",
   "metadata": {},
   "source": [
    "### 3.1 Data Cleaning"
   ]
  },
  {
   "cell_type": "code",
   "execution_count": null,
   "metadata": {
    "ExecuteTime": {
     "start_time": "2023-09-21T07:20:19.915094400Z"
    }
   },
   "outputs": [],
   "source": [
    "# Calcolo il numero di valori mancanti per ogni colonna\n",
    "missing_values = X_train.isnull().sum()\n",
    "# Sommo i valori della serie ottenuta\n",
    "number_missing = missing_values.sum()\n",
    "# Calcolo il numero totale di celle\n",
    "total_cells = np.product(X_train.shape)\n",
    "# Calcolo la percentuale di valori mancanti\n",
    "percent_missing = (number_missing/total_cells) * 100\n",
    "print(\"Percentuale di dati mancanti: {:.1f}%\".format(percent_missing))\n",
    "print(\"Dimensioni del dataframe originale: \" + str(X_train.shape))\n",
    "\n",
    "# Droppo le righe con valori mancanti\n",
    "X_train.dropna(axis=0, inplace=True)\n",
    "y_train.dropna(axis=0, inplace=True)\n",
    "print(\"----------------------------------------------\")\n",
    "\n",
    "# Effettuo le stesse operazioni dopo aver droppato le righe con valori mancanti\n",
    "missing_values = X_train.isnull().sum()\n",
    "number_missing = missing_values.sum()\n",
    "total_cells = np.product(X_train.shape)\n",
    "percent_missing = (number_missing/total_cells) * 100\n",
    "print(\"Percentuale di dati mancanti: {:.1f}%\".format(percent_missing))\n",
    "print(\"Dimensioni del nuovo dataframe: \" + str(X_train.shape))"
   ]
  },
  {
   "cell_type": "markdown",
   "metadata": {},
   "source": [
    "### 5. Build Model & Evaluate"
   ]
  },
  {
   "cell_type": "code",
   "execution_count": null,
   "metadata": {
    "ExecuteTime": {
     "start_time": "2023-09-21T07:20:19.916096300Z"
    }
   },
   "outputs": [],
   "source": [
    "model = xgb.XGBClassifier(random_state=42, early_stopping_rounds=2)\n",
    "model.fit(X_train, y_train, eval_set=[(X_test, y_test)])\n",
    "predictions = model.predict(X_test)\n",
    "\n",
    "# Calcolo i punteggi del modello\n",
    "print(\"Score del modello iniziale: \" + str(model.score(X_test, y_test)))\n"
   ]
  },
  {
   "cell_type": "markdown",
   "metadata": {},
   "source": [
    "### 6. Plotting"
   ]
  },
  {
   "cell_type": "code",
   "execution_count": null,
   "metadata": {
    "ExecuteTime": {
     "start_time": "2023-09-21T07:20:19.917095100Z"
    }
   },
   "outputs": [],
   "source": []
  }
 ],
 "metadata": {
  "kernelspec": {
   "display_name": "thesis",
   "language": "python",
   "name": "python3"
  },
  "language_info": {
   "codemirror_mode": {
    "name": "ipython",
    "version": 3
   },
   "file_extension": ".py",
   "mimetype": "text/x-python",
   "name": "python",
   "nbconvert_exporter": "python",
   "pygments_lexer": "ipython3",
   "version": "3.11.4"
  },
  "orig_nbformat": 4
 },
 "nbformat": 4,
 "nbformat_minor": 2
}
