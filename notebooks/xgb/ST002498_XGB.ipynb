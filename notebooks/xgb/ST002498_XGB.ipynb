{
 "cells": [
  {
   "cell_type": "code",
   "execution_count": 20,
   "id": "initial_id",
   "metadata": {
    "collapsed": true,
    "ExecuteTime": {
     "end_time": "2024-01-26T21:40:37.563685099Z",
     "start_time": "2024-01-26T21:40:37.462248761Z"
    }
   },
   "outputs": [],
   "source": [
    "import numpy as np\n",
    "import pandas as pd\n",
    "from matplotlib import pyplot as plt\n",
    "import seaborn as sns\n",
    "\n",
    "output_directory = '/home/marco/DataspellProjects/thesis/output/pls/'\n",
    "\n",
    "palette = sns.color_palette([\"#2176AB\", \"#F97662\", \"#FFBF00\", \"#50C878\", \"#B284BE\"])\n",
    "sns.set(style=\"whitegrid\", font_scale=1.5)\n",
    "sns.set_palette(palette)\n",
    "\n",
    "df = pd.read_csv('../../data/ST002498_balanced_standard.csv')"
   ]
  },
  {
   "cell_type": "markdown",
   "source": [
    "Performing extreme gradient boost model"
   ],
   "metadata": {
    "collapsed": false
   },
   "id": "d733e11a92391b6a"
  },
  {
   "cell_type": "code",
   "execution_count": 21,
   "outputs": [],
   "source": [
    "import xgboost as xgb\n",
    "from sklearn.metrics import accuracy_score, confusion_matrix\n",
    "\n",
    "# Replace disallowed characters in column names like '[' or ']' or '<'\n",
    "df.columns = df.columns.str.replace('[', '_', regex=False)\n",
    "df.columns = df.columns.str.replace(']', '_', regex=False)\n",
    "df.columns = df.columns.str.replace('<', '_', regex=False)\n",
    "\n",
    "# Split the data into features (X) and target variable (y)\n",
    "X = df.drop(columns=['Diagnosis'])\n",
    "y = df['Diagnosis']\n"
   ],
   "metadata": {
    "collapsed": false,
    "ExecuteTime": {
     "end_time": "2024-01-26T21:40:37.591978720Z",
     "start_time": "2024-01-26T21:40:37.585115389Z"
    }
   },
   "id": "18bfa358f0af8be4"
  },
  {
   "cell_type": "code",
   "outputs": [
    {
     "name": "stdout",
     "output_type": "stream",
     "text": [
      "0.5873015873015873\n",
      "0.6190476190476191\n",
      "0.5238095238095238\n",
      "0.4603174603174603\n",
      "0.6190476190476191\n",
      "0.5079365079365079\n",
      "0.5483870967741935\n",
      "0.6612903225806451\n",
      "0.4838709677419355\n",
      "0.6612903225806451\n",
      "0.5674899193548387\n"
     ]
    }
   ],
   "source": [
    "from sklearn.metrics import roc_auc_score\n",
    "from sklearn.model_selection import StratifiedKFold\n",
    "\n",
    "scores = []\n",
    "cv = StratifiedKFold(n_splits=10, shuffle=True, random_state=42)\n",
    "\n",
    "for train_index, test_index in cv.split(X, y):\n",
    "    X_train, X_test = X.iloc[train_index], X.iloc[test_index]\n",
    "    y_train, y_test = y[train_index], y[test_index]\n",
    "\n",
    "    xgb_model = xgb.XGBClassifier(objective='binary:logistic', seed=42)\n",
    "    xgb_model.fit(X_train, y_train)\n",
    "    y_pred = xgb_model.predict(X_test)\n",
    "    scores.append(roc_auc_score(y_test, y_pred, multi_class='ovr'))\n"
   ],
   "metadata": {
    "collapsed": false,
    "ExecuteTime": {
     "end_time": "2024-01-26T21:41:56.745994861Z",
     "start_time": "2024-01-26T21:41:52.198467744Z"
    }
   },
   "id": "40d70355b1fae1a8",
   "execution_count": 24
  }
 ],
 "metadata": {
  "kernelspec": {
   "display_name": "Python 3",
   "language": "python",
   "name": "python3"
  },
  "language_info": {
   "codemirror_mode": {
    "name": "ipython",
    "version": 2
   },
   "file_extension": ".py",
   "mimetype": "text/x-python",
   "name": "python",
   "nbconvert_exporter": "python",
   "pygments_lexer": "ipython2",
   "version": "2.7.6"
  }
 },
 "nbformat": 4,
 "nbformat_minor": 5
}
