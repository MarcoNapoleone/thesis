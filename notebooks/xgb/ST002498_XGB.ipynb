{
 "cells": [
  {
   "cell_type": "code",
   "execution_count": 15,
   "id": "initial_id",
   "metadata": {
    "collapsed": true,
    "ExecuteTime": {
     "end_time": "2024-02-23T17:08:06.342126Z",
     "start_time": "2024-02-23T17:08:06.320207Z"
    }
   },
   "outputs": [],
   "source": [
    "import numpy as np\n",
    "import pandas as pd\n",
    "from matplotlib import pyplot as plt\n",
    "import seaborn as sns\n",
    "\n",
    "output_directory = '/home/marco/DataspellProjects/thesis/output/pls/'\n",
    "\n",
    "palette = sns.color_palette([\"#2176AB\", \"#F97662\", \"#FFBF00\", \"#50C878\", \"#B284BE\"])\n",
    "sns.set(style=\"whitegrid\", font_scale=1.5)\n",
    "sns.set_palette(palette)\n",
    "\n",
    "df = pd.read_csv('../../data/ST002498_z.csv')"
   ]
  },
  {
   "cell_type": "markdown",
   "source": [
    "Performing extreme gradient boost model"
   ],
   "metadata": {
    "collapsed": false
   },
   "id": "d733e11a92391b6a"
  },
  {
   "cell_type": "code",
   "execution_count": 16,
   "outputs": [],
   "source": [
    "import xgboost as xgb\n",
    "from sklearn.metrics import accuracy_score, confusion_matrix\n",
    "\n",
    "# Split the data into features (X) and target variable (y)\n",
    "X = df.drop(columns=['Diagnosis'])\n",
    "y = df['Diagnosis']"
   ],
   "metadata": {
    "collapsed": false,
    "ExecuteTime": {
     "end_time": "2024-02-23T17:08:06.345011Z",
     "start_time": "2024-02-23T17:08:06.342758Z"
    }
   },
   "id": "654248aff5fba2f2"
  },
  {
   "cell_type": "code",
   "outputs": [
    {
     "name": "stdout",
     "output_type": "stream",
     "text": [
      "AUC del modello con migliori iperparametri: 0.5979545454545454\n"
     ]
    }
   ],
   "source": [
    "import xgboost as xgb\n",
    "from sklearn.model_selection import train_test_split\n",
    "from sklearn.metrics import roc_auc_score\n",
    "\n",
    "X_train, X_test, y_train, y_test = train_test_split(X, y, test_size=0.3, random_state=0)\n",
    "\n",
    "import xgboost as xgb\n",
    "from sklearn.metrics import roc_auc_score\n",
    "from sklearn.model_selection import train_test_split\n",
    "\n",
    "# Definisci i migliori iperparametri\n",
    "best_params = {'gamma': 14.40091678161127, 'learning_rate': 0.033442859006952805, 'max_depth': 12,\n",
    "               'n_estimators': 200, 'seed': 0, 'subsample': 0.9816330791097686}\n",
    "\n",
    "# Dividi il set di dati in training e test\n",
    "X_train, X_test, y_train, y_test = train_test_split(X, y, test_size=0.3, random_state=0)\n",
    "\n",
    "# Crea il modello XGBoost utilizzando i migliori iperparametri\n",
    "best_model = xgb.XGBClassifier(**best_params)\n",
    "\n",
    "# Addestra il modello sul set di dati di training\n",
    "best_model.fit(X_train, y_train)\n",
    "\n",
    "# Effettua le previsioni sul set di dati di test\n",
    "y_pred = best_model.predict(X_test)\n",
    "\n",
    "# Calcola l'AUC (Area Under the Curve) per valutare le prestazioni del modello\n",
    "auc = roc_auc_score(y_test, y_pred)\n",
    "\n",
    "# Stampa l'AUC\n",
    "print(\"AUC del modello con migliori iperparametri:\", auc)\n",
    "\n"
   ],
   "metadata": {
    "collapsed": false,
    "ExecuteTime": {
     "end_time": "2024-02-23T17:08:07.047326Z",
     "start_time": "2024-02-23T17:08:06.359532Z"
    }
   },
   "id": "40d70355b1fae1a8",
   "execution_count": 17
  },
  {
   "cell_type": "code",
   "outputs": [],
   "source": [],
   "metadata": {
    "collapsed": false,
    "ExecuteTime": {
     "end_time": "2024-02-23T17:08:07.049602Z",
     "start_time": "2024-02-23T17:08:07.048244Z"
    }
   },
   "id": "13d943a1c47e475f",
   "execution_count": 17
  }
 ],
 "metadata": {
  "kernelspec": {
   "display_name": "Python 3",
   "language": "python",
   "name": "python3"
  },
  "language_info": {
   "codemirror_mode": {
    "name": "ipython",
    "version": 2
   },
   "file_extension": ".py",
   "mimetype": "text/x-python",
   "name": "python",
   "nbconvert_exporter": "python",
   "pygments_lexer": "ipython2",
   "version": "2.7.6"
  }
 },
 "nbformat": 4,
 "nbformat_minor": 5
}
