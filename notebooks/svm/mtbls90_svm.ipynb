{
 "cells": [
  {
   "cell_type": "markdown",
   "metadata": {},
   "source": [
    "### 1. Import Packages"
   ]
  },
  {
   "cell_type": "code",
   "execution_count": 10,
   "metadata": {},
   "outputs": [
    {
     "name": "stdout",
     "output_type": "stream",
     "text": [
      "All packages successfully loaded\n"
     ]
    }
   ],
   "source": [
    "import numpy as np\n",
    "import pandas as pd\n",
    "import seaborn as sns\n",
    "import matplotlib.pyplot as plt\n",
    "from sklearn import svm\n",
    "from sklearn.model_selection import train_test_split, KFold\n",
    "from sklearn.metrics import accuracy_score, classification_report, mean_absolute_error\n",
    "\n",
    "print('All packages successfully loaded')"
   ]
  },
  {
   "cell_type": "markdown",
   "metadata": {},
   "source": [
    "### 2. Load Data & Peak Sheet"
   ]
  },
  {
   "cell_type": "code",
   "execution_count": 11,
   "metadata": {},
   "outputs": [
    {
     "name": "stderr",
     "output_type": "stream",
     "text": [
      "/Users/nova/Programming/anaconda3/envs/thesis/lib/python3.11/site-packages/openpyxl/worksheet/_reader.py:329: UserWarning: Unknown extension is not supported and will be removed\n",
      "  warn(msg)\n"
     ]
    },
    {
     "data": {
      "text/html": [
       "<div>\n",
       "<style scoped>\n",
       "    .dataframe tbody tr th:only-of-type {\n",
       "        vertical-align: middle;\n",
       "    }\n",
       "\n",
       "    .dataframe tbody tr th {\n",
       "        vertical-align: top;\n",
       "    }\n",
       "\n",
       "    .dataframe thead th {\n",
       "        text-align: right;\n",
       "    }\n",
       "</style>\n",
       "<table border=\"1\" class=\"dataframe\">\n",
       "  <thead>\n",
       "    <tr style=\"text-align: right;\">\n",
       "      <th></th>\n",
       "      <th>SampleID</th>\n",
       "      <th>Class</th>\n",
       "      <th>Sex</th>\n",
       "      <th>M1</th>\n",
       "      <th>M2</th>\n",
       "      <th>M3</th>\n",
       "      <th>M4</th>\n",
       "      <th>M5</th>\n",
       "      <th>M6</th>\n",
       "      <th>M7</th>\n",
       "      <th>...</th>\n",
       "      <th>M180</th>\n",
       "      <th>M181</th>\n",
       "      <th>M182</th>\n",
       "      <th>M183</th>\n",
       "      <th>M184</th>\n",
       "      <th>M185</th>\n",
       "      <th>M186</th>\n",
       "      <th>M187</th>\n",
       "      <th>M188</th>\n",
       "      <th>M189</th>\n",
       "    </tr>\n",
       "    <tr>\n",
       "      <th>Idx</th>\n",
       "      <th></th>\n",
       "      <th></th>\n",
       "      <th></th>\n",
       "      <th></th>\n",
       "      <th></th>\n",
       "      <th></th>\n",
       "      <th></th>\n",
       "      <th></th>\n",
       "      <th></th>\n",
       "      <th></th>\n",
       "      <th></th>\n",
       "      <th></th>\n",
       "      <th></th>\n",
       "      <th></th>\n",
       "      <th></th>\n",
       "      <th></th>\n",
       "      <th></th>\n",
       "      <th></th>\n",
       "      <th></th>\n",
       "      <th></th>\n",
       "      <th></th>\n",
       "    </tr>\n",
       "  </thead>\n",
       "  <tbody>\n",
       "    <tr>\n",
       "      <th>1</th>\n",
       "      <td>subject_1524</td>\n",
       "      <td>0</td>\n",
       "      <td>Female</td>\n",
       "      <td>14.98474</td>\n",
       "      <td>14.49947</td>\n",
       "      <td>12.097435</td>\n",
       "      <td>12.043818</td>\n",
       "      <td>11.436392</td>\n",
       "      <td>16.07217</td>\n",
       "      <td>17.01090</td>\n",
       "      <td>...</td>\n",
       "      <td>20.70097</td>\n",
       "      <td>20.19814</td>\n",
       "      <td>21.28179</td>\n",
       "      <td>21.09176</td>\n",
       "      <td>16.46404</td>\n",
       "      <td>12.269896</td>\n",
       "      <td>17.29323</td>\n",
       "      <td>19.81546</td>\n",
       "      <td>19.35259</td>\n",
       "      <td>12.71608</td>\n",
       "    </tr>\n",
       "    <tr>\n",
       "      <th>2</th>\n",
       "      <td>subject_1525</td>\n",
       "      <td>1</td>\n",
       "      <td>Male</td>\n",
       "      <td>15.17667</td>\n",
       "      <td>14.50172</td>\n",
       "      <td>12.363773</td>\n",
       "      <td>12.240458</td>\n",
       "      <td>11.577436</td>\n",
       "      <td>14.93265</td>\n",
       "      <td>16.90847</td>\n",
       "      <td>...</td>\n",
       "      <td>21.68605</td>\n",
       "      <td>20.51608</td>\n",
       "      <td>21.25777</td>\n",
       "      <td>20.53935</td>\n",
       "      <td>16.33413</td>\n",
       "      <td>12.031267</td>\n",
       "      <td>18.08144</td>\n",
       "      <td>19.96693</td>\n",
       "      <td>19.50694</td>\n",
       "      <td>13.20891</td>\n",
       "    </tr>\n",
       "    <tr>\n",
       "      <th>3</th>\n",
       "      <td>subject_1527</td>\n",
       "      <td>1</td>\n",
       "      <td>Male</td>\n",
       "      <td>15.35934</td>\n",
       "      <td>14.41941</td>\n",
       "      <td>12.510494</td>\n",
       "      <td>11.234959</td>\n",
       "      <td>11.199970</td>\n",
       "      <td>15.22600</td>\n",
       "      <td>17.17192</td>\n",
       "      <td>...</td>\n",
       "      <td>20.46320</td>\n",
       "      <td>20.34297</td>\n",
       "      <td>21.34793</td>\n",
       "      <td>20.81883</td>\n",
       "      <td>16.44281</td>\n",
       "      <td>12.679043</td>\n",
       "      <td>17.24765</td>\n",
       "      <td>20.01505</td>\n",
       "      <td>20.34058</td>\n",
       "      <td>12.98210</td>\n",
       "    </tr>\n",
       "    <tr>\n",
       "      <th>4</th>\n",
       "      <td>subject_1528</td>\n",
       "      <td>1</td>\n",
       "      <td>Male</td>\n",
       "      <td>15.12638</td>\n",
       "      <td>14.75630</td>\n",
       "      <td>13.001426</td>\n",
       "      <td>12.640496</td>\n",
       "      <td>11.244146</td>\n",
       "      <td>14.78994</td>\n",
       "      <td>16.47827</td>\n",
       "      <td>...</td>\n",
       "      <td>21.36879</td>\n",
       "      <td>20.93957</td>\n",
       "      <td>21.09719</td>\n",
       "      <td>20.82021</td>\n",
       "      <td>16.27483</td>\n",
       "      <td>12.323163</td>\n",
       "      <td>17.72392</td>\n",
       "      <td>19.57522</td>\n",
       "      <td>19.18157</td>\n",
       "      <td>12.41039</td>\n",
       "    </tr>\n",
       "    <tr>\n",
       "      <th>5</th>\n",
       "      <td>subject_1529</td>\n",
       "      <td>1</td>\n",
       "      <td>Male</td>\n",
       "      <td>15.20272</td>\n",
       "      <td>14.48083</td>\n",
       "      <td>12.392280</td>\n",
       "      <td>10.779516</td>\n",
       "      <td>10.968423</td>\n",
       "      <td>15.75598</td>\n",
       "      <td>17.20552</td>\n",
       "      <td>...</td>\n",
       "      <td>20.80482</td>\n",
       "      <td>19.82493</td>\n",
       "      <td>20.84250</td>\n",
       "      <td>20.31349</td>\n",
       "      <td>16.33279</td>\n",
       "      <td>12.352881</td>\n",
       "      <td>17.59348</td>\n",
       "      <td>19.88594</td>\n",
       "      <td>18.66284</td>\n",
       "      <td>12.37479</td>\n",
       "    </tr>\n",
       "  </tbody>\n",
       "</table>\n",
       "<p>5 rows × 192 columns</p>\n",
       "</div>"
      ],
      "text/plain": [
       "         SampleID  Class     Sex        M1        M2         M3         M4  \\\n",
       "Idx                                                                          \n",
       "1    subject_1524      0  Female  14.98474  14.49947  12.097435  12.043818   \n",
       "2    subject_1525      1    Male  15.17667  14.50172  12.363773  12.240458   \n",
       "3    subject_1527      1    Male  15.35934  14.41941  12.510494  11.234959   \n",
       "4    subject_1528      1    Male  15.12638  14.75630  13.001426  12.640496   \n",
       "5    subject_1529      1    Male  15.20272  14.48083  12.392280  10.779516   \n",
       "\n",
       "            M5        M6        M7  ...      M180      M181      M182  \\\n",
       "Idx                                 ...                                 \n",
       "1    11.436392  16.07217  17.01090  ...  20.70097  20.19814  21.28179   \n",
       "2    11.577436  14.93265  16.90847  ...  21.68605  20.51608  21.25777   \n",
       "3    11.199970  15.22600  17.17192  ...  20.46320  20.34297  21.34793   \n",
       "4    11.244146  14.78994  16.47827  ...  21.36879  20.93957  21.09719   \n",
       "5    10.968423  15.75598  17.20552  ...  20.80482  19.82493  20.84250   \n",
       "\n",
       "         M183      M184       M185      M186      M187      M188      M189  \n",
       "Idx                                                                         \n",
       "1    21.09176  16.46404  12.269896  17.29323  19.81546  19.35259  12.71608  \n",
       "2    20.53935  16.33413  12.031267  18.08144  19.96693  19.50694  13.20891  \n",
       "3    20.81883  16.44281  12.679043  17.24765  20.01505  20.34058  12.98210  \n",
       "4    20.82021  16.27483  12.323163  17.72392  19.57522  19.18157  12.41039  \n",
       "5    20.31349  16.33279  12.352881  17.59348  19.88594  18.66284  12.37479  \n",
       "\n",
       "[5 rows x 192 columns]"
      ]
     },
     "execution_count": 11,
     "metadata": {},
     "output_type": "execute_result"
    }
   ],
   "source": [
    "df = pd.read_excel(\"/Users/nova/Desktop/Thesis/Metabolomics ML/data/MTBLS90.xlsx\", index_col=\"Idx\")\n",
    "df.head()\n"
   ]
  },
  {
   "cell_type": "markdown",
   "metadata": {},
   "source": [
    "### 3. Extract X & Y"
   ]
  },
  {
   "cell_type": "code",
   "execution_count": 12,
   "metadata": {},
   "outputs": [],
   "source": [
    "X = df.drop(columns=['SampleID', 'Sex', 'Class'], axis = 'columns')\n",
    "y = df.Class\n",
    "X_train, X_test, y_train, y_test = train_test_split(X, y, test_size=0.2, random_state=42)\n"
   ]
  },
  {
   "cell_type": "markdown",
   "metadata": {},
   "source": [
    "### 5. Build Model & Evaluate"
   ]
  },
  {
   "cell_type": "code",
   "execution_count": 13,
   "metadata": {},
   "outputs": [
    {
     "name": "stdout",
     "output_type": "stream",
     "text": [
      "CLASSIFICATION REPORT: \n",
      "               precision    recall  f1-score   support\n",
      "\n",
      "           0       0.78      0.70      0.74        97\n",
      "           1       0.73      0.80      0.76        97\n",
      "\n",
      "    accuracy                           0.75       194\n",
      "   macro avg       0.76      0.75      0.75       194\n",
      "weighted avg       0.76      0.75      0.75       194\n",
      "\n"
     ]
    }
   ],
   "source": [
    "def svm_classification(): \n",
    "    svm_classifier = svm.SVC(kernel='linear', C=1.0)\n",
    "    svm_classifier.fit(X_train, y_train)\n",
    "    predictions = svm_classifier.predict(X_test)\n",
    "    \n",
    "    report = classification_report(y_test, predictions)\n",
    "    print('CLASSIFICATION REPORT: \\n', report)\n",
    "\n",
    "svm_classification()"
   ]
  },
  {
   "cell_type": "markdown",
   "metadata": {},
   "source": [
    "### K-Fold evaluation"
   ]
  },
  {
   "cell_type": "code",
   "execution_count": 14,
   "metadata": {},
   "outputs": [
    {
     "ename": "KeyError",
     "evalue": "\"None of [Int64Index([  0,   1,   2,   3,   4,   5,   6,   7,   8,   9,\\n            ...\\n            952, 955, 956, 957, 958, 959, 960, 961, 964, 967],\\n           dtype='int64', length=774)] are in the [columns]\"",
     "output_type": "error",
     "traceback": [
      "\u001b[0;31m---------------------------------------------------------------------------\u001b[0m",
      "\u001b[0;31mKeyError\u001b[0m                                  Traceback (most recent call last)",
      "\u001b[1;32m/Users/nova/Desktop/Thesis/Metabolomics ML/notebooks/svm-lin/mtbls90_svm-lin.ipynb Cell 10\u001b[0m line \u001b[0;36m4\n\u001b[1;32m      <a href='vscode-notebook-cell:/Users/nova/Desktop/Thesis/Metabolomics%20ML/notebooks/svm-lin/mtbls90_svm-lin.ipynb#X15sZmlsZQ%3D%3D?line=0'>1</a>\u001b[0m kf \u001b[39m=\u001b[39m KFold(n_splits\u001b[39m=\u001b[39m\u001b[39m5\u001b[39m, shuffle\u001b[39m=\u001b[39m\u001b[39mTrue\u001b[39;00m, random_state\u001b[39m=\u001b[39m\u001b[39m42\u001b[39m)\n\u001b[1;32m      <a href='vscode-notebook-cell:/Users/nova/Desktop/Thesis/Metabolomics%20ML/notebooks/svm-lin/mtbls90_svm-lin.ipynb#X15sZmlsZQ%3D%3D?line=2'>3</a>\u001b[0m \u001b[39mfor\u001b[39;00m train_index, test_index \u001b[39min\u001b[39;00m kf\u001b[39m.\u001b[39msplit(X):\n\u001b[0;32m----> <a href='vscode-notebook-cell:/Users/nova/Desktop/Thesis/Metabolomics%20ML/notebooks/svm-lin/mtbls90_svm-lin.ipynb#X15sZmlsZQ%3D%3D?line=3'>4</a>\u001b[0m     X_train, X_test \u001b[39m=\u001b[39m X[train_index], X[test_index]\n\u001b[1;32m      <a href='vscode-notebook-cell:/Users/nova/Desktop/Thesis/Metabolomics%20ML/notebooks/svm-lin/mtbls90_svm-lin.ipynb#X15sZmlsZQ%3D%3D?line=4'>5</a>\u001b[0m     y_train, y_test \u001b[39m=\u001b[39m y[train_index], y[test_index]\n\u001b[1;32m      <a href='vscode-notebook-cell:/Users/nova/Desktop/Thesis/Metabolomics%20ML/notebooks/svm-lin/mtbls90_svm-lin.ipynb#X15sZmlsZQ%3D%3D?line=6'>7</a>\u001b[0m svm_classification()\n",
      "File \u001b[0;32m~/Programming/anaconda3/envs/thesis/lib/python3.11/site-packages/pandas/core/frame.py:3813\u001b[0m, in \u001b[0;36mDataFrame.__getitem__\u001b[0;34m(self, key)\u001b[0m\n\u001b[1;32m   3811\u001b[0m     \u001b[39mif\u001b[39;00m is_iterator(key):\n\u001b[1;32m   3812\u001b[0m         key \u001b[39m=\u001b[39m \u001b[39mlist\u001b[39m(key)\n\u001b[0;32m-> 3813\u001b[0m     indexer \u001b[39m=\u001b[39m \u001b[39mself\u001b[39;49m\u001b[39m.\u001b[39;49mcolumns\u001b[39m.\u001b[39;49m_get_indexer_strict(key, \u001b[39m\"\u001b[39;49m\u001b[39mcolumns\u001b[39;49m\u001b[39m\"\u001b[39;49m)[\u001b[39m1\u001b[39m]\n\u001b[1;32m   3815\u001b[0m \u001b[39m# take() does not accept boolean indexers\u001b[39;00m\n\u001b[1;32m   3816\u001b[0m \u001b[39mif\u001b[39;00m \u001b[39mgetattr\u001b[39m(indexer, \u001b[39m\"\u001b[39m\u001b[39mdtype\u001b[39m\u001b[39m\"\u001b[39m, \u001b[39mNone\u001b[39;00m) \u001b[39m==\u001b[39m \u001b[39mbool\u001b[39m:\n",
      "File \u001b[0;32m~/Programming/anaconda3/envs/thesis/lib/python3.11/site-packages/pandas/core/indexes/base.py:6070\u001b[0m, in \u001b[0;36mIndex._get_indexer_strict\u001b[0;34m(self, key, axis_name)\u001b[0m\n\u001b[1;32m   6067\u001b[0m \u001b[39melse\u001b[39;00m:\n\u001b[1;32m   6068\u001b[0m     keyarr, indexer, new_indexer \u001b[39m=\u001b[39m \u001b[39mself\u001b[39m\u001b[39m.\u001b[39m_reindex_non_unique(keyarr)\n\u001b[0;32m-> 6070\u001b[0m \u001b[39mself\u001b[39;49m\u001b[39m.\u001b[39;49m_raise_if_missing(keyarr, indexer, axis_name)\n\u001b[1;32m   6072\u001b[0m keyarr \u001b[39m=\u001b[39m \u001b[39mself\u001b[39m\u001b[39m.\u001b[39mtake(indexer)\n\u001b[1;32m   6073\u001b[0m \u001b[39mif\u001b[39;00m \u001b[39misinstance\u001b[39m(key, Index):\n\u001b[1;32m   6074\u001b[0m     \u001b[39m# GH 42790 - Preserve name from an Index\u001b[39;00m\n",
      "File \u001b[0;32m~/Programming/anaconda3/envs/thesis/lib/python3.11/site-packages/pandas/core/indexes/base.py:6130\u001b[0m, in \u001b[0;36mIndex._raise_if_missing\u001b[0;34m(self, key, indexer, axis_name)\u001b[0m\n\u001b[1;32m   6128\u001b[0m     \u001b[39mif\u001b[39;00m use_interval_msg:\n\u001b[1;32m   6129\u001b[0m         key \u001b[39m=\u001b[39m \u001b[39mlist\u001b[39m(key)\n\u001b[0;32m-> 6130\u001b[0m     \u001b[39mraise\u001b[39;00m \u001b[39mKeyError\u001b[39;00m(\u001b[39mf\u001b[39m\u001b[39m\"\u001b[39m\u001b[39mNone of [\u001b[39m\u001b[39m{\u001b[39;00mkey\u001b[39m}\u001b[39;00m\u001b[39m] are in the [\u001b[39m\u001b[39m{\u001b[39;00maxis_name\u001b[39m}\u001b[39;00m\u001b[39m]\u001b[39m\u001b[39m\"\u001b[39m)\n\u001b[1;32m   6132\u001b[0m not_found \u001b[39m=\u001b[39m \u001b[39mlist\u001b[39m(ensure_index(key)[missing_mask\u001b[39m.\u001b[39mnonzero()[\u001b[39m0\u001b[39m]]\u001b[39m.\u001b[39munique())\n\u001b[1;32m   6133\u001b[0m \u001b[39mraise\u001b[39;00m \u001b[39mKeyError\u001b[39;00m(\u001b[39mf\u001b[39m\u001b[39m\"\u001b[39m\u001b[39m{\u001b[39;00mnot_found\u001b[39m}\u001b[39;00m\u001b[39m not in index\u001b[39m\u001b[39m\"\u001b[39m)\n",
      "\u001b[0;31mKeyError\u001b[0m: \"None of [Int64Index([  0,   1,   2,   3,   4,   5,   6,   7,   8,   9,\\n            ...\\n            952, 955, 956, 957, 958, 959, 960, 961, 964, 967],\\n           dtype='int64', length=774)] are in the [columns]\""
     ]
    }
   ],
   "source": [
    "kf = KFold(n_splits=5, shuffle=True, random_state=42)\n",
    "\n",
    "for train_index, test_index in kf.split(X):\n",
    "    X_train, X_test = X[train_index], X[test_index]\n",
    "    y_train, y_test = y[train_index], y[test_index]\n",
    "\n",
    "svm_classification()\n",
    "    "
   ]
  }
 ],
 "metadata": {
  "kernelspec": {
   "display_name": "thesis",
   "language": "python",
   "name": "python3"
  },
  "language_info": {
   "codemirror_mode": {
    "name": "ipython",
    "version": 3
   },
   "file_extension": ".py",
   "mimetype": "text/x-python",
   "name": "python",
   "nbconvert_exporter": "python",
   "pygments_lexer": "ipython3",
   "version": "3.11.4"
  },
  "orig_nbformat": 4
 },
 "nbformat": 4,
 "nbformat_minor": 2
}
