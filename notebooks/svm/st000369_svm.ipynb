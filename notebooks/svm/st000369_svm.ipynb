{
 "cells": [
  {
   "cell_type": "markdown",
   "metadata": {},
   "source": [
    "### 1. Import Packages"
   ]
  },
  {
   "cell_type": "code",
   "execution_count": 1,
   "metadata": {},
   "outputs": [
    {
     "name": "stdout",
     "output_type": "stream",
     "text": [
      "All packages successfully loaded\n"
     ]
    }
   ],
   "source": [
    "# Librerie di base\n",
    "import numpy as np\n",
    "import pandas as pd\n",
    "import seaborn as sns\n",
    "import matplotlib.pyplot as plt\n",
    "\n",
    "# Librerie per la Data Imputation\n",
    "from sklearn.impute import KNNImputer\n",
    "\n",
    "# Librerie per la Hyperparameters Optimization\n",
    "from sklearn.model_selection import GridSearchCV\n",
    "\n",
    "# Librerie per il Machine Learning\n",
    "from sklearn import svm\n",
    "import sklearn.metrics as metrics\n",
    "from sklearn.model_selection import KFold, train_test_split, cross_val_score\n",
    "\n",
    "# Librerie per la Features Selection\n",
    "from sklearn.feature_selection import SelectKBest\n",
    "from sklearn.feature_selection import chi2\n",
    "\n",
    "print('All packages successfully loaded')"
   ]
  },
  {
   "cell_type": "markdown",
   "metadata": {},
   "source": [
    "### 2. Load Data & Peak Sheet"
   ]
  },
  {
   "cell_type": "code",
   "execution_count": 2,
   "metadata": {},
   "outputs": [
    {
     "data": {
      "text/html": [
       "<div>\n",
       "<style scoped>\n",
       "    .dataframe tbody tr th:only-of-type {\n",
       "        vertical-align: middle;\n",
       "    }\n",
       "\n",
       "    .dataframe tbody tr th {\n",
       "        vertical-align: top;\n",
       "    }\n",
       "\n",
       "    .dataframe thead th {\n",
       "        text-align: right;\n",
       "    }\n",
       "</style>\n",
       "<table border=\"1\" class=\"dataframe\">\n",
       "  <thead>\n",
       "    <tr style=\"text-align: right;\">\n",
       "      <th></th>\n",
       "      <th>SampleType</th>\n",
       "      <th>HealthState</th>\n",
       "      <th>SmokingStatus</th>\n",
       "      <th>Sex</th>\n",
       "      <th>M1</th>\n",
       "      <th>M2</th>\n",
       "      <th>M3</th>\n",
       "      <th>M4</th>\n",
       "      <th>M5</th>\n",
       "      <th>M6</th>\n",
       "      <th>...</th>\n",
       "      <th>M172</th>\n",
       "      <th>M173</th>\n",
       "      <th>M174</th>\n",
       "      <th>M175</th>\n",
       "      <th>M176</th>\n",
       "      <th>M177</th>\n",
       "      <th>M178</th>\n",
       "      <th>M179</th>\n",
       "      <th>M180</th>\n",
       "      <th>M181</th>\n",
       "    </tr>\n",
       "  </thead>\n",
       "  <tbody>\n",
       "    <tr>\n",
       "      <th>0</th>\n",
       "      <td>Plasma</td>\n",
       "      <td>Adenocarcinoma</td>\n",
       "      <td>Former</td>\n",
       "      <td>F</td>\n",
       "      <td>194</td>\n",
       "      <td>168</td>\n",
       "      <td>77</td>\n",
       "      <td>105985</td>\n",
       "      <td>118</td>\n",
       "      <td>15489</td>\n",
       "      <td>...</td>\n",
       "      <td>195</td>\n",
       "      <td>1606</td>\n",
       "      <td>300</td>\n",
       "      <td>108</td>\n",
       "      <td>7203</td>\n",
       "      <td>43</td>\n",
       "      <td>59</td>\n",
       "      <td>1009</td>\n",
       "      <td>383</td>\n",
       "      <td>68</td>\n",
       "    </tr>\n",
       "    <tr>\n",
       "      <th>1</th>\n",
       "      <td>Plasma</td>\n",
       "      <td>Adenocarcinoma</td>\n",
       "      <td>Former</td>\n",
       "      <td>F</td>\n",
       "      <td>215</td>\n",
       "      <td>143</td>\n",
       "      <td>154</td>\n",
       "      <td>100462</td>\n",
       "      <td>133</td>\n",
       "      <td>13534</td>\n",
       "      <td>...</td>\n",
       "      <td>184</td>\n",
       "      <td>364</td>\n",
       "      <td>1364</td>\n",
       "      <td>160</td>\n",
       "      <td>11910</td>\n",
       "      <td>82</td>\n",
       "      <td>99</td>\n",
       "      <td>136</td>\n",
       "      <td>1021</td>\n",
       "      <td>165</td>\n",
       "    </tr>\n",
       "    <tr>\n",
       "      <th>2</th>\n",
       "      <td>Plasma</td>\n",
       "      <td>Adenocarcinoma</td>\n",
       "      <td>Current</td>\n",
       "      <td>F</td>\n",
       "      <td>104</td>\n",
       "      <td>67</td>\n",
       "      <td>45</td>\n",
       "      <td>75301</td>\n",
       "      <td>94</td>\n",
       "      <td>7390</td>\n",
       "      <td>...</td>\n",
       "      <td>189</td>\n",
       "      <td>157</td>\n",
       "      <td>884</td>\n",
       "      <td>73</td>\n",
       "      <td>6372</td>\n",
       "      <td>59</td>\n",
       "      <td>35</td>\n",
       "      <td>115</td>\n",
       "      <td>530</td>\n",
       "      <td>72</td>\n",
       "    </tr>\n",
       "    <tr>\n",
       "      <th>3</th>\n",
       "      <td>Plasma</td>\n",
       "      <td>Adenocarcinoma</td>\n",
       "      <td>Current</td>\n",
       "      <td>M</td>\n",
       "      <td>360</td>\n",
       "      <td>642</td>\n",
       "      <td>82</td>\n",
       "      <td>42097</td>\n",
       "      <td>84</td>\n",
       "      <td>50943</td>\n",
       "      <td>...</td>\n",
       "      <td>320</td>\n",
       "      <td>1621</td>\n",
       "      <td>461</td>\n",
       "      <td>104</td>\n",
       "      <td>14011</td>\n",
       "      <td>69</td>\n",
       "      <td>86</td>\n",
       "      <td>845</td>\n",
       "      <td>1309</td>\n",
       "      <td>127</td>\n",
       "    </tr>\n",
       "    <tr>\n",
       "      <th>4</th>\n",
       "      <td>Plasma</td>\n",
       "      <td>Adenocarcinoma</td>\n",
       "      <td>Current</td>\n",
       "      <td>M</td>\n",
       "      <td>96</td>\n",
       "      <td>137</td>\n",
       "      <td>95</td>\n",
       "      <td>112346</td>\n",
       "      <td>168</td>\n",
       "      <td>41987</td>\n",
       "      <td>...</td>\n",
       "      <td>84</td>\n",
       "      <td>769</td>\n",
       "      <td>266</td>\n",
       "      <td>158</td>\n",
       "      <td>18140</td>\n",
       "      <td>40</td>\n",
       "      <td>87</td>\n",
       "      <td>1213</td>\n",
       "      <td>1037</td>\n",
       "      <td>149</td>\n",
       "    </tr>\n",
       "  </tbody>\n",
       "</table>\n",
       "<p>5 rows × 185 columns</p>\n",
       "</div>"
      ],
      "text/plain": [
       "  SampleType     HealthState SmokingStatus Sex   M1   M2   M3      M4   M5  \\\n",
       "0     Plasma  Adenocarcinoma        Former   F  194  168   77  105985  118   \n",
       "1     Plasma  Adenocarcinoma        Former   F  215  143  154  100462  133   \n",
       "2     Plasma  Adenocarcinoma       Current   F  104   67   45   75301   94   \n",
       "3     Plasma  Adenocarcinoma       Current   M  360  642   82   42097   84   \n",
       "4     Plasma  Adenocarcinoma       Current   M   96  137   95  112346  168   \n",
       "\n",
       "      M6  ...  M172  M173  M174  M175   M176  M177  M178  M179  M180  M181  \n",
       "0  15489  ...   195  1606   300   108   7203    43    59  1009   383    68  \n",
       "1  13534  ...   184   364  1364   160  11910    82    99   136  1021   165  \n",
       "2   7390  ...   189   157   884    73   6372    59    35   115   530    72  \n",
       "3  50943  ...   320  1621   461   104  14011    69    86   845  1309   127  \n",
       "4  41987  ...    84   769   266   158  18140    40    87  1213  1037   149  \n",
       "\n",
       "[5 rows x 185 columns]"
      ]
     },
     "execution_count": 2,
     "metadata": {},
     "output_type": "execute_result"
    }
   ],
   "source": [
    "df = pd.read_excel('../../data/ST000369.xlsx')\n",
    "\n",
    "# Rimuoviamo le colonne che non ci servono\n",
    "df.drop(columns=[\"Idx\", \"SampleID\", \"Class\"], inplace=True)\n",
    "\n",
    "# Visualizziamo le prime 5 righe del dataset\n",
    "df.head()"
   ]
  },
  {
   "cell_type": "markdown",
   "metadata": {},
   "source": [
    "### 2.1 Data Cleaning"
   ]
  },
  {
   "cell_type": "markdown",
   "metadata": {},
   "source": [
    "Per quanto riguarda la fase di Data Cleaning effettuiamo le stesse operazioni viste per l'algoritmo Random Forest (RF). "
   ]
  },
  {
   "cell_type": "code",
   "execution_count": 3,
   "metadata": {},
   "outputs": [
    {
     "data": {
      "text/html": [
       "<div>\n",
       "<style scoped>\n",
       "    .dataframe tbody tr th:only-of-type {\n",
       "        vertical-align: middle;\n",
       "    }\n",
       "\n",
       "    .dataframe tbody tr th {\n",
       "        vertical-align: top;\n",
       "    }\n",
       "\n",
       "    .dataframe thead th {\n",
       "        text-align: right;\n",
       "    }\n",
       "</style>\n",
       "<table border=\"1\" class=\"dataframe\">\n",
       "  <thead>\n",
       "    <tr style=\"text-align: right;\">\n",
       "      <th></th>\n",
       "      <th>SampleType</th>\n",
       "      <th>HealthState</th>\n",
       "      <th>SmokingStatus</th>\n",
       "      <th>Sex</th>\n",
       "      <th>M1</th>\n",
       "      <th>M2</th>\n",
       "      <th>M3</th>\n",
       "      <th>M4</th>\n",
       "      <th>M5</th>\n",
       "      <th>M6</th>\n",
       "      <th>...</th>\n",
       "      <th>M173</th>\n",
       "      <th>M174</th>\n",
       "      <th>M175</th>\n",
       "      <th>M176</th>\n",
       "      <th>M177</th>\n",
       "      <th>M178</th>\n",
       "      <th>M179</th>\n",
       "      <th>M180</th>\n",
       "      <th>M181</th>\n",
       "      <th>Output</th>\n",
       "    </tr>\n",
       "  </thead>\n",
       "  <tbody>\n",
       "    <tr>\n",
       "      <th>0</th>\n",
       "      <td>Plasma</td>\n",
       "      <td>Adenocarcinoma</td>\n",
       "      <td>0</td>\n",
       "      <td>1</td>\n",
       "      <td>194</td>\n",
       "      <td>168</td>\n",
       "      <td>77</td>\n",
       "      <td>105985</td>\n",
       "      <td>118</td>\n",
       "      <td>15489</td>\n",
       "      <td>...</td>\n",
       "      <td>1606</td>\n",
       "      <td>300</td>\n",
       "      <td>108</td>\n",
       "      <td>7203</td>\n",
       "      <td>43</td>\n",
       "      <td>59</td>\n",
       "      <td>1009</td>\n",
       "      <td>383</td>\n",
       "      <td>68</td>\n",
       "      <td>1</td>\n",
       "    </tr>\n",
       "    <tr>\n",
       "      <th>1</th>\n",
       "      <td>Plasma</td>\n",
       "      <td>Adenocarcinoma</td>\n",
       "      <td>0</td>\n",
       "      <td>1</td>\n",
       "      <td>215</td>\n",
       "      <td>143</td>\n",
       "      <td>154</td>\n",
       "      <td>100462</td>\n",
       "      <td>133</td>\n",
       "      <td>13534</td>\n",
       "      <td>...</td>\n",
       "      <td>364</td>\n",
       "      <td>1364</td>\n",
       "      <td>160</td>\n",
       "      <td>11910</td>\n",
       "      <td>82</td>\n",
       "      <td>99</td>\n",
       "      <td>136</td>\n",
       "      <td>1021</td>\n",
       "      <td>165</td>\n",
       "      <td>1</td>\n",
       "    </tr>\n",
       "    <tr>\n",
       "      <th>2</th>\n",
       "      <td>Plasma</td>\n",
       "      <td>Adenocarcinoma</td>\n",
       "      <td>1</td>\n",
       "      <td>1</td>\n",
       "      <td>104</td>\n",
       "      <td>67</td>\n",
       "      <td>45</td>\n",
       "      <td>75301</td>\n",
       "      <td>94</td>\n",
       "      <td>7390</td>\n",
       "      <td>...</td>\n",
       "      <td>157</td>\n",
       "      <td>884</td>\n",
       "      <td>73</td>\n",
       "      <td>6372</td>\n",
       "      <td>59</td>\n",
       "      <td>35</td>\n",
       "      <td>115</td>\n",
       "      <td>530</td>\n",
       "      <td>72</td>\n",
       "      <td>1</td>\n",
       "    </tr>\n",
       "    <tr>\n",
       "      <th>3</th>\n",
       "      <td>Plasma</td>\n",
       "      <td>Adenocarcinoma</td>\n",
       "      <td>1</td>\n",
       "      <td>0</td>\n",
       "      <td>360</td>\n",
       "      <td>642</td>\n",
       "      <td>82</td>\n",
       "      <td>42097</td>\n",
       "      <td>84</td>\n",
       "      <td>50943</td>\n",
       "      <td>...</td>\n",
       "      <td>1621</td>\n",
       "      <td>461</td>\n",
       "      <td>104</td>\n",
       "      <td>14011</td>\n",
       "      <td>69</td>\n",
       "      <td>86</td>\n",
       "      <td>845</td>\n",
       "      <td>1309</td>\n",
       "      <td>127</td>\n",
       "      <td>1</td>\n",
       "    </tr>\n",
       "    <tr>\n",
       "      <th>4</th>\n",
       "      <td>Plasma</td>\n",
       "      <td>Adenocarcinoma</td>\n",
       "      <td>1</td>\n",
       "      <td>0</td>\n",
       "      <td>96</td>\n",
       "      <td>137</td>\n",
       "      <td>95</td>\n",
       "      <td>112346</td>\n",
       "      <td>168</td>\n",
       "      <td>41987</td>\n",
       "      <td>...</td>\n",
       "      <td>769</td>\n",
       "      <td>266</td>\n",
       "      <td>158</td>\n",
       "      <td>18140</td>\n",
       "      <td>40</td>\n",
       "      <td>87</td>\n",
       "      <td>1213</td>\n",
       "      <td>1037</td>\n",
       "      <td>149</td>\n",
       "      <td>1</td>\n",
       "    </tr>\n",
       "  </tbody>\n",
       "</table>\n",
       "<p>5 rows × 186 columns</p>\n",
       "</div>"
      ],
      "text/plain": [
       "  SampleType     HealthState  SmokingStatus  Sex   M1   M2   M3      M4   M5  \\\n",
       "0     Plasma  Adenocarcinoma              0    1  194  168   77  105985  118   \n",
       "1     Plasma  Adenocarcinoma              0    1  215  143  154  100462  133   \n",
       "2     Plasma  Adenocarcinoma              1    1  104   67   45   75301   94   \n",
       "3     Plasma  Adenocarcinoma              1    0  360  642   82   42097   84   \n",
       "4     Plasma  Adenocarcinoma              1    0   96  137   95  112346  168   \n",
       "\n",
       "      M6  ...  M173  M174  M175   M176  M177  M178  M179  M180  M181  Output  \n",
       "0  15489  ...  1606   300   108   7203    43    59  1009   383    68       1  \n",
       "1  13534  ...   364  1364   160  11910    82    99   136  1021   165       1  \n",
       "2   7390  ...   157   884    73   6372    59    35   115   530    72       1  \n",
       "3  50943  ...  1621   461   104  14011    69    86   845  1309   127       1  \n",
       "4  41987  ...   769   266   158  18140    40    87  1213  1037   149       1  \n",
       "\n",
       "[5 rows x 186 columns]"
      ]
     },
     "execution_count": 3,
     "metadata": {},
     "output_type": "execute_result"
    }
   ],
   "source": [
    "# Effettuiamo la correzione dei valori errati\n",
    "df[\"HealthState\"] = df[\"HealthState\"].str.replace('Adenocarcnoma', 'Adenocarcinoma')\n",
    "\n",
    "# Eliminiamo le righe con valori nulli all'interno delle colonne \"HealthState\" e \"Sex\"\n",
    "df = df.dropna(subset=[\"HealthState\", \"Sex\"])\n",
    "\n",
    "# Convertiamo i valori di natura categorica in valori numerici\n",
    "df['Output'] = df['HealthState'].apply(lambda x: 1 if x in ['Adenosquamous', 'Adenocarcinoma'] else 0)\n",
    "df['SmokingStatus'] = df['SmokingStatus'].apply(lambda x: 1 if x in ['Current'] else 0)\n",
    "df['Sex'] = df['Sex'].apply(lambda x: 1 if x in ['F'] else 0)\n",
    "\n",
    "# Visualizziamo le prime 5 righe del dataset\n",
    "df.head()"
   ]
  },
  {
   "cell_type": "markdown",
   "metadata": {},
   "source": [
    "### 3. Extract X & Y"
   ]
  },
  {
   "cell_type": "code",
   "execution_count": 4,
   "metadata": {},
   "outputs": [],
   "source": [
    "X = df.drop(columns=['SampleType', 'HealthState', 'Output'])\n",
    "X_features_names = X.columns\n",
    "y = df.Output"
   ]
  },
  {
   "cell_type": "markdown",
   "metadata": {},
   "source": [
    "### 3.1 Data Imputation"
   ]
  },
  {
   "cell_type": "code",
   "execution_count": 5,
   "metadata": {},
   "outputs": [
    {
     "name": "stderr",
     "output_type": "stream",
     "text": [
      "/var/folders/dv/cqkd8q211lb6w_8jd__s86d40000gn/T/ipykernel_3807/3462717103.py:4: DeprecationWarning: In a future version, `df.iloc[:, i] = newvals` will attempt to set the values inplace instead of always setting a new array. To retain the old behavior, use either `df[df.columns[i]] = newvals` or, if columns are non-unique, `df.isetitem(i, newvals)`\n",
      "  X[:] = imputer_knn.fit_transform(X)\n"
     ]
    }
   ],
   "source": [
    "# KNNImputer\n",
    "imputer_knn = KNNImputer(n_neighbors=2)\n",
    "imputer_knn.fit(X)\n",
    "X[:] = imputer_knn.fit_transform(X)\n",
    "X_knn = X.copy()"
   ]
  },
  {
   "cell_type": "markdown",
   "metadata": {},
   "source": [
    "### 3.2 Train-test Split"
   ]
  },
  {
   "cell_type": "code",
   "execution_count": 6,
   "metadata": {},
   "outputs": [],
   "source": [
    "X_train_knn, X_test_knn, y_train_knn, y_test_knn = train_test_split(X_knn, y, test_size=0.2, random_state=42)"
   ]
  },
  {
   "cell_type": "markdown",
   "metadata": {},
   "source": [
    "### 4. Initial Model Build"
   ]
  },
  {
   "cell_type": "code",
   "execution_count": 7,
   "metadata": {},
   "outputs": [],
   "source": [
    "# Definiamo il modello SVC con gli iperparametri di default\n",
    "model = svm.SVC()\n",
    "\n",
    "# Addestriamo il modello\n",
    "model.fit(X_train_knn, y_train_knn)\n",
    "\n",
    "# Eseguiamo le previsioni sui dati di test\n",
    "y_pred_knn = model.predict(X_test_knn)"
   ]
  },
  {
   "cell_type": "markdown",
   "metadata": {},
   "source": [
    "### 5. Initial Model Evalutation"
   ]
  },
  {
   "cell_type": "code",
   "execution_count": 8,
   "metadata": {},
   "outputs": [
    {
     "name": "stdout",
     "output_type": "stream",
     "text": [
      "Accuratezza: 0.48484848484848486\n",
      "Precision: 0.5\n",
      "Recall: 0.9411764705882353\n",
      "F1-score: 0.6530612244897959\n",
      "ROC AUC: 0.47058823529411764\n"
     ]
    }
   ],
   "source": [
    "# Valutiamo le prestazioni del modello con gli iperparametri di default\n",
    "accuracy_knn = metrics.accuracy_score(y_test_knn, y_pred_knn)\n",
    "precision_knn = metrics.precision_score(y_test_knn, y_pred_knn)\n",
    "recall_knn = metrics.recall_score(y_test_knn, y_pred_knn)\n",
    "f1_knn = metrics.f1_score(y_test_knn, y_pred_knn)\n",
    "roc_auc_knn = metrics.roc_auc_score(y_test_knn, y_pred_knn)\n",
    "\n",
    "print(f'Accuratezza: {accuracy_knn}')\n",
    "print(f'Precision: {precision_knn}')\n",
    "print(f'Recall: {recall_knn}')\n",
    "print(f'F1-score: {f1_knn}')\n",
    "print(f'ROC AUC: {roc_auc_knn}')"
   ]
  },
  {
   "cell_type": "markdown",
   "metadata": {},
   "source": [
    "Le prestazioni iniziali sono estremamente deludenti: abbiamo un'accuratezza del 48%, una Precision del 50% e una Recall dell'94%. Proviamo quindi a effettuare l'ottimizzazione dei vari parametri utilizzati per il problema."
   ]
  },
  {
   "cell_type": "markdown",
   "metadata": {},
   "source": [
    "### 6. Hyperparameters Optimization"
   ]
  },
  {
   "cell_type": "markdown",
   "metadata": {},
   "source": [
    "L'**ottimizzazione degli iperparametri** è un passo fondamentale nello sviluppo di modelli predittivi robusti. Infatti, aderire ai parametri predefiniti impedisce ai modelli di raggiungere il massimo delle prestazioni. A tale scopo, utilizziamo la tecnica **Grid Search**."
   ]
  },
  {
   "cell_type": "markdown",
   "metadata": {},
   "source": [
    "### 6.1 K-Fold"
   ]
  },
  {
   "cell_type": "markdown",
   "metadata": {},
   "source": [
    "Prima di effettuare l'ottimizzazione degli iperparametri, cerchiamo il numero di fold ideale per la K-Fold."
   ]
  },
  {
   "cell_type": "code",
   "execution_count": 9,
   "metadata": {},
   "outputs": [
    {
     "name": "stdout",
     "output_type": "stream",
     "text": [
      "K=5, Accuratezza Media: 0.5952651515151515\n",
      "K=6, Accuratezza Media: 0.601410934744268\n",
      "K=7, Accuratezza Media: 0.6019668737060042\n",
      "K=8, Accuratezza Media: 0.5955357142857143\n",
      "K=9, Accuratezza Media: 0.5955165692007798\n",
      "K=10, Accuratezza Media: 0.5955882352941176\n",
      "K ottimale: 7\n"
     ]
    }
   ],
   "source": [
    "# Testiamo diverse configurazioni di K\n",
    "max = 0\n",
    "k_best = 0\n",
    "for k in range(5, 11): \n",
    "    kfolds = KFold(n_splits=k, shuffle=True, random_state=42)\n",
    "    model = svm.SVC()\n",
    "    scores = cross_val_score(model, X_knn, y, cv=kfolds)\n",
    "    mean = np.mean(scores)\n",
    "    if mean > max: \n",
    "        max = mean\n",
    "        k_best = k\n",
    "    print(f\"K={k}, Accuratezza Media: {mean}\")\n",
    "\n",
    "print(f\"K ottimale: {k_best}\")"
   ]
  },
  {
   "cell_type": "markdown",
   "metadata": {},
   "source": [
    "Il numero ottimale di fold è 7. \n",
    "Ora possiamo effettuare la K-fold Cross-Validation con il numero ottimale di fold.\n"
   ]
  },
  {
   "cell_type": "code",
   "execution_count": 10,
   "metadata": {},
   "outputs": [
    {
     "name": "stdout",
     "output_type": "stream",
     "text": [
      "Accuratezza media: 0.6019668737060042\n",
      "Deviazione standard: 0.09357227548423523\n"
     ]
    }
   ],
   "source": [
    "# Creiamo l'oggetto KFold per la Cross-Validation con il numero di fold ottimale\n",
    "kfolds = KFold(n_splits=k_best, shuffle=True, random_state=42)\n",
    "\n",
    "# Creiamo il modello SVM con gli iperparametri ottimizzati\n",
    "model = svm.SVC()\n",
    "\n",
    "# Applichiamo la K-fold Cross-Validation\n",
    "scores = cross_val_score(model, X_knn, y, cv=kfolds, scoring='accuracy')\n",
    "\n",
    "# Visualizziamo i risultati della cross-validation\n",
    "print(f'Accuratezza media: {scores.mean()}')\n",
    "print(f'Deviazione standard: {scores.std()}')"
   ]
  },
  {
   "cell_type": "markdown",
   "metadata": {},
   "source": [
    "### 6.2 KNN Imputator Optimization"
   ]
  },
  {
   "cell_type": "markdown",
   "metadata": {},
   "source": [
    "Cerchiamo il numero ideale di neighbors per l'imputazione KNN."
   ]
  },
  {
   "cell_type": "code",
   "execution_count": 11,
   "metadata": {},
   "outputs": [
    {
     "ename": "KeyboardInterrupt",
     "evalue": "",
     "output_type": "error",
     "traceback": [
      "\u001b[0;31m---------------------------------------------------------------------------\u001b[0m",
      "\u001b[0;31mKeyboardInterrupt\u001b[0m                         Traceback (most recent call last)",
      "\u001b[1;32m/Users/nova/Desktop/Thesis/Metabolomics ML/notebooks/svm/st000369_svm.ipynb Cell 28\u001b[0m line \u001b[0;36m1\n\u001b[1;32m      <a href='vscode-notebook-cell:/Users/nova/Desktop/Thesis/Metabolomics%20ML/notebooks/svm/st000369_svm.ipynb#X36sZmlsZQ%3D%3D?line=8'>9</a>\u001b[0m grid_search \u001b[39m=\u001b[39m GridSearchCV(imputer_knn, param_space, cv\u001b[39m=\u001b[39mk_best, scoring\u001b[39m=\u001b[39m\u001b[39m'\u001b[39m\u001b[39maccuracy\u001b[39m\u001b[39m'\u001b[39m, n_jobs\u001b[39m=\u001b[39m\u001b[39m-\u001b[39m\u001b[39m1\u001b[39m)\n\u001b[1;32m     <a href='vscode-notebook-cell:/Users/nova/Desktop/Thesis/Metabolomics%20ML/notebooks/svm/st000369_svm.ipynb#X36sZmlsZQ%3D%3D?line=10'>11</a>\u001b[0m \u001b[39m# Addestriamo il modello sui dati\u001b[39;00m\n\u001b[0;32m---> <a href='vscode-notebook-cell:/Users/nova/Desktop/Thesis/Metabolomics%20ML/notebooks/svm/st000369_svm.ipynb#X36sZmlsZQ%3D%3D?line=11'>12</a>\u001b[0m grid_search\u001b[39m.\u001b[39;49mfit(X, y)\n\u001b[1;32m     <a href='vscode-notebook-cell:/Users/nova/Desktop/Thesis/Metabolomics%20ML/notebooks/svm/st000369_svm.ipynb#X36sZmlsZQ%3D%3D?line=13'>14</a>\u001b[0m \u001b[39m# Visualizziamo i risultati dell'ottimizzazione bayesiana\u001b[39;00m\n\u001b[1;32m     <a href='vscode-notebook-cell:/Users/nova/Desktop/Thesis/Metabolomics%20ML/notebooks/svm/st000369_svm.ipynb#X36sZmlsZQ%3D%3D?line=14'>15</a>\u001b[0m \u001b[39mprint\u001b[39m(\u001b[39m\"\u001b[39m\u001b[39mMigliore configurazione di parametri:\u001b[39m\u001b[39m\"\u001b[39m, grid_search\u001b[39m.\u001b[39mbest_params_)\n",
      "File \u001b[0;32m~/Programming/anaconda3/envs/thesis/lib/python3.11/site-packages/sklearn/base.py:1151\u001b[0m, in \u001b[0;36m_fit_context.<locals>.decorator.<locals>.wrapper\u001b[0;34m(estimator, *args, **kwargs)\u001b[0m\n\u001b[1;32m   1144\u001b[0m     estimator\u001b[39m.\u001b[39m_validate_params()\n\u001b[1;32m   1146\u001b[0m \u001b[39mwith\u001b[39;00m config_context(\n\u001b[1;32m   1147\u001b[0m     skip_parameter_validation\u001b[39m=\u001b[39m(\n\u001b[1;32m   1148\u001b[0m         prefer_skip_nested_validation \u001b[39mor\u001b[39;00m global_skip_validation\n\u001b[1;32m   1149\u001b[0m     )\n\u001b[1;32m   1150\u001b[0m ):\n\u001b[0;32m-> 1151\u001b[0m     \u001b[39mreturn\u001b[39;00m fit_method(estimator, \u001b[39m*\u001b[39;49margs, \u001b[39m*\u001b[39;49m\u001b[39m*\u001b[39;49mkwargs)\n",
      "File \u001b[0;32m~/Programming/anaconda3/envs/thesis/lib/python3.11/site-packages/sklearn/model_selection/_search.py:898\u001b[0m, in \u001b[0;36mBaseSearchCV.fit\u001b[0;34m(self, X, y, groups, **fit_params)\u001b[0m\n\u001b[1;32m    892\u001b[0m     results \u001b[39m=\u001b[39m \u001b[39mself\u001b[39m\u001b[39m.\u001b[39m_format_results(\n\u001b[1;32m    893\u001b[0m         all_candidate_params, n_splits, all_out, all_more_results\n\u001b[1;32m    894\u001b[0m     )\n\u001b[1;32m    896\u001b[0m     \u001b[39mreturn\u001b[39;00m results\n\u001b[0;32m--> 898\u001b[0m \u001b[39mself\u001b[39;49m\u001b[39m.\u001b[39;49m_run_search(evaluate_candidates)\n\u001b[1;32m    900\u001b[0m \u001b[39m# multimetric is determined here because in the case of a callable\u001b[39;00m\n\u001b[1;32m    901\u001b[0m \u001b[39m# self.scoring the return type is only known after calling\u001b[39;00m\n\u001b[1;32m    902\u001b[0m first_test_score \u001b[39m=\u001b[39m all_out[\u001b[39m0\u001b[39m][\u001b[39m\"\u001b[39m\u001b[39mtest_scores\u001b[39m\u001b[39m\"\u001b[39m]\n",
      "File \u001b[0;32m~/Programming/anaconda3/envs/thesis/lib/python3.11/site-packages/sklearn/model_selection/_search.py:1419\u001b[0m, in \u001b[0;36mGridSearchCV._run_search\u001b[0;34m(self, evaluate_candidates)\u001b[0m\n\u001b[1;32m   1417\u001b[0m \u001b[39mdef\u001b[39;00m \u001b[39m_run_search\u001b[39m(\u001b[39mself\u001b[39m, evaluate_candidates):\n\u001b[1;32m   1418\u001b[0m \u001b[39m    \u001b[39m\u001b[39m\"\"\"Search all candidates in param_grid\"\"\"\u001b[39;00m\n\u001b[0;32m-> 1419\u001b[0m     evaluate_candidates(ParameterGrid(\u001b[39mself\u001b[39;49m\u001b[39m.\u001b[39;49mparam_grid))\n",
      "File \u001b[0;32m~/Programming/anaconda3/envs/thesis/lib/python3.11/site-packages/sklearn/model_selection/_search.py:845\u001b[0m, in \u001b[0;36mBaseSearchCV.fit.<locals>.evaluate_candidates\u001b[0;34m(candidate_params, cv, more_results)\u001b[0m\n\u001b[1;32m    837\u001b[0m \u001b[39mif\u001b[39;00m \u001b[39mself\u001b[39m\u001b[39m.\u001b[39mverbose \u001b[39m>\u001b[39m \u001b[39m0\u001b[39m:\n\u001b[1;32m    838\u001b[0m     \u001b[39mprint\u001b[39m(\n\u001b[1;32m    839\u001b[0m         \u001b[39m\"\u001b[39m\u001b[39mFitting \u001b[39m\u001b[39m{0}\u001b[39;00m\u001b[39m folds for each of \u001b[39m\u001b[39m{1}\u001b[39;00m\u001b[39m candidates,\u001b[39m\u001b[39m\"\u001b[39m\n\u001b[1;32m    840\u001b[0m         \u001b[39m\"\u001b[39m\u001b[39m totalling \u001b[39m\u001b[39m{2}\u001b[39;00m\u001b[39m fits\u001b[39m\u001b[39m\"\u001b[39m\u001b[39m.\u001b[39mformat(\n\u001b[1;32m    841\u001b[0m             n_splits, n_candidates, n_candidates \u001b[39m*\u001b[39m n_splits\n\u001b[1;32m    842\u001b[0m         )\n\u001b[1;32m    843\u001b[0m     )\n\u001b[0;32m--> 845\u001b[0m out \u001b[39m=\u001b[39m parallel(\n\u001b[1;32m    846\u001b[0m     delayed(_fit_and_score)(\n\u001b[1;32m    847\u001b[0m         clone(base_estimator),\n\u001b[1;32m    848\u001b[0m         X,\n\u001b[1;32m    849\u001b[0m         y,\n\u001b[1;32m    850\u001b[0m         train\u001b[39m=\u001b[39;49mtrain,\n\u001b[1;32m    851\u001b[0m         test\u001b[39m=\u001b[39;49mtest,\n\u001b[1;32m    852\u001b[0m         parameters\u001b[39m=\u001b[39;49mparameters,\n\u001b[1;32m    853\u001b[0m         split_progress\u001b[39m=\u001b[39;49m(split_idx, n_splits),\n\u001b[1;32m    854\u001b[0m         candidate_progress\u001b[39m=\u001b[39;49m(cand_idx, n_candidates),\n\u001b[1;32m    855\u001b[0m         \u001b[39m*\u001b[39;49m\u001b[39m*\u001b[39;49mfit_and_score_kwargs,\n\u001b[1;32m    856\u001b[0m     )\n\u001b[1;32m    857\u001b[0m     \u001b[39mfor\u001b[39;49;00m (cand_idx, parameters), (split_idx, (train, test)) \u001b[39min\u001b[39;49;00m product(\n\u001b[1;32m    858\u001b[0m         \u001b[39menumerate\u001b[39;49m(candidate_params), \u001b[39menumerate\u001b[39;49m(cv\u001b[39m.\u001b[39;49msplit(X, y, groups))\n\u001b[1;32m    859\u001b[0m     )\n\u001b[1;32m    860\u001b[0m )\n\u001b[1;32m    862\u001b[0m \u001b[39mif\u001b[39;00m \u001b[39mlen\u001b[39m(out) \u001b[39m<\u001b[39m \u001b[39m1\u001b[39m:\n\u001b[1;32m    863\u001b[0m     \u001b[39mraise\u001b[39;00m \u001b[39mValueError\u001b[39;00m(\n\u001b[1;32m    864\u001b[0m         \u001b[39m\"\u001b[39m\u001b[39mNo fits were performed. \u001b[39m\u001b[39m\"\u001b[39m\n\u001b[1;32m    865\u001b[0m         \u001b[39m\"\u001b[39m\u001b[39mWas the CV iterator empty? \u001b[39m\u001b[39m\"\u001b[39m\n\u001b[1;32m    866\u001b[0m         \u001b[39m\"\u001b[39m\u001b[39mWere there no candidates?\u001b[39m\u001b[39m\"\u001b[39m\n\u001b[1;32m    867\u001b[0m     )\n",
      "File \u001b[0;32m~/Programming/anaconda3/envs/thesis/lib/python3.11/site-packages/sklearn/utils/parallel.py:65\u001b[0m, in \u001b[0;36mParallel.__call__\u001b[0;34m(self, iterable)\u001b[0m\n\u001b[1;32m     60\u001b[0m config \u001b[39m=\u001b[39m get_config()\n\u001b[1;32m     61\u001b[0m iterable_with_config \u001b[39m=\u001b[39m (\n\u001b[1;32m     62\u001b[0m     (_with_config(delayed_func, config), args, kwargs)\n\u001b[1;32m     63\u001b[0m     \u001b[39mfor\u001b[39;00m delayed_func, args, kwargs \u001b[39min\u001b[39;00m iterable\n\u001b[1;32m     64\u001b[0m )\n\u001b[0;32m---> 65\u001b[0m \u001b[39mreturn\u001b[39;00m \u001b[39msuper\u001b[39;49m()\u001b[39m.\u001b[39;49m\u001b[39m__call__\u001b[39;49m(iterable_with_config)\n",
      "File \u001b[0;32m~/Programming/anaconda3/envs/thesis/lib/python3.11/site-packages/joblib/parallel.py:1944\u001b[0m, in \u001b[0;36mParallel.__call__\u001b[0;34m(self, iterable)\u001b[0m\n\u001b[1;32m   1938\u001b[0m \u001b[39m# The first item from the output is blank, but it makes the interpreter\u001b[39;00m\n\u001b[1;32m   1939\u001b[0m \u001b[39m# progress until it enters the Try/Except block of the generator and\u001b[39;00m\n\u001b[1;32m   1940\u001b[0m \u001b[39m# reach the first `yield` statement. This starts the aynchronous\u001b[39;00m\n\u001b[1;32m   1941\u001b[0m \u001b[39m# dispatch of the tasks to the workers.\u001b[39;00m\n\u001b[1;32m   1942\u001b[0m \u001b[39mnext\u001b[39m(output)\n\u001b[0;32m-> 1944\u001b[0m \u001b[39mreturn\u001b[39;00m output \u001b[39mif\u001b[39;00m \u001b[39mself\u001b[39m\u001b[39m.\u001b[39mreturn_generator \u001b[39melse\u001b[39;00m \u001b[39mlist\u001b[39m(output)\n",
      "File \u001b[0;32m~/Programming/anaconda3/envs/thesis/lib/python3.11/site-packages/joblib/parallel.py:1587\u001b[0m, in \u001b[0;36mParallel._get_outputs\u001b[0;34m(self, iterator, pre_dispatch)\u001b[0m\n\u001b[1;32m   1584\u001b[0m     \u001b[39myield\u001b[39;00m\n\u001b[1;32m   1586\u001b[0m     \u001b[39mwith\u001b[39;00m \u001b[39mself\u001b[39m\u001b[39m.\u001b[39m_backend\u001b[39m.\u001b[39mretrieval_context():\n\u001b[0;32m-> 1587\u001b[0m         \u001b[39myield from\u001b[39;00m \u001b[39mself\u001b[39m\u001b[39m.\u001b[39m_retrieve()\n\u001b[1;32m   1589\u001b[0m \u001b[39mexcept\u001b[39;00m \u001b[39mGeneratorExit\u001b[39;00m:\n\u001b[1;32m   1590\u001b[0m     \u001b[39m# The generator has been garbage collected before being fully\u001b[39;00m\n\u001b[1;32m   1591\u001b[0m     \u001b[39m# consumed. This aborts the remaining tasks if possible and warn\u001b[39;00m\n\u001b[1;32m   1592\u001b[0m     \u001b[39m# the user if necessary.\u001b[39;00m\n\u001b[1;32m   1593\u001b[0m     \u001b[39mself\u001b[39m\u001b[39m.\u001b[39m_exception \u001b[39m=\u001b[39m \u001b[39mTrue\u001b[39;00m\n",
      "File \u001b[0;32m~/Programming/anaconda3/envs/thesis/lib/python3.11/site-packages/joblib/parallel.py:1699\u001b[0m, in \u001b[0;36mParallel._retrieve\u001b[0;34m(self)\u001b[0m\n\u001b[1;32m   1694\u001b[0m \u001b[39m# If the next job is not ready for retrieval yet, we just wait for\u001b[39;00m\n\u001b[1;32m   1695\u001b[0m \u001b[39m# async callbacks to progress.\u001b[39;00m\n\u001b[1;32m   1696\u001b[0m \u001b[39mif\u001b[39;00m ((\u001b[39mlen\u001b[39m(\u001b[39mself\u001b[39m\u001b[39m.\u001b[39m_jobs) \u001b[39m==\u001b[39m \u001b[39m0\u001b[39m) \u001b[39mor\u001b[39;00m\n\u001b[1;32m   1697\u001b[0m     (\u001b[39mself\u001b[39m\u001b[39m.\u001b[39m_jobs[\u001b[39m0\u001b[39m]\u001b[39m.\u001b[39mget_status(\n\u001b[1;32m   1698\u001b[0m         timeout\u001b[39m=\u001b[39m\u001b[39mself\u001b[39m\u001b[39m.\u001b[39mtimeout) \u001b[39m==\u001b[39m TASK_PENDING)):\n\u001b[0;32m-> 1699\u001b[0m     time\u001b[39m.\u001b[39msleep(\u001b[39m0.01\u001b[39m)\n\u001b[1;32m   1700\u001b[0m     \u001b[39mcontinue\u001b[39;00m\n\u001b[1;32m   1702\u001b[0m \u001b[39m# We need to be careful: the job list can be filling up as\u001b[39;00m\n\u001b[1;32m   1703\u001b[0m \u001b[39m# we empty it and Python list are not thread-safe by\u001b[39;00m\n\u001b[1;32m   1704\u001b[0m \u001b[39m# default hence the use of the lock\u001b[39;00m\n",
      "\u001b[0;31mKeyboardInterrupt\u001b[0m: "
     ]
    }
   ],
   "source": [
    "imputer_knn = KNNImputer()\n",
    "\n",
    "# Definiamo il dominio di ricerca\n",
    "param_space = {'n_neighbors': (1, 20)}\n",
    "\n",
    "# Creiamo l'oggetto BayesSearchCV\n",
    "# 'n_iter' determina quanti set distinti di iperparametri verranno esplorati durante la ricerca\n",
    "# 'cv' indica il numero di fold nell'esecuzione della cross-validation\n",
    "grid_search = GridSearchCV(imputer_knn, param_space, cv=k_best, scoring='accuracy', n_jobs=-1)\n",
    "\n",
    "# Addestriamo il modello sui dati\n",
    "grid_search.fit(X, y)\n",
    "\n",
    "# Visualizziamo i risultati dell'ottimizzazione bayesiana\n",
    "print(\"Migliore configurazione di parametri:\", grid_search.best_params_)"
   ]
  },
  {
   "cell_type": "code",
   "execution_count": null,
   "metadata": {},
   "outputs": [],
   "source": [
    "# KNNImputer\n",
    "imputer_knn = KNNImputer(n_neighbors=grid_search.best_params_['n_neighbors'])\n",
    "imputer_knn.fit(X)\n",
    "X[:] = imputer_knn.fit_transform(X)\n",
    "X_knn = X.copy()"
   ]
  },
  {
   "cell_type": "markdown",
   "metadata": {},
   "source": [
    "Abbiamo ottenuto le prestazioni migliori con un numero di fold pari a 19."
   ]
  },
  {
   "cell_type": "markdown",
   "metadata": {},
   "source": [
    "### 6.3 Model Hyperparameters"
   ]
  },
  {
   "cell_type": "code",
   "execution_count": null,
   "metadata": {},
   "outputs": [],
   "source": [
    "# Qui di seguito effetuiamo il tuning degli iperparametri del modello\n",
    "\n",
    "# Creiamo un nuovo modello XGBClassifier\n",
    "model_2 = svm.SVC()\n",
    "# GRID SEARCH\n",
    "\n",
    "# Definiamo la griglia con i parametri da testare\n",
    "\n",
    "param_grid = {\n",
    "    'C': [0.1, 1, 10, 100],\n",
    "    'kernel': ['linear', 'rbf', 'poly'],\n",
    "    'gamma': [0.001, 0.01, 0.1, 1, 10],\n",
    "    'degree': [2, 3, 4],\n",
    "    'tol': [1e-3, 1e-4, 1e-5],\n",
    "    'class_weight': [None, 'balanced']\n",
    "}\n",
    "\n",
    "\n",
    "# Creiamo l'oggetto BayesSearchCV\n",
    "bayes_search = GridSearchCV(model_2, param_grid, scoring='accuracy', cv=k_best)\n",
    "\n",
    "# Eseguiamo la ricerca e cross-validation sui dati di addestramento\n",
    "scores = cross_val_score(bayes_search, X_knn, y, scoring='accuracy', cv=kfolds)\n",
    "\n",
    "# Visualizziamo i risultati della cross-validation\n",
    "for i, score in enumerate(scores):\n",
    "    print(f'Fold {i+1}: Accuratezza = {score * 100:.2f}%')\n",
    "\n",
    "# Calcoliamo la media delle accuratezze\n",
    "mean_accuracy = scores.mean()\n",
    "print(f'Media delle accuratezze: {mean_accuracy * 100:.2f}%')"
   ]
  }
 ],
 "metadata": {
  "kernelspec": {
   "display_name": "thesis",
   "language": "python",
   "name": "python3"
  },
  "language_info": {
   "codemirror_mode": {
    "name": "ipython",
    "version": 3
   },
   "file_extension": ".py",
   "mimetype": "text/x-python",
   "name": "python",
   "nbconvert_exporter": "python",
   "pygments_lexer": "ipython3",
   "version": "3.11.4"
  },
  "orig_nbformat": 4
 },
 "nbformat": 4,
 "nbformat_minor": 2
}
