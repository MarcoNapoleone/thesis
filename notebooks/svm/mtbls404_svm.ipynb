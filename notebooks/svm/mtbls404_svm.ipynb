{
 "cells": [
  {
   "cell_type": "markdown",
   "metadata": {},
   "source": [
    "### 1. Import Packages"
   ]
  },
  {
   "cell_type": "code",
   "execution_count": 1,
   "metadata": {},
   "outputs": [
    {
     "name": "stdout",
     "output_type": "stream",
     "text": [
      "All packages successfully loaded\n"
     ]
    }
   ],
   "source": [
    "import numpy as np\n",
    "import pandas as pd\n",
    "import seaborn as sns\n",
    "import matplotlib.pyplot as plt\n",
    "from sklearn import svm\n",
    "from sklearn.model_selection import train_test_split\n",
    "from sklearn.metrics import accuracy_score, classification_report, mean_absolute_error\n",
    "\n",
    "print('All packages successfully loaded')"
   ]
  },
  {
   "cell_type": "markdown",
   "metadata": {},
   "source": [
    "### 2. Load Data & Peak Sheet"
   ]
  },
  {
   "cell_type": "code",
   "execution_count": 2,
   "metadata": {},
   "outputs": [
    {
     "name": "stderr",
     "output_type": "stream",
     "text": [
      "/Users/nova/Programming/anaconda3/envs/thesis/lib/python3.11/site-packages/openpyxl/worksheet/_reader.py:329: UserWarning: Unknown extension is not supported and will be removed\n",
      "  warn(msg)\n"
     ]
    },
    {
     "data": {
      "text/html": [
       "<div>\n",
       "<style scoped>\n",
       "    .dataframe tbody tr th:only-of-type {\n",
       "        vertical-align: middle;\n",
       "    }\n",
       "\n",
       "    .dataframe tbody tr th {\n",
       "        vertical-align: top;\n",
       "    }\n",
       "\n",
       "    .dataframe thead th {\n",
       "        text-align: right;\n",
       "    }\n",
       "</style>\n",
       "<table border=\"1\" class=\"dataframe\">\n",
       "  <thead>\n",
       "    <tr style=\"text-align: right;\">\n",
       "      <th></th>\n",
       "      <th>M1</th>\n",
       "      <th>M2</th>\n",
       "      <th>M3</th>\n",
       "      <th>M4</th>\n",
       "      <th>M5</th>\n",
       "      <th>M6</th>\n",
       "      <th>M7</th>\n",
       "      <th>M8</th>\n",
       "      <th>M9</th>\n",
       "      <th>M10</th>\n",
       "      <th>...</th>\n",
       "      <th>M111</th>\n",
       "      <th>M112</th>\n",
       "      <th>M113</th>\n",
       "      <th>M114</th>\n",
       "      <th>M115</th>\n",
       "      <th>M116</th>\n",
       "      <th>M117</th>\n",
       "      <th>M118</th>\n",
       "      <th>M119</th>\n",
       "      <th>M120</th>\n",
       "    </tr>\n",
       "    <tr>\n",
       "      <th>Idx</th>\n",
       "      <th></th>\n",
       "      <th></th>\n",
       "      <th></th>\n",
       "      <th></th>\n",
       "      <th></th>\n",
       "      <th></th>\n",
       "      <th></th>\n",
       "      <th></th>\n",
       "      <th></th>\n",
       "      <th></th>\n",
       "      <th></th>\n",
       "      <th></th>\n",
       "      <th></th>\n",
       "      <th></th>\n",
       "      <th></th>\n",
       "      <th></th>\n",
       "      <th></th>\n",
       "      <th></th>\n",
       "      <th></th>\n",
       "      <th></th>\n",
       "      <th></th>\n",
       "    </tr>\n",
       "  </thead>\n",
       "  <tbody>\n",
       "    <tr>\n",
       "      <th>1</th>\n",
       "      <td>33714.0</td>\n",
       "      <td>256102</td>\n",
       "      <td>256102</td>\n",
       "      <td>1120354.0</td>\n",
       "      <td>2410036</td>\n",
       "      <td>11549910</td>\n",
       "      <td>5914542</td>\n",
       "      <td>255309</td>\n",
       "      <td>155435.0</td>\n",
       "      <td>125874</td>\n",
       "      <td>...</td>\n",
       "      <td>521907.0</td>\n",
       "      <td>171324.0</td>\n",
       "      <td>127231.0</td>\n",
       "      <td>5112492.0</td>\n",
       "      <td>28514582</td>\n",
       "      <td>28514582</td>\n",
       "      <td>294841</td>\n",
       "      <td>548818.0</td>\n",
       "      <td>1910687.0</td>\n",
       "      <td>740657.0</td>\n",
       "    </tr>\n",
       "    <tr>\n",
       "      <th>2</th>\n",
       "      <td>99843.0</td>\n",
       "      <td>309401</td>\n",
       "      <td>309401</td>\n",
       "      <td>1398006.0</td>\n",
       "      <td>6026857</td>\n",
       "      <td>5257922</td>\n",
       "      <td>3285537</td>\n",
       "      <td>311879</td>\n",
       "      <td>734516.0</td>\n",
       "      <td>119612</td>\n",
       "      <td>...</td>\n",
       "      <td>1833652.0</td>\n",
       "      <td>12438.0</td>\n",
       "      <td>979416.0</td>\n",
       "      <td>1895831.0</td>\n",
       "      <td>20498119</td>\n",
       "      <td>20498119</td>\n",
       "      <td>328083</td>\n",
       "      <td>199436.0</td>\n",
       "      <td>1784458.0</td>\n",
       "      <td>473682.0</td>\n",
       "    </tr>\n",
       "    <tr>\n",
       "      <th>3</th>\n",
       "      <td>88831.0</td>\n",
       "      <td>446367</td>\n",
       "      <td>446367</td>\n",
       "      <td>2525989.0</td>\n",
       "      <td>9245374</td>\n",
       "      <td>17608775</td>\n",
       "      <td>19325552</td>\n",
       "      <td>428765</td>\n",
       "      <td>70418.0</td>\n",
       "      <td>169212</td>\n",
       "      <td>...</td>\n",
       "      <td>892482.0</td>\n",
       "      <td>176146.0</td>\n",
       "      <td>223930.0</td>\n",
       "      <td>627359.0</td>\n",
       "      <td>17310020</td>\n",
       "      <td>17310020</td>\n",
       "      <td>538890</td>\n",
       "      <td>719392.0</td>\n",
       "      <td>4061269.0</td>\n",
       "      <td>721180.0</td>\n",
       "    </tr>\n",
       "    <tr>\n",
       "      <th>4</th>\n",
       "      <td>3193.0</td>\n",
       "      <td>202963</td>\n",
       "      <td>202963</td>\n",
       "      <td>1328899.0</td>\n",
       "      <td>3085203</td>\n",
       "      <td>10657431</td>\n",
       "      <td>5702720</td>\n",
       "      <td>139264</td>\n",
       "      <td>43780.0</td>\n",
       "      <td>51922</td>\n",
       "      <td>...</td>\n",
       "      <td>387400.0</td>\n",
       "      <td>84087.0</td>\n",
       "      <td>371298.0</td>\n",
       "      <td>571396.0</td>\n",
       "      <td>9114737</td>\n",
       "      <td>9114737</td>\n",
       "      <td>362404</td>\n",
       "      <td>165869.0</td>\n",
       "      <td>1059712.0</td>\n",
       "      <td>286081.0</td>\n",
       "    </tr>\n",
       "    <tr>\n",
       "      <th>5</th>\n",
       "      <td>148709.0</td>\n",
       "      <td>1141194</td>\n",
       "      <td>1141194</td>\n",
       "      <td>2213443.0</td>\n",
       "      <td>7049050</td>\n",
       "      <td>13044183</td>\n",
       "      <td>7724079</td>\n",
       "      <td>1294393</td>\n",
       "      <td>506.5</td>\n",
       "      <td>178667</td>\n",
       "      <td>...</td>\n",
       "      <td>576816.0</td>\n",
       "      <td>451233.0</td>\n",
       "      <td>602941.0</td>\n",
       "      <td>3336582.0</td>\n",
       "      <td>19810476</td>\n",
       "      <td>19810476</td>\n",
       "      <td>480038</td>\n",
       "      <td>420048.0</td>\n",
       "      <td>2083576.0</td>\n",
       "      <td>1034769.0</td>\n",
       "    </tr>\n",
       "  </tbody>\n",
       "</table>\n",
       "<p>5 rows × 120 columns</p>\n",
       "</div>"
      ],
      "text/plain": [
       "           M1       M2       M3         M4       M5        M6        M7  \\\n",
       "Idx                                                                       \n",
       "1     33714.0   256102   256102  1120354.0  2410036  11549910   5914542   \n",
       "2     99843.0   309401   309401  1398006.0  6026857   5257922   3285537   \n",
       "3     88831.0   446367   446367  2525989.0  9245374  17608775  19325552   \n",
       "4      3193.0   202963   202963  1328899.0  3085203  10657431   5702720   \n",
       "5    148709.0  1141194  1141194  2213443.0  7049050  13044183   7724079   \n",
       "\n",
       "          M8        M9     M10  ...       M111      M112      M113       M114  \\\n",
       "Idx                             ...                                             \n",
       "1     255309  155435.0  125874  ...   521907.0  171324.0  127231.0  5112492.0   \n",
       "2     311879  734516.0  119612  ...  1833652.0   12438.0  979416.0  1895831.0   \n",
       "3     428765   70418.0  169212  ...   892482.0  176146.0  223930.0   627359.0   \n",
       "4     139264   43780.0   51922  ...   387400.0   84087.0  371298.0   571396.0   \n",
       "5    1294393     506.5  178667  ...   576816.0  451233.0  602941.0  3336582.0   \n",
       "\n",
       "         M115      M116    M117      M118       M119       M120  \n",
       "Idx                                                              \n",
       "1    28514582  28514582  294841  548818.0  1910687.0   740657.0  \n",
       "2    20498119  20498119  328083  199436.0  1784458.0   473682.0  \n",
       "3    17310020  17310020  538890  719392.0  4061269.0   721180.0  \n",
       "4     9114737   9114737  362404  165869.0  1059712.0   286081.0  \n",
       "5    19810476  19810476  480038  420048.0  2083576.0  1034769.0  \n",
       "\n",
       "[5 rows x 120 columns]"
      ]
     },
     "execution_count": 2,
     "metadata": {},
     "output_type": "execute_result"
    }
   ],
   "source": [
    "df = pd.read_excel(\"/Users/nova/Desktop/Thesis/Metabolomics ML/data/MTBLS404.xlsx\", index_col=\"Idx\")\n",
    "\n",
    "X = df.drop(columns=['SampleID', 'Sex', 'Class'], axis = 'columns')\n",
    "X.head()\n"
   ]
  },
  {
   "cell_type": "markdown",
   "metadata": {},
   "source": [
    "### 2.1 Text Pre-Processing"
   ]
  },
  {
   "cell_type": "code",
   "execution_count": 3,
   "metadata": {},
   "outputs": [],
   "source": [
    "# Rimuoviamo eventuali spazi bianchi in eccesso nelle stringhe\n"
   ]
  },
  {
   "cell_type": "markdown",
   "metadata": {},
   "source": [
    "### 3. Extract X & Y"
   ]
  },
  {
   "cell_type": "code",
   "execution_count": 4,
   "metadata": {},
   "outputs": [],
   "source": [
    "y = df.Class\n",
    "X_train, X_test, y_train, y_test = train_test_split(X, y, test_size=0.2, random_state=42)\n"
   ]
  },
  {
   "cell_type": "markdown",
   "metadata": {},
   "source": [
    "### 5. Build Model & Evaluate"
   ]
  },
  {
   "cell_type": "code",
   "execution_count": 5,
   "metadata": {},
   "outputs": [
    {
     "name": "stdout",
     "output_type": "stream",
     "text": [
      "Accuracy:  0.6756756756756757\n",
      "Classification report: \n",
      "               precision    recall  f1-score   support\n",
      "\n",
      "           0       0.62      0.62      0.62        16\n",
      "           1       0.71      0.71      0.71        21\n",
      "\n",
      "    accuracy                           0.68        37\n",
      "   macro avg       0.67      0.67      0.67        37\n",
      "weighted avg       0.68      0.68      0.68        37\n",
      "\n"
     ]
    }
   ],
   "source": [
    "svm_classifier = svm.SVC(kernel='linear', C=1.0)\n",
    "svm_classifier.fit(X_train, y_train)\n",
    "\n",
    "y_pred = svm_classifier.predict(X_test)\n",
    "\n",
    "# Valutazione delle prestazioni del modello\n",
    "accuracy = accuracy_score(y_test, y_pred)\n",
    "report = classification_report(y_test, y_pred)\n",
    "print('Accuracy: ', accuracy)\n",
    "print('Classification report: \\n', report)\n"
   ]
  }
 ],
 "metadata": {
  "kernelspec": {
   "display_name": "thesis",
   "language": "python",
   "name": "python3"
  },
  "language_info": {
   "codemirror_mode": {
    "name": "ipython",
    "version": 3
   },
   "file_extension": ".py",
   "mimetype": "text/x-python",
   "name": "python",
   "nbconvert_exporter": "python",
   "pygments_lexer": "ipython3",
   "version": "3.11.4"
  },
  "orig_nbformat": 4
 },
 "nbformat": 4,
 "nbformat_minor": 2
}
