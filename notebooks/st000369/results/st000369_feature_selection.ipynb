{
 "cells": [
  {
   "cell_type": "markdown",
   "metadata": {},
   "source": [
    "### Librerie"
   ]
  },
  {
   "cell_type": "code",
   "execution_count": 79,
   "metadata": {},
   "outputs": [],
   "source": [
    "# Librerie di base\n",
    "import numpy as np\n",
    "import pandas as pd\n",
    "import seaborn as sns\n",
    "import matplotlib.pyplot as plt"
   ]
  },
  {
   "cell_type": "markdown",
   "metadata": {},
   "source": [
    "### Tabella con i metaboliti e i relativi codici"
   ]
  },
  {
   "cell_type": "code",
   "execution_count": 100,
   "metadata": {},
   "outputs": [],
   "source": [
    "metabolites = pd.read_excel('../../../data/ST000369_Metabolites.xlsx', index_col=0)\n",
    "metabolites = pd.DataFrame(metabolites)"
   ]
  },
  {
   "cell_type": "code",
   "execution_count": 101,
   "metadata": {},
   "outputs": [],
   "source": [
    "def get_metabolites(mtblt, metabolites):\n",
    "    metaboliti_selezionati = metabolites[metabolites['Name'].isin(mtblt)]\n",
    "    names = metaboliti_selezionati['Label'].tolist()\n",
    "    return names"
   ]
  },
  {
   "cell_type": "markdown",
   "metadata": {},
   "source": [
    "### AdaBoost"
   ]
  },
  {
   "cell_type": "code",
   "execution_count": 82,
   "metadata": {},
   "outputs": [
    {
     "name": "stdout",
     "output_type": "stream",
     "text": [
      "50\n"
     ]
    }
   ],
   "source": [
    "codes_ab = ['M1', 'M4', 'M6', 'M7', 'M9', 'M13', 'M24', 'M25', 'M31', 'M33', 'M37', 'M39', 'M41', 'M42', 'M44', 'M45', 'M47', 'M50', 'M60', 'M62', 'M63', 'M67', 'M69', 'M74', 'M76', 'M78', 'M89', 'M91', 'M92', 'M97', 'M100', 'M103', 'M104', 'M106', 'M115', 'M117', 'M121', 'M129', 'M133', 'M139', 'M140', 'M149', 'M151', 'M161', 'M168', 'M170', 'M171', 'M173', 'M176', 'M179']\n",
    "print(len(codes_ab))"
   ]
  },
  {
   "cell_type": "code",
   "execution_count": 102,
   "metadata": {},
   "outputs": [
    {
     "name": "stdout",
     "output_type": "stream",
     "text": [
      "xylose\n",
      "valine\n",
      "uric acid\n",
      "urea\n",
      "tryptophan\n",
      "threonine\n",
      "serine\n",
      "salicylic acid\n",
      "pyrophosphate\n",
      "proline\n",
      "phenylalanine\n",
      "paracetamol\n",
      "palmitoleic acid\n",
      "palmitic acid\n",
      "oxoproline\n",
      "oxalic acid\n",
      "oleic acid\n",
      "naproxen\n",
      "mannitol\n",
      "maltose\n",
      "malonic acid\n",
      "lysine\n",
      "linoleic acid\n",
      "lauric acid\n",
      "lactic acid\n",
      "kynurenine\n",
      "hypoxanthine\n",
      "histidine\n",
      "hippuric acid\n",
      "glycine\n",
      "glycerol\n",
      "glutamine\n",
      "glutamic acid\n",
      "glucose\n",
      "fructose\n",
      "erythritol\n",
      "cystine\n",
      "cholesterol\n",
      "butane-2,3-diol (NIST)\n",
      "azelaic acid\n",
      "aspartic acid\n",
      "alanine\n",
      "adenosine-5-phosphate\n",
      "3-hydroxybutanoic acid\n",
      "2-hydroxyhippuric acid\n",
      "2-hydroxybutanoic acid\n",
      "deoxytetronic acid NIST\n",
      "deoxythreittol NIST\n",
      "1,5-anhydroglucitol\n",
      "715929 carbohydrate\n",
      "--------------------\n",
      "True\n",
      "True\n"
     ]
    }
   ],
   "source": [
    "for m in get_metabolites(codes_ab, metabolites):\n",
    "    print(m)\n",
    "\n",
    "print(\"--------------------\")\n",
    "\n",
    "# Controllo se \"aspartate acid\" è presente\n",
    "print('aspartic acid' in get_metabolites(codes_ab, metabolites))\n",
    "\n",
    "# Controllo se \"pyrophosphate\" è presente\n",
    "print('pyrophosphate' in get_metabolites(codes_ab, metabolites))"
   ]
  },
  {
   "cell_type": "markdown",
   "metadata": {},
   "source": [
    "### Gaussian Naive Bayes"
   ]
  },
  {
   "cell_type": "code",
   "execution_count": 84,
   "metadata": {},
   "outputs": [
    {
     "name": "stdout",
     "output_type": "stream",
     "text": [
      "58\n"
     ]
    }
   ],
   "source": [
    "codes_gnb = ['M1', 'M4', 'M6', 'M7', 'M8', 'M9', 'M13', 'M16', 'M24', 'M25', 'M31', 'M33', 'M37', 'M39', 'M41', 'M42', 'M44', 'M45', 'M47', 'M50', 'M60', 'M61', 'M62', 'M63', 'M67', 'M68', 'M69', 'M74', 'M76', 'M78', 'M84', 'M86', 'M89', 'M91', 'M92', 'M97', 'M100', 'M103', 'M104', 'M105', 'M106', 'M115', 'M117', 'M121', 'M129', 'M133', 'M139', 'M140', 'M149', 'M151', 'M154', 'M161', 'M168', 'M170', 'M171', 'M173', 'M176', 'M179']\n",
    "print(len(codes_gnb))"
   ]
  },
  {
   "cell_type": "code",
   "execution_count": 103,
   "metadata": {},
   "outputs": [
    {
     "name": "stdout",
     "output_type": "stream",
     "text": [
      "xylose\n",
      "valine\n",
      "uric acid\n",
      "urea\n",
      "tyrosine\n",
      "tryptophan\n",
      "threonine\n",
      "taurine\n",
      "serine\n",
      "salicylic acid\n",
      "pyrophosphate\n",
      "proline\n",
      "phenylalanine\n",
      "paracetamol\n",
      "palmitoleic acid\n",
      "palmitic acid\n",
      "oxoproline\n",
      "oxalic acid\n",
      "oleic acid\n",
      "naproxen\n",
      "mannitol\n",
      "maltotriose\n",
      "maltose\n",
      "malonic acid\n",
      "lysine\n",
      "linolenic acid\n",
      "linoleic acid\n",
      "lauric acid\n",
      "lactic acid\n",
      "kynurenine\n",
      "inositol myo-\n",
      "inosine\n",
      "hypoxanthine\n",
      "histidine\n",
      "hippuric acid\n",
      "glycine\n",
      "glycerol\n",
      "glutamine\n",
      "glutamic acid\n",
      "glucuronic acid\n",
      "glucose\n",
      "fructose\n",
      "erythritol\n",
      "cystine\n",
      "cholesterol\n",
      "butane-2,3-diol (NIST)\n",
      "azelaic acid\n",
      "aspartic acid\n",
      "alanine\n",
      "adenosine-5-phosphate\n",
      "6-deoxyglucitol NIST\n",
      "3-hydroxybutanoic acid\n",
      "2-hydroxyhippuric acid\n",
      "2-hydroxybutanoic acid\n",
      "deoxytetronic acid NIST\n",
      "deoxythreittol NIST\n",
      "1,5-anhydroglucitol\n",
      "715929 carbohydrate\n",
      "--------------------\n",
      "True\n",
      "True\n"
     ]
    }
   ],
   "source": [
    "for m in get_metabolites(codes_gnb, metabolites):\n",
    "    print(m)\n",
    "\n",
    "print(\"--------------------\")\n",
    "\n",
    "# Controllo se \"aspartate acid\" è presente\n",
    "print('aspartic acid' in get_metabolites(codes_gnb, metabolites))\n",
    "\n",
    "# Controllo se \"pyrophosphate\" è presente\n",
    "print('pyrophosphate' in get_metabolites(codes_gnb, metabolites))"
   ]
  },
  {
   "cell_type": "markdown",
   "metadata": {},
   "source": [
    "### Gradient Boosting"
   ]
  },
  {
   "cell_type": "code",
   "execution_count": 86,
   "metadata": {},
   "outputs": [
    {
     "name": "stdout",
     "output_type": "stream",
     "text": [
      "127\n"
     ]
    }
   ],
   "source": [
    "codes_gb = ['M1', 'M2', 'M3', 'M4', 'M6', 'M7', 'M8', 'M9', 'M11', 'M12', 'M13', 'M14', 'M16', 'M18', 'M21', 'M22', 'M24', 'M25', 'M26', 'M28', 'M29', 'M31', 'M32', 'M33', 'M34', 'M37', 'M38', 'M39', 'M40', 'M41', 'M42', 'M43', 'M44', 'M45', 'M46', 'M47', 'M49', 'M50', 'M51', 'M52', 'M53', 'M55', 'M58', 'M60', 'M61', 'M62', 'M63', 'M64', 'M66', 'M67', 'M68', 'M69', 'M70', 'M73', 'M74', 'M76', 'M77', 'M78', 'M79', 'M80', 'M83', 'M84', 'M85', 'M86', 'M87', 'M89', 'M91', 'M92', 'M93', 'M95', 'M97', 'M98', 'M100', 'M101', 'M102', 'M103', 'M104', 'M105', 'M106', 'M109', 'M113', 'M115', 'M116', 'M117', 'M118', 'M119', 'M120', 'M121', 'M123', 'M125', 'M126', 'M127', 'M128', 'M129', 'M130', 'M131', 'M133', 'M135', 'M137', 'M139', 'M140', 'M142', 'M143', 'M145', 'M146', 'M147', 'M149', 'M151', 'M154', 'M155', 'M156', 'M157', 'M158', 'M159', 'M160', 'M161', 'M165', 'M167', 'M168', 'M169', 'M170', 'M171', 'M173', 'M174', 'M176', 'M179', 'M180']\n",
    "print(len(codes_gb))"
   ]
  },
  {
   "cell_type": "code",
   "execution_count": 104,
   "metadata": {},
   "outputs": [
    {
     "name": "stdout",
     "output_type": "stream",
     "text": [
      "xylose\n",
      "xylitol\n",
      "xanthine\n",
      "valine\n",
      "uric acid\n",
      "urea\n",
      "tyrosine\n",
      "tryptophan\n",
      "trans-4-hydroxyproline\n",
      "tocopherol alpha\n",
      "threonine\n",
      "threonic acid\n",
      "taurine\n",
      "sucrose\n",
      "stearic acid\n",
      "sorbitol\n",
      "serine\n",
      "salicylic acid\n",
      "salicylaldehyde\n",
      "ribitol\n",
      "quinic acid\n",
      "pyrophosphate\n",
      "pseudo uridine\n",
      "proline\n",
      "pipecolic acid\n",
      "phenylalanine\n",
      "pelargonic acid\n",
      "paracetamol\n",
      "parabanic acid NIST\n",
      "palmitoleic acid\n",
      "palmitic acid\n",
      "p-cresol\n",
      "oxoproline\n",
      "oxalic acid\n",
      "ornithine\n",
      "oleic acid\n",
      "nicotinic acid\n",
      "naproxen\n",
      "N-methylalanine\n",
      "N-acetylmannosamine\n",
      "N-acetylglycine NIST\n",
      "myristic acid\n",
      "methionine\n",
      "mannitol\n",
      "maltotriose\n",
      "maltose\n",
      "malonic acid\n",
      "malic acid\n",
      "lyxose\n",
      "lysine\n",
      "linolenic acid\n",
      "linoleic acid\n",
      "lignoceric acid\n",
      "leucine\n",
      "lauric acid\n",
      "lactic acid\n",
      "lactamide\n",
      "kynurenine\n",
      "isothreonic acid\n",
      "isolinoleic acid NIST\n",
      "inulobiose\n",
      "inositol myo-\n",
      "inosine 5'-monophosphate\n",
      "inosine\n",
      "indole-3-lactate\n",
      "hypoxanthine\n",
      "histidine\n",
      "hippuric acid\n",
      "heptadecanoic acid NIST\n",
      "glyoxalurea NIST\n",
      "glycine\n",
      "glycerol-alpha-phosphate\n",
      "glycerol\n",
      "glyceric acid\n",
      "glutaric acid\n",
      "glutamine\n",
      "glutamic acid\n",
      "glucuronic acid\n",
      "glucose\n",
      "gamma-glutamyl-valine\n",
      "fucose + rhamnose\n",
      "fructose\n",
      "ethanolamine\n",
      "erythritol\n",
      "dodecanol\n",
      "dihydro-3-coumaric acid\n",
      "cytidine-5'-diphosphate\n",
      "cystine\n",
      "cysteine\n",
      "creatinine\n",
      "conduritol beta expoxide\n",
      "citrulline\n",
      "citric acid\n",
      "cholesterol\n",
      "cellobiotol\n",
      "caprylic acid\n",
      "butane-2,3-diol (NIST)\n",
      "beta-alanine\n",
      "benzoic acid\n",
      "azelaic acid\n",
      "aspartic acid\n",
      "arachidonic acid\n",
      "arachidic acid\n",
      "arabinose\n",
      "aminomalonic acid\n",
      "alpha ketoglutaric acid\n",
      "alanine\n",
      "adenosine-5-phosphate\n",
      "6-deoxyglucitol NIST\n",
      "5-methoxytryptamine\n",
      "5-hydroxynorvaline NIST\n",
      "5-aminovaleric acid lactame\n",
      "4-hydroxyproline\n",
      "4-hydroxyphenylacetic acid\n",
      "3-phosphoglycerate\n",
      "3-hydroxybutanoic acid\n",
      "2-oxogluconic acid NIST\n",
      "2-hydroxyvaleric acid\n",
      "2-hydroxyhippuric acid\n",
      "2-hydroxyglutaric acid\n",
      "2-hydroxybutanoic acid\n",
      "deoxytetronic acid NIST\n",
      "deoxythreittol NIST\n",
      "2-deoxyerythritol\n",
      "1,5-anhydroglucitol\n",
      "715929 carbohydrate\n",
      "400671 carbohydrate\n",
      "--------------------\n",
      "True\n",
      "True\n"
     ]
    }
   ],
   "source": [
    "for m in get_metabolites(codes_gb, metabolites):\n",
    "    print(m)\n",
    "\n",
    "print(\"--------------------\")\n",
    "\n",
    "# Controllo se \"aspartate acid\" è presente\n",
    "print('aspartic acid' in get_metabolites(codes_gb, metabolites))\n",
    "\n",
    "# Controllo se \"pyrophosphate\" è presente\n",
    "print('pyrophosphate' in get_metabolites(codes_gb, metabolites))"
   ]
  },
  {
   "cell_type": "markdown",
   "metadata": {},
   "source": [
    "### Multinomial Naive Bayes"
   ]
  },
  {
   "cell_type": "code",
   "execution_count": 88,
   "metadata": {},
   "outputs": [
    {
     "name": "stdout",
     "output_type": "stream",
     "text": [
      "23\n"
     ]
    }
   ],
   "source": [
    "codes_mnb = ['M4', 'M7', 'M9', 'M25', 'M33', 'M39', 'M41', 'M44', 'M45', 'M47', 'M50', 'M60', 'M67', 'M76', 'M100', 'M103', 'M104', 'M106', 'M115', 'M117', 'M121', 'M133', 'M161']\n",
    "print(len(codes_mnb))"
   ]
  },
  {
   "cell_type": "code",
   "execution_count": 105,
   "metadata": {},
   "outputs": [
    {
     "name": "stdout",
     "output_type": "stream",
     "text": [
      "valine\n",
      "urea\n",
      "tryptophan\n",
      "salicylic acid\n",
      "proline\n",
      "paracetamol\n",
      "palmitoleic acid\n",
      "oxoproline\n",
      "oxalic acid\n",
      "oleic acid\n",
      "naproxen\n",
      "mannitol\n",
      "lysine\n",
      "lactic acid\n",
      "glycerol\n",
      "glutamine\n",
      "glutamic acid\n",
      "glucose\n",
      "fructose\n",
      "erythritol\n",
      "cystine\n",
      "butane-2,3-diol (NIST)\n",
      "3-hydroxybutanoic acid\n",
      "--------------------\n",
      "False\n",
      "False\n"
     ]
    }
   ],
   "source": [
    "for m in get_metabolites(codes_mnb, metabolites):\n",
    "    print(m)\n",
    "\n",
    "print(\"--------------------\")\n",
    "\n",
    "# Controllo se \"aspartate acid\" è presente\n",
    "print('aspartic acid' in get_metabolites(codes_mnb, metabolites))\n",
    "\n",
    "# Controllo se \"pyrophosphate\" è presente\n",
    "print('pyrophosphate' in get_metabolites(codes_mnb, metabolites))"
   ]
  },
  {
   "cell_type": "markdown",
   "metadata": {},
   "source": [
    "### Random Forest"
   ]
  },
  {
   "cell_type": "code",
   "execution_count": 90,
   "metadata": {},
   "outputs": [
    {
     "name": "stdout",
     "output_type": "stream",
     "text": [
      "72\n"
     ]
    }
   ],
   "source": [
    "codes_rf = ['M1', 'M2', 'M4', 'M6', 'M7', 'M9', 'M12', 'M16', 'M18', 'M21', 'M24', 'M25', 'M26', 'M31', 'M33', 'M37', 'M39', 'M41', 'M44', 'M45', 'M46', 'M47', 'M50', 'M60', 'M61', 'M62', 'M63', 'M67', 'M73', 'M74', 'M76', 'M78', 'M83', 'M84', 'M89', 'M92', 'M95', 'M97', 'M98', 'M99', 'M100', 'M101', 'M103', 'M104', 'M106', 'M115', 'M116', 'M117', 'M121', 'M123', 'M125', 'M126', 'M128', 'M129', 'M130', 'M133', 'M139', 'M140', 'M142', 'M143', 'M149', 'M151', 'M154', 'M160', 'M161', 'M168', 'M170', 'M171', 'M173', 'M174', 'M176', 'M179']\n",
    "print(len(codes_rf))"
   ]
  },
  {
   "cell_type": "code",
   "execution_count": 106,
   "metadata": {},
   "outputs": [
    {
     "name": "stdout",
     "output_type": "stream",
     "text": [
      "xylose\n",
      "xylitol\n",
      "valine\n",
      "uric acid\n",
      "urea\n",
      "tryptophan\n",
      "tocopherol alpha\n",
      "taurine\n",
      "sucrose\n",
      "stearic acid\n",
      "serine\n",
      "salicylic acid\n",
      "salicylaldehyde\n",
      "pyrophosphate\n",
      "proline\n",
      "phenylalanine\n",
      "paracetamol\n",
      "palmitoleic acid\n",
      "oxoproline\n",
      "oxalic acid\n",
      "ornithine\n",
      "oleic acid\n",
      "naproxen\n",
      "mannitol\n",
      "maltotriose\n",
      "maltose\n",
      "malonic acid\n",
      "lysine\n",
      "leucine\n",
      "lauric acid\n",
      "lactic acid\n",
      "kynurenine\n",
      "inulobiose\n",
      "inositol myo-\n",
      "hypoxanthine\n",
      "hippuric acid\n",
      "glyoxalurea NIST\n",
      "glycine\n",
      "glycerol-alpha-phosphate\n",
      "glycerol-3-galactoside\n",
      "glycerol\n",
      "glyceric acid\n",
      "glutamine\n",
      "glutamic acid\n",
      "glucose\n",
      "fructose\n",
      "ethanolamine\n",
      "erythritol\n",
      "cystine\n",
      "cysteine\n",
      "creatinine\n",
      "conduritol beta expoxide\n",
      "citric acid\n",
      "cholesterol\n",
      "cellobiotol\n",
      "butane-2,3-diol (NIST)\n",
      "azelaic acid\n",
      "aspartic acid\n",
      "arachidonic acid\n",
      "arachidic acid\n",
      "alanine\n",
      "adenosine-5-phosphate\n",
      "6-deoxyglucitol NIST\n",
      "3-phosphoglycerate\n",
      "3-hydroxybutanoic acid\n",
      "2-hydroxyhippuric acid\n",
      "2-hydroxybutanoic acid\n",
      "deoxytetronic acid NIST\n",
      "deoxythreittol NIST\n",
      "2-deoxyerythritol\n",
      "1,5-anhydroglucitol\n",
      "715929 carbohydrate\n",
      "--------------------\n",
      "True\n",
      "True\n"
     ]
    }
   ],
   "source": [
    "for m in get_metabolites(codes_rf, metabolites):\n",
    "    print(m)\n",
    "\n",
    "print(\"--------------------\")\n",
    "\n",
    "# Controllo se \"aspartate acid\" è presente\n",
    "print('aspartic acid' in get_metabolites(codes_rf, metabolites))\n",
    "\n",
    "# Controllo se \"pyrophosphate\" è presente\n",
    "print('pyrophosphate' in get_metabolites(codes_rf, metabolites))"
   ]
  },
  {
   "cell_type": "markdown",
   "metadata": {},
   "source": [
    "### eXtreme Gradient Boost"
   ]
  },
  {
   "cell_type": "code",
   "execution_count": 92,
   "metadata": {},
   "outputs": [
    {
     "name": "stdout",
     "output_type": "stream",
     "text": [
      "49\n"
     ]
    }
   ],
   "source": [
    "codes_xgb = ['M1', 'M4', 'M6', 'M7', 'M9', 'M13', 'M24', 'M25', 'M31', 'M33', 'M37', 'M39', 'M41', 'M42', 'M44', 'M45', 'M47', 'M50', 'M60', 'M62', 'M63', 'M67', 'M69', 'M74', 'M76', 'M78', 'M89', 'M91', 'M92', 'M97', 'M100', 'M103', 'M104', 'M106', 'M115', 'M117', 'M121', 'M129', 'M133', 'M139', 'M140', 'M149', 'M151', 'M161', 'M168', 'M170', 'M173', 'M176', 'M179']\n",
    "print(len(codes_xgb))"
   ]
  },
  {
   "cell_type": "code",
   "execution_count": 107,
   "metadata": {},
   "outputs": [
    {
     "name": "stdout",
     "output_type": "stream",
     "text": [
      "xylose\n",
      "valine\n",
      "uric acid\n",
      "urea\n",
      "tryptophan\n",
      "threonine\n",
      "serine\n",
      "salicylic acid\n",
      "pyrophosphate\n",
      "proline\n",
      "phenylalanine\n",
      "paracetamol\n",
      "palmitoleic acid\n",
      "palmitic acid\n",
      "oxoproline\n",
      "oxalic acid\n",
      "oleic acid\n",
      "naproxen\n",
      "mannitol\n",
      "maltose\n",
      "malonic acid\n",
      "lysine\n",
      "linoleic acid\n",
      "lauric acid\n",
      "lactic acid\n",
      "kynurenine\n",
      "hypoxanthine\n",
      "histidine\n",
      "hippuric acid\n",
      "glycine\n",
      "glycerol\n",
      "glutamine\n",
      "glutamic acid\n",
      "glucose\n",
      "fructose\n",
      "erythritol\n",
      "cystine\n",
      "cholesterol\n",
      "butane-2,3-diol (NIST)\n",
      "azelaic acid\n",
      "aspartic acid\n",
      "alanine\n",
      "adenosine-5-phosphate\n",
      "3-hydroxybutanoic acid\n",
      "2-hydroxyhippuric acid\n",
      "2-hydroxybutanoic acid\n",
      "deoxythreittol NIST\n",
      "1,5-anhydroglucitol\n",
      "715929 carbohydrate\n",
      "--------------------\n",
      "True\n",
      "True\n"
     ]
    }
   ],
   "source": [
    "for m in get_metabolites(codes_xgb, metabolites):\n",
    "    print(m)\n",
    "\n",
    "print(\"--------------------\")\n",
    "\n",
    "# Controllo se \"aspartate acid\" è presente\n",
    "print('aspartic acid' in get_metabolites(codes_xgb, metabolites))\n",
    "\n",
    "# Controllo se \"pyrophosphate\" è presente\n",
    "print('pyrophosphate' in get_metabolites(codes_xgb, metabolites))"
   ]
  }
 ],
 "metadata": {
  "kernelspec": {
   "display_name": "thesis",
   "language": "python",
   "name": "python3"
  },
  "language_info": {
   "codemirror_mode": {
    "name": "ipython",
    "version": 3
   },
   "file_extension": ".py",
   "mimetype": "text/x-python",
   "name": "python",
   "nbconvert_exporter": "python",
   "pygments_lexer": "ipython3",
   "version": "3.11.4"
  }
 },
 "nbformat": 4,
 "nbformat_minor": 2
}
