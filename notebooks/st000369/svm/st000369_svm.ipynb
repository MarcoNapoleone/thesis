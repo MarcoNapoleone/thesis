{
 "cells": [
  {
   "cell_type": "markdown",
   "metadata": {},
   "source": [
    "### 1. Import Packages"
   ]
  },
  {
   "cell_type": "code",
   "execution_count": 18,
   "metadata": {},
   "outputs": [
    {
     "name": "stdout",
     "output_type": "stream",
     "text": [
      "All packages successfully loaded\n"
     ]
    }
   ],
   "source": [
    "# Librerie di base\n",
    "import numpy as np\n",
    "import pandas as pd\n",
    "import seaborn as sns\n",
    "import matplotlib.pyplot as plt\n",
    "\n",
    "# Librerie per la Data Imputation\n",
    "from sklearn.neighbors import KNeighborsClassifier\n",
    "from sklearn.impute import KNNImputer\n",
    "\n",
    "# Librerie per la Hyperparameters Optimization\n",
    "from sklearn.model_selection import GridSearchCV\n",
    "\n",
    "# Librerie per il Machine Learning\n",
    "from sklearn import svm\n",
    "import sklearn.metrics as metrics\n",
    "from sklearn.model_selection import KFold, train_test_split, cross_val_score, cross_val_predict\n",
    "\n",
    "# Librerie per la Features Selection\n",
    "from sklearn.feature_selection import SelectKBest\n",
    "from sklearn.feature_selection import chi2\n",
    "\n",
    "print('All packages successfully loaded')"
   ]
  },
  {
   "cell_type": "markdown",
   "metadata": {},
   "source": [
    "### 2. Load Data & Peak Sheet"
   ]
  },
  {
   "cell_type": "code",
   "execution_count": 19,
   "metadata": {},
   "outputs": [
    {
     "data": {
      "text/html": [
       "<div>\n",
       "<style scoped>\n",
       "    .dataframe tbody tr th:only-of-type {\n",
       "        vertical-align: middle;\n",
       "    }\n",
       "\n",
       "    .dataframe tbody tr th {\n",
       "        vertical-align: top;\n",
       "    }\n",
       "\n",
       "    .dataframe thead th {\n",
       "        text-align: right;\n",
       "    }\n",
       "</style>\n",
       "<table border=\"1\" class=\"dataframe\">\n",
       "  <thead>\n",
       "    <tr style=\"text-align: right;\">\n",
       "      <th></th>\n",
       "      <th>SampleType</th>\n",
       "      <th>HealthState</th>\n",
       "      <th>SmokingStatus</th>\n",
       "      <th>Sex</th>\n",
       "      <th>M1</th>\n",
       "      <th>M2</th>\n",
       "      <th>M3</th>\n",
       "      <th>M4</th>\n",
       "      <th>M5</th>\n",
       "      <th>M6</th>\n",
       "      <th>...</th>\n",
       "      <th>M172</th>\n",
       "      <th>M173</th>\n",
       "      <th>M174</th>\n",
       "      <th>M175</th>\n",
       "      <th>M176</th>\n",
       "      <th>M177</th>\n",
       "      <th>M178</th>\n",
       "      <th>M179</th>\n",
       "      <th>M180</th>\n",
       "      <th>M181</th>\n",
       "    </tr>\n",
       "  </thead>\n",
       "  <tbody>\n",
       "    <tr>\n",
       "      <th>0</th>\n",
       "      <td>Plasma</td>\n",
       "      <td>Adenocarcinoma</td>\n",
       "      <td>Former</td>\n",
       "      <td>F</td>\n",
       "      <td>194</td>\n",
       "      <td>168</td>\n",
       "      <td>77</td>\n",
       "      <td>105985</td>\n",
       "      <td>118</td>\n",
       "      <td>15489</td>\n",
       "      <td>...</td>\n",
       "      <td>195</td>\n",
       "      <td>1606</td>\n",
       "      <td>300</td>\n",
       "      <td>108</td>\n",
       "      <td>7203</td>\n",
       "      <td>43</td>\n",
       "      <td>59</td>\n",
       "      <td>1009</td>\n",
       "      <td>383</td>\n",
       "      <td>68</td>\n",
       "    </tr>\n",
       "    <tr>\n",
       "      <th>1</th>\n",
       "      <td>Plasma</td>\n",
       "      <td>Adenocarcinoma</td>\n",
       "      <td>Former</td>\n",
       "      <td>F</td>\n",
       "      <td>215</td>\n",
       "      <td>143</td>\n",
       "      <td>154</td>\n",
       "      <td>100462</td>\n",
       "      <td>133</td>\n",
       "      <td>13534</td>\n",
       "      <td>...</td>\n",
       "      <td>184</td>\n",
       "      <td>364</td>\n",
       "      <td>1364</td>\n",
       "      <td>160</td>\n",
       "      <td>11910</td>\n",
       "      <td>82</td>\n",
       "      <td>99</td>\n",
       "      <td>136</td>\n",
       "      <td>1021</td>\n",
       "      <td>165</td>\n",
       "    </tr>\n",
       "    <tr>\n",
       "      <th>2</th>\n",
       "      <td>Plasma</td>\n",
       "      <td>Adenocarcinoma</td>\n",
       "      <td>Current</td>\n",
       "      <td>F</td>\n",
       "      <td>104</td>\n",
       "      <td>67</td>\n",
       "      <td>45</td>\n",
       "      <td>75301</td>\n",
       "      <td>94</td>\n",
       "      <td>7390</td>\n",
       "      <td>...</td>\n",
       "      <td>189</td>\n",
       "      <td>157</td>\n",
       "      <td>884</td>\n",
       "      <td>73</td>\n",
       "      <td>6372</td>\n",
       "      <td>59</td>\n",
       "      <td>35</td>\n",
       "      <td>115</td>\n",
       "      <td>530</td>\n",
       "      <td>72</td>\n",
       "    </tr>\n",
       "    <tr>\n",
       "      <th>3</th>\n",
       "      <td>Plasma</td>\n",
       "      <td>Adenocarcinoma</td>\n",
       "      <td>Current</td>\n",
       "      <td>M</td>\n",
       "      <td>360</td>\n",
       "      <td>642</td>\n",
       "      <td>82</td>\n",
       "      <td>42097</td>\n",
       "      <td>84</td>\n",
       "      <td>50943</td>\n",
       "      <td>...</td>\n",
       "      <td>320</td>\n",
       "      <td>1621</td>\n",
       "      <td>461</td>\n",
       "      <td>104</td>\n",
       "      <td>14011</td>\n",
       "      <td>69</td>\n",
       "      <td>86</td>\n",
       "      <td>845</td>\n",
       "      <td>1309</td>\n",
       "      <td>127</td>\n",
       "    </tr>\n",
       "    <tr>\n",
       "      <th>4</th>\n",
       "      <td>Plasma</td>\n",
       "      <td>Adenocarcinoma</td>\n",
       "      <td>Current</td>\n",
       "      <td>M</td>\n",
       "      <td>96</td>\n",
       "      <td>137</td>\n",
       "      <td>95</td>\n",
       "      <td>112346</td>\n",
       "      <td>168</td>\n",
       "      <td>41987</td>\n",
       "      <td>...</td>\n",
       "      <td>84</td>\n",
       "      <td>769</td>\n",
       "      <td>266</td>\n",
       "      <td>158</td>\n",
       "      <td>18140</td>\n",
       "      <td>40</td>\n",
       "      <td>87</td>\n",
       "      <td>1213</td>\n",
       "      <td>1037</td>\n",
       "      <td>149</td>\n",
       "    </tr>\n",
       "  </tbody>\n",
       "</table>\n",
       "<p>5 rows × 185 columns</p>\n",
       "</div>"
      ],
      "text/plain": [
       "  SampleType     HealthState SmokingStatus Sex   M1   M2   M3      M4   M5  \\\n",
       "0     Plasma  Adenocarcinoma        Former   F  194  168   77  105985  118   \n",
       "1     Plasma  Adenocarcinoma        Former   F  215  143  154  100462  133   \n",
       "2     Plasma  Adenocarcinoma       Current   F  104   67   45   75301   94   \n",
       "3     Plasma  Adenocarcinoma       Current   M  360  642   82   42097   84   \n",
       "4     Plasma  Adenocarcinoma       Current   M   96  137   95  112346  168   \n",
       "\n",
       "      M6  ...  M172  M173  M174  M175   M176  M177  M178  M179  M180  M181  \n",
       "0  15489  ...   195  1606   300   108   7203    43    59  1009   383    68  \n",
       "1  13534  ...   184   364  1364   160  11910    82    99   136  1021   165  \n",
       "2   7390  ...   189   157   884    73   6372    59    35   115   530    72  \n",
       "3  50943  ...   320  1621   461   104  14011    69    86   845  1309   127  \n",
       "4  41987  ...    84   769   266   158  18140    40    87  1213  1037   149  \n",
       "\n",
       "[5 rows x 185 columns]"
      ]
     },
     "execution_count": 19,
     "metadata": {},
     "output_type": "execute_result"
    }
   ],
   "source": [
    "df = pd.read_excel('../../../data/ST000369.xlsx')\n",
    "\n",
    "# Rimuoviamo le colonne che non ci servono\n",
    "df.drop(columns=[\"Idx\", \"SampleID\", \"Class\"], inplace=True)\n",
    "\n",
    "# Visualizziamo le prime 5 righe del dataset\n",
    "df.head()"
   ]
  },
  {
   "cell_type": "markdown",
   "metadata": {},
   "source": [
    "### 2.1 Data Cleaning"
   ]
  },
  {
   "cell_type": "markdown",
   "metadata": {},
   "source": [
    "Per quanto riguarda il data cleaning del dataset, sono necessarie due tipologie di operazioni sui dati: \n",
    "1. Alcuni valori della feature \"*HealthState*\" sono scritti incorrettamente, perciò dobbiamo effettuarne la correzione.\n",
    "2. Tre features binarie sono espresse attraverso stringhe e non valori binari (0 e 1), perciò dobbiamo fare la sostituzione."
   ]
  },
  {
   "cell_type": "code",
   "execution_count": 20,
   "metadata": {},
   "outputs": [
    {
     "data": {
      "text/html": [
       "<div>\n",
       "<style scoped>\n",
       "    .dataframe tbody tr th:only-of-type {\n",
       "        vertical-align: middle;\n",
       "    }\n",
       "\n",
       "    .dataframe tbody tr th {\n",
       "        vertical-align: top;\n",
       "    }\n",
       "\n",
       "    .dataframe thead th {\n",
       "        text-align: right;\n",
       "    }\n",
       "</style>\n",
       "<table border=\"1\" class=\"dataframe\">\n",
       "  <thead>\n",
       "    <tr style=\"text-align: right;\">\n",
       "      <th></th>\n",
       "      <th>SampleType</th>\n",
       "      <th>HealthState</th>\n",
       "      <th>SmokingStatus</th>\n",
       "      <th>Sex</th>\n",
       "      <th>M1</th>\n",
       "      <th>M2</th>\n",
       "      <th>M3</th>\n",
       "      <th>M4</th>\n",
       "      <th>M5</th>\n",
       "      <th>M6</th>\n",
       "      <th>...</th>\n",
       "      <th>M173</th>\n",
       "      <th>M174</th>\n",
       "      <th>M175</th>\n",
       "      <th>M176</th>\n",
       "      <th>M177</th>\n",
       "      <th>M178</th>\n",
       "      <th>M179</th>\n",
       "      <th>M180</th>\n",
       "      <th>M181</th>\n",
       "      <th>Output</th>\n",
       "    </tr>\n",
       "  </thead>\n",
       "  <tbody>\n",
       "    <tr>\n",
       "      <th>0</th>\n",
       "      <td>Plasma</td>\n",
       "      <td>Adenocarcinoma</td>\n",
       "      <td>0</td>\n",
       "      <td>1</td>\n",
       "      <td>194</td>\n",
       "      <td>168</td>\n",
       "      <td>77</td>\n",
       "      <td>105985</td>\n",
       "      <td>118</td>\n",
       "      <td>15489</td>\n",
       "      <td>...</td>\n",
       "      <td>1606</td>\n",
       "      <td>300</td>\n",
       "      <td>108</td>\n",
       "      <td>7203</td>\n",
       "      <td>43</td>\n",
       "      <td>59</td>\n",
       "      <td>1009</td>\n",
       "      <td>383</td>\n",
       "      <td>68</td>\n",
       "      <td>1</td>\n",
       "    </tr>\n",
       "    <tr>\n",
       "      <th>1</th>\n",
       "      <td>Plasma</td>\n",
       "      <td>Adenocarcinoma</td>\n",
       "      <td>0</td>\n",
       "      <td>1</td>\n",
       "      <td>215</td>\n",
       "      <td>143</td>\n",
       "      <td>154</td>\n",
       "      <td>100462</td>\n",
       "      <td>133</td>\n",
       "      <td>13534</td>\n",
       "      <td>...</td>\n",
       "      <td>364</td>\n",
       "      <td>1364</td>\n",
       "      <td>160</td>\n",
       "      <td>11910</td>\n",
       "      <td>82</td>\n",
       "      <td>99</td>\n",
       "      <td>136</td>\n",
       "      <td>1021</td>\n",
       "      <td>165</td>\n",
       "      <td>1</td>\n",
       "    </tr>\n",
       "    <tr>\n",
       "      <th>2</th>\n",
       "      <td>Plasma</td>\n",
       "      <td>Adenocarcinoma</td>\n",
       "      <td>1</td>\n",
       "      <td>1</td>\n",
       "      <td>104</td>\n",
       "      <td>67</td>\n",
       "      <td>45</td>\n",
       "      <td>75301</td>\n",
       "      <td>94</td>\n",
       "      <td>7390</td>\n",
       "      <td>...</td>\n",
       "      <td>157</td>\n",
       "      <td>884</td>\n",
       "      <td>73</td>\n",
       "      <td>6372</td>\n",
       "      <td>59</td>\n",
       "      <td>35</td>\n",
       "      <td>115</td>\n",
       "      <td>530</td>\n",
       "      <td>72</td>\n",
       "      <td>1</td>\n",
       "    </tr>\n",
       "    <tr>\n",
       "      <th>3</th>\n",
       "      <td>Plasma</td>\n",
       "      <td>Adenocarcinoma</td>\n",
       "      <td>1</td>\n",
       "      <td>0</td>\n",
       "      <td>360</td>\n",
       "      <td>642</td>\n",
       "      <td>82</td>\n",
       "      <td>42097</td>\n",
       "      <td>84</td>\n",
       "      <td>50943</td>\n",
       "      <td>...</td>\n",
       "      <td>1621</td>\n",
       "      <td>461</td>\n",
       "      <td>104</td>\n",
       "      <td>14011</td>\n",
       "      <td>69</td>\n",
       "      <td>86</td>\n",
       "      <td>845</td>\n",
       "      <td>1309</td>\n",
       "      <td>127</td>\n",
       "      <td>1</td>\n",
       "    </tr>\n",
       "    <tr>\n",
       "      <th>4</th>\n",
       "      <td>Plasma</td>\n",
       "      <td>Adenocarcinoma</td>\n",
       "      <td>1</td>\n",
       "      <td>0</td>\n",
       "      <td>96</td>\n",
       "      <td>137</td>\n",
       "      <td>95</td>\n",
       "      <td>112346</td>\n",
       "      <td>168</td>\n",
       "      <td>41987</td>\n",
       "      <td>...</td>\n",
       "      <td>769</td>\n",
       "      <td>266</td>\n",
       "      <td>158</td>\n",
       "      <td>18140</td>\n",
       "      <td>40</td>\n",
       "      <td>87</td>\n",
       "      <td>1213</td>\n",
       "      <td>1037</td>\n",
       "      <td>149</td>\n",
       "      <td>1</td>\n",
       "    </tr>\n",
       "  </tbody>\n",
       "</table>\n",
       "<p>5 rows × 186 columns</p>\n",
       "</div>"
      ],
      "text/plain": [
       "  SampleType     HealthState  SmokingStatus  Sex   M1   M2   M3      M4   M5  \\\n",
       "0     Plasma  Adenocarcinoma              0    1  194  168   77  105985  118   \n",
       "1     Plasma  Adenocarcinoma              0    1  215  143  154  100462  133   \n",
       "2     Plasma  Adenocarcinoma              1    1  104   67   45   75301   94   \n",
       "3     Plasma  Adenocarcinoma              1    0  360  642   82   42097   84   \n",
       "4     Plasma  Adenocarcinoma              1    0   96  137   95  112346  168   \n",
       "\n",
       "      M6  ...  M173  M174  M175   M176  M177  M178  M179  M180  M181  Output  \n",
       "0  15489  ...  1606   300   108   7203    43    59  1009   383    68       1  \n",
       "1  13534  ...   364  1364   160  11910    82    99   136  1021   165       1  \n",
       "2   7390  ...   157   884    73   6372    59    35   115   530    72       1  \n",
       "3  50943  ...  1621   461   104  14011    69    86   845  1309   127       1  \n",
       "4  41987  ...   769   266   158  18140    40    87  1213  1037   149       1  \n",
       "\n",
       "[5 rows x 186 columns]"
      ]
     },
     "execution_count": 20,
     "metadata": {},
     "output_type": "execute_result"
    }
   ],
   "source": [
    "# Effettuiamo la correzione dei valori errati\n",
    "df[\"HealthState\"] = df[\"HealthState\"].str.replace('Adenocarcnoma', 'Adenocarcinoma')\n",
    "\n",
    "# Eliminiamo le righe con valori nulli all'interno delle colonne \"HealthState\" e \"Sex\"\n",
    "df = df.dropna(subset=[\"HealthState\", \"Sex\"])\n",
    "\n",
    "# Convertiamo i valori di natura categorica in valori numerici\n",
    "df['Output'] = df['HealthState'].apply(lambda x: 1 if x in ['Adenosquamous', 'Adenocarcinoma'] else 0)\n",
    "df['SmokingStatus'] = df['SmokingStatus'].apply(lambda x: 1 if x in ['Current'] else 0)\n",
    "df['Sex'] = df['Sex'].apply(lambda x: 1 if x in ['F'] else 0)\n",
    "\n",
    "# Visualizziamo le prime 5 righe del dataset\n",
    "df.head()"
   ]
  },
  {
   "cell_type": "markdown",
   "metadata": {},
   "source": [
    "### 3. Extract X & Y"
   ]
  },
  {
   "cell_type": "code",
   "execution_count": 21,
   "metadata": {},
   "outputs": [],
   "source": [
    "X = df.drop(columns=['SampleType', 'HealthState', 'Output'])\n",
    "X_features_names = X.columns\n",
    "y = df.Output"
   ]
  },
  {
   "cell_type": "markdown",
   "metadata": {},
   "source": [
    "### 3.1 Data Imputation"
   ]
  },
  {
   "cell_type": "code",
   "execution_count": 22,
   "metadata": {},
   "outputs": [
    {
     "name": "stderr",
     "output_type": "stream",
     "text": [
      "/var/folders/dv/cqkd8q211lb6w_8jd__s86d40000gn/T/ipykernel_1551/3462717103.py:4: DeprecationWarning: In a future version, `df.iloc[:, i] = newvals` will attempt to set the values inplace instead of always setting a new array. To retain the old behavior, use either `df[df.columns[i]] = newvals` or, if columns are non-unique, `df.isetitem(i, newvals)`\n",
      "  X[:] = imputer_knn.fit_transform(X)\n"
     ]
    }
   ],
   "source": [
    "# KNNImputer\n",
    "imputer_knn = KNNImputer(n_neighbors=2)\n",
    "imputer_knn.fit(X)\n",
    "X[:] = imputer_knn.fit_transform(X)\n",
    "X_knn = X.copy()"
   ]
  },
  {
   "cell_type": "markdown",
   "metadata": {},
   "source": [
    "### 3.2 Train-test Split"
   ]
  },
  {
   "cell_type": "code",
   "execution_count": 23,
   "metadata": {},
   "outputs": [],
   "source": [
    "X_train_knn, X_test_knn, y_train_knn, y_test_knn = train_test_split(X_knn, y, test_size=0.2, random_state=42)"
   ]
  },
  {
   "cell_type": "markdown",
   "metadata": {},
   "source": [
    "### 4. Initial Model Build"
   ]
  },
  {
   "cell_type": "code",
   "execution_count": 24,
   "metadata": {},
   "outputs": [],
   "source": [
    "# Definiamo il modello Support Vector Machine con gli iperparametri di default\n",
    "model = svm.SVC(probability=True)\n",
    "\n",
    "# Addestriamo il modello\n",
    "model.fit(X_train_knn, y_train_knn)\n",
    "\n",
    "# Eseguiamo le previsioni sui dati di test\n",
    "y_pred_knn = model.predict(X_test_knn)"
   ]
  },
  {
   "cell_type": "markdown",
   "metadata": {},
   "source": [
    "### 5. Initial Model Evalutation"
   ]
  },
  {
   "cell_type": "code",
   "execution_count": 25,
   "metadata": {},
   "outputs": [
    {
     "name": "stdout",
     "output_type": "stream",
     "text": [
      "Accuratezza: 0.48484848484848486\n",
      "Precision: 0.5\n",
      "Recall: 0.9411764705882353\n",
      "F1-score: 0.6530612244897959\n",
      "ROC AUC: 0.47058823529411764\n"
     ]
    }
   ],
   "source": [
    "# Valutiamo le prestazioni del modello con gli iperparametri di default\n",
    "accuracy_knn = metrics.accuracy_score(y_test_knn, y_pred_knn)\n",
    "precision_knn = metrics.precision_score(y_test_knn, y_pred_knn)\n",
    "recall_knn = metrics.recall_score(y_test_knn, y_pred_knn)\n",
    "f1_knn = metrics.f1_score(y_test_knn, y_pred_knn)\n",
    "roc_auc_knn = metrics.roc_auc_score(y_test_knn, y_pred_knn)\n",
    "\n",
    "print(f'Accuratezza: {accuracy_knn}')\n",
    "print(f'Precision: {precision_knn}')\n",
    "print(f'Recall: {recall_knn}')\n",
    "print(f'F1-score: {f1_knn}')\n",
    "print(f'ROC AUC: {roc_auc_knn}')"
   ]
  },
  {
   "cell_type": "markdown",
   "metadata": {},
   "source": [
    "Le prestazioni iniziali sono estremamente deludenti: abbiamo un'accuratezza del 48%, una Precision del 50% e una Recall dell'94%. Proviamo con la K-Fold Cross Validation."
   ]
  },
  {
   "cell_type": "code",
   "execution_count": 26,
   "metadata": {},
   "outputs": [
    {
     "name": "stdout",
     "output_type": "stream",
     "text": [
      "K=5, Accuratezza Media: 0.5952651515151515\n",
      "K=6, Accuratezza Media: 0.601410934744268\n",
      "K=7, Accuratezza Media: 0.6019668737060042\n",
      "K=8, Accuratezza Media: 0.5955357142857143\n",
      "K=9, Accuratezza Media: 0.5955165692007798\n",
      "K=10, Accuratezza Media: 0.5955882352941176\n",
      "-------------------------------------------\n",
      "K ottimale: 7\n",
      "Accuratezza media massima: 0.6019668737060042\n"
     ]
    }
   ],
   "source": [
    "# Testiamo diverse configurazioni di K\n",
    "max = 0\n",
    "k_best = 0\n",
    "for k in range(5, 11): \n",
    "    kfolds = KFold(n_splits=k, shuffle=True, random_state=42)\n",
    "    model = svm.SVC()\n",
    "    scores = cross_val_score(model, X_knn, y, cv=kfolds)\n",
    "    mean = np.mean(scores)\n",
    "    if mean > max: \n",
    "        max = mean\n",
    "        k_best = k\n",
    "    print(f\"K={k}, Accuratezza Media: {mean}\")\n",
    "    \n",
    "print(\"-------------------------------------------\")\n",
    "print(f\"K ottimale: {k_best}\")\n",
    "print(f\"Accuratezza media massima: {max}\")"
   ]
  },
  {
   "cell_type": "markdown",
   "metadata": {},
   "source": [
    "Abbiamo ottenuto le prestazioni migliori con un numero di fold pari a 7."
   ]
  },
  {
   "cell_type": "code",
   "execution_count": 27,
   "metadata": {},
   "outputs": [],
   "source": [
    "# Creiamo l'oggetto K-Fold per la Cross-Validation con il numero di fold ottimale\n",
    "kfolds = KFold(n_splits=k_best, shuffle=True, random_state=42)"
   ]
  },
  {
   "cell_type": "markdown",
   "metadata": {},
   "source": [
    "### 6. Hyperparameters Optimization"
   ]
  },
  {
   "cell_type": "markdown",
   "metadata": {},
   "source": [
    "L'**ottimizzazione degli iperparametri** è un passo fondamentale nello sviluppo di modelli predittivi robusti. Infatti, aderire ai parametri predefiniti impedisce ai modelli di raggiungere il massimo delle prestazioni. A tale scopo, utilizziamo la tecnica **Grid Search**."
   ]
  },
  {
   "cell_type": "code",
   "execution_count": 28,
   "metadata": {},
   "outputs": [
    {
     "name": "stdout",
     "output_type": "stream",
     "text": [
      "Iperparametri migliori: {'C': 1, 'class_weight': None, 'gamma': 0.01, 'kernel': 'linear', 'probability': True}\n"
     ]
    }
   ],
   "source": [
    "# Creiamo un nuovo modello Support Vector Machine\n",
    "model_2 = svm.SVC()\n",
    "\n",
    "# Definiamo la griglia con i parametri da testare\n",
    "param_grid = {\n",
    "    'C': [1, 10],\n",
    "    'kernel': ['linear', 'rbf', 'poly', 'sigmoid'],\n",
    "    'gamma': [0.01, 0.1],\n",
    "    'class_weight': [None, 'balanced'],\n",
    "    'probability': [True]\n",
    "}\n",
    "\n",
    "# Creiamo l'oggetto GridSearchCV\n",
    "grid_search = GridSearchCV(model_2, param_grid, scoring='accuracy', cv=k_best)\n",
    "grid_search.fit(X_knn, y)\n",
    "\n",
    "# Visualizziamo i risultati\n",
    "best_params = grid_search.best_params_\n",
    "print(\"Iperparametri migliori:\", best_params)"
   ]
  },
  {
   "cell_type": "code",
   "execution_count": 29,
   "metadata": {},
   "outputs": [],
   "source": [
    "# Utilizziamo gli iperparametri ottimizzati per creare un nuovo modello\n",
    "best_model = svm.SVC(**best_params)"
   ]
  },
  {
   "cell_type": "code",
   "execution_count": 30,
   "metadata": {},
   "outputs": [
    {
     "name": "stdout",
     "output_type": "stream",
     "text": [
      "Accuratezza: 0.696969696969697\n",
      "Precision: 0.7058823529411765\n",
      "Recall: 0.7058823529411765\n",
      "F1-score: 0.7058823529411765\n",
      "ROC AUC: 0.6966911764705883\n"
     ]
    }
   ],
   "source": [
    "# Valutiamo le prestazioni del modello con gli iperparametri ottimizzati\n",
    "best_model.fit(X_train_knn, y_train_knn)\n",
    "y_pred_knn = best_model.predict(X_test_knn)\n",
    "\n",
    "# Calcoliamo le metriche\n",
    "accuracy_knn = metrics.accuracy_score(y_test_knn, y_pred_knn)\n",
    "precision_knn = metrics.precision_score(y_test_knn, y_pred_knn)\n",
    "recall_knn = metrics.recall_score(y_test_knn, y_pred_knn)\n",
    "f1_knn = metrics.f1_score(y_test_knn, y_pred_knn)\n",
    "roc_auc_knn = metrics.roc_auc_score(y_test_knn, y_pred_knn)\n",
    "\n",
    "# Visualizziamo le metriche\n",
    "print(f'Accuratezza: {accuracy_knn}')\n",
    "print(f'Precision: {precision_knn}')\n",
    "print(f'Recall: {recall_knn}')\n",
    "print(f'F1-score: {f1_knn}')\n",
    "print(f'ROC AUC: {roc_auc_knn}')"
   ]
  },
  {
   "cell_type": "markdown",
   "metadata": {},
   "source": [
    "Valutiamo le prestazioni con la K-Fold Cross Validation."
   ]
  },
  {
   "cell_type": "code",
   "execution_count": 31,
   "metadata": {},
   "outputs": [
    {
     "name": "stdout",
     "output_type": "stream",
     "text": [
      "Accuratezza media: 0.8043478260869567\n",
      "Deviazione standard: 0.09135794049739444\n"
     ]
    }
   ],
   "source": [
    "# KFold Cross Validation\n",
    "scores = cross_val_score(best_model, X_knn, y, cv=kfolds, scoring='accuracy')\n",
    "print(f'Accuratezza media: {scores.mean()}')\n",
    "print(f'Deviazione standard: {scores.std()}')"
   ]
  },
  {
   "cell_type": "markdown",
   "metadata": {},
   "source": [
    "### 7. Feature Selection\n",
    "max_fs = 0 \n",
    "k_fs = 0\n",
    "best_features = []\n",
    "\n",
    "for k in range(2, len(X_knn.columns)):\n",
    "    top_features = SelectKBest(score_func=chi2, k=k).fit(X_knn, y).get_support(indices=True)\n",
    "    X_top = X_knn.iloc[:, top_features]\n",
    "    \n",
    "    scores = cross_val_score(best_model, X_top, y, cv=kfolds, scoring='accuracy')\n",
    "    mean = np.mean(scores)\n",
    "    \n",
    "    if mean > max_fs: \n",
    "        max_fs = mean\n",
    "        k_fs = k\n",
    "        best_features = X_knn.columns[top_features].tolist()\n",
    "\n",
    "    print(f\"K={k}, Accuratezza Media: {mean}\")\n",
    "\n",
    "print(f\"K ottimale: {k_fs}\")\n",
    "print(f\"Accuratezza media ottimale: {max_fs}\")\n",
    "print(f\"Features ottimali: {best_features}\")"
   ]
  },
  {
   "cell_type": "markdown",
   "metadata": {},
   "source": [
    "X_top = X_knn[best_features]\n",
    "scores = cross_val_score(best_model, X_top, y, cv=kfolds, scoring='accuracy')\n",
    "print(f'Accuratezza media: {scores.mean()}')"
   ]
  },
  {
   "cell_type": "markdown",
   "metadata": {},
   "source": [
    "Otteniamo le correlazioni tra le features\n",
    "corrmat = X_top.corr()\n",
    "\n",
    "top_corr_features = corrmat.index\n",
    "\n",
    "plt.figure(figsize=(k_fs, k_fs))\n",
    "\n",
    "Generiamo il grafico delle correlazioni\n",
    "\n",
    "g=sns.heatmap(X_top[top_corr_features].corr(),annot=True,cmap=\"RdYlGn\")"
   ]
  },
  {
   "cell_type": "markdown",
   "metadata": {},
   "source": [
    "### 9. Results"
   ]
  },
  {
   "cell_type": "markdown",
   "metadata": {},
   "source": [
    "I risultati della ricerca sono i seguenti:"
   ]
  },
  {
   "cell_type": "code",
   "execution_count": 32,
   "metadata": {},
   "outputs": [],
   "source": [
    "# Numero ottimale di fold\n",
    "kfolds = KFold(n_splits=k_best, shuffle=True, random_state=42)\n",
    "\n",
    "# Modello BernoulliNB con gli iperparametri ottimizzati\n",
    "model = svm.SVC(**best_params)\n",
    "\n",
    "# K-Fold Cross Validation del modello con le features ottimali\n",
    "y_pred = cross_val_predict(model, X_knn, y, cv=kfolds, method='predict_proba')\n",
    "\n",
    "# Scegliamo na soglia (threshold) per trasformare le probabilità in etichette binarie\n",
    "threshold = 0.5\n",
    "y_pred = (y_pred[:, 1] > threshold).astype(int)\n",
    "\n",
    "# Calcoliamo le metriche\n",
    "accuracy = metrics.accuracy_score(y, y_pred)\n",
    "precision = metrics.precision_score(y, y_pred)\n",
    "recall = metrics.recall_score(y, y_pred)\n",
    "f1 = metrics.f1_score(y, y_pred)\n",
    "roc_auc = metrics.roc_auc_score(y, y_pred)"
   ]
  },
  {
   "cell_type": "code",
   "execution_count": 33,
   "metadata": {},
   "outputs": [
    {
     "name": "stdout",
     "output_type": "stream",
     "text": [
      "------------------------\n",
      "Accuracy: 0.7853\n",
      "Precision: 0.7982\n",
      "Recall: 0.8700\n",
      "F1-score: 0.8325\n",
      "ROC AUC: 0.7604\n",
      "------------------------\n",
      "Matrice di confusione:\n",
      " [[41 22]\n",
      " [13 87]]\n",
      "------------------------\n",
      "Migliori iperparametri:\n",
      "- C: 1\n",
      "- class_weight: None\n",
      "- gamma: 0.01\n",
      "- kernel: linear\n",
      "- probability: True\n"
     ]
    }
   ],
   "source": [
    "# Stampiamo i risultati\n",
    "print(\"------------------------\")\n",
    "print(f'Accuracy: {accuracy:.4f}')\n",
    "print(f'Precision: {precision:.4f}')\n",
    "print(f'Recall: {recall:.4f}')\n",
    "print(f'F1-score: {f1:.4f}')\n",
    "print(f'ROC AUC: {roc_auc:.4f}')\n",
    "\n",
    "print(\"------------------------\")\n",
    "print(f'Matrice di confusione:\\n {metrics.confusion_matrix(y, y_pred)}')\n",
    "print(\"------------------------\")\n",
    "print(f'Migliori iperparametri:')\n",
    "for h in best_params:\n",
    "    print(f'- {h}: {best_params[h]}')"
   ]
  }
 ],
 "metadata": {
  "kernelspec": {
   "display_name": "thesis",
   "language": "python",
   "name": "python3"
  },
  "language_info": {
   "codemirror_mode": {
    "name": "ipython",
    "version": 3
   },
   "file_extension": ".py",
   "mimetype": "text/x-python",
   "name": "python",
   "nbconvert_exporter": "python",
   "pygments_lexer": "ipython3",
   "version": "3.11.4"
  },
  "orig_nbformat": 4
 },
 "nbformat": 4,
 "nbformat_minor": 2
}
