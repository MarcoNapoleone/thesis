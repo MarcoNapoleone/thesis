{
 "cells": [
  {
   "cell_type": "code",
   "execution_count": 1,
   "id": "initial_id",
   "metadata": {
    "ExecuteTime": {
     "end_time": "2023-10-09T11:34:33.885159309Z",
     "start_time": "2023-10-09T11:34:33.872049645Z"
    },
    "collapsed": true
   },
   "outputs": [],
   "source": [
    "import pandas as pd\n",
    "import requests\n",
    "from bs4 import BeautifulSoup\n",
    "import json\n",
    "\n",
    "STUDY_ID = \"ST001142\"\n",
    "ANALYSIS_ID = \"AN001875\""
   ]
  },
  {
   "cell_type": "markdown",
   "id": "f23c1b34325f5388",
   "metadata": {
    "collapsed": false
   },
   "source": [
    "Effettua una richiesta GET all'URL"
   ]
  },
  {
   "cell_type": "code",
   "execution_count": 2,
   "id": "f9059db5d3d756c3",
   "metadata": {
    "ExecuteTime": {
     "end_time": "2023-10-09T11:34:36.869814720Z",
     "start_time": "2023-10-09T11:34:33.874612454Z"
    },
    "collapsed": false
   },
   "outputs": [],
   "source": [
    "path = \"https://www.metabolomicsworkbench.org/data/study_textformat_view.php?JSON=YES&STUDY_ID={study_id}&ANALYSIS_ID={analysis_id}\"\n",
    "url = path.format(study_id=STUDY_ID, analysis_id=ANALYSIS_ID)\n",
    "\n",
    "try:\n",
    "    response = requests.get(url)\n",
    "    response.raise_for_status()\n",
    "    soup = BeautifulSoup(response.text, \"html.parser\")\n",
    "    pre_tag = soup.find('pre')\n",
    "\n",
    "    if pre_tag:\n",
    "        # Estrai il testo JSON\n",
    "        json_text = pre_tag.text\n",
    "\n",
    "        #controlla se il json è valido\n",
    "        json.loads(json_text)\n",
    "\n",
    "        # Decodifica il JSON\n",
    "        data = json.loads(json_text)\n",
    "\n",
    "except json.JSONDecodeError as e:\n",
    "    print(e)\n"
   ]
  },
  {
   "cell_type": "markdown",
   "id": "758b433f4ef958f7",
   "metadata": {
    "collapsed": false
   },
   "source": [
    "Estrai i dati da \"SUBJECT_SAMPLE_FACTORS\""
   ]
  },
  {
   "cell_type": "code",
   "execution_count": 3,
   "id": "94eb94b22fe025d4",
   "metadata": {
    "ExecuteTime": {
     "end_time": "2023-10-09T11:34:36.874382421Z",
     "start_time": "2023-10-09T11:34:36.873331301Z"
    },
    "collapsed": false
   },
   "outputs": [],
   "source": [
    "sample_factors = data.get(\"SUBJECT_SAMPLE_FACTORS\", [])\n",
    "metabolite_data = data.get(\"MS_METABOLITE_DATA\", {}).get(\"Data\", [])\n",
    "\n",
    "factors_data = {}\n",
    "for item in sample_factors:\n",
    "    factors = item.get(\"Factors\", {})\n",
    "    additional_factors = item.get(\"Additional sample data\", {})\n",
    "\n",
    "    # Aggiungi a sample id i fattori aggiuntivi (es. sesso, età, ecc.)\n",
    "    factors_data[item.get(\"Sample ID\")] = {**factors, **additional_factors}\n",
    "\n",
    "metabolites = []\n",
    "for item in metabolite_data:\n",
    "    metabolites.append(item['Metabolite'])\n",
    "    del item['Metabolite']\n"
   ]
  },
  {
   "cell_type": "markdown",
   "id": "40027ec9fe00f386",
   "metadata": {
    "collapsed": false
   },
   "source": [
    "Converte la lista di dizionari in un DataFrame Pandas"
   ]
  },
  {
   "cell_type": "code",
   "execution_count": 4,
   "id": "e58b949f13c0766a",
   "metadata": {
    "ExecuteTime": {
     "end_time": "2023-10-09T11:34:36.936397757Z",
     "start_time": "2023-10-09T11:34:36.874983143Z"
    },
    "collapsed": false
   },
   "outputs": [],
   "source": [
    "factors_df = pd.DataFrame(factors_data)\n",
    "metabolite_df = pd.DataFrame(metabolite_data, index=metabolites)\n",
    "\n",
    "# transponi i DataFrame\n",
    "factors_df = factors_df.T\n",
    "metabolite_df = metabolite_df.T\n"
   ]
  },
  {
   "cell_type": "markdown",
   "id": "571010b1a1b4dc2e",
   "metadata": {
    "collapsed": false
   },
   "source": [
    "Unisci i due DataFrame utilizzando \"Sample ID\" come chiave"
   ]
  },
  {
   "cell_type": "code",
   "execution_count": 5,
   "id": "d57f3e3093aadec0",
   "metadata": {
    "ExecuteTime": {
     "end_time": "2023-10-09T11:34:36.951408900Z",
     "start_time": "2023-10-09T11:34:36.937195502Z"
    },
    "collapsed": false
   },
   "outputs": [],
   "source": [
    "result_df = pd.merge(factors_df, metabolite_df, left_index=True, right_index=True)"
   ]
  },
  {
   "cell_type": "code",
   "execution_count": 7,
   "id": "d001ec7c7e929111",
   "metadata": {
    "ExecuteTime": {
     "end_time": "2023-10-09T11:34:37.058746027Z",
     "start_time": "2023-10-09T11:34:36.951951133Z"
    },
    "collapsed": false
   },
   "outputs": [],
   "source": [
    "result_df.to_csv(f\"output/{STUDY_ID}_{ANALYSIS_ID}.csv\", index=True, index_label=\"Sample ID\")"
   ]
  }
 ],
 "metadata": {
  "kernelspec": {
   "display_name": "Python 3",
   "language": "python",
   "name": "python3"
  },
  "language_info": {
   "codemirror_mode": {
    "name": "ipython",
    "version": 3
   },
   "file_extension": ".py",
   "mimetype": "text/x-python",
   "name": "python",
   "nbconvert_exporter": "python",
   "pygments_lexer": "ipython3",
   "version": "3.11.4"
  }
 },
 "nbformat": 4,
 "nbformat_minor": 5
}
