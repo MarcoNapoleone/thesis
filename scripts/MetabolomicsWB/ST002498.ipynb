{
 "cells": [
  {
   "cell_type": "markdown",
   "source": [
    "Import the datasets from local files and select the data from the Excel sheet "
   ],
   "metadata": {
    "collapsed": false
   },
   "id": "a13ce70a99fb3c23"
  },
  {
   "cell_type": "code",
   "outputs": [
    {
     "data": {
      "text/plain": "  CLIENT_SAMPLE_ID  S-1-pyrroline-5-carboxylate  spermidine  \\\n0           C00002                    21.763158   18.301301   \n1           C00003                    21.718382   17.071770   \n2           C00005                    21.881400   17.046823   \n3           C00008                    21.601839   17.275036   \n4           C00009                    22.603968   18.859931   \n\n   1-methylnicotinamide  12,13-DiHOME  alpha-ketoglutarate  kynurenate  \\\n0             24.571704     18.622587            25.748845   19.033422   \n1             21.074572     16.337502            25.540317   19.033910   \n2             26.364566     18.065085            26.262678   18.535391   \n3             22.376118     18.507982            25.282551   19.304179   \n4             20.449925     18.202285            25.558828   18.686757   \n\n   3-hydroxyisobutyrate  3-hydroxy-3-methylglutarate  3-phosphoglycerate  ...  \\\n0             23.208134                    21.925928           17.164326  ...   \n1             24.020870                    22.276483           17.881994  ...   \n2             24.247496                    22.615986           18.921675  ...   \n3             24.311875                    21.650809           18.554780  ...   \n4             23.481132                    22.415000           19.563405  ...   \n\n     X-25948    X-25957    X-26008    X-26054    X-26062    X-26097  \\\n0  17.547973  21.203010  18.521744  17.065342  17.484198  18.234399   \n1  17.580087  20.705558  19.301665  17.476846  17.437256  19.301017   \n2  17.773718  21.548338  19.007391  16.553225  19.178322  18.994866   \n3  17.619090  21.787166  20.039042  16.744877  18.661490  18.945117   \n4  17.741713  21.040253  23.465978  17.005031  17.487968  19.020835   \n\n     X-26107    X-26109    X-26111    X-26119  \n0  20.371814  16.910284  17.037563  17.071510  \n1  20.457819  15.432149  21.465323  17.308426  \n2  19.270721  15.953183  22.347348  15.749378  \n3  19.941655  15.850442  21.540411  16.220377  \n4  18.419045  16.485844  21.656523  17.379410  \n\n[5 rows x 1170 columns]",
      "text/html": "<div>\n<style scoped>\n    .dataframe tbody tr th:only-of-type {\n        vertical-align: middle;\n    }\n\n    .dataframe tbody tr th {\n        vertical-align: top;\n    }\n\n    .dataframe thead th {\n        text-align: right;\n    }\n</style>\n<table border=\"1\" class=\"dataframe\">\n  <thead>\n    <tr style=\"text-align: right;\">\n      <th></th>\n      <th>CLIENT_SAMPLE_ID</th>\n      <th>S-1-pyrroline-5-carboxylate</th>\n      <th>spermidine</th>\n      <th>1-methylnicotinamide</th>\n      <th>12,13-DiHOME</th>\n      <th>alpha-ketoglutarate</th>\n      <th>kynurenate</th>\n      <th>3-hydroxyisobutyrate</th>\n      <th>3-hydroxy-3-methylglutarate</th>\n      <th>3-phosphoglycerate</th>\n      <th>...</th>\n      <th>X-25948</th>\n      <th>X-25957</th>\n      <th>X-26008</th>\n      <th>X-26054</th>\n      <th>X-26062</th>\n      <th>X-26097</th>\n      <th>X-26107</th>\n      <th>X-26109</th>\n      <th>X-26111</th>\n      <th>X-26119</th>\n    </tr>\n  </thead>\n  <tbody>\n    <tr>\n      <th>0</th>\n      <td>C00002</td>\n      <td>21.763158</td>\n      <td>18.301301</td>\n      <td>24.571704</td>\n      <td>18.622587</td>\n      <td>25.748845</td>\n      <td>19.033422</td>\n      <td>23.208134</td>\n      <td>21.925928</td>\n      <td>17.164326</td>\n      <td>...</td>\n      <td>17.547973</td>\n      <td>21.203010</td>\n      <td>18.521744</td>\n      <td>17.065342</td>\n      <td>17.484198</td>\n      <td>18.234399</td>\n      <td>20.371814</td>\n      <td>16.910284</td>\n      <td>17.037563</td>\n      <td>17.071510</td>\n    </tr>\n    <tr>\n      <th>1</th>\n      <td>C00003</td>\n      <td>21.718382</td>\n      <td>17.071770</td>\n      <td>21.074572</td>\n      <td>16.337502</td>\n      <td>25.540317</td>\n      <td>19.033910</td>\n      <td>24.020870</td>\n      <td>22.276483</td>\n      <td>17.881994</td>\n      <td>...</td>\n      <td>17.580087</td>\n      <td>20.705558</td>\n      <td>19.301665</td>\n      <td>17.476846</td>\n      <td>17.437256</td>\n      <td>19.301017</td>\n      <td>20.457819</td>\n      <td>15.432149</td>\n      <td>21.465323</td>\n      <td>17.308426</td>\n    </tr>\n    <tr>\n      <th>2</th>\n      <td>C00005</td>\n      <td>21.881400</td>\n      <td>17.046823</td>\n      <td>26.364566</td>\n      <td>18.065085</td>\n      <td>26.262678</td>\n      <td>18.535391</td>\n      <td>24.247496</td>\n      <td>22.615986</td>\n      <td>18.921675</td>\n      <td>...</td>\n      <td>17.773718</td>\n      <td>21.548338</td>\n      <td>19.007391</td>\n      <td>16.553225</td>\n      <td>19.178322</td>\n      <td>18.994866</td>\n      <td>19.270721</td>\n      <td>15.953183</td>\n      <td>22.347348</td>\n      <td>15.749378</td>\n    </tr>\n    <tr>\n      <th>3</th>\n      <td>C00008</td>\n      <td>21.601839</td>\n      <td>17.275036</td>\n      <td>22.376118</td>\n      <td>18.507982</td>\n      <td>25.282551</td>\n      <td>19.304179</td>\n      <td>24.311875</td>\n      <td>21.650809</td>\n      <td>18.554780</td>\n      <td>...</td>\n      <td>17.619090</td>\n      <td>21.787166</td>\n      <td>20.039042</td>\n      <td>16.744877</td>\n      <td>18.661490</td>\n      <td>18.945117</td>\n      <td>19.941655</td>\n      <td>15.850442</td>\n      <td>21.540411</td>\n      <td>16.220377</td>\n    </tr>\n    <tr>\n      <th>4</th>\n      <td>C00009</td>\n      <td>22.603968</td>\n      <td>18.859931</td>\n      <td>20.449925</td>\n      <td>18.202285</td>\n      <td>25.558828</td>\n      <td>18.686757</td>\n      <td>23.481132</td>\n      <td>22.415000</td>\n      <td>19.563405</td>\n      <td>...</td>\n      <td>17.741713</td>\n      <td>21.040253</td>\n      <td>23.465978</td>\n      <td>17.005031</td>\n      <td>17.487968</td>\n      <td>19.020835</td>\n      <td>18.419045</td>\n      <td>16.485844</td>\n      <td>21.656523</td>\n      <td>17.379410</td>\n    </tr>\n  </tbody>\n</table>\n<p>5 rows × 1170 columns</p>\n</div>"
     },
     "execution_count": 19,
     "metadata": {},
     "output_type": "execute_result"
    }
   ],
   "source": [
    "import pandas as pd\n",
    "\n",
    "metabolites_df = pd.read_excel('./input_data/EDRN_MetabolomicsData_2023_08_27.xlsx', sheet_name='PreprocessedData')\n",
    "demographics_df = pd.read_csv('./input_data/ST002498_AN004654.csv')\n",
    "\n",
    "metabolites_df.head()"
   ],
   "metadata": {
    "collapsed": false,
    "ExecuteTime": {
     "end_time": "2024-01-21T14:00:42.815888542Z",
     "start_time": "2024-01-21T14:00:39.867781752Z"
    }
   },
   "id": "cb2c8d7fd7a7198e",
   "execution_count": 19
  },
  {
   "cell_type": "markdown",
   "source": [
    "Select the demographic data from the dataset"
   ],
   "metadata": {
    "collapsed": false
   },
   "id": "fd39082e2572e8ab"
  },
  {
   "cell_type": "code",
   "outputs": [
    {
     "data": {
      "text/plain": "  Sample ID  Diagnosis  PreBioPSA  PreviousPositiveBiopsy  Age  \\\n0    C00002          1       5.70                       0   77   \n1    C00003          1       5.42                       0   78   \n2    C00005          0       1.10                       0   63   \n3    C00008          1       2.61                       0   58   \n4    C00009          0       4.30                       0   71   \n\n   EthnicityLatino  Ethnicity  Employment  Education  SmokingEver  ...  \\\n0                0          1          10          2            1  ...   \n1                0          1           6          6            1  ...   \n2                0          1           1          5            1  ...   \n3                0          1           6          6            0  ...   \n4                0          1           6          6            0  ...   \n\n   Hematuria  PrProcedure  PrevBiopsy  PrDrug1  PrDrug2  PrDrug3  PrDrug4  \\\n0        0.0          0.0         0.0      1.0      0.0      0.0      0.0   \n1        0.0          0.0         0.0      0.0      1.0      0.0      0.0   \n2        0.0          0.0         1.0      0.0      0.0      0.0      0.0   \n3        0.0          0.0         0.0      0.0      0.0      0.0      0.0   \n4        0.0          1.0         1.0      0.0      0.0      0.0      0.0   \n\n   PrDrug5  PrDrug6  PrDrugNone  \n0      1.0      0.0         0.0  \n1      1.0      0.0         0.0  \n2      0.0      0.0         1.0  \n3      0.0      0.0         1.0  \n4      0.0      0.0         1.0  \n\n[5 rows x 53 columns]",
      "text/html": "<div>\n<style scoped>\n    .dataframe tbody tr th:only-of-type {\n        vertical-align: middle;\n    }\n\n    .dataframe tbody tr th {\n        vertical-align: top;\n    }\n\n    .dataframe thead th {\n        text-align: right;\n    }\n</style>\n<table border=\"1\" class=\"dataframe\">\n  <thead>\n    <tr style=\"text-align: right;\">\n      <th></th>\n      <th>Sample ID</th>\n      <th>Diagnosis</th>\n      <th>PreBioPSA</th>\n      <th>PreviousPositiveBiopsy</th>\n      <th>Age</th>\n      <th>EthnicityLatino</th>\n      <th>Ethnicity</th>\n      <th>Employment</th>\n      <th>Education</th>\n      <th>SmokingEver</th>\n      <th>...</th>\n      <th>Hematuria</th>\n      <th>PrProcedure</th>\n      <th>PrevBiopsy</th>\n      <th>PrDrug1</th>\n      <th>PrDrug2</th>\n      <th>PrDrug3</th>\n      <th>PrDrug4</th>\n      <th>PrDrug5</th>\n      <th>PrDrug6</th>\n      <th>PrDrugNone</th>\n    </tr>\n  </thead>\n  <tbody>\n    <tr>\n      <th>0</th>\n      <td>C00002</td>\n      <td>1</td>\n      <td>5.70</td>\n      <td>0</td>\n      <td>77</td>\n      <td>0</td>\n      <td>1</td>\n      <td>10</td>\n      <td>2</td>\n      <td>1</td>\n      <td>...</td>\n      <td>0.0</td>\n      <td>0.0</td>\n      <td>0.0</td>\n      <td>1.0</td>\n      <td>0.0</td>\n      <td>0.0</td>\n      <td>0.0</td>\n      <td>1.0</td>\n      <td>0.0</td>\n      <td>0.0</td>\n    </tr>\n    <tr>\n      <th>1</th>\n      <td>C00003</td>\n      <td>1</td>\n      <td>5.42</td>\n      <td>0</td>\n      <td>78</td>\n      <td>0</td>\n      <td>1</td>\n      <td>6</td>\n      <td>6</td>\n      <td>1</td>\n      <td>...</td>\n      <td>0.0</td>\n      <td>0.0</td>\n      <td>0.0</td>\n      <td>0.0</td>\n      <td>1.0</td>\n      <td>0.0</td>\n      <td>0.0</td>\n      <td>1.0</td>\n      <td>0.0</td>\n      <td>0.0</td>\n    </tr>\n    <tr>\n      <th>2</th>\n      <td>C00005</td>\n      <td>0</td>\n      <td>1.10</td>\n      <td>0</td>\n      <td>63</td>\n      <td>0</td>\n      <td>1</td>\n      <td>1</td>\n      <td>5</td>\n      <td>1</td>\n      <td>...</td>\n      <td>0.0</td>\n      <td>0.0</td>\n      <td>1.0</td>\n      <td>0.0</td>\n      <td>0.0</td>\n      <td>0.0</td>\n      <td>0.0</td>\n      <td>0.0</td>\n      <td>0.0</td>\n      <td>1.0</td>\n    </tr>\n    <tr>\n      <th>3</th>\n      <td>C00008</td>\n      <td>1</td>\n      <td>2.61</td>\n      <td>0</td>\n      <td>58</td>\n      <td>0</td>\n      <td>1</td>\n      <td>6</td>\n      <td>6</td>\n      <td>0</td>\n      <td>...</td>\n      <td>0.0</td>\n      <td>0.0</td>\n      <td>0.0</td>\n      <td>0.0</td>\n      <td>0.0</td>\n      <td>0.0</td>\n      <td>0.0</td>\n      <td>0.0</td>\n      <td>0.0</td>\n      <td>1.0</td>\n    </tr>\n    <tr>\n      <th>4</th>\n      <td>C00009</td>\n      <td>0</td>\n      <td>4.30</td>\n      <td>0</td>\n      <td>71</td>\n      <td>0</td>\n      <td>1</td>\n      <td>6</td>\n      <td>6</td>\n      <td>0</td>\n      <td>...</td>\n      <td>0.0</td>\n      <td>1.0</td>\n      <td>1.0</td>\n      <td>0.0</td>\n      <td>0.0</td>\n      <td>0.0</td>\n      <td>0.0</td>\n      <td>0.0</td>\n      <td>0.0</td>\n      <td>1.0</td>\n    </tr>\n  </tbody>\n</table>\n<p>5 rows × 53 columns</p>\n</div>"
     },
     "execution_count": 20,
     "metadata": {},
     "output_type": "execute_result"
    }
   ],
   "source": [
    "demographics_df = demographics_df.iloc[:, :53]\n",
    "demographics_df.head()"
   ],
   "metadata": {
    "collapsed": false,
    "ExecuteTime": {
     "end_time": "2024-01-21T14:00:42.816354744Z",
     "start_time": "2024-01-21T14:00:42.797530094Z"
    }
   },
   "id": "b0daaeeab11e5622",
   "execution_count": 20
  },
  {
   "cell_type": "markdown",
   "source": [
    "Join the two datasets on the \"Sample ID\" and \"CLIENT_SAMPLE_ID\""
   ],
   "metadata": {
    "collapsed": false
   },
   "id": "94a1718a5e64d8fe"
  },
  {
   "cell_type": "code",
   "outputs": [
    {
     "data": {
      "text/plain": "           Diagnosis  PreBioPSA  PreviousPositiveBiopsy  Age  EthnicityLatino  \\\nSample ID                                                                       \nC00002             1       5.70                       0   77                0   \nC00003             1       5.42                       0   78                0   \nC00005             0       1.10                       0   63                0   \nC00008             1       2.61                       0   58                0   \nC00009             0       4.30                       0   71                0   \n\n           Ethnicity  Employment  Education  SmokingEver  FamilyHistoryPrCa  \\\nSample ID                                                                     \nC00002             1          10          2            1                  0   \nC00003             1           6          6            1                  1   \nC00005             1           1          5            1                  1   \nC00008             1           6          6            0                  1   \nC00009             1           6          6            0                  0   \n\n           ...    X-25948    X-25957    X-26008    X-26054    X-26062  \\\nSample ID  ...                                                          \nC00002     ...  17.547973  21.203010  18.521744  17.065342  17.484198   \nC00003     ...  17.580087  20.705558  19.301665  17.476846  17.437256   \nC00005     ...  17.773718  21.548338  19.007391  16.553225  19.178322   \nC00008     ...  17.619090  21.787166  20.039042  16.744877  18.661490   \nC00009     ...  17.741713  21.040253  23.465978  17.005031  17.487968   \n\n             X-26097    X-26107    X-26109    X-26111    X-26119  \nSample ID                                                         \nC00002     18.234399  20.371814  16.910284  17.037563  17.071510  \nC00003     19.301017  20.457819  15.432149  21.465323  17.308426  \nC00005     18.994866  19.270721  15.953183  22.347348  15.749378  \nC00008     18.945117  19.941655  15.850442  21.540411  16.220377  \nC00009     19.020835  18.419045  16.485844  21.656523  17.379410  \n\n[5 rows x 1221 columns]",
      "text/html": "<div>\n<style scoped>\n    .dataframe tbody tr th:only-of-type {\n        vertical-align: middle;\n    }\n\n    .dataframe tbody tr th {\n        vertical-align: top;\n    }\n\n    .dataframe thead th {\n        text-align: right;\n    }\n</style>\n<table border=\"1\" class=\"dataframe\">\n  <thead>\n    <tr style=\"text-align: right;\">\n      <th></th>\n      <th>Diagnosis</th>\n      <th>PreBioPSA</th>\n      <th>PreviousPositiveBiopsy</th>\n      <th>Age</th>\n      <th>EthnicityLatino</th>\n      <th>Ethnicity</th>\n      <th>Employment</th>\n      <th>Education</th>\n      <th>SmokingEver</th>\n      <th>FamilyHistoryPrCa</th>\n      <th>...</th>\n      <th>X-25948</th>\n      <th>X-25957</th>\n      <th>X-26008</th>\n      <th>X-26054</th>\n      <th>X-26062</th>\n      <th>X-26097</th>\n      <th>X-26107</th>\n      <th>X-26109</th>\n      <th>X-26111</th>\n      <th>X-26119</th>\n    </tr>\n    <tr>\n      <th>Sample ID</th>\n      <th></th>\n      <th></th>\n      <th></th>\n      <th></th>\n      <th></th>\n      <th></th>\n      <th></th>\n      <th></th>\n      <th></th>\n      <th></th>\n      <th></th>\n      <th></th>\n      <th></th>\n      <th></th>\n      <th></th>\n      <th></th>\n      <th></th>\n      <th></th>\n      <th></th>\n      <th></th>\n      <th></th>\n    </tr>\n  </thead>\n  <tbody>\n    <tr>\n      <th>C00002</th>\n      <td>1</td>\n      <td>5.70</td>\n      <td>0</td>\n      <td>77</td>\n      <td>0</td>\n      <td>1</td>\n      <td>10</td>\n      <td>2</td>\n      <td>1</td>\n      <td>0</td>\n      <td>...</td>\n      <td>17.547973</td>\n      <td>21.203010</td>\n      <td>18.521744</td>\n      <td>17.065342</td>\n      <td>17.484198</td>\n      <td>18.234399</td>\n      <td>20.371814</td>\n      <td>16.910284</td>\n      <td>17.037563</td>\n      <td>17.071510</td>\n    </tr>\n    <tr>\n      <th>C00003</th>\n      <td>1</td>\n      <td>5.42</td>\n      <td>0</td>\n      <td>78</td>\n      <td>0</td>\n      <td>1</td>\n      <td>6</td>\n      <td>6</td>\n      <td>1</td>\n      <td>1</td>\n      <td>...</td>\n      <td>17.580087</td>\n      <td>20.705558</td>\n      <td>19.301665</td>\n      <td>17.476846</td>\n      <td>17.437256</td>\n      <td>19.301017</td>\n      <td>20.457819</td>\n      <td>15.432149</td>\n      <td>21.465323</td>\n      <td>17.308426</td>\n    </tr>\n    <tr>\n      <th>C00005</th>\n      <td>0</td>\n      <td>1.10</td>\n      <td>0</td>\n      <td>63</td>\n      <td>0</td>\n      <td>1</td>\n      <td>1</td>\n      <td>5</td>\n      <td>1</td>\n      <td>1</td>\n      <td>...</td>\n      <td>17.773718</td>\n      <td>21.548338</td>\n      <td>19.007391</td>\n      <td>16.553225</td>\n      <td>19.178322</td>\n      <td>18.994866</td>\n      <td>19.270721</td>\n      <td>15.953183</td>\n      <td>22.347348</td>\n      <td>15.749378</td>\n    </tr>\n    <tr>\n      <th>C00008</th>\n      <td>1</td>\n      <td>2.61</td>\n      <td>0</td>\n      <td>58</td>\n      <td>0</td>\n      <td>1</td>\n      <td>6</td>\n      <td>6</td>\n      <td>0</td>\n      <td>1</td>\n      <td>...</td>\n      <td>17.619090</td>\n      <td>21.787166</td>\n      <td>20.039042</td>\n      <td>16.744877</td>\n      <td>18.661490</td>\n      <td>18.945117</td>\n      <td>19.941655</td>\n      <td>15.850442</td>\n      <td>21.540411</td>\n      <td>16.220377</td>\n    </tr>\n    <tr>\n      <th>C00009</th>\n      <td>0</td>\n      <td>4.30</td>\n      <td>0</td>\n      <td>71</td>\n      <td>0</td>\n      <td>1</td>\n      <td>6</td>\n      <td>6</td>\n      <td>0</td>\n      <td>0</td>\n      <td>...</td>\n      <td>17.741713</td>\n      <td>21.040253</td>\n      <td>23.465978</td>\n      <td>17.005031</td>\n      <td>17.487968</td>\n      <td>19.020835</td>\n      <td>18.419045</td>\n      <td>16.485844</td>\n      <td>21.656523</td>\n      <td>17.379410</td>\n    </tr>\n  </tbody>\n</table>\n<p>5 rows × 1221 columns</p>\n</div>"
     },
     "execution_count": 21,
     "metadata": {},
     "output_type": "execute_result"
    }
   ],
   "source": [
    "\n",
    "metabolites_df = metabolites_df.set_index('CLIENT_SAMPLE_ID')\n",
    "demographics_df = demographics_df.set_index('Sample ID')\n",
    "\n",
    "df = demographics_df.join(metabolites_df, how='inner')\n",
    "df.head()"
   ],
   "metadata": {
    "collapsed": false,
    "ExecuteTime": {
     "end_time": "2024-01-21T14:00:42.816708555Z",
     "start_time": "2024-01-21T14:00:42.797724518Z"
    }
   },
   "id": "ff3c33173c858197",
   "execution_count": 21
  },
  {
   "cell_type": "markdown",
   "source": [
    "Export the joined dataset to a CSV file"
   ],
   "metadata": {
    "collapsed": false
   },
   "id": "86f58afd9c73cab5"
  },
  {
   "cell_type": "code",
   "outputs": [],
   "source": [
    "df.to_csv('../../data/ST002498.csv')"
   ],
   "metadata": {
    "collapsed": false,
    "ExecuteTime": {
     "end_time": "2024-01-21T14:00:43.098724346Z",
     "start_time": "2024-01-21T14:00:42.797904824Z"
    }
   },
   "id": "5d5324657acf248b",
   "execution_count": 22
  }
 ],
 "metadata": {
  "kernelspec": {
   "display_name": "Python 3",
   "language": "python",
   "name": "python3"
  },
  "language_info": {
   "codemirror_mode": {
    "name": "ipython",
    "version": 2
   },
   "file_extension": ".py",
   "mimetype": "text/x-python",
   "name": "python",
   "nbconvert_exporter": "python",
   "pygments_lexer": "ipython2",
   "version": "2.7.6"
  }
 },
 "nbformat": 4,
 "nbformat_minor": 5
}
