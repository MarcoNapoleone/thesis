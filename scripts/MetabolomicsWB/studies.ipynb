{
 "cells": [
  {
   "cell_type": "code",
   "execution_count": 1,
   "outputs": [],
   "source": [
    "import requests\n",
    "import json\n",
    "import csv\n",
    "\n",
    "\n",
    "disease_url = \"https://www.metabolomicsworkbench.org/rest/study/study_id/ST/disease\"\n",
    "cancer_studies = []"
   ],
   "metadata": {
    "collapsed": false,
    "ExecuteTime": {
     "end_time": "2023-10-07T16:54:47.775733519Z",
     "start_time": "2023-10-07T16:54:47.775491814Z"
    }
   },
   "id": "2c288f1ad252e32b"
  },
  {
   "cell_type": "code",
   "execution_count": 2,
   "outputs": [
    {
     "name": "stdout",
     "output_type": "stream",
     "text": [
      "Studies filtering done\n",
      "retrieved cancer studies:  340\n"
     ]
    }
   ],
   "source": [
    "# Make the HTTPS GET request\n",
    "response = requests.get(disease_url)\n",
    "if response.status_code == 200:\n",
    "    data = json.loads(response.text)\n",
    "    for study_id, study_data in data.items():\n",
    "        disease = study_data.get(\"Disease\", \"\")  # Get the disease value from the study_data\n",
    "        if disease == \"Cancer\":\n",
    "            cancer_studies.append(study_data[\"Study ID\"])  # Append the Study ID to the cancer_studies list\n",
    "else: \n",
    "    print(f\"Failed to retrieve data. Status code: {response.status_code}\")\n",
    "    \n",
    "print(\"Studies filtering done\")\n",
    "print(\"retrieved cancer studies: \", len(cancer_studies))"
   ],
   "metadata": {
    "collapsed": false,
    "ExecuteTime": {
     "end_time": "2023-10-07T16:54:49.057973812Z",
     "start_time": "2023-10-07T16:54:47.775585896Z"
    }
   },
   "id": "73a77c0220708b5c"
  },
  {
   "cell_type": "code",
   "execution_count": 3,
   "outputs": [],
   "source": [
    "\n",
    "# Define the URL pattern\n",
    "url_pattern = \"https://www.metabolomicsworkbench.org/rest/study/study_id/{x}/data\""
   ],
   "metadata": {
    "collapsed": false,
    "ExecuteTime": {
     "end_time": "2023-10-07T16:54:49.069588958Z",
     "start_time": "2023-10-07T16:54:49.057463625Z"
    }
   },
   "id": "fa7d40ddad381594"
  },
  {
   "cell_type": "code",
   "execution_count": 4,
   "outputs": [],
   "source": [
    "# Create a function to make the HTTPS call and save the response to a file\n",
    "def get_study_number_of_samples(study_id):\n",
    "    # Construct the URL\n",
    "    url = url_pattern.format(x=study_id)\n",
    "\n",
    "    # Make the HTTPS GET request\n",
    "    response = requests.get(url)\n",
    "\n",
    "    # Check if the request was successful\n",
    "    if response.status_code == 200:\n",
    "        # Parse the JSON response\n",
    "        data = json.loads(response.text)\n",
    "        print(f\"Study ID: {study_id}, Number of samples: {len(data)}\")\n",
    "        return len(data)\n",
    "\n",
    "    else:\n",
    "        print(f\"Failed to retrieve data for study ID {study_id}. Status code: {response.status_code}\")\n",
    "        "
   ],
   "metadata": {
    "collapsed": false,
    "ExecuteTime": {
     "end_time": "2023-10-07T16:54:49.081255890Z",
     "start_time": "2023-10-07T16:54:49.059796707Z"
    }
   },
   "id": "aaaf4bdba5303161"
  },
  {
   "cell_type": "raw",
   "source": [
    "Iterate through the list of study IDs and write the number of samples to a csv file"
   ],
   "metadata": {
    "collapsed": false
   },
   "id": "df6287980c7bb4e4"
  },
  {
   "cell_type": "code",
   "execution_count": null,
   "outputs": [
    {
     "name": "stdout",
     "output_type": "stream",
     "text": [
      "Study ID: ST000010, Number of samples: 410\n",
      "Study ID: ST000044, Number of samples: 814\n",
      "Study ID: ST000054, Number of samples: 52\n",
      "Study ID: ST000058, Number of samples: 141\n",
      "Study ID: ST000065, Number of samples: 143\n",
      "Study ID: ST000077, Number of samples: 278\n",
      "Study ID: ST000081, Number of samples: 191\n",
      "Study ID: ST000082, Number of samples: 309\n",
      "Study ID: ST000087, Number of samples: 189\n",
      "Study ID: ST000089, Number of samples: 507\n",
      "Study ID: ST000096, Number of samples: 113\n",
      "Study ID: ST000104, Number of samples: 0\n",
      "Study ID: ST000113, Number of samples: 1634\n"
     ]
    }
   ],
   "source": [
    "with open(\"cancer_study_number_of_samples.csv\", \"w\") as f:\n",
    "    writer = csv.writer(f)\n",
    "    writer.writerow([\"Study ID\", \"Number of samples\"])\n",
    "    for study_id in cancer_studies:\n",
    "        number_of_samples = get_study_number_of_samples(study_id)\n",
    "        writer.writerow([study_id, number_of_samples])"
   ],
   "metadata": {
    "collapsed": false,
    "is_executing": true,
    "ExecuteTime": {
     "start_time": "2023-10-07T16:54:49.073740944Z"
    }
   },
   "id": "1ccacae0bcc260b8"
  }
 ],
 "metadata": {
  "kernelspec": {
   "display_name": "Python 3",
   "language": "python",
   "name": "python3"
  },
  "language_info": {
   "codemirror_mode": {
    "name": "ipython",
    "version": 2
   },
   "file_extension": ".py",
   "mimetype": "text/x-python",
   "name": "python",
   "nbconvert_exporter": "python",
   "pygments_lexer": "ipython2",
   "version": "2.7.6"
  }
 },
 "nbformat": 4,
 "nbformat_minor": 5
}
