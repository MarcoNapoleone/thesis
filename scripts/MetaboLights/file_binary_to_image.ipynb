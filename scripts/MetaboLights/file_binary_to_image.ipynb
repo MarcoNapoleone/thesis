{
 "cells": [
  {
   "cell_type": "code",
   "execution_count": 83,
   "id": "initial_id",
   "metadata": {
    "collapsed": true,
    "ExecuteTime": {
     "end_time": "2023-10-29T20:27:50.423092900Z",
     "start_time": "2023-10-29T20:27:49.157566600Z"
    }
   },
   "outputs": [
    {
     "name": "stdout",
     "output_type": "stream",
     "text": [
      "23365000 4833 4835\n",
      "0.9993471717516017\n",
      "Immagine creata con dati binari inseriti.\n"
     ]
    }
   ],
   "source": [
    "import math\n",
    "from PIL import Image\n",
    "import io\n",
    "import os\n",
    "\n",
    "try:\n",
    "    # Apri il file binario in modalità di lettura binaria\n",
    "    with open(\"../../data/raw_data/study.bin\", \"rb\") as file:\n",
    "        # Leggi i dati binari dal file\n",
    "        binary_data = file.read()\n",
    "\n",
    "    data_length = int(len(binary_data))\n",
    "    # Calcola le dimensioni dell'immagine basate sulla lunghezza dei dati binari\n",
    "    width = math.floor(math.sqrt(data_length))  # Usa la radice quadrata per calcolare la larghezza\n",
    "    height = math.ceil(data_length / width)  # Calcola l'altezza\n",
    "\n",
    "    print(data_length, width, height)\n",
    "\n",
    "    # Crea un'immagine nera con Pillow\n",
    "    image = Image.new(\"RGB\", (int(width/math.sqrt(3)), int(width/math.sqrt(3))), (255, 255, 255))\n",
    "\n",
    "    # Sostituisci i primi k bit dell'immagine con i dati binari\n",
    "    image_data = list(image.tobytes())\n",
    "    print(len(image_data)/(width*height))\n",
    "    image_data[:data_length] = binary_data\n",
    "\n",
    "    # Aggiorna l'immagine con i nuovi dati\n",
    "    image.frombytes(bytes(image_data))\n",
    "\n",
    "    # Salva l'immagine in un formato riconoscibile, ad esempio PNG\n",
    "    image.save(\"immagine_completa.png\", \"PNG\")\n",
    "\n",
    "    print(\"Immagine creata con dati binari inseriti.\")\n",
    "except Exception as e:\n",
    "    print(f\"Errore durante l'operazione: {e}\")"
   ]
  },
  {
   "cell_type": "code",
   "execution_count": 35,
   "outputs": [],
   "source": [
    "from PIL import Image\n",
    "\n",
    "try:\n",
    "    # Apri l'immagine con Pillow\n",
    "    image = Image.open(\n",
    "        \"../../data/raw_data/text.png\")  # Sostituisci \"immagine.jpg\" con il percorso dell'immagine da leggere\n",
    "\n",
    "    # Salva l'immagine come file binario\n",
    "    with open(\"immagine.bin\", \"wb\") as file:\n",
    "        # Converte l'immagine in dati binari e li scrive nel file\n",
    "        file.write(image.tobytes())\n",
    "except Exception as e:\n",
    "    print(f\"Errore durante la scrittura del file binario: {e}\")\n"
   ],
   "metadata": {
    "collapsed": false,
    "ExecuteTime": {
     "end_time": "2023-10-29T20:04:36.778510500Z",
     "start_time": "2023-10-29T20:04:36.766211400Z"
    }
   },
   "id": "a6e242cdf45780af"
  },
  {
   "cell_type": "code",
   "execution_count": 12,
   "outputs": [],
   "source": [
    "with open('text.txt', 'w') as file:\n",
    "    for i in range(1001):\n",
    "        file.write(str(i) + '-')"
   ],
   "metadata": {
    "collapsed": false,
    "ExecuteTime": {
     "end_time": "2023-10-29T18:34:21.123963900Z",
     "start_time": "2023-10-29T18:34:21.097977800Z"
    }
   },
   "id": "e3bc10a08d633aad"
  }
 ],
 "metadata": {
  "kernelspec": {
   "display_name": "Python 3",
   "language": "python",
   "name": "python3"
  },
  "language_info": {
   "codemirror_mode": {
    "name": "ipython",
    "version": 2
   },
   "file_extension": ".py",
   "mimetype": "text/x-python",
   "name": "python",
   "nbconvert_exporter": "python",
   "pygments_lexer": "ipython2",
   "version": "2.7.6"
  }
 },
 "nbformat": 4,
 "nbformat_minor": 5
}
